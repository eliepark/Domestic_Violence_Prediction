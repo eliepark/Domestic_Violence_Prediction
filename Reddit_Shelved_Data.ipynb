{
 "cells": [
  {
   "cell_type": "markdown",
   "id": "ccc7a7a2-a6ab-42b0-9959-5dabede3d9df",
   "metadata": {},
   "source": [
    "The shelved submissions and comments datasets were downloaded from https://nicschrading.com/data/."
   ]
  },
  {
   "cell_type": "code",
   "execution_count": 1,
   "id": "630635e0-2102-4c24-be30-a7b2f404002f",
   "metadata": {},
   "outputs": [],
   "source": [
    "import shelve\n",
    "import pandas as pd"
   ]
  },
  {
   "cell_type": "markdown",
   "id": "db66ee8d-aee3-4c13-b40b-0753a837bf16",
   "metadata": {},
   "source": [
    "**redditAbuseSubmissions**:\n",
    "This data is an even set of 552 abuse submissions and 552 non-abuse submissions. Each submission has been parsed by the Illinois Curator for Semantic Role Labels. It has the variables:\n",
    "\n",
    "data: A list of submission titles and text concatenated, 1 entry per submission.\n",
    "\n",
    "labels: A list of labels (abuse or non_abuse), 1 entry per submission.\n",
    "\n",
    "subIds: A list of reddit submission ids, 1 entry per submission.\n",
    "\n",
    "roles: A list of lists. Each inner list has the semantic role labels in a submission. 1 list per submission.\n",
    "\n",
    "predicates: A list of lists. Each inner list is a tuple of (predicates, sense number) in a submission. 1 list per submission."
   ]
  },
  {
   "cell_type": "code",
   "execution_count": 2,
   "id": "bf5cc637-e39d-40a9-bf57-c6dd52959aec",
   "metadata": {},
   "outputs": [],
   "source": [
    "submissions=pd.DataFrame(dict(shelve.open('redditAbuseSubmissions')))"
   ]
  },
  {
   "cell_type": "code",
   "execution_count": 3,
   "id": "159c1b7c-1a6a-4470-8d06-c3d9e6616e62",
   "metadata": {},
   "outputs": [
    {
     "data": {
      "text/html": [
       "<div>\n",
       "<style scoped>\n",
       "    .dataframe tbody tr th:only-of-type {\n",
       "        vertical-align: middle;\n",
       "    }\n",
       "\n",
       "    .dataframe tbody tr th {\n",
       "        vertical-align: top;\n",
       "    }\n",
       "\n",
       "    .dataframe thead th {\n",
       "        text-align: right;\n",
       "    }\n",
       "</style>\n",
       "<table border=\"1\" class=\"dataframe\">\n",
       "  <thead>\n",
       "    <tr style=\"text-align: right;\">\n",
       "      <th></th>\n",
       "      <th>data</th>\n",
       "      <th>subIds</th>\n",
       "      <th>roles</th>\n",
       "      <th>predicates</th>\n",
       "      <th>labels</th>\n",
       "    </tr>\n",
       "  </thead>\n",
       "  <tbody>\n",
       "    <tr>\n",
       "      <th>0</th>\n",
       "      <td>I cant eat pls help I need help\\nMy anxiety ha...</td>\n",
       "      <td>2wjl43</td>\n",
       "      <td>[am-adv, am-adv, am-adv, am-dir, am-dis, am-mn...</td>\n",
       "      <td>[(cause, 01), (focus, 01), (need, 01), (go, 01...</td>\n",
       "      <td>non_abuse</td>\n",
       "    </tr>\n",
       "    <tr>\n",
       "      <th>1</th>\n",
       "      <td>Financial Independence I am 18, with no job an...</td>\n",
       "      <td>2tdh8q</td>\n",
       "      <td>[am-mnr, am-mod, am-rec, am-tmp, am-tmp, taker...</td>\n",
       "      <td>[(live, 01), (hope, 01), (be, 01), (be, 01), (...</td>\n",
       "      <td>abuse</td>\n",
       "    </tr>\n",
       "    <tr>\n",
       "      <th>2</th>\n",
       "      <td>Who decided that online calculus assignments w...</td>\n",
       "      <td>2vwei8</td>\n",
       "      <td>[am-loc, causer, frustrater, comment, decision...</td>\n",
       "      <td>[(frustrate, 01), (frustrate, 01), (be, 01), (...</td>\n",
       "      <td>non_abuse</td>\n",
       "    </tr>\n",
       "    <tr>\n",
       "      <th>3</th>\n",
       "      <td>My friend recently told me she was abused as a...</td>\n",
       "      <td>p013r</td>\n",
       "      <td>[am-cau, am-cau, am-cau, am-dir, am-dir, am-di...</td>\n",
       "      <td>[(be, 01), (be, 01), (know, 01), (come, 01), (...</td>\n",
       "      <td>abuse</td>\n",
       "    </tr>\n",
       "    <tr>\n",
       "      <th>4</th>\n",
       "      <td>How's it going on this monday night? I am list...</td>\n",
       "      <td>2xrdhg</td>\n",
       "      <td>[am-mnr, am-rec, am-tmp, entity in motion/goer...</td>\n",
       "      <td>[(go, 01), (be, 01), (go, 01), (go, 01), (cata...</td>\n",
       "      <td>non_abuse</td>\n",
       "    </tr>\n",
       "  </tbody>\n",
       "</table>\n",
       "</div>"
      ],
      "text/plain": [
       "                                                data  subIds  \\\n",
       "0  I cant eat pls help I need help\\nMy anxiety ha...  2wjl43   \n",
       "1  Financial Independence I am 18, with no job an...  2tdh8q   \n",
       "2  Who decided that online calculus assignments w...  2vwei8   \n",
       "3  My friend recently told me she was abused as a...   p013r   \n",
       "4  How's it going on this monday night? I am list...  2xrdhg   \n",
       "\n",
       "                                               roles  \\\n",
       "0  [am-adv, am-adv, am-adv, am-dir, am-dis, am-mn...   \n",
       "1  [am-mnr, am-mod, am-rec, am-tmp, am-tmp, taker...   \n",
       "2  [am-loc, causer, frustrater, comment, decision...   \n",
       "3  [am-cau, am-cau, am-cau, am-dir, am-dir, am-di...   \n",
       "4  [am-mnr, am-rec, am-tmp, entity in motion/goer...   \n",
       "\n",
       "                                          predicates     labels  \n",
       "0  [(cause, 01), (focus, 01), (need, 01), (go, 01...  non_abuse  \n",
       "1  [(live, 01), (hope, 01), (be, 01), (be, 01), (...      abuse  \n",
       "2  [(frustrate, 01), (frustrate, 01), (be, 01), (...  non_abuse  \n",
       "3  [(be, 01), (be, 01), (know, 01), (come, 01), (...      abuse  \n",
       "4  [(go, 01), (be, 01), (go, 01), (go, 01), (cata...  non_abuse  "
      ]
     },
     "execution_count": 3,
     "metadata": {},
     "output_type": "execute_result"
    }
   ],
   "source": [
    "submissions.head()"
   ]
  },
  {
   "cell_type": "code",
   "execution_count": 4,
   "id": "6c182d93-31a3-437c-a9c3-adcfba960abb",
   "metadata": {},
   "outputs": [
    {
     "data": {
      "text/plain": [
       "(1104, 5)"
      ]
     },
     "execution_count": 4,
     "metadata": {},
     "output_type": "execute_result"
    }
   ],
   "source": [
    "submissions.shape"
   ]
  },
  {
   "cell_type": "code",
   "execution_count": 5,
   "id": "f767bc6b-be28-4041-8e7c-d0807445aea9",
   "metadata": {},
   "outputs": [
    {
     "data": {
      "text/plain": [
       "non_abuse    552\n",
       "abuse        552\n",
       "Name: labels, dtype: int64"
      ]
     },
     "execution_count": 5,
     "metadata": {},
     "output_type": "execute_result"
    }
   ],
   "source": [
    "submissions.labels.value_counts()"
   ]
  },
  {
   "cell_type": "markdown",
   "id": "5a6e9d06-6037-4b6f-b41a-cd21731e8144",
   "metadata": {},
   "source": [
    "**redditAbuseComments**: This data contains all the comments within the submissions in the small even set of submissions. It has the variables:\n",
    "\n",
    "commData: A dictionary, where the key is a reddit submission id and the value is a list of comments in that submission.\n",
    "\n",
    "commLabels: A dictionary, where the key is a reddit submission id and the value is a list of labels given to the comments (abuse or non_abuse)."
   ]
  },
  {
   "cell_type": "code",
   "execution_count": 6,
   "id": "3f34a84c-96d5-40e0-b1fa-57f5756b2703",
   "metadata": {},
   "outputs": [],
   "source": [
    "comments=pd.DataFrame(dict(shelve.open('redditAbuseComments')))"
   ]
  },
  {
   "cell_type": "code",
   "execution_count": 7,
   "id": "91245ce4-90b2-4e21-9fc6-a6152588980f",
   "metadata": {},
   "outputs": [
    {
     "data": {
      "text/html": [
       "<div>\n",
       "<style scoped>\n",
       "    .dataframe tbody tr th:only-of-type {\n",
       "        vertical-align: middle;\n",
       "    }\n",
       "\n",
       "    .dataframe tbody tr th {\n",
       "        vertical-align: top;\n",
       "    }\n",
       "\n",
       "    .dataframe thead th {\n",
       "        text-align: right;\n",
       "    }\n",
       "</style>\n",
       "<table border=\"1\" class=\"dataframe\">\n",
       "  <thead>\n",
       "    <tr style=\"text-align: right;\">\n",
       "      <th></th>\n",
       "      <th>commLabels</th>\n",
       "      <th>commData</th>\n",
       "    </tr>\n",
       "  </thead>\n",
       "  <tbody>\n",
       "    <tr>\n",
       "      <th>hgz26</th>\n",
       "      <td>abuse</td>\n",
       "      <td>[If the cops won't do anything about it... may...</td>\n",
       "    </tr>\n",
       "    <tr>\n",
       "      <th>2vpmnh</th>\n",
       "      <td>non_abuse</td>\n",
       "      <td>[I re-read your post and realized it's past ti...</td>\n",
       "    </tr>\n",
       "    <tr>\n",
       "      <th>2urnes</th>\n",
       "      <td>non_abuse</td>\n",
       "      <td>[Dealing with seniors? What exactly does that ...</td>\n",
       "    </tr>\n",
       "    <tr>\n",
       "      <th>2l78vr</th>\n",
       "      <td>non_abuse</td>\n",
       "      <td>[Yeah I am the same I get terrible anxiety, te...</td>\n",
       "    </tr>\n",
       "    <tr>\n",
       "      <th>136f5k</th>\n",
       "      <td>abuse</td>\n",
       "      <td>[So what I am getting is you're suffering from...</td>\n",
       "    </tr>\n",
       "  </tbody>\n",
       "</table>\n",
       "</div>"
      ],
      "text/plain": [
       "       commLabels                                           commData\n",
       "hgz26       abuse  [If the cops won't do anything about it... may...\n",
       "2vpmnh  non_abuse  [I re-read your post and realized it's past ti...\n",
       "2urnes  non_abuse  [Dealing with seniors? What exactly does that ...\n",
       "2l78vr  non_abuse  [Yeah I am the same I get terrible anxiety, te...\n",
       "136f5k      abuse  [So what I am getting is you're suffering from..."
      ]
     },
     "execution_count": 7,
     "metadata": {},
     "output_type": "execute_result"
    }
   ],
   "source": [
    "comments.head()"
   ]
  },
  {
   "cell_type": "code",
   "execution_count": 8,
   "id": "d0c491a9-6ac7-43ab-a569-48e14e6716f6",
   "metadata": {},
   "outputs": [
    {
     "data": {
      "text/html": [
       "<div>\n",
       "<style scoped>\n",
       "    .dataframe tbody tr th:only-of-type {\n",
       "        vertical-align: middle;\n",
       "    }\n",
       "\n",
       "    .dataframe tbody tr th {\n",
       "        vertical-align: top;\n",
       "    }\n",
       "\n",
       "    .dataframe thead th {\n",
       "        text-align: right;\n",
       "    }\n",
       "</style>\n",
       "<table border=\"1\" class=\"dataframe\">\n",
       "  <thead>\n",
       "    <tr style=\"text-align: right;\">\n",
       "      <th></th>\n",
       "      <th>subIds</th>\n",
       "      <th>commLabels</th>\n",
       "      <th>commData</th>\n",
       "    </tr>\n",
       "  </thead>\n",
       "  <tbody>\n",
       "    <tr>\n",
       "      <th>0</th>\n",
       "      <td>hgz26</td>\n",
       "      <td>abuse</td>\n",
       "      <td>[If the cops won't do anything about it... may...</td>\n",
       "    </tr>\n",
       "    <tr>\n",
       "      <th>1</th>\n",
       "      <td>2vpmnh</td>\n",
       "      <td>non_abuse</td>\n",
       "      <td>[I re-read your post and realized it's past ti...</td>\n",
       "    </tr>\n",
       "    <tr>\n",
       "      <th>2</th>\n",
       "      <td>2urnes</td>\n",
       "      <td>non_abuse</td>\n",
       "      <td>[Dealing with seniors? What exactly does that ...</td>\n",
       "    </tr>\n",
       "    <tr>\n",
       "      <th>3</th>\n",
       "      <td>2l78vr</td>\n",
       "      <td>non_abuse</td>\n",
       "      <td>[Yeah I am the same I get terrible anxiety, te...</td>\n",
       "    </tr>\n",
       "    <tr>\n",
       "      <th>4</th>\n",
       "      <td>136f5k</td>\n",
       "      <td>abuse</td>\n",
       "      <td>[So what I am getting is you're suffering from...</td>\n",
       "    </tr>\n",
       "  </tbody>\n",
       "</table>\n",
       "</div>"
      ],
      "text/plain": [
       "   subIds commLabels                                           commData\n",
       "0   hgz26      abuse  [If the cops won't do anything about it... may...\n",
       "1  2vpmnh  non_abuse  [I re-read your post and realized it's past ti...\n",
       "2  2urnes  non_abuse  [Dealing with seniors? What exactly does that ...\n",
       "3  2l78vr  non_abuse  [Yeah I am the same I get terrible anxiety, te...\n",
       "4  136f5k      abuse  [So what I am getting is you're suffering from..."
      ]
     },
     "execution_count": 8,
     "metadata": {},
     "output_type": "execute_result"
    }
   ],
   "source": [
    "comments=comments.reset_index().rename(columns={'index':'subIds'})\n",
    "comments.head()"
   ]
  },
  {
   "cell_type": "code",
   "execution_count": 9,
   "id": "6ec6a97c-3f3b-4b32-8a90-af7bfa38e6fa",
   "metadata": {},
   "outputs": [
    {
     "data": {
      "text/plain": [
       "(1104, 3)"
      ]
     },
     "execution_count": 9,
     "metadata": {},
     "output_type": "execute_result"
    }
   ],
   "source": [
    "comments.shape"
   ]
  },
  {
   "cell_type": "code",
   "execution_count": 10,
   "id": "351d19f1-8ce6-4cc1-91c8-ca15947d8a9a",
   "metadata": {},
   "outputs": [],
   "source": [
    "#merge the comments data with the corresponding posts\n",
    "df=pd.merge(comments, submissions, on='subIds')"
   ]
  },
  {
   "cell_type": "code",
   "execution_count": 11,
   "id": "c3c93c2c-81f5-4a95-897e-5a160648f787",
   "metadata": {},
   "outputs": [
    {
     "data": {
      "text/plain": [
       "True    1104\n",
       "dtype: int64"
      ]
     },
     "execution_count": 11,
     "metadata": {},
     "output_type": "execute_result"
    }
   ],
   "source": [
    "#check if labels are the same for comments & posts\n",
    "(df.commLabels==df.labels).value_counts()"
   ]
  },
  {
   "cell_type": "code",
   "execution_count": 12,
   "id": "e9515ad2-2622-4db7-8861-6b0065533984",
   "metadata": {},
   "outputs": [
    {
     "data": {
      "text/html": [
       "<div>\n",
       "<style scoped>\n",
       "    .dataframe tbody tr th:only-of-type {\n",
       "        vertical-align: middle;\n",
       "    }\n",
       "\n",
       "    .dataframe tbody tr th {\n",
       "        vertical-align: top;\n",
       "    }\n",
       "\n",
       "    .dataframe thead th {\n",
       "        text-align: right;\n",
       "    }\n",
       "</style>\n",
       "<table border=\"1\" class=\"dataframe\">\n",
       "  <thead>\n",
       "    <tr style=\"text-align: right;\">\n",
       "      <th></th>\n",
       "      <th>ID</th>\n",
       "      <th>comments</th>\n",
       "      <th>posts</th>\n",
       "      <th>roles</th>\n",
       "      <th>predicates</th>\n",
       "      <th>labels</th>\n",
       "    </tr>\n",
       "  </thead>\n",
       "  <tbody>\n",
       "    <tr>\n",
       "      <th>0</th>\n",
       "      <td>hgz26</td>\n",
       "      <td>[If the cops won't do anything about it... may...</td>\n",
       "      <td>My father abuses me and I cant do anything abo...</td>\n",
       "      <td>[am-adv, am-adv, am-adv, am-adv, am-dis, am-di...</td>\n",
       "      <td>[(do, 02), (know, 01), (make, 01), (watch, 01)...</td>\n",
       "      <td>abuse</td>\n",
       "    </tr>\n",
       "    <tr>\n",
       "      <th>1</th>\n",
       "      <td>2vpmnh</td>\n",
       "      <td>[I re-read your post and realized it's past ti...</td>\n",
       "      <td>[Help]Finger Prick I know how dumb it sounds o...</td>\n",
       "      <td>[am-adv, am-adv, am-dis, am-mnr, am-mnr, am-mn...</td>\n",
       "      <td>[(!think, 01), (be, 01), (have, 03), (do, 02),...</td>\n",
       "      <td>non_abuse</td>\n",
       "    </tr>\n",
       "    <tr>\n",
       "      <th>2</th>\n",
       "      <td>2urnes</td>\n",
       "      <td>[Dealing with seniors? What exactly does that ...</td>\n",
       "      <td>Going to college stress. I've had two panic at...</td>\n",
       "      <td>[am-mnr, emotion or sensation, end point, end ...</td>\n",
       "      <td>[(do, 02), (feel, 01), (go, 01), (go, 01), (go...</td>\n",
       "      <td>non_abuse</td>\n",
       "    </tr>\n",
       "    <tr>\n",
       "      <th>3</th>\n",
       "      <td>2l78vr</td>\n",
       "      <td>[Yeah I am the same I get terrible anxiety, te...</td>\n",
       "      <td>Just started my Sertraline medication today. I...</td>\n",
       "      <td>[am-adv, am-adv, am-dis, am-mnr, am-mnr, am-mo...</td>\n",
       "      <td>[(change, 01), (start, 01), (change, 01), (aff...</td>\n",
       "      <td>non_abuse</td>\n",
       "    </tr>\n",
       "    <tr>\n",
       "      <th>4</th>\n",
       "      <td>136f5k</td>\n",
       "      <td>[So what I am getting is you're suffering from...</td>\n",
       "      <td>hear me, i cry again and again, and maybe i am...</td>\n",
       "      <td>[am-adv, am-adv, am-adv, am-adv, am-adv, am-ad...</td>\n",
       "      <td>[(!be, 01), (be, 01), (do, 02), (ignore, 01), ...</td>\n",
       "      <td>abuse</td>\n",
       "    </tr>\n",
       "  </tbody>\n",
       "</table>\n",
       "</div>"
      ],
      "text/plain": [
       "       ID                                           comments  \\\n",
       "0   hgz26  [If the cops won't do anything about it... may...   \n",
       "1  2vpmnh  [I re-read your post and realized it's past ti...   \n",
       "2  2urnes  [Dealing with seniors? What exactly does that ...   \n",
       "3  2l78vr  [Yeah I am the same I get terrible anxiety, te...   \n",
       "4  136f5k  [So what I am getting is you're suffering from...   \n",
       "\n",
       "                                               posts  \\\n",
       "0  My father abuses me and I cant do anything abo...   \n",
       "1  [Help]Finger Prick I know how dumb it sounds o...   \n",
       "2  Going to college stress. I've had two panic at...   \n",
       "3  Just started my Sertraline medication today. I...   \n",
       "4  hear me, i cry again and again, and maybe i am...   \n",
       "\n",
       "                                               roles  \\\n",
       "0  [am-adv, am-adv, am-adv, am-adv, am-dis, am-di...   \n",
       "1  [am-adv, am-adv, am-dis, am-mnr, am-mnr, am-mn...   \n",
       "2  [am-mnr, emotion or sensation, end point, end ...   \n",
       "3  [am-adv, am-adv, am-dis, am-mnr, am-mnr, am-mo...   \n",
       "4  [am-adv, am-adv, am-adv, am-adv, am-adv, am-ad...   \n",
       "\n",
       "                                          predicates     labels  \n",
       "0  [(do, 02), (know, 01), (make, 01), (watch, 01)...      abuse  \n",
       "1  [(!think, 01), (be, 01), (have, 03), (do, 02),...  non_abuse  \n",
       "2  [(do, 02), (feel, 01), (go, 01), (go, 01), (go...  non_abuse  \n",
       "3  [(change, 01), (start, 01), (change, 01), (aff...  non_abuse  \n",
       "4  [(!be, 01), (be, 01), (do, 02), (ignore, 01), ...      abuse  "
      ]
     },
     "execution_count": 12,
     "metadata": {},
     "output_type": "execute_result"
    }
   ],
   "source": [
    "#rename columns\n",
    "df.rename(columns={'subIds':'ID', 'commData':'comments', 'data':'posts'}, inplace=True)\n",
    "#drop redundant comment labels column\n",
    "df.drop('commLabels', axis=1, inplace=True)\n",
    "\n",
    "df.head()"
   ]
  },
  {
   "cell_type": "code",
   "execution_count": 13,
   "id": "a9341283-fc2b-4a27-87b9-57938bcb28e1",
   "metadata": {},
   "outputs": [],
   "source": [
    "df.to_csv('reddit.csv')"
   ]
  }
 ],
 "metadata": {
  "kernelspec": {
   "display_name": "Python 3 (ipykernel)",
   "language": "python",
   "name": "python3"
  },
  "language_info": {
   "codemirror_mode": {
    "name": "ipython",
    "version": 3
   },
   "file_extension": ".py",
   "mimetype": "text/x-python",
   "name": "python",
   "nbconvert_exporter": "python",
   "pygments_lexer": "ipython3",
   "version": "3.8.12"
  }
 },
 "nbformat": 4,
 "nbformat_minor": 5
}
