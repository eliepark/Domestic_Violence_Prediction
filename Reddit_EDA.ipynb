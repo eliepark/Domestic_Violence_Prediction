{
 "cells": [
  {
   "cell_type": "code",
   "execution_count": 1,
   "id": "24eeea40-726d-4dd0-8497-1e1e376dabcc",
   "metadata": {},
   "outputs": [],
   "source": [
    "import pandas as pd\n",
    "import numpy as np\n",
    "import matplotlib.pyplot as plt\n",
    "import warnings \n",
    "warnings.filterwarnings('ignore')"
   ]
  },
  {
   "cell_type": "code",
   "execution_count": 2,
   "id": "7c0ed2dd-0269-46b1-98bc-a03f4c7411a4",
   "metadata": {},
   "outputs": [],
   "source": [
    "df=pd.read_csv('reddit.csv')"
   ]
  },
  {
   "cell_type": "code",
   "execution_count": 3,
   "id": "94e08e4f-5802-414b-9c6e-d32443f1594a",
   "metadata": {},
   "outputs": [
    {
     "data": {
      "text/html": [
       "<div>\n",
       "<style scoped>\n",
       "    .dataframe tbody tr th:only-of-type {\n",
       "        vertical-align: middle;\n",
       "    }\n",
       "\n",
       "    .dataframe tbody tr th {\n",
       "        vertical-align: top;\n",
       "    }\n",
       "\n",
       "    .dataframe thead th {\n",
       "        text-align: right;\n",
       "    }\n",
       "</style>\n",
       "<table border=\"1\" class=\"dataframe\">\n",
       "  <thead>\n",
       "    <tr style=\"text-align: right;\">\n",
       "      <th></th>\n",
       "      <th>Unnamed: 0</th>\n",
       "      <th>ID</th>\n",
       "      <th>comments</th>\n",
       "      <th>posts</th>\n",
       "      <th>roles</th>\n",
       "      <th>predicates</th>\n",
       "      <th>labels</th>\n",
       "    </tr>\n",
       "  </thead>\n",
       "  <tbody>\n",
       "    <tr>\n",
       "      <th>0</th>\n",
       "      <td>0</td>\n",
       "      <td>hgz26</td>\n",
       "      <td>[\"If the cops won't do anything about it... ma...</td>\n",
       "      <td>My father abuses me and I cant do anything abo...</td>\n",
       "      <td>['am-adv', 'am-adv', 'am-adv', 'am-adv', 'am-d...</td>\n",
       "      <td>[('do', '02'), ('know', '01'), ('make', '01'),...</td>\n",
       "      <td>abuse</td>\n",
       "    </tr>\n",
       "    <tr>\n",
       "      <th>1</th>\n",
       "      <td>1</td>\n",
       "      <td>2vpmnh</td>\n",
       "      <td>['I re-read your post and realized it\\'s past ...</td>\n",
       "      <td>[Help]Finger Prick I know how dumb it sounds o...</td>\n",
       "      <td>['am-adv', 'am-adv', 'am-dis', 'am-mnr', 'am-m...</td>\n",
       "      <td>[('!think', '01'), ('be', '01'), ('have', '03'...</td>\n",
       "      <td>non_abuse</td>\n",
       "    </tr>\n",
       "    <tr>\n",
       "      <th>2</th>\n",
       "      <td>2</td>\n",
       "      <td>2urnes</td>\n",
       "      <td>[\"Dealing with seniors? What exactly does that...</td>\n",
       "      <td>Going to college stress. I've had two panic at...</td>\n",
       "      <td>['am-mnr', 'emotion or sensation', 'end point,...</td>\n",
       "      <td>[('do', '02'), ('feel', '01'), ('go', '01'), (...</td>\n",
       "      <td>non_abuse</td>\n",
       "    </tr>\n",
       "    <tr>\n",
       "      <th>3</th>\n",
       "      <td>3</td>\n",
       "      <td>2l78vr</td>\n",
       "      <td>[\"Yeah I am the same I get terrible anxiety, t...</td>\n",
       "      <td>Just started my Sertraline medication today. I...</td>\n",
       "      <td>['am-adv', 'am-adv', 'am-dis', 'am-mnr', 'am-m...</td>\n",
       "      <td>[('change', '01'), ('start', '01'), ('change',...</td>\n",
       "      <td>non_abuse</td>\n",
       "    </tr>\n",
       "    <tr>\n",
       "      <th>4</th>\n",
       "      <td>4</td>\n",
       "      <td>136f5k</td>\n",
       "      <td>[\"So what I am getting is you're suffering fro...</td>\n",
       "      <td>hear me, i cry again and again, and maybe i am...</td>\n",
       "      <td>['am-adv', 'am-adv', 'am-adv', 'am-adv', 'am-a...</td>\n",
       "      <td>[('!be', '01'), ('be', '01'), ('do', '02'), ('...</td>\n",
       "      <td>abuse</td>\n",
       "    </tr>\n",
       "  </tbody>\n",
       "</table>\n",
       "</div>"
      ],
      "text/plain": [
       "   Unnamed: 0      ID                                           comments  \\\n",
       "0           0   hgz26  [\"If the cops won't do anything about it... ma...   \n",
       "1           1  2vpmnh  ['I re-read your post and realized it\\'s past ...   \n",
       "2           2  2urnes  [\"Dealing with seniors? What exactly does that...   \n",
       "3           3  2l78vr  [\"Yeah I am the same I get terrible anxiety, t...   \n",
       "4           4  136f5k  [\"So what I am getting is you're suffering fro...   \n",
       "\n",
       "                                               posts  \\\n",
       "0  My father abuses me and I cant do anything abo...   \n",
       "1  [Help]Finger Prick I know how dumb it sounds o...   \n",
       "2  Going to college stress. I've had two panic at...   \n",
       "3  Just started my Sertraline medication today. I...   \n",
       "4  hear me, i cry again and again, and maybe i am...   \n",
       "\n",
       "                                               roles  \\\n",
       "0  ['am-adv', 'am-adv', 'am-adv', 'am-adv', 'am-d...   \n",
       "1  ['am-adv', 'am-adv', 'am-dis', 'am-mnr', 'am-m...   \n",
       "2  ['am-mnr', 'emotion or sensation', 'end point,...   \n",
       "3  ['am-adv', 'am-adv', 'am-dis', 'am-mnr', 'am-m...   \n",
       "4  ['am-adv', 'am-adv', 'am-adv', 'am-adv', 'am-a...   \n",
       "\n",
       "                                          predicates     labels  \n",
       "0  [('do', '02'), ('know', '01'), ('make', '01'),...      abuse  \n",
       "1  [('!think', '01'), ('be', '01'), ('have', '03'...  non_abuse  \n",
       "2  [('do', '02'), ('feel', '01'), ('go', '01'), (...  non_abuse  \n",
       "3  [('change', '01'), ('start', '01'), ('change',...  non_abuse  \n",
       "4  [('!be', '01'), ('be', '01'), ('do', '02'), ('...      abuse  "
      ]
     },
     "execution_count": 3,
     "metadata": {},
     "output_type": "execute_result"
    }
   ],
   "source": [
    "df.head()"
   ]
  },
  {
   "cell_type": "code",
   "execution_count": 4,
   "id": "b95340fb-ecf8-41f2-86f6-fa9a351376f2",
   "metadata": {},
   "outputs": [],
   "source": [
    "df.drop(columns='Unnamed: 0', inplace=True)"
   ]
  },
  {
   "cell_type": "code",
   "execution_count": 5,
   "id": "60853198-d8be-4a7c-815f-83bda3eaf21f",
   "metadata": {},
   "outputs": [
    {
     "name": "stdout",
     "output_type": "stream",
     "text": [
      "<class 'pandas.core.frame.DataFrame'>\n",
      "RangeIndex: 1104 entries, 0 to 1103\n",
      "Data columns (total 6 columns):\n",
      " #   Column      Non-Null Count  Dtype \n",
      "---  ------      --------------  ----- \n",
      " 0   ID          1104 non-null   object\n",
      " 1   comments    1104 non-null   object\n",
      " 2   posts       1104 non-null   object\n",
      " 3   roles       1104 non-null   object\n",
      " 4   predicates  1104 non-null   object\n",
      " 5   labels      1104 non-null   object\n",
      "dtypes: object(6)\n",
      "memory usage: 51.9+ KB\n"
     ]
    }
   ],
   "source": [
    "df.info()"
   ]
  },
  {
   "cell_type": "code",
   "execution_count": 6,
   "id": "f6ae5cb1-bd5a-47c6-a74c-004980549eb0",
   "metadata": {},
   "outputs": [
    {
     "data": {
      "text/plain": [
       "False"
      ]
     },
     "execution_count": 6,
     "metadata": {},
     "output_type": "execute_result"
    }
   ],
   "source": [
    "df.ID.duplicated().any()"
   ]
  },
  {
   "cell_type": "markdown",
   "id": "d237aa33-95d2-4c0a-9b03-25bff33c6222",
   "metadata": {
    "tags": []
   },
   "source": [
    "# Adding Features & Preprocessing Text"
   ]
  },
  {
   "cell_type": "markdown",
   "id": "ac7feaac-c6dc-4d05-9054-bc40de2f9a83",
   "metadata": {
    "tags": []
   },
   "source": [
    "## Readability"
   ]
  },
  {
   "cell_type": "code",
   "execution_count": 7,
   "id": "4f6712ea-76d7-49f9-bb30-d9fdec1d0c40",
   "metadata": {},
   "outputs": [],
   "source": [
    "import textstat"
   ]
  },
  {
   "cell_type": "code",
   "execution_count": 8,
   "id": "2668621d-415f-4720-b201-a44fa368958d",
   "metadata": {},
   "outputs": [],
   "source": [
    "df['flesch_score_posts']=df.posts.apply(textstat.flesch_reading_ease)"
   ]
  },
  {
   "cell_type": "code",
   "execution_count": 9,
   "id": "62586725",
   "metadata": {
    "scrolled": true
   },
   "outputs": [
    {
     "data": {
      "text/plain": [
       "'[\"If the cops won\\'t do anything about it... maybe the ASPCA will. \\\\n\\\\nDon\\'t bother with cops. Go straight to social services. \\\\n\\\\nEven under the divorce agreement, you and you family can get a restraining order that will make him move out. Collect copies of the police reports you have made and take them to court. '"
      ]
     },
     "execution_count": 9,
     "metadata": {},
     "output_type": "execute_result"
    }
   ],
   "source": [
    "df.comments[0][:315]"
   ]
  },
  {
   "cell_type": "code",
   "execution_count": 10,
   "id": "5a7be0e0-5059-4926-9c09-4e85d6036405",
   "metadata": {},
   "outputs": [],
   "source": [
    "#read_csv reads list of comments as string of lists - convert to list\n",
    "df.comments=df.comments.apply(eval)"
   ]
  },
  {
   "cell_type": "code",
   "execution_count": 11,
   "id": "a5a01e15",
   "metadata": {},
   "outputs": [],
   "source": [
    "df.comments=df.comments.apply(lambda x: [comment for thread in x for comment in thread.split('\\n') if comment!=''])"
   ]
  },
  {
   "cell_type": "code",
   "execution_count": 12,
   "id": "4e00d4c2",
   "metadata": {
    "scrolled": true
   },
   "outputs": [
    {
     "data": {
      "text/plain": [
       "[\"If the cops won't do anything about it... maybe the ASPCA will. \",\n",
       " \"Don't bother with cops. Go straight to social services. \",\n",
       " 'Even under the divorce agreement, you and you family can get a restraining order that will make him move out. Collect copies of the police reports you have made and take them to court. ']"
      ]
     },
     "execution_count": 12,
     "metadata": {},
     "output_type": "execute_result"
    }
   ],
   "source": [
    "df.comments[0][:3]"
   ]
  },
  {
   "cell_type": "code",
   "execution_count": 13,
   "id": "037be7c7-dbaa-4dfd-a38a-7d6a032786b1",
   "metadata": {},
   "outputs": [],
   "source": [
    "#convert list of strings into one string\n",
    "df['processed_comments']=[' '.join(map(str, com)) for com in df['comments']]\n",
    "df['flesch_score_comments']=df.processed_comments.apply(textstat.flesch_reading_ease)"
   ]
  },
  {
   "cell_type": "markdown",
   "id": "092a0e97-6a16-4a96-b5c8-dc69dad11c7c",
   "metadata": {
    "tags": []
   },
   "source": [
    "## Emoji"
   ]
  },
  {
   "cell_type": "code",
   "execution_count": 14,
   "id": "a5efb0f9-fbe5-4eb1-832a-be844c3ecb84",
   "metadata": {},
   "outputs": [],
   "source": [
    "import demoji"
   ]
  },
  {
   "cell_type": "code",
   "execution_count": 15,
   "id": "02e66839-52fd-46ab-8b33-911da813bf25",
   "metadata": {
    "tags": []
   },
   "outputs": [
    {
     "data": {
      "text/plain": [
       "Series([], Name: posts, dtype: object)"
      ]
     },
     "execution_count": 15,
     "metadata": {},
     "output_type": "execute_result"
    }
   ],
   "source": [
    "emojis=df.posts.apply(demoji.findall)\n",
    "emojis[emojis!={}]"
   ]
  },
  {
   "cell_type": "code",
   "execution_count": 16,
   "id": "bf210c7a-9888-4b2c-9c24-b2399d9c45e8",
   "metadata": {
    "tags": []
   },
   "outputs": [
    {
     "data": {
      "text/plain": [
       "Series([], Name: processed_comments, dtype: object)"
      ]
     },
     "execution_count": 16,
     "metadata": {},
     "output_type": "execute_result"
    }
   ],
   "source": [
    "emojis=df.processed_comments.apply(demoji.findall)\n",
    "emojis[emojis!={}]"
   ]
  },
  {
   "cell_type": "markdown",
   "id": "5fef21fa-d510-4aa9-9046-71154bb7378d",
   "metadata": {},
   "source": [
    "There are no emojis in these posts. It's not uncommon for Redditors to avoid using emojis, based upon this Reddit thread: https://www.reddit.com/r/TooAfraidToAsk/comments/aad2ao/why_dont_people_use_emojis_on_reddit/."
   ]
  },
  {
   "cell_type": "markdown",
   "id": "b4259d12-fa4c-4ab8-a6ad-6b0e38c2c9f5",
   "metadata": {
    "tags": []
   },
   "source": [
    "## Capitalization"
   ]
  },
  {
   "cell_type": "code",
   "execution_count": 17,
   "id": "588e5e2c-d754-40bd-9f13-2a074ab83081",
   "metadata": {},
   "outputs": [],
   "source": [
    "def num_caps(text):\n",
    "    text = ''.join(list(filter(str.isalpha,text)))\n",
    "    return sum([ch.isupper() for ch in text])/len(text)\n",
    "\n",
    "df['post_caps']=df.posts.apply(num_caps)\n",
    "df['comments_caps']=df.processed_comments.apply(num_caps)"
   ]
  },
  {
   "cell_type": "markdown",
   "id": "2af04dae-eddf-4d1a-9d35-c64b6aab5b9e",
   "metadata": {
    "tags": []
   },
   "source": [
    "## Tokenization"
   ]
  },
  {
   "cell_type": "code",
   "execution_count": 18,
   "id": "dfc6ca81-69d1-43cb-891c-2bc0ac528110",
   "metadata": {},
   "outputs": [],
   "source": [
    "from urllib.parse import urlparse\n",
    "import re\n",
    "from nltk.corpus import stopwords\n",
    "from nltk.tokenize import word_tokenize\n",
    "import string\n",
    "from nltk.stem import WordNetLemmatizer\n",
    "\n",
    "#create a function to preprocess text\n",
    "def preprocessing(text, option='none'):\n",
    "    \n",
    "    #remove square brackets first before standardizing url so we avoid the error 'Invalid IPv6 URL'\n",
    "    s=re.sub(r'[[\\]]', ' ', text)\n",
    "    \n",
    "    #standardize urls\n",
    "    urlscan=re.findall(r'(https?://[^\\s]+)', s)\n",
    "    if urlscan:\n",
    "        for i in range(len(urlscan)):\n",
    "            url=urlparse(urlscan[i]).netloc\n",
    "            s=s.replace(urlscan[i], 'url'+url.split('.')[1])\n",
    "    \n",
    "    #convert to lowercase\n",
    "    s=s.lower()\n",
    "    \n",
    "    #remove numbers\n",
    "    s=re.sub(r'\\d+', ' ', s)\n",
    "\n",
    "    #remove punctuation\n",
    "    s=s.translate(str.maketrans(string.punctuation, ' '*len(string.punctuation)))\n",
    "\n",
    "    if option=='char':\n",
    "        return len(s) #preserve character count\n",
    "    \n",
    "    #remove stop words\n",
    "    tokens=word_tokenize(s)\n",
    "    \n",
    "    if option=='word':\n",
    "        return len(tokens) #preserve word count\n",
    "    \n",
    "    if option=='none':\n",
    "        sw=stopwords.words('english')+['ive', 'since', 'cant', 'he', 'thing', 'ago', 'also', 'dont', 'ah', \\\n",
    "                                   'hes', 'shes', 'u', 'going', 'like', 'one', 'two', 'got', 'get', 'gonna', \\\n",
    "                                      'know', 'would', 'go', 'maybe', 'really', 'could', 'should']\n",
    "        result=[word for word in tokens if word not in sw]\n",
    "    \n",
    "        #lemmatization\n",
    "        lem=WordNetLemmatizer()\n",
    "        s=' '.join([lem.lemmatize(word) for word in result])\n",
    "        \n",
    "        return s"
   ]
  },
  {
   "cell_type": "code",
   "execution_count": 19,
   "id": "bbe34c3a-d57c-4b04-8798-6050b919d5df",
   "metadata": {},
   "outputs": [],
   "source": [
    "df['processed_posts']=df.posts.apply(preprocessing)"
   ]
  },
  {
   "cell_type": "code",
   "execution_count": 20,
   "id": "298781f8-6c3a-4925-9581-7d8bd8780884",
   "metadata": {},
   "outputs": [],
   "source": [
    "#preserve the character and word counts of posts\n",
    "df['post_char_count']=df.posts.apply(preprocessing, option='char')\n",
    "df['post_word_count']=df.posts.apply(preprocessing, option='word')"
   ]
  },
  {
   "cell_type": "code",
   "execution_count": 21,
   "id": "277d44fb-f5b8-4635-835e-e2c9ba4b9fa1",
   "metadata": {},
   "outputs": [
    {
     "data": {
      "text/plain": [
       "'father abuse anything tried dad physically emotionality abusing year old threatens kicked locked house chased tripped started kicking called girl name month end beat pet yell beat u kid time nothing around bad guy year denying never said anything anybody month started seeing shrink depression self esteem problem came conclusion due helped start report thing month mother finally went though divorce talking pretty much stopped cop anything unless recent another month live divorce agreement sabotaging thing make life harder eating food mom barley afford sits front tv day watch stay phone day make phone call every day battle called cop child abuse hotline anything besides idea'"
      ]
     },
     "execution_count": 21,
     "metadata": {},
     "output_type": "execute_result"
    }
   ],
   "source": [
    "df.processed_posts[0]"
   ]
  },
  {
   "cell_type": "code",
   "execution_count": 22,
   "id": "ed4d3f03-8a55-4db6-bf78-ba627c153532",
   "metadata": {},
   "outputs": [
    {
     "data": {
      "text/plain": [
       "'difference forum estranged parent estranged child via metafilter urlmetafilter gt rabbit hole urlissendai repository observation estranged parent support forum contains comparison forum culture urlissendai discussion site estranged parent child theme discussion urlissendai found estranged parent site possible reason urlissendai estranged parent forum develop toxic dynamic insightful educational topic might triggering'"
      ]
     },
     "execution_count": 22,
     "metadata": {},
     "output_type": "execute_result"
    }
   ],
   "source": [
    "#check post with multiple urls\n",
    "df.processed_posts[363]"
   ]
  },
  {
   "cell_type": "code",
   "execution_count": 23,
   "id": "9486e6c4-d74b-418a-9a17-0206f38ff902",
   "metadata": {},
   "outputs": [],
   "source": [
    "df['comments_char_count']=df.processed_comments.apply(preprocessing, option='char')\n",
    "df['comments_word_count']=df.processed_comments.apply(preprocessing, option='word')"
   ]
  },
  {
   "cell_type": "code",
   "execution_count": 24,
   "id": "ebafb675-750d-41a8-be63-9e2620b1464e",
   "metadata": {},
   "outputs": [],
   "source": [
    "df['processed_comments']=df.processed_comments.apply(preprocessing)"
   ]
  },
  {
   "cell_type": "code",
   "execution_count": 25,
   "id": "908051f3-c980-4119-8505-ee54781a342c",
   "metadata": {},
   "outputs": [
    {
     "data": {
      "text/plain": [
       "'located dv agency work started offering service male victim located northern california hour hotline call talk judged weirdness urlcatalystdvservices website interested research agency closer offer service male victim sorry stay strong deleted similar experience friend mine woman though realized early abuse able help way needed various reason seems ridiculous manipulated situation favor wife get angry abusive manipulate anger abuse way definitely caught dangerous sometimes especially situation stop thinking victim start thinking survivor encouraging abuse shape form saying expose behavior way make people something simple placing camera home record behavior daughter witnessed assault police arrived call separated wife side story officer took daughter different room asked saw happened daughter told everything step step color snow brush honestly think turned said said actual arrest kid lie saved huge headache thankfully'"
      ]
     },
     "execution_count": 25,
     "metadata": {},
     "output_type": "execute_result"
    }
   ],
   "source": [
    "df.processed_comments[9]"
   ]
  },
  {
   "cell_type": "code",
   "execution_count": 26,
   "id": "640824df-475d-43bd-88c0-68f8b73fc4bf",
   "metadata": {},
   "outputs": [
    {
     "data": {
      "text/html": [
       "<div>\n",
       "<style scoped>\n",
       "    .dataframe tbody tr th:only-of-type {\n",
       "        vertical-align: middle;\n",
       "    }\n",
       "\n",
       "    .dataframe tbody tr th {\n",
       "        vertical-align: top;\n",
       "    }\n",
       "\n",
       "    .dataframe thead th {\n",
       "        text-align: right;\n",
       "    }\n",
       "</style>\n",
       "<table border=\"1\" class=\"dataframe\">\n",
       "  <thead>\n",
       "    <tr style=\"text-align: right;\">\n",
       "      <th></th>\n",
       "      <th>ID</th>\n",
       "      <th>comments</th>\n",
       "      <th>posts</th>\n",
       "      <th>roles</th>\n",
       "      <th>predicates</th>\n",
       "      <th>labels</th>\n",
       "      <th>flesch_score_posts</th>\n",
       "      <th>processed_comments</th>\n",
       "      <th>flesch_score_comments</th>\n",
       "      <th>post_caps</th>\n",
       "      <th>comments_caps</th>\n",
       "      <th>processed_posts</th>\n",
       "      <th>post_char_count</th>\n",
       "      <th>post_word_count</th>\n",
       "      <th>comments_char_count</th>\n",
       "      <th>comments_word_count</th>\n",
       "    </tr>\n",
       "  </thead>\n",
       "  <tbody>\n",
       "  </tbody>\n",
       "</table>\n",
       "</div>"
      ],
      "text/plain": [
       "Empty DataFrame\n",
       "Columns: [ID, comments, posts, roles, predicates, labels, flesch_score_posts, processed_comments, flesch_score_comments, post_caps, comments_caps, processed_posts, post_char_count, post_word_count, comments_char_count, comments_word_count]\n",
       "Index: []"
      ]
     },
     "execution_count": 26,
     "metadata": {},
     "output_type": "execute_result"
    }
   ],
   "source": [
    "#check for empty tokens\n",
    "df[df.processed_posts=='']"
   ]
  },
  {
   "cell_type": "code",
   "execution_count": 27,
   "id": "52ae78c9-23a4-491f-bdb8-fe9fad33553a",
   "metadata": {
    "scrolled": true
   },
   "outputs": [
    {
     "data": {
      "text/html": [
       "<div>\n",
       "<style scoped>\n",
       "    .dataframe tbody tr th:only-of-type {\n",
       "        vertical-align: middle;\n",
       "    }\n",
       "\n",
       "    .dataframe tbody tr th {\n",
       "        vertical-align: top;\n",
       "    }\n",
       "\n",
       "    .dataframe thead th {\n",
       "        text-align: right;\n",
       "    }\n",
       "</style>\n",
       "<table border=\"1\" class=\"dataframe\">\n",
       "  <thead>\n",
       "    <tr style=\"text-align: right;\">\n",
       "      <th></th>\n",
       "      <th>ID</th>\n",
       "      <th>comments</th>\n",
       "      <th>posts</th>\n",
       "      <th>roles</th>\n",
       "      <th>predicates</th>\n",
       "      <th>labels</th>\n",
       "      <th>flesch_score_posts</th>\n",
       "      <th>processed_comments</th>\n",
       "      <th>flesch_score_comments</th>\n",
       "      <th>post_caps</th>\n",
       "      <th>comments_caps</th>\n",
       "      <th>processed_posts</th>\n",
       "      <th>post_char_count</th>\n",
       "      <th>post_word_count</th>\n",
       "      <th>comments_char_count</th>\n",
       "      <th>comments_word_count</th>\n",
       "    </tr>\n",
       "  </thead>\n",
       "  <tbody>\n",
       "  </tbody>\n",
       "</table>\n",
       "</div>"
      ],
      "text/plain": [
       "Empty DataFrame\n",
       "Columns: [ID, comments, posts, roles, predicates, labels, flesch_score_posts, processed_comments, flesch_score_comments, post_caps, comments_caps, processed_posts, post_char_count, post_word_count, comments_char_count, comments_word_count]\n",
       "Index: []"
      ]
     },
     "execution_count": 27,
     "metadata": {},
     "output_type": "execute_result"
    }
   ],
   "source": [
    "df[df.processed_comments=='']"
   ]
  },
  {
   "cell_type": "code",
   "execution_count": 28,
   "id": "0c7f54c4",
   "metadata": {},
   "outputs": [
    {
     "data": {
      "text/plain": [
       "0    p_father p_abuse p_anything p_tried p_dad p_ph...\n",
       "1    p_help p_finger p_prick p_dumb p_sound p_subre...\n",
       "2    p_college p_stress p_panic p_attack p_week p_i...\n",
       "Name: p_tokens, dtype: object"
      ]
     },
     "execution_count": 28,
     "metadata": {},
     "output_type": "execute_result"
    }
   ],
   "source": [
    "df['p_tokens']=[['p_'+word for word in word_tokenize(post)] for post in df.processed_posts]\n",
    "df.p_tokens=df.p_tokens.apply(' '.join)\n",
    "df.p_tokens.head(3)"
   ]
  },
  {
   "cell_type": "code",
   "execution_count": 29,
   "id": "322b442d",
   "metadata": {
    "scrolled": true
   },
   "outputs": [
    {
     "data": {
      "text/plain": [
       "0    c_cop c_anything c_aspca c_bother c_cop c_stra...\n",
       "1    c_read c_post c_realized c_past c_time c_alrea...\n",
       "2    c_dealing c_senior c_exactly c_mean c_college ...\n",
       "Name: c_tokens, dtype: object"
      ]
     },
     "execution_count": 29,
     "metadata": {},
     "output_type": "execute_result"
    }
   ],
   "source": [
    "df['c_tokens']=[['c_'+word for word in word_tokenize(comments)] for comments in df.processed_comments]\n",
    "df.c_tokens=df.c_tokens.apply(' '.join)\n",
    "df.c_tokens.head(3)"
   ]
  },
  {
   "cell_type": "code",
   "execution_count": 30,
   "id": "b0957e82",
   "metadata": {},
   "outputs": [],
   "source": [
    "df['tokens']=df.p_tokens+df.c_tokens"
   ]
  },
  {
   "cell_type": "code",
   "execution_count": 31,
   "id": "81296fed",
   "metadata": {},
   "outputs": [],
   "source": [
    "df['labels_num']=df['labels'].map({'non_abuse':0, 'abuse':1})"
   ]
  },
  {
   "cell_type": "markdown",
   "id": "13b543c9-8ce2-4f90-858d-9a4ea49663cb",
   "metadata": {
    "tags": []
   },
   "source": [
    "## Sentiments"
   ]
  },
  {
   "cell_type": "code",
   "execution_count": 32,
   "id": "b8d73cc1-7013-4eb2-a830-eb09033d9be6",
   "metadata": {},
   "outputs": [],
   "source": [
    "#import emotions sensor data set for sentiment analysis\n",
    "emotions=pd.DataFrame(pd.read_csv('Andbrain_DataSet.csv')).set_index('word',drop=True)"
   ]
  },
  {
   "cell_type": "code",
   "execution_count": 33,
   "id": "ce8ef568-6934-4306-8c10-9471065e1c04",
   "metadata": {},
   "outputs": [],
   "source": [
    "emotions.index=emotions.index.str.replace(' ', '')"
   ]
  },
  {
   "cell_type": "code",
   "execution_count": 34,
   "id": "9ceda2af-fcbf-4b3a-91af-1737935d53f1",
   "metadata": {},
   "outputs": [
    {
     "data": {
      "text/html": [
       "<div>\n",
       "<style scoped>\n",
       "    .dataframe tbody tr th:only-of-type {\n",
       "        vertical-align: middle;\n",
       "    }\n",
       "\n",
       "    .dataframe tbody tr th {\n",
       "        vertical-align: top;\n",
       "    }\n",
       "\n",
       "    .dataframe thead th {\n",
       "        text-align: right;\n",
       "    }\n",
       "</style>\n",
       "<table border=\"1\" class=\"dataframe\">\n",
       "  <thead>\n",
       "    <tr style=\"text-align: right;\">\n",
       "      <th></th>\n",
       "      <th>disgust</th>\n",
       "      <th>surprise</th>\n",
       "      <th>neutral</th>\n",
       "      <th>anger</th>\n",
       "      <th>sad</th>\n",
       "      <th>happy</th>\n",
       "      <th>fear</th>\n",
       "    </tr>\n",
       "    <tr>\n",
       "      <th>word</th>\n",
       "      <th></th>\n",
       "      <th></th>\n",
       "      <th></th>\n",
       "      <th></th>\n",
       "      <th></th>\n",
       "      <th></th>\n",
       "      <th></th>\n",
       "    </tr>\n",
       "  </thead>\n",
       "  <tbody>\n",
       "    <tr>\n",
       "      <th>ability</th>\n",
       "      <td>0.004464</td>\n",
       "      <td>0.047832</td>\n",
       "      <td>0.000638</td>\n",
       "      <td>0.023597</td>\n",
       "      <td>0.013393</td>\n",
       "      <td>0.015944</td>\n",
       "      <td>0.040179</td>\n",
       "    </tr>\n",
       "    <tr>\n",
       "      <th>able</th>\n",
       "      <td>0.000017</td>\n",
       "      <td>0.000182</td>\n",
       "      <td>0.000409</td>\n",
       "      <td>0.000176</td>\n",
       "      <td>0.000219</td>\n",
       "      <td>0.000244</td>\n",
       "      <td>0.000186</td>\n",
       "    </tr>\n",
       "    <tr>\n",
       "      <th>abuse</th>\n",
       "      <td>0.000532</td>\n",
       "      <td>0.000177</td>\n",
       "      <td>0.000177</td>\n",
       "      <td>0.137363</td>\n",
       "      <td>0.001241</td>\n",
       "      <td>0.001595</td>\n",
       "      <td>0.002659</td>\n",
       "    </tr>\n",
       "    <tr>\n",
       "      <th>academy</th>\n",
       "      <td>0.007143</td>\n",
       "      <td>0.021429</td>\n",
       "      <td>0.007143</td>\n",
       "      <td>0.007143</td>\n",
       "      <td>0.007143</td>\n",
       "      <td>0.092857</td>\n",
       "      <td>0.035714</td>\n",
       "    </tr>\n",
       "    <tr>\n",
       "      <th>accept</th>\n",
       "      <td>0.008271</td>\n",
       "      <td>0.006767</td>\n",
       "      <td>0.000752</td>\n",
       "      <td>0.048872</td>\n",
       "      <td>0.018797</td>\n",
       "      <td>0.024812</td>\n",
       "      <td>0.038346</td>\n",
       "    </tr>\n",
       "  </tbody>\n",
       "</table>\n",
       "</div>"
      ],
      "text/plain": [
       "          disgust  surprise   neutral     anger       sad     happy      fear\n",
       "word                                                                         \n",
       "ability  0.004464  0.047832  0.000638  0.023597  0.013393  0.015944  0.040179\n",
       "able     0.000017  0.000182  0.000409  0.000176  0.000219  0.000244  0.000186\n",
       "abuse    0.000532  0.000177  0.000177  0.137363  0.001241  0.001595  0.002659\n",
       "academy  0.007143  0.021429  0.007143  0.007143  0.007143  0.092857  0.035714\n",
       "accept   0.008271  0.006767  0.000752  0.048872  0.018797  0.024812  0.038346"
      ]
     },
     "execution_count": 34,
     "metadata": {},
     "output_type": "execute_result"
    }
   ],
   "source": [
    "emotions.head()"
   ]
  },
  {
   "cell_type": "code",
   "execution_count": 35,
   "id": "95b2af1f-e4f2-4f06-8219-7a086af3a706",
   "metadata": {},
   "outputs": [
    {
     "data": {
      "text/plain": [
       "(1104, 7)"
      ]
     },
     "execution_count": 35,
     "metadata": {},
     "output_type": "execute_result"
    }
   ],
   "source": [
    "emotions.shape"
   ]
  },
  {
   "cell_type": "code",
   "execution_count": 36,
   "id": "8baf2e8c-4e9f-4e62-81e0-fc17a1bb2c4c",
   "metadata": {},
   "outputs": [],
   "source": [
    "#define function for sentiment analysis\n",
    "def sentiment(text, emotions_df=emotions, output='stats'):\n",
    "    accessible_words=[word for word in word_tokenize(text) if word in emotions_df.index]\n",
    "    word_stats=emotions_df.loc[accessible_words]\n",
    "    if output=='stats':\n",
    "        return word_stats.mean() \n",
    "    \n",
    "    if accessible_words!=[]:\n",
    "        emotion=word_stats.sum().idxmax()\n",
    "        \n",
    "        if output=='emotion':\n",
    "            return emotion\n",
    "    \n",
    "        if output=='words':\n",
    "            words=word_stats.sort_values(by=emotion, ascending=False).index.tolist()\n",
    "            return words \n",
    "    else:\n",
    "        return None\n"
   ]
  },
  {
   "cell_type": "code",
   "execution_count": 37,
   "id": "4a10b911-e9f5-415d-9c0c-5b3d4b52b0f9",
   "metadata": {},
   "outputs": [],
   "source": [
    "df['post_sentiment']=df.processed_posts.apply(sentiment, output='emotion')\n",
    "#provide custom sorting order\n",
    "df['post_sentiment']=pd.Categorical(df['post_sentiment'], ['anger', 'disgust', 'fear', 'happy', 'neutral', 'sad', 'surprise'])"
   ]
  },
  {
   "cell_type": "code",
   "execution_count": 38,
   "id": "7e981092-3166-46a3-82da-3ea5aabce979",
   "metadata": {},
   "outputs": [],
   "source": [
    "df['post_sentiment_words']=df.processed_posts.apply(sentiment, output='words')"
   ]
  },
  {
   "cell_type": "code",
   "execution_count": 39,
   "id": "8dec4e98-d451-4a28-b9b1-f2a604f6ac3d",
   "metadata": {},
   "outputs": [],
   "source": [
    "df['comments_sentiment']=df.processed_comments.apply(sentiment, output='emotion')\n",
    "df['comments_sentiment']=pd.Categorical(df['comments_sentiment'], ['anger', 'disgust', 'fear', 'happy', 'neutral', 'sad', 'surprise'])"
   ]
  },
  {
   "cell_type": "code",
   "execution_count": 40,
   "id": "02dbe33f-61ba-4840-a913-562ee8b80fe1",
   "metadata": {},
   "outputs": [],
   "source": [
    "df['comments_sentiment_words']=df.processed_comments.apply(sentiment, output='words')"
   ]
  },
  {
   "cell_type": "code",
   "execution_count": 41,
   "id": "5bba3b0e-87b8-45b3-b878-c0d0e9d8a3d3",
   "metadata": {},
   "outputs": [],
   "source": [
    "sentiment_stats=pd.merge(df.processed_posts.apply(sentiment), df.processed_comments.apply(sentiment), how='outer', left_index=True, right_index=True, suffixes=('_post', '_comments'))"
   ]
  },
  {
   "cell_type": "code",
   "execution_count": 42,
   "id": "2d34ddad-2b97-4638-91ef-ef5b65a961f8",
   "metadata": {},
   "outputs": [],
   "source": [
    "df=df.join(sentiment_stats)"
   ]
  },
  {
   "cell_type": "code",
   "execution_count": 43,
   "id": "c3034d15",
   "metadata": {},
   "outputs": [
    {
     "data": {
      "text/plain": [
       "0       29\n",
       "1        4\n",
       "2        2\n",
       "3        2\n",
       "4        2\n",
       "        ..\n",
       "1099     2\n",
       "1100    14\n",
       "1101    47\n",
       "1102     1\n",
       "1103     4\n",
       "Name: comments, Length: 1104, dtype: int64"
      ]
     },
     "execution_count": 43,
     "metadata": {},
     "output_type": "execute_result"
    }
   ],
   "source": [
    "df.comments.str.len()"
   ]
  },
  {
   "cell_type": "code",
   "execution_count": 44,
   "id": "3bfc12ba-027f-4eea-969d-978438cf9fb7",
   "metadata": {},
   "outputs": [],
   "source": [
    "#preserve the number of comments\n",
    "df['comments_count']=df.comments.str.len()"
   ]
  },
  {
   "cell_type": "code",
   "execution_count": 45,
   "id": "785bf70b-671d-4362-bd4e-4ec2569cecde",
   "metadata": {},
   "outputs": [
    {
     "data": {
      "text/html": [
       "<div>\n",
       "<style scoped>\n",
       "    .dataframe tbody tr th:only-of-type {\n",
       "        vertical-align: middle;\n",
       "    }\n",
       "\n",
       "    .dataframe tbody tr th {\n",
       "        vertical-align: top;\n",
       "    }\n",
       "\n",
       "    .dataframe thead th {\n",
       "        text-align: right;\n",
       "    }\n",
       "</style>\n",
       "<table border=\"1\" class=\"dataframe\">\n",
       "  <thead>\n",
       "    <tr style=\"text-align: right;\">\n",
       "      <th></th>\n",
       "      <th>ID</th>\n",
       "      <th>comments</th>\n",
       "      <th>posts</th>\n",
       "      <th>roles</th>\n",
       "      <th>predicates</th>\n",
       "      <th>labels</th>\n",
       "      <th>flesch_score_posts</th>\n",
       "      <th>processed_comments</th>\n",
       "      <th>flesch_score_comments</th>\n",
       "      <th>post_caps</th>\n",
       "      <th>...</th>\n",
       "      <th>happy_post</th>\n",
       "      <th>fear_post</th>\n",
       "      <th>disgust_comments</th>\n",
       "      <th>surprise_comments</th>\n",
       "      <th>neutral_comments</th>\n",
       "      <th>anger_comments</th>\n",
       "      <th>sad_comments</th>\n",
       "      <th>happy_comments</th>\n",
       "      <th>fear_comments</th>\n",
       "      <th>comments_count</th>\n",
       "    </tr>\n",
       "  </thead>\n",
       "  <tbody>\n",
       "    <tr>\n",
       "      <th>0</th>\n",
       "      <td>hgz26</td>\n",
       "      <td>[If the cops won't do anything about it... may...</td>\n",
       "      <td>My father abuses me and I cant do anything abo...</td>\n",
       "      <td>['am-adv', 'am-adv', 'am-adv', 'am-adv', 'am-d...</td>\n",
       "      <td>[('do', '02'), ('know', '01'), ('make', '01'),...</td>\n",
       "      <td>abuse</td>\n",
       "      <td>84.81</td>\n",
       "      <td>cop anything aspca bother cop straight social ...</td>\n",
       "      <td>83.76</td>\n",
       "      <td>0.020972</td>\n",
       "      <td>...</td>\n",
       "      <td>0.014312</td>\n",
       "      <td>0.016068</td>\n",
       "      <td>0.006387</td>\n",
       "      <td>0.024705</td>\n",
       "      <td>0.003556</td>\n",
       "      <td>0.029930</td>\n",
       "      <td>0.020565</td>\n",
       "      <td>0.021733</td>\n",
       "      <td>0.028812</td>\n",
       "      <td>29</td>\n",
       "    </tr>\n",
       "    <tr>\n",
       "      <th>1</th>\n",
       "      <td>2vpmnh</td>\n",
       "      <td>[I re-read your post and realized it's past ti...</td>\n",
       "      <td>[Help]Finger Prick I know how dumb it sounds o...</td>\n",
       "      <td>['am-adv', 'am-adv', 'am-dis', 'am-mnr', 'am-m...</td>\n",
       "      <td>[('!think', '01'), ('be', '01'), ('have', '03'...</td>\n",
       "      <td>non_abuse</td>\n",
       "      <td>85.42</td>\n",
       "      <td>read post realized past time already hope ever...</td>\n",
       "      <td>72.56</td>\n",
       "      <td>0.041131</td>\n",
       "      <td>...</td>\n",
       "      <td>0.031199</td>\n",
       "      <td>0.021456</td>\n",
       "      <td>0.006047</td>\n",
       "      <td>0.020780</td>\n",
       "      <td>0.002419</td>\n",
       "      <td>0.015285</td>\n",
       "      <td>0.026523</td>\n",
       "      <td>0.027244</td>\n",
       "      <td>0.030113</td>\n",
       "      <td>4</td>\n",
       "    </tr>\n",
       "    <tr>\n",
       "      <th>2</th>\n",
       "      <td>2urnes</td>\n",
       "      <td>[Dealing with seniors? What exactly does that ...</td>\n",
       "      <td>Going to college stress. I've had two panic at...</td>\n",
       "      <td>['am-mnr', 'emotion or sensation', 'end point,...</td>\n",
       "      <td>[('do', '02'), ('feel', '01'), ('go', '01'), (...</td>\n",
       "      <td>non_abuse</td>\n",
       "      <td>80.78</td>\n",
       "      <td>dealing senior exactly mean college typical hi...</td>\n",
       "      <td>86.20</td>\n",
       "      <td>0.030457</td>\n",
       "      <td>...</td>\n",
       "      <td>0.014838</td>\n",
       "      <td>0.071660</td>\n",
       "      <td>0.005086</td>\n",
       "      <td>0.017478</td>\n",
       "      <td>0.001507</td>\n",
       "      <td>0.010174</td>\n",
       "      <td>0.018588</td>\n",
       "      <td>0.027902</td>\n",
       "      <td>0.011612</td>\n",
       "      <td>2</td>\n",
       "    </tr>\n",
       "    <tr>\n",
       "      <th>3</th>\n",
       "      <td>2l78vr</td>\n",
       "      <td>[Yeah I am the same I get terrible anxiety, te...</td>\n",
       "      <td>Just started my Sertraline medication today. I...</td>\n",
       "      <td>['am-adv', 'am-adv', 'am-dis', 'am-mnr', 'am-m...</td>\n",
       "      <td>[('change', '01'), ('start', '01'), ('change',...</td>\n",
       "      <td>non_abuse</td>\n",
       "      <td>70.13</td>\n",
       "      <td>yeah terrible anxiety terrified people judging...</td>\n",
       "      <td>76.22</td>\n",
       "      <td>0.039604</td>\n",
       "      <td>...</td>\n",
       "      <td>0.018925</td>\n",
       "      <td>0.025351</td>\n",
       "      <td>0.001349</td>\n",
       "      <td>0.026620</td>\n",
       "      <td>0.000961</td>\n",
       "      <td>0.052914</td>\n",
       "      <td>0.020810</td>\n",
       "      <td>0.022443</td>\n",
       "      <td>0.022567</td>\n",
       "      <td>2</td>\n",
       "    </tr>\n",
       "    <tr>\n",
       "      <th>4</th>\n",
       "      <td>136f5k</td>\n",
       "      <td>[So what I am getting is you're suffering from...</td>\n",
       "      <td>hear me, i cry again and again, and maybe i am...</td>\n",
       "      <td>['am-adv', 'am-adv', 'am-adv', 'am-adv', 'am-a...</td>\n",
       "      <td>[('!be', '01'), ('be', '01'), ('do', '02'), ('...</td>\n",
       "      <td>abuse</td>\n",
       "      <td>78.93</td>\n",
       "      <td>getting suffering anxiety depression presumabl...</td>\n",
       "      <td>76.25</td>\n",
       "      <td>0.000000</td>\n",
       "      <td>...</td>\n",
       "      <td>0.025363</td>\n",
       "      <td>0.027579</td>\n",
       "      <td>0.003951</td>\n",
       "      <td>0.009974</td>\n",
       "      <td>0.000497</td>\n",
       "      <td>0.039433</td>\n",
       "      <td>0.016787</td>\n",
       "      <td>0.020754</td>\n",
       "      <td>0.018082</td>\n",
       "      <td>2</td>\n",
       "    </tr>\n",
       "  </tbody>\n",
       "</table>\n",
       "<p>5 rows × 39 columns</p>\n",
       "</div>"
      ],
      "text/plain": [
       "       ID                                           comments  \\\n",
       "0   hgz26  [If the cops won't do anything about it... may...   \n",
       "1  2vpmnh  [I re-read your post and realized it's past ti...   \n",
       "2  2urnes  [Dealing with seniors? What exactly does that ...   \n",
       "3  2l78vr  [Yeah I am the same I get terrible anxiety, te...   \n",
       "4  136f5k  [So what I am getting is you're suffering from...   \n",
       "\n",
       "                                               posts  \\\n",
       "0  My father abuses me and I cant do anything abo...   \n",
       "1  [Help]Finger Prick I know how dumb it sounds o...   \n",
       "2  Going to college stress. I've had two panic at...   \n",
       "3  Just started my Sertraline medication today. I...   \n",
       "4  hear me, i cry again and again, and maybe i am...   \n",
       "\n",
       "                                               roles  \\\n",
       "0  ['am-adv', 'am-adv', 'am-adv', 'am-adv', 'am-d...   \n",
       "1  ['am-adv', 'am-adv', 'am-dis', 'am-mnr', 'am-m...   \n",
       "2  ['am-mnr', 'emotion or sensation', 'end point,...   \n",
       "3  ['am-adv', 'am-adv', 'am-dis', 'am-mnr', 'am-m...   \n",
       "4  ['am-adv', 'am-adv', 'am-adv', 'am-adv', 'am-a...   \n",
       "\n",
       "                                          predicates     labels  \\\n",
       "0  [('do', '02'), ('know', '01'), ('make', '01'),...      abuse   \n",
       "1  [('!think', '01'), ('be', '01'), ('have', '03'...  non_abuse   \n",
       "2  [('do', '02'), ('feel', '01'), ('go', '01'), (...  non_abuse   \n",
       "3  [('change', '01'), ('start', '01'), ('change',...  non_abuse   \n",
       "4  [('!be', '01'), ('be', '01'), ('do', '02'), ('...      abuse   \n",
       "\n",
       "   flesch_score_posts                                 processed_comments  \\\n",
       "0               84.81  cop anything aspca bother cop straight social ...   \n",
       "1               85.42  read post realized past time already hope ever...   \n",
       "2               80.78  dealing senior exactly mean college typical hi...   \n",
       "3               70.13  yeah terrible anxiety terrified people judging...   \n",
       "4               78.93  getting suffering anxiety depression presumabl...   \n",
       "\n",
       "   flesch_score_comments  post_caps  ...  happy_post fear_post  \\\n",
       "0                  83.76   0.020972  ...    0.014312  0.016068   \n",
       "1                  72.56   0.041131  ...    0.031199  0.021456   \n",
       "2                  86.20   0.030457  ...    0.014838  0.071660   \n",
       "3                  76.22   0.039604  ...    0.018925  0.025351   \n",
       "4                  76.25   0.000000  ...    0.025363  0.027579   \n",
       "\n",
       "   disgust_comments  surprise_comments  neutral_comments  anger_comments  \\\n",
       "0          0.006387           0.024705          0.003556        0.029930   \n",
       "1          0.006047           0.020780          0.002419        0.015285   \n",
       "2          0.005086           0.017478          0.001507        0.010174   \n",
       "3          0.001349           0.026620          0.000961        0.052914   \n",
       "4          0.003951           0.009974          0.000497        0.039433   \n",
       "\n",
       "  sad_comments happy_comments fear_comments  comments_count  \n",
       "0     0.020565       0.021733      0.028812              29  \n",
       "1     0.026523       0.027244      0.030113               4  \n",
       "2     0.018588       0.027902      0.011612               2  \n",
       "3     0.020810       0.022443      0.022567               2  \n",
       "4     0.016787       0.020754      0.018082               2  \n",
       "\n",
       "[5 rows x 39 columns]"
      ]
     },
     "execution_count": 45,
     "metadata": {},
     "output_type": "execute_result"
    }
   ],
   "source": [
    "df.head()"
   ]
  },
  {
   "cell_type": "markdown",
   "id": "87860c35-9f29-4897-b009-3d6f26c9a4c0",
   "metadata": {},
   "source": [
    "# Data Visualization"
   ]
  },
  {
   "cell_type": "markdown",
   "id": "c2d12578-316a-452d-a473-95b1a4758563",
   "metadata": {
    "tags": []
   },
   "source": [
    "## Readability"
   ]
  },
  {
   "cell_type": "code",
   "execution_count": 46,
   "id": "795fd905-1224-4680-95c0-aba9bf14e397",
   "metadata": {},
   "outputs": [],
   "source": [
    "import seaborn as sns"
   ]
  },
  {
   "cell_type": "code",
   "execution_count": 47,
   "id": "3ffdfb3c-d64e-4f72-b922-51008d8fa31d",
   "metadata": {},
   "outputs": [
    {
     "data": {
      "text/html": [
       "<div>\n",
       "<style scoped>\n",
       "    .dataframe tbody tr th:only-of-type {\n",
       "        vertical-align: middle;\n",
       "    }\n",
       "\n",
       "    .dataframe tbody tr th {\n",
       "        vertical-align: top;\n",
       "    }\n",
       "\n",
       "    .dataframe thead tr th {\n",
       "        text-align: left;\n",
       "    }\n",
       "\n",
       "    .dataframe thead tr:last-of-type th {\n",
       "        text-align: right;\n",
       "    }\n",
       "</style>\n",
       "<table border=\"1\" class=\"dataframe\">\n",
       "  <thead>\n",
       "    <tr>\n",
       "      <th></th>\n",
       "      <th colspan=\"8\" halign=\"left\">flesch_score_posts</th>\n",
       "      <th colspan=\"8\" halign=\"left\">flesch_score_comments</th>\n",
       "    </tr>\n",
       "    <tr>\n",
       "      <th></th>\n",
       "      <th>count</th>\n",
       "      <th>mean</th>\n",
       "      <th>std</th>\n",
       "      <th>min</th>\n",
       "      <th>25%</th>\n",
       "      <th>50%</th>\n",
       "      <th>75%</th>\n",
       "      <th>max</th>\n",
       "      <th>count</th>\n",
       "      <th>mean</th>\n",
       "      <th>std</th>\n",
       "      <th>min</th>\n",
       "      <th>25%</th>\n",
       "      <th>50%</th>\n",
       "      <th>75%</th>\n",
       "      <th>max</th>\n",
       "    </tr>\n",
       "    <tr>\n",
       "      <th>labels</th>\n",
       "      <th></th>\n",
       "      <th></th>\n",
       "      <th></th>\n",
       "      <th></th>\n",
       "      <th></th>\n",
       "      <th></th>\n",
       "      <th></th>\n",
       "      <th></th>\n",
       "      <th></th>\n",
       "      <th></th>\n",
       "      <th></th>\n",
       "      <th></th>\n",
       "      <th></th>\n",
       "      <th></th>\n",
       "      <th></th>\n",
       "      <th></th>\n",
       "    </tr>\n",
       "  </thead>\n",
       "  <tbody>\n",
       "    <tr>\n",
       "      <th>abuse</th>\n",
       "      <td>552.0</td>\n",
       "      <td>75.557482</td>\n",
       "      <td>17.773821</td>\n",
       "      <td>-131.23</td>\n",
       "      <td>71.5225</td>\n",
       "      <td>78.79</td>\n",
       "      <td>84.2950</td>\n",
       "      <td>104.94</td>\n",
       "      <td>552.0</td>\n",
       "      <td>77.423279</td>\n",
       "      <td>12.475242</td>\n",
       "      <td>-1.29</td>\n",
       "      <td>71.2400</td>\n",
       "      <td>79.19</td>\n",
       "      <td>84.425</td>\n",
       "      <td>120.21</td>\n",
       "    </tr>\n",
       "    <tr>\n",
       "      <th>non_abuse</th>\n",
       "      <td>552.0</td>\n",
       "      <td>79.311612</td>\n",
       "      <td>11.775493</td>\n",
       "      <td>-3.62</td>\n",
       "      <td>73.6800</td>\n",
       "      <td>80.16</td>\n",
       "      <td>86.3175</td>\n",
       "      <td>119.19</td>\n",
       "      <td>552.0</td>\n",
       "      <td>79.937627</td>\n",
       "      <td>10.957967</td>\n",
       "      <td>-32.42</td>\n",
       "      <td>74.9225</td>\n",
       "      <td>81.12</td>\n",
       "      <td>85.745</td>\n",
       "      <td>121.22</td>\n",
       "    </tr>\n",
       "  </tbody>\n",
       "</table>\n",
       "</div>"
      ],
      "text/plain": [
       "          flesch_score_posts                                                \\\n",
       "                       count       mean        std     min      25%    50%   \n",
       "labels                                                                       \n",
       "abuse                  552.0  75.557482  17.773821 -131.23  71.5225  78.79   \n",
       "non_abuse              552.0  79.311612  11.775493   -3.62  73.6800  80.16   \n",
       "\n",
       "                           flesch_score_comments                               \\\n",
       "               75%     max                 count       mean        std    min   \n",
       "labels                                                                          \n",
       "abuse      84.2950  104.94                 552.0  77.423279  12.475242  -1.29   \n",
       "non_abuse  86.3175  119.19                 552.0  79.937627  10.957967 -32.42   \n",
       "\n",
       "                                           \n",
       "               25%    50%     75%     max  \n",
       "labels                                     \n",
       "abuse      71.2400  79.19  84.425  120.21  \n",
       "non_abuse  74.9225  81.12  85.745  121.22  "
      ]
     },
     "execution_count": 47,
     "metadata": {},
     "output_type": "execute_result"
    }
   ],
   "source": [
    "df.groupby(by=['labels'])[['flesch_score_posts', 'flesch_score_comments']].describe()"
   ]
  },
  {
   "cell_type": "code",
   "execution_count": 48,
   "id": "4e3fd868-d791-4b12-acb0-a8aaaa834b0a",
   "metadata": {},
   "outputs": [
    {
     "data": {
      "image/png": "[encoded data removed]",
      "text/plain": [
       "<Figure size 360x360 with 1 Axes>"
      ]
     },
     "metadata": {
      "needs_background": "light"
     },
     "output_type": "display_data"
    }
   ],
   "source": [
    "sns.set(rc={'figure.figsize':(6,4)})\n",
    "ax1=sns.catplot(x='labels', y='flesch_score_posts', data=df, kind='box', showfliers = False)\n",
    "ax1.set(xlabel='Type', ylabel='Flesch Score of Posts', title='Flesch Reading Ease Score for Posts per Type of Submission');"
   ]
  },
  {
   "cell_type": "code",
   "execution_count": 49,
   "id": "b32b08a2-d1e0-4ca9-b76e-704d8dfbd770",
   "metadata": {},
   "outputs": [
    {
     "data": {
      "image/png": "[encoded data removed]",
      "text/plain": [
       "<Figure size 500x500 with 1 Axes>"
      ]
     },
     "metadata": {},
     "output_type": "display_data"
    }
   ],
   "source": [
    "ax2=sns.catplot(x='labels', y='flesch_score_comments', data=df, kind='box', showfliers = False)\n",
    "ax2.set(xlabel='Type', ylabel='Flesch Score of Comments', title='Flesch Reading Ease Score for Comments per Type of Submission');"
   ]
  },
  {
   "cell_type": "code",
   "execution_count": 50,
   "id": "63de35bb-991f-48c3-9742-7f514e196eef",
   "metadata": {},
   "outputs": [
    {
     "data": {
      "text/html": [
       "<div>\n",
       "<style scoped>\n",
       "    .dataframe tbody tr th:only-of-type {\n",
       "        vertical-align: middle;\n",
       "    }\n",
       "\n",
       "    .dataframe tbody tr th {\n",
       "        vertical-align: top;\n",
       "    }\n",
       "\n",
       "    .dataframe thead th {\n",
       "        text-align: right;\n",
       "    }\n",
       "</style>\n",
       "<table border=\"1\" class=\"dataframe\">\n",
       "  <thead>\n",
       "    <tr style=\"text-align: right;\">\n",
       "      <th></th>\n",
       "      <th>posts</th>\n",
       "      <th>labels</th>\n",
       "    </tr>\n",
       "  </thead>\n",
       "  <tbody>\n",
       "    <tr>\n",
       "      <th>17</th>\n",
       "      <td>I'm doing a report on whether or not witnessin...</td>\n",
       "      <td>abuse</td>\n",
       "    </tr>\n",
       "    <tr>\n",
       "      <th>38</th>\n",
       "      <td>PTSD is NOT just for Veterans! I find it very ...</td>\n",
       "      <td>abuse</td>\n",
       "    </tr>\n",
       "    <tr>\n",
       "      <th>161</th>\n",
       "      <td>NS Court Gives Kids to Abusive Dad https://www...</td>\n",
       "      <td>abuse</td>\n",
       "    </tr>\n",
       "    <tr>\n",
       "      <th>201</th>\n",
       "      <td>Lets exchange pictures of fruit [Have you some...</td>\n",
       "      <td>non_abuse</td>\n",
       "    </tr>\n",
       "    <tr>\n",
       "      <th>261</th>\n",
       "      <td>Could my dad have a mental illness? My dad bel...</td>\n",
       "      <td>abuse</td>\n",
       "    </tr>\n",
       "    <tr>\n",
       "      <th>363</th>\n",
       "      <td>Differences between forums for estranged paren...</td>\n",
       "      <td>abuse</td>\n",
       "    </tr>\n",
       "    <tr>\n",
       "      <th>421</th>\n",
       "      <td>Was your abuser a \"punisher?\" http://www.psych...</td>\n",
       "      <td>abuse</td>\n",
       "    </tr>\n",
       "    <tr>\n",
       "      <th>566</th>\n",
       "      <td>happy birthday to me indeed [tw: sexual assaul...</td>\n",
       "      <td>abuse</td>\n",
       "    </tr>\n",
       "    <tr>\n",
       "      <th>625</th>\n",
       "      <td>\"Apologies are meant to convey that the behavi...</td>\n",
       "      <td>abuse</td>\n",
       "    </tr>\n",
       "    <tr>\n",
       "      <th>661</th>\n",
       "      <td>Does Utah have a domestic violence epidemic? T...</td>\n",
       "      <td>abuse</td>\n",
       "    </tr>\n",
       "    <tr>\n",
       "      <th>713</th>\n",
       "      <td>\".....the idea that individuals are willing to...</td>\n",
       "      <td>abuse</td>\n",
       "    </tr>\n",
       "    <tr>\n",
       "      <th>767</th>\n",
       "      <td>\"In the presence of primary aggression, couple...</td>\n",
       "      <td>abuse</td>\n",
       "    </tr>\n",
       "    <tr>\n",
       "      <th>786</th>\n",
       "      <td>The Truth About Estrangement I was reading [th...</td>\n",
       "      <td>abuse</td>\n",
       "    </tr>\n",
       "    <tr>\n",
       "      <th>891</th>\n",
       "      <td>I need some advice I have a extremely hard tim...</td>\n",
       "      <td>non_abuse</td>\n",
       "    </tr>\n",
       "    <tr>\n",
       "      <th>896</th>\n",
       "      <td>Worried I might have MS or other debilitating ...</td>\n",
       "      <td>non_abuse</td>\n",
       "    </tr>\n",
       "  </tbody>\n",
       "</table>\n",
       "</div>"
      ],
      "text/plain": [
       "                                                 posts     labels\n",
       "17   I'm doing a report on whether or not witnessin...      abuse\n",
       "38   PTSD is NOT just for Veterans! I find it very ...      abuse\n",
       "161  NS Court Gives Kids to Abusive Dad https://www...      abuse\n",
       "201  Lets exchange pictures of fruit [Have you some...  non_abuse\n",
       "261  Could my dad have a mental illness? My dad bel...      abuse\n",
       "363  Differences between forums for estranged paren...      abuse\n",
       "421  Was your abuser a \"punisher?\" http://www.psych...      abuse\n",
       "566  happy birthday to me indeed [tw: sexual assaul...      abuse\n",
       "625  \"Apologies are meant to convey that the behavi...      abuse\n",
       "661  Does Utah have a domestic violence epidemic? T...      abuse\n",
       "713  \".....the idea that individuals are willing to...      abuse\n",
       "767  \"In the presence of primary aggression, couple...      abuse\n",
       "786  The Truth About Estrangement I was reading [th...      abuse\n",
       "891  I need some advice I have a extremely hard tim...  non_abuse\n",
       "896  Worried I might have MS or other debilitating ...  non_abuse"
      ]
     },
     "execution_count": 50,
     "metadata": {},
     "output_type": "execute_result"
    }
   ],
   "source": [
    "df[df.flesch_score_posts<40][['posts', 'labels']]"
   ]
  },
  {
   "cell_type": "code",
   "execution_count": 51,
   "id": "31151f54-f71a-4523-8912-f2fd5c9f8df8",
   "metadata": {},
   "outputs": [
    {
     "data": {
      "text/html": [
       "<div>\n",
       "<style scoped>\n",
       "    .dataframe tbody tr th:only-of-type {\n",
       "        vertical-align: middle;\n",
       "    }\n",
       "\n",
       "    .dataframe tbody tr th {\n",
       "        vertical-align: top;\n",
       "    }\n",
       "\n",
       "    .dataframe thead th {\n",
       "        text-align: right;\n",
       "    }\n",
       "</style>\n",
       "<table border=\"1\" class=\"dataframe\">\n",
       "  <thead>\n",
       "    <tr style=\"text-align: right;\">\n",
       "      <th></th>\n",
       "      <th>posts</th>\n",
       "      <th>labels</th>\n",
       "    </tr>\n",
       "  </thead>\n",
       "  <tbody>\n",
       "    <tr>\n",
       "      <th>68</th>\n",
       "      <td>I can't tell if the nausea I'm having is anxie...</td>\n",
       "      <td>non_abuse</td>\n",
       "    </tr>\n",
       "    <tr>\n",
       "      <th>85</th>\n",
       "      <td>Lolita is not a seductress. \"Lolita, in the bo...</td>\n",
       "      <td>abuse</td>\n",
       "    </tr>\n",
       "    <tr>\n",
       "      <th>146</th>\n",
       "      <td>Question for survivors from a baby lawyer. Hi ...</td>\n",
       "      <td>abuse</td>\n",
       "    </tr>\n",
       "    <tr>\n",
       "      <th>707</th>\n",
       "      <td>Anxiety books? Any suggestions on a good self ...</td>\n",
       "      <td>non_abuse</td>\n",
       "    </tr>\n",
       "    <tr>\n",
       "      <th>767</th>\n",
       "      <td>\"In the presence of primary aggression, couple...</td>\n",
       "      <td>abuse</td>\n",
       "    </tr>\n",
       "    <tr>\n",
       "      <th>919</th>\n",
       "      <td>Triggered a year ago, then triggered again rec...</td>\n",
       "      <td>abuse</td>\n",
       "    </tr>\n",
       "    <tr>\n",
       "      <th>943</th>\n",
       "      <td>Should we suspect sexual abuse, or is this par...</td>\n",
       "      <td>abuse</td>\n",
       "    </tr>\n",
       "    <tr>\n",
       "      <th>948</th>\n",
       "      <td>What is a good national organization I could r...</td>\n",
       "      <td>abuse</td>\n",
       "    </tr>\n",
       "    <tr>\n",
       "      <th>954</th>\n",
       "      <td>Birthdays are awesome. Domestic violence sucks...</td>\n",
       "      <td>abuse</td>\n",
       "    </tr>\n",
       "    <tr>\n",
       "      <th>1077</th>\n",
       "      <td>I just can't take it when people are wrong! I ...</td>\n",
       "      <td>non_abuse</td>\n",
       "    </tr>\n",
       "  </tbody>\n",
       "</table>\n",
       "</div>"
      ],
      "text/plain": [
       "                                                  posts     labels\n",
       "68    I can't tell if the nausea I'm having is anxie...  non_abuse\n",
       "85    Lolita is not a seductress. \"Lolita, in the bo...      abuse\n",
       "146   Question for survivors from a baby lawyer. Hi ...      abuse\n",
       "707   Anxiety books? Any suggestions on a good self ...  non_abuse\n",
       "767   \"In the presence of primary aggression, couple...      abuse\n",
       "919   Triggered a year ago, then triggered again rec...      abuse\n",
       "943   Should we suspect sexual abuse, or is this par...      abuse\n",
       "948   What is a good national organization I could r...      abuse\n",
       "954   Birthdays are awesome. Domestic violence sucks...      abuse\n",
       "1077  I just can't take it when people are wrong! I ...  non_abuse"
      ]
     },
     "execution_count": 51,
     "metadata": {},
     "output_type": "execute_result"
    }
   ],
   "source": [
    "df[df.flesch_score_comments<40][['posts', 'labels']]"
   ]
  },
  {
   "cell_type": "code",
   "execution_count": 52,
   "id": "bc2b54ed-ae13-4cc9-98e6-e91b80d8bf08",
   "metadata": {},
   "outputs": [
    {
     "data": {
      "text/plain": [
       "'NS Court Gives Kids to Abusive Dad https://www.indiegogo.com/simple_campaigns/ns-court-gives-kids-to-abusive-dad/preview\\n\\nhttps://funds.gofundme.com/dashboard'"
      ]
     },
     "execution_count": 52,
     "metadata": {},
     "output_type": "execute_result"
    }
   ],
   "source": [
    "df.posts[161]"
   ]
  },
  {
   "cell_type": "code",
   "execution_count": 53,
   "id": "f8863e2a-8025-48da-aa3b-03a45da30fd8",
   "metadata": {},
   "outputs": [
    {
     "data": {
      "text/plain": [
       "'Does Utah have a domestic violence epidemic? There are some alarming stats in this article. [www.ogden-attorney.com/domestic-violence-in-utah-is-growing-out-of-control/](http://www.ogden-attorney.com/domestic-violence-in-utah-is-growing-out-of-control/)'"
      ]
     },
     "execution_count": 53,
     "metadata": {},
     "output_type": "execute_result"
    }
   ],
   "source": [
    "df.posts[661]"
   ]
  },
  {
   "cell_type": "code",
   "execution_count": 54,
   "id": "c2731e0f-1519-4448-bfba-3a81ab42581f",
   "metadata": {},
   "outputs": [
    {
     "data": {
      "text/plain": [
       "[\"I've recently read this book, if you are actually interested in fixing this problem, this would really help.\",\n",
       " 'http://www.amazon.com/Personality-Plus-Understand-Understanding-Yourself/dp/080075445X']"
      ]
     },
     "execution_count": 54,
     "metadata": {},
     "output_type": "execute_result"
    }
   ],
   "source": [
    "df.comments[1077]"
   ]
  },
  {
   "cell_type": "markdown",
   "id": "3c61570b-195a-4bb0-a678-9e9efd3710c6",
   "metadata": {},
   "source": [
    "The readability of posts are mostly in the 70-79 range, categorized as a fairly easy reading difficulty. If we discount the urls, the reading scores would be higher."
   ]
  },
  {
   "cell_type": "code",
   "execution_count": 55,
   "id": "571f18ac-6638-452b-be1d-eb003b99d101",
   "metadata": {},
   "outputs": [
    {
     "data": {
      "text/plain": [
       "Ttest_indResult(statistic=-4.136929021119528, pvalue=3.787615631245558e-05)"
      ]
     },
     "execution_count": 55,
     "metadata": {},
     "output_type": "execute_result"
    }
   ],
   "source": [
    "from scipy.stats import ttest_ind\n",
    "ttest_ind(df[df.labels=='abuse'].flesch_score_posts, df[df.labels=='non_abuse'].flesch_score_posts)"
   ]
  },
  {
   "cell_type": "code",
   "execution_count": 56,
   "id": "13be4688-10ac-4a2c-a5ff-191a570761d6",
   "metadata": {},
   "outputs": [
    {
     "data": {
      "text/plain": [
       "Ttest_indResult(statistic=-3.557702712967931, pvalue=0.000390020188741754)"
      ]
     },
     "execution_count": 56,
     "metadata": {},
     "output_type": "execute_result"
    }
   ],
   "source": [
    "ttest_ind(df[df.labels=='abuse'].flesch_score_comments, df[df.labels=='non_abuse'].flesch_score_comments)"
   ]
  },
  {
   "cell_type": "markdown",
   "id": "275a5e71-1c54-45cd-aa39-fb27ab2e559f",
   "metadata": {},
   "source": [
    "$H_0$: The difference in means of flesch scores between abuse and non-abuse posts/comments is 0.\n",
    "\n",
    "$H_A$: The difference in eans of flesch scores between abuse and non-abuse posts/comments is not 0.\n",
    "\n",
    "We can test for a similar one-tailed hypothesis to see if flesch score means in non-abuse posts/comments is higher by dividing the p-value by 2."
   ]
  },
  {
   "cell_type": "markdown",
   "id": "03b31e0b-ed9d-48cf-b57e-7010f9c1b11a",
   "metadata": {},
   "source": [
    "There is sufficient statistical evidence that means of flesch scores in non-abuse post/comments is higher."
   ]
  },
  {
   "cell_type": "markdown",
   "id": "3d5bb8e0-5d88-4f5c-a498-8b6de4809925",
   "metadata": {},
   "source": [
    "## Capitalization"
   ]
  },
  {
   "cell_type": "code",
   "execution_count": 57,
   "id": "02a5dab3-5f13-42af-8eea-e21371fbd2a3",
   "metadata": {},
   "outputs": [
    {
     "data": {
      "text/html": [
       "<div>\n",
       "<style scoped>\n",
       "    .dataframe tbody tr th:only-of-type {\n",
       "        vertical-align: middle;\n",
       "    }\n",
       "\n",
       "    .dataframe tbody tr th {\n",
       "        vertical-align: top;\n",
       "    }\n",
       "\n",
       "    .dataframe thead th {\n",
       "        text-align: right;\n",
       "    }\n",
       "</style>\n",
       "<table border=\"1\" class=\"dataframe\">\n",
       "  <thead>\n",
       "    <tr style=\"text-align: right;\">\n",
       "      <th></th>\n",
       "      <th>post_caps</th>\n",
       "      <th>comments_caps</th>\n",
       "    </tr>\n",
       "  </thead>\n",
       "  <tbody>\n",
       "    <tr>\n",
       "      <th>count</th>\n",
       "      <td>1104.000000</td>\n",
       "      <td>1104.000000</td>\n",
       "    </tr>\n",
       "    <tr>\n",
       "      <th>mean</th>\n",
       "      <td>0.033263</td>\n",
       "      <td>0.029457</td>\n",
       "    </tr>\n",
       "    <tr>\n",
       "      <th>std</th>\n",
       "      <td>0.014679</td>\n",
       "      <td>0.020261</td>\n",
       "    </tr>\n",
       "    <tr>\n",
       "      <th>min</th>\n",
       "      <td>0.000000</td>\n",
       "      <td>0.000000</td>\n",
       "    </tr>\n",
       "    <tr>\n",
       "      <th>25%</th>\n",
       "      <td>0.025439</td>\n",
       "      <td>0.020445</td>\n",
       "    </tr>\n",
       "    <tr>\n",
       "      <th>50%</th>\n",
       "      <td>0.031120</td>\n",
       "      <td>0.025799</td>\n",
       "    </tr>\n",
       "    <tr>\n",
       "      <th>75%</th>\n",
       "      <td>0.038674</td>\n",
       "      <td>0.032640</td>\n",
       "    </tr>\n",
       "    <tr>\n",
       "      <th>max</th>\n",
       "      <td>0.159763</td>\n",
       "      <td>0.272727</td>\n",
       "    </tr>\n",
       "  </tbody>\n",
       "</table>\n",
       "</div>"
      ],
      "text/plain": [
       "         post_caps  comments_caps\n",
       "count  1104.000000    1104.000000\n",
       "mean      0.033263       0.029457\n",
       "std       0.014679       0.020261\n",
       "min       0.000000       0.000000\n",
       "25%       0.025439       0.020445\n",
       "50%       0.031120       0.025799\n",
       "75%       0.038674       0.032640\n",
       "max       0.159763       0.272727"
      ]
     },
     "execution_count": 57,
     "metadata": {},
     "output_type": "execute_result"
    }
   ],
   "source": [
    "df[['post_caps', 'comments_caps']].describe()"
   ]
  },
  {
   "cell_type": "code",
   "execution_count": 58,
   "id": "a41feb0a-4474-4fd7-8d90-ecb03c593e42",
   "metadata": {},
   "outputs": [
    {
     "data": {
      "text/html": [
       "<div>\n",
       "<style scoped>\n",
       "    .dataframe tbody tr th:only-of-type {\n",
       "        vertical-align: middle;\n",
       "    }\n",
       "\n",
       "    .dataframe tbody tr th {\n",
       "        vertical-align: top;\n",
       "    }\n",
       "\n",
       "    .dataframe thead tr th {\n",
       "        text-align: left;\n",
       "    }\n",
       "\n",
       "    .dataframe thead tr:last-of-type th {\n",
       "        text-align: right;\n",
       "    }\n",
       "</style>\n",
       "<table border=\"1\" class=\"dataframe\">\n",
       "  <thead>\n",
       "    <tr>\n",
       "      <th></th>\n",
       "      <th colspan=\"8\" halign=\"left\">post_caps</th>\n",
       "      <th colspan=\"8\" halign=\"left\">comments_caps</th>\n",
       "    </tr>\n",
       "    <tr>\n",
       "      <th></th>\n",
       "      <th>count</th>\n",
       "      <th>mean</th>\n",
       "      <th>std</th>\n",
       "      <th>min</th>\n",
       "      <th>25%</th>\n",
       "      <th>50%</th>\n",
       "      <th>75%</th>\n",
       "      <th>max</th>\n",
       "      <th>count</th>\n",
       "      <th>mean</th>\n",
       "      <th>std</th>\n",
       "      <th>min</th>\n",
       "      <th>25%</th>\n",
       "      <th>50%</th>\n",
       "      <th>75%</th>\n",
       "      <th>max</th>\n",
       "    </tr>\n",
       "    <tr>\n",
       "      <th>labels</th>\n",
       "      <th></th>\n",
       "      <th></th>\n",
       "      <th></th>\n",
       "      <th></th>\n",
       "      <th></th>\n",
       "      <th></th>\n",
       "      <th></th>\n",
       "      <th></th>\n",
       "      <th></th>\n",
       "      <th></th>\n",
       "      <th></th>\n",
       "      <th></th>\n",
       "      <th></th>\n",
       "      <th></th>\n",
       "      <th></th>\n",
       "      <th></th>\n",
       "    </tr>\n",
       "  </thead>\n",
       "  <tbody>\n",
       "    <tr>\n",
       "      <th>abuse</th>\n",
       "      <td>552.0</td>\n",
       "      <td>0.030893</td>\n",
       "      <td>0.012046</td>\n",
       "      <td>0.0</td>\n",
       "      <td>0.024638</td>\n",
       "      <td>0.029111</td>\n",
       "      <td>0.035635</td>\n",
       "      <td>0.109677</td>\n",
       "      <td>552.0</td>\n",
       "      <td>0.027853</td>\n",
       "      <td>0.020657</td>\n",
       "      <td>0.0</td>\n",
       "      <td>0.019372</td>\n",
       "      <td>0.024238</td>\n",
       "      <td>0.030303</td>\n",
       "      <td>0.272727</td>\n",
       "    </tr>\n",
       "    <tr>\n",
       "      <th>non_abuse</th>\n",
       "      <td>552.0</td>\n",
       "      <td>0.035633</td>\n",
       "      <td>0.016582</td>\n",
       "      <td>0.0</td>\n",
       "      <td>0.026891</td>\n",
       "      <td>0.032914</td>\n",
       "      <td>0.041363</td>\n",
       "      <td>0.159763</td>\n",
       "      <td>552.0</td>\n",
       "      <td>0.031061</td>\n",
       "      <td>0.019744</td>\n",
       "      <td>0.0</td>\n",
       "      <td>0.021549</td>\n",
       "      <td>0.027669</td>\n",
       "      <td>0.035462</td>\n",
       "      <td>0.250000</td>\n",
       "    </tr>\n",
       "  </tbody>\n",
       "</table>\n",
       "</div>"
      ],
      "text/plain": [
       "          post_caps                                                         \\\n",
       "              count      mean       std  min       25%       50%       75%   \n",
       "labels                                                                       \n",
       "abuse         552.0  0.030893  0.012046  0.0  0.024638  0.029111  0.035635   \n",
       "non_abuse     552.0  0.035633  0.016582  0.0  0.026891  0.032914  0.041363   \n",
       "\n",
       "                    comments_caps                                     \\\n",
       "                max         count      mean       std  min       25%   \n",
       "labels                                                                 \n",
       "abuse      0.109677         552.0  0.027853  0.020657  0.0  0.019372   \n",
       "non_abuse  0.159763         552.0  0.031061  0.019744  0.0  0.021549   \n",
       "\n",
       "                                         \n",
       "                50%       75%       max  \n",
       "labels                                   \n",
       "abuse      0.024238  0.030303  0.272727  \n",
       "non_abuse  0.027669  0.035462  0.250000  "
      ]
     },
     "execution_count": 58,
     "metadata": {},
     "output_type": "execute_result"
    }
   ],
   "source": [
    "df.groupby(by=['labels'])[['post_caps', 'comments_caps']].describe()"
   ]
  },
  {
   "cell_type": "code",
   "execution_count": 59,
   "id": "585ec1c7-58a7-42b6-b243-06579c210c71",
   "metadata": {},
   "outputs": [
    {
     "data": {
      "text/html": [
       "<div>\n",
       "<style scoped>\n",
       "    .dataframe tbody tr th:only-of-type {\n",
       "        vertical-align: middle;\n",
       "    }\n",
       "\n",
       "    .dataframe tbody tr th {\n",
       "        vertical-align: top;\n",
       "    }\n",
       "\n",
       "    .dataframe thead th {\n",
       "        text-align: right;\n",
       "    }\n",
       "</style>\n",
       "<table border=\"1\" class=\"dataframe\">\n",
       "  <thead>\n",
       "    <tr style=\"text-align: right;\">\n",
       "      <th></th>\n",
       "      <th>posts</th>\n",
       "      <th>labels</th>\n",
       "    </tr>\n",
       "  </thead>\n",
       "  <tbody>\n",
       "    <tr>\n",
       "      <th>30</th>\n",
       "      <td>Cards Against Humanity! (Again Again!) Alright...</td>\n",
       "      <td>non_abuse</td>\n",
       "    </tr>\n",
       "    <tr>\n",
       "      <th>110</th>\n",
       "      <td>I REALLY just want someone to talk to. Things ...</td>\n",
       "      <td>non_abuse</td>\n",
       "    </tr>\n",
       "    <tr>\n",
       "      <th>266</th>\n",
       "      <td>I covered The Gardener by The Tallest Man On E...</td>\n",
       "      <td>non_abuse</td>\n",
       "    </tr>\n",
       "    <tr>\n",
       "      <th>476</th>\n",
       "      <td>THERE'S A HOLE IN MY SIDEWALK Autobiography in...</td>\n",
       "      <td>abuse</td>\n",
       "    </tr>\n",
       "    <tr>\n",
       "      <th>531</th>\n",
       "      <td>AHHHHHHHHH Just needed to scream so FUCKING TE...</td>\n",
       "      <td>non_abuse</td>\n",
       "    </tr>\n",
       "    <tr>\n",
       "      <th>778</th>\n",
       "      <td>\"My business will be shoving that phone up you...</td>\n",
       "      <td>non_abuse</td>\n",
       "    </tr>\n",
       "    <tr>\n",
       "      <th>816</th>\n",
       "      <td>Our furnace is broken and its 55 F in our hous...</td>\n",
       "      <td>non_abuse</td>\n",
       "    </tr>\n",
       "    <tr>\n",
       "      <th>1086</th>\n",
       "      <td>Poor me! Hugs for me!? I've had a bad day - an...</td>\n",
       "      <td>non_abuse</td>\n",
       "    </tr>\n",
       "  </tbody>\n",
       "</table>\n",
       "</div>"
      ],
      "text/plain": [
       "                                                  posts     labels\n",
       "30    Cards Against Humanity! (Again Again!) Alright...  non_abuse\n",
       "110   I REALLY just want someone to talk to. Things ...  non_abuse\n",
       "266   I covered The Gardener by The Tallest Man On E...  non_abuse\n",
       "476   THERE'S A HOLE IN MY SIDEWALK Autobiography in...      abuse\n",
       "531   AHHHHHHHHH Just needed to scream so FUCKING TE...  non_abuse\n",
       "778   \"My business will be shoving that phone up you...  non_abuse\n",
       "816   Our furnace is broken and its 55 F in our hous...  non_abuse\n",
       "1086  Poor me! Hugs for me!? I've had a bad day - an...  non_abuse"
      ]
     },
     "execution_count": 59,
     "metadata": {},
     "output_type": "execute_result"
    }
   ],
   "source": [
    "df[df.post_caps>0.1][['posts', 'labels']]"
   ]
  },
  {
   "cell_type": "code",
   "execution_count": 60,
   "id": "d1f05a95-17de-4dd5-9c11-6c41a142a3a5",
   "metadata": {},
   "outputs": [
    {
     "data": {
      "text/plain": [
       "Ttest_indResult(statistic=-5.433332508260847, pvalue=6.805128926886908e-08)"
      ]
     },
     "execution_count": 60,
     "metadata": {},
     "output_type": "execute_result"
    }
   ],
   "source": [
    "ttest_ind(df[df.labels=='abuse'].post_caps, df[df.labels=='non_abuse'].post_caps)"
   ]
  },
  {
   "cell_type": "code",
   "execution_count": 61,
   "id": "2e7dd914-e02f-4574-805f-d13dd01667f0",
   "metadata": {},
   "outputs": [
    {
     "data": {
      "text/plain": [
       "Ttest_indResult(statistic=-2.6373270248545566, pvalue=0.008473838907834926)"
      ]
     },
     "execution_count": 61,
     "metadata": {},
     "output_type": "execute_result"
    }
   ],
   "source": [
    "ttest_ind(df[df.labels=='abuse'].comments_caps, df[df.labels=='non_abuse'].comments_caps)"
   ]
  },
  {
   "cell_type": "markdown",
   "id": "37c1027c-d5e0-4bd5-b54b-f425c163df08",
   "metadata": {},
   "source": [
    "$H_0$: The difference in means of % caps between abuse and non-abuse posts/comments is 0.\n",
    "\n",
    "$H_A$: The difference in means of % caps between abuse and non-abuse posts/comments is not 0.\n",
    "\n",
    "We can test for a similar one-tailed hypothesis to see if % caps means in non-abuse posts/comments is higher by dividing the p-value by 2."
   ]
  },
  {
   "cell_type": "markdown",
   "id": "37c0aca9-e176-47d7-aaa6-320523b8a27c",
   "metadata": {},
   "source": [
    "There is sufficient statistical evidence that % of capitalization letters in non-abuse post/comments is higher than abuse posts/comments."
   ]
  },
  {
   "cell_type": "markdown",
   "id": "2be7d0e3-70e8-4ba0-b7ec-1f4a66f8d9bd",
   "metadata": {
    "tags": []
   },
   "source": [
    "## Posts"
   ]
  },
  {
   "cell_type": "code",
   "execution_count": 62,
   "id": "37e2a15d-a92a-4562-a83a-b07e1850c1e4",
   "metadata": {},
   "outputs": [
    {
     "data": {
      "text/plain": [
       "count    1104.000000\n",
       "mean     1082.455616\n",
       "std       751.660994\n",
       "min        13.000000\n",
       "25%       473.750000\n",
       "50%       889.000000\n",
       "75%      1538.500000\n",
       "max      4291.000000\n",
       "Name: post_char_count, dtype: float64"
      ]
     },
     "execution_count": 62,
     "metadata": {},
     "output_type": "execute_result"
    }
   ],
   "source": [
    "df.post_char_count.describe()"
   ]
  },
  {
   "cell_type": "code",
   "execution_count": 63,
   "id": "d8b4dd3a-deff-4427-9d4f-df9578364f71",
   "metadata": {},
   "outputs": [
    {
     "data": {
      "image/png": "[encoded data removed]",
      "text/plain": [
       "<Figure size 1500x200 with 1 Axes>"
      ]
     },
     "metadata": {},
     "output_type": "display_data"
    }
   ],
   "source": [
    "sns.set(rc={'figure.figsize':(15,2)})\n",
    "b=sns.boxplot(x='post_char_count', data=df, showmeans=True, showfliers = False, color='mediumslateblue', medianprops={'color':'lavenderblush'}, meanprops={'marker':'.','markerfacecolor':'lavender','markeredgecolor':'black'})\n",
    "b.set(xlabel='Number of Characters Per Post', title='Characters per Post in '+str(len(df.posts))+' Reddit Submission Posts');"
   ]
  },
  {
   "cell_type": "code",
   "execution_count": 64,
   "id": "d3ad26a6-ec04-4d2e-ba9c-647bf2e89e0d",
   "metadata": {},
   "outputs": [
    {
     "data": {
      "text/plain": [
       "count    1104.000000\n",
       "mean      212.663043\n",
       "std       148.805917\n",
       "min         4.000000\n",
       "25%        91.000000\n",
       "50%       176.000000\n",
       "75%       305.000000\n",
       "max       816.000000\n",
       "Name: post_word_count, dtype: float64"
      ]
     },
     "execution_count": 64,
     "metadata": {},
     "output_type": "execute_result"
    }
   ],
   "source": [
    "df.post_word_count.describe()"
   ]
  },
  {
   "cell_type": "code",
   "execution_count": 65,
   "id": "366df147-09af-4c20-aa7c-4e2598ee0ffc",
   "metadata": {},
   "outputs": [
    {
     "data": {
      "image/png": "[encoded data removed]",
      "text/plain": [
       "<Figure size 1500x200 with 1 Axes>"
      ]
     },
     "metadata": {},
     "output_type": "display_data"
    }
   ],
   "source": [
    "sns.set(rc={'figure.figsize':(15,2)})\n",
    "b=sns.boxplot(x='post_word_count', data=df, showmeans=True, showfliers = False, color='mediumslateblue', medianprops={'color':'lavenderblush'}, meanprops={'marker':'.','markerfacecolor':'lavender','markeredgecolor':'black'})\n",
    "b.set(xlabel='Number of Words Per Post', title='Words per Post in '+str(len(df.posts))+' Reddit Submission Posts');"
   ]
  },
  {
   "cell_type": "code",
   "execution_count": 66,
   "id": "58f1303b-6a5c-4e45-9978-5ff1227d712f",
   "metadata": {},
   "outputs": [
    {
     "data": {
      "text/html": [
       "<div>\n",
       "<style scoped>\n",
       "    .dataframe tbody tr th:only-of-type {\n",
       "        vertical-align: middle;\n",
       "    }\n",
       "\n",
       "    .dataframe tbody tr th {\n",
       "        vertical-align: top;\n",
       "    }\n",
       "\n",
       "    .dataframe thead th {\n",
       "        text-align: right;\n",
       "    }\n",
       "</style>\n",
       "<table border=\"1\" class=\"dataframe\">\n",
       "  <thead>\n",
       "    <tr style=\"text-align: right;\">\n",
       "      <th></th>\n",
       "      <th>labels</th>\n",
       "      <th>posts</th>\n",
       "    </tr>\n",
       "  </thead>\n",
       "  <tbody>\n",
       "    <tr>\n",
       "      <th>581</th>\n",
       "      <td>abuse</td>\n",
       "      <td>I love her but I cannot forgive her. How do I ...</td>\n",
       "    </tr>\n",
       "    <tr>\n",
       "      <th>623</th>\n",
       "      <td>non_abuse</td>\n",
       "      <td>Anger at every turn I am angry. That is fact. ...</td>\n",
       "    </tr>\n",
       "    <tr>\n",
       "      <th>728</th>\n",
       "      <td>abuse</td>\n",
       "      <td>Recently out of a physically and emotionally a...</td>\n",
       "    </tr>\n",
       "    <tr>\n",
       "      <th>812</th>\n",
       "      <td>non_abuse</td>\n",
       "      <td>I think I lost who I was and now I'm a monster...</td>\n",
       "    </tr>\n",
       "  </tbody>\n",
       "</table>\n",
       "</div>"
      ],
      "text/plain": [
       "        labels                                              posts\n",
       "581      abuse  I love her but I cannot forgive her. How do I ...\n",
       "623  non_abuse  Anger at every turn I am angry. That is fact. ...\n",
       "728      abuse  Recently out of a physically and emotionally a...\n",
       "812  non_abuse  I think I lost who I was and now I'm a monster..."
      ]
     },
     "execution_count": 66,
     "metadata": {},
     "output_type": "execute_result"
    }
   ],
   "source": [
    "df[df.post_word_count>680][['labels', 'posts']]"
   ]
  },
  {
   "cell_type": "code",
   "execution_count": 67,
   "id": "a6fb49cd-a2b5-4ded-b3c7-6ab93c8d0c12",
   "metadata": {},
   "outputs": [
    {
     "data": {
      "text/plain": [
       "count    1104.000000\n",
       "mean        5.123363\n",
       "std         0.349200\n",
       "min         3.250000\n",
       "25%         4.908129\n",
       "50%         5.075378\n",
       "75%         5.276905\n",
       "max         7.631579\n",
       "Name: post_avg_word_length, dtype: float64"
      ]
     },
     "execution_count": 67,
     "metadata": {},
     "output_type": "execute_result"
    }
   ],
   "source": [
    "#preserve the average length of words per post\n",
    "df['post_avg_word_length']=df.post_char_count/df.post_word_count\n",
    "df.post_avg_word_length.describe()"
   ]
  },
  {
   "cell_type": "code",
   "execution_count": 68,
   "id": "3a9bdccd-0fad-458c-a179-0162f1d75ffe",
   "metadata": {},
   "outputs": [
    {
     "data": {
      "image/png": "[encoded data removed]",
      "text/plain": [
       "<Figure size 1500x200 with 1 Axes>"
      ]
     },
     "metadata": {},
     "output_type": "display_data"
    }
   ],
   "source": [
    "sns.set(rc={'figure.figsize':(15,2)})\n",
    "b=sns.boxplot(x='post_avg_word_length', data=df, showmeans=True, showfliers = False, color='mediumslateblue', medianprops={'color':'lavenderblush'}, meanprops={'marker':'.','markerfacecolor':'lavender','markeredgecolor':'black'})\n",
    "b.set(xlabel='Average Word Length Per Post', title='Average Word Length Per Post in '+str(len(df.posts))+' Reddit Submission Posts');"
   ]
  },
  {
   "cell_type": "code",
   "execution_count": 69,
   "id": "749d67b8-7ccb-4718-9809-b80cb896ef10",
   "metadata": {},
   "outputs": [
    {
     "data": {
      "text/html": [
       "<div>\n",
       "<style scoped>\n",
       "    .dataframe tbody tr th:only-of-type {\n",
       "        vertical-align: middle;\n",
       "    }\n",
       "\n",
       "    .dataframe tbody tr th {\n",
       "        vertical-align: top;\n",
       "    }\n",
       "\n",
       "    .dataframe thead th {\n",
       "        text-align: right;\n",
       "    }\n",
       "</style>\n",
       "<table border=\"1\" class=\"dataframe\">\n",
       "  <thead>\n",
       "    <tr style=\"text-align: right;\">\n",
       "      <th></th>\n",
       "      <th>posts</th>\n",
       "      <th>labels</th>\n",
       "    </tr>\n",
       "  </thead>\n",
       "  <tbody>\n",
       "    <tr>\n",
       "      <th>363</th>\n",
       "      <td>Differences between forums for estranged paren...</td>\n",
       "      <td>abuse</td>\n",
       "    </tr>\n",
       "    <tr>\n",
       "      <th>767</th>\n",
       "      <td>\"In the presence of primary aggression, couple...</td>\n",
       "      <td>abuse</td>\n",
       "    </tr>\n",
       "  </tbody>\n",
       "</table>\n",
       "</div>"
      ],
      "text/plain": [
       "                                                 posts labels\n",
       "363  Differences between forums for estranged paren...  abuse\n",
       "767  \"In the presence of primary aggression, couple...  abuse"
      ]
     },
     "execution_count": 69,
     "metadata": {},
     "output_type": "execute_result"
    }
   ],
   "source": [
    "df[df.post_avg_word_length>7][['posts', 'labels']]"
   ]
  },
  {
   "cell_type": "code",
   "execution_count": 70,
   "id": "e2fa5ec1-67e4-4196-a6bb-db7bdfdbb07b",
   "metadata": {},
   "outputs": [
    {
     "data": {
      "text/plain": [
       "'\"In the presence of primary aggression, couples\\' therapy can become a tactic that actually makes the option of leaving the relationship less available to the survivor, which replicates the basic abusive maneuver.\" From [Abuse and Relationships: Couples Therapy](http://www.abuseandrelationships.org/Content/Survivors/couples_therapy.html)'"
      ]
     },
     "execution_count": 70,
     "metadata": {},
     "output_type": "execute_result"
    }
   ],
   "source": [
    "df.posts[767]"
   ]
  },
  {
   "cell_type": "code",
   "execution_count": 71,
   "id": "7f460805-2e34-46e7-9208-88fa6a576fa9",
   "metadata": {},
   "outputs": [
    {
     "data": {
      "text/plain": [
       "'Differences between forums for estranged parents and those for estranged children [Via Metafilter](http://www.metafilter.com/149244/The-abusers-side-of-the-story)\\n\\n---\\n\\n&gt; [Down the Rabbit Hole](http://www.issendai.com/psychology/estrangement/index.html) is a repository of observations about estranged parent support forums. It contains [comparisons of forum culture](http://www.issendai.com/psychology/estrangement/differences-between-forums.html) between discussion sites for estranged parents and those for children, [themes of discussion](http://www.issendai.com/psychology/estrangement/themes-our-children-want-to-hurt-us.html) found on estranged parent sites, and [possible reasons](http://www.issendai.com/psychology/estrangement/summary.html) estranged parent forums develop toxic dynamics.   \\n\\nInsightful and educational. Some topics might be triggering for some.'"
      ]
     },
     "execution_count": 71,
     "metadata": {},
     "output_type": "execute_result"
    }
   ],
   "source": [
    "df.posts[363]"
   ]
  },
  {
   "cell_type": "markdown",
   "id": "e01e838d-7085-47aa-8387-4fc4834e5faf",
   "metadata": {},
   "source": [
    "The outliers with the highest average word length contain urls, which have been standardized in a way that accounts for the domain name plus the string 'url'."
   ]
  },
  {
   "cell_type": "code",
   "execution_count": 72,
   "id": "00da80fb-1dc2-4203-822d-ef38428b9a17",
   "metadata": {},
   "outputs": [
    {
     "data": {
      "text/plain": [
       "949    hey what's up\n",
       "Name: posts, dtype: object"
      ]
     },
     "execution_count": 72,
     "metadata": {},
     "output_type": "execute_result"
    }
   ],
   "source": [
    "df[df.post_avg_word_length<4].posts"
   ]
  },
  {
   "cell_type": "code",
   "execution_count": 73,
   "id": "61fe7013-525f-4862-9f3e-e5e6196d0146",
   "metadata": {},
   "outputs": [
    {
     "data": {
      "image/png": "[encoded data removed]",
      "text/plain": [
       "<Figure size 600x400 with 1 Axes>"
      ]
     },
     "metadata": {},
     "output_type": "display_data"
    }
   ],
   "source": [
    "sns.set(rc={'figure.figsize':(6,4)})\n",
    "bar=sns.barplot(x='labels', y='post_char_count', data=df)\n",
    "bar.set(xlabel='Type', ylabel='Number of Characters Per Post', title='Post Length (Characters) Per Type of Submission');"
   ]
  },
  {
   "cell_type": "code",
   "execution_count": 74,
   "id": "e5f30381-5f7a-48ca-a4b5-ef2039c28ed3",
   "metadata": {},
   "outputs": [
    {
     "data": {
      "image/png": "[encoded data removed]",
      "text/plain": [
       "<Figure size 600x400 with 1 Axes>"
      ]
     },
     "metadata": {},
     "output_type": "display_data"
    },
    {
     "data": {
      "image/png": "[encoded data removed]",
      "text/plain": [
       "<Figure size 500x500 with 1 Axes>"
      ]
     },
     "metadata": {},
     "output_type": "display_data"
    }
   ],
   "source": [
    "sns.set(rc={'figure.figsize':(6,4)})\n",
    "ax1=sns.barplot(x='labels', y='post_word_count', data=df)\n",
    "ax1.set(xlabel='Type', ylabel='Number of Words per Post', title='Post Length (Words) per Type of Submission')\n",
    "ax2=sns.catplot(x='labels', y='post_word_count', data=df, kind='box', ax=ax2, showfliers = False)\n",
    "ax2.set(xlabel='Type', ylabel='Number of Words per Post', title='Post Length (Words) per Type of Submission');"
   ]
  },
  {
   "cell_type": "code",
   "execution_count": 75,
   "id": "4a49a96b-ca94-4363-b012-b28a4d007ca3",
   "metadata": {},
   "outputs": [
    {
     "data": {
      "text/html": [
       "<div>\n",
       "<style scoped>\n",
       "    .dataframe tbody tr th:only-of-type {\n",
       "        vertical-align: middle;\n",
       "    }\n",
       "\n",
       "    .dataframe tbody tr th {\n",
       "        vertical-align: top;\n",
       "    }\n",
       "\n",
       "    .dataframe thead th {\n",
       "        text-align: right;\n",
       "    }\n",
       "</style>\n",
       "<table border=\"1\" class=\"dataframe\">\n",
       "  <thead>\n",
       "    <tr style=\"text-align: right;\">\n",
       "      <th></th>\n",
       "      <th>count</th>\n",
       "      <th>mean</th>\n",
       "      <th>std</th>\n",
       "      <th>min</th>\n",
       "      <th>25%</th>\n",
       "      <th>50%</th>\n",
       "      <th>75%</th>\n",
       "      <th>max</th>\n",
       "    </tr>\n",
       "    <tr>\n",
       "      <th>labels</th>\n",
       "      <th></th>\n",
       "      <th></th>\n",
       "      <th></th>\n",
       "      <th></th>\n",
       "      <th></th>\n",
       "      <th></th>\n",
       "      <th></th>\n",
       "      <th></th>\n",
       "    </tr>\n",
       "  </thead>\n",
       "  <tbody>\n",
       "    <tr>\n",
       "      <th>abuse</th>\n",
       "      <td>552.0</td>\n",
       "      <td>5.163949</td>\n",
       "      <td>0.369961</td>\n",
       "      <td>4.287879</td>\n",
       "      <td>4.926024</td>\n",
       "      <td>5.095984</td>\n",
       "      <td>5.291648</td>\n",
       "      <td>7.631579</td>\n",
       "    </tr>\n",
       "    <tr>\n",
       "      <th>non_abuse</th>\n",
       "      <td>552.0</td>\n",
       "      <td>5.082776</td>\n",
       "      <td>0.322382</td>\n",
       "      <td>3.250000</td>\n",
       "      <td>4.894839</td>\n",
       "      <td>5.050956</td>\n",
       "      <td>5.249567</td>\n",
       "      <td>6.878788</td>\n",
       "    </tr>\n",
       "  </tbody>\n",
       "</table>\n",
       "</div>"
      ],
      "text/plain": [
       "           count      mean       std       min       25%       50%       75%  \\\n",
       "labels                                                                         \n",
       "abuse      552.0  5.163949  0.369961  4.287879  4.926024  5.095984  5.291648   \n",
       "non_abuse  552.0  5.082776  0.322382  3.250000  4.894839  5.050956  5.249567   \n",
       "\n",
       "                max  \n",
       "labels               \n",
       "abuse      7.631579  \n",
       "non_abuse  6.878788  "
      ]
     },
     "execution_count": 75,
     "metadata": {},
     "output_type": "execute_result"
    }
   ],
   "source": [
    "df.groupby(by=['labels']).post_avg_word_length.describe()"
   ]
  },
  {
   "cell_type": "code",
   "execution_count": 76,
   "id": "58fdcfc4-ae13-45b3-958f-7cd904a6e4c3",
   "metadata": {},
   "outputs": [
    {
     "data": {
      "image/png": "[encoded data removed]",
      "text/plain": [
       "<Figure size 600x400 with 1 Axes>"
      ]
     },
     "metadata": {},
     "output_type": "display_data"
    }
   ],
   "source": [
    "sns.set(rc={'figure.figsize':(6,4)})\n",
    "bar=sns.barplot(x='labels', y='post_avg_word_length', data=df)\n",
    "bar.set(xlabel='Type', ylabel='Average Word Length', title='Average Word Length in Posts Per Type of Submission');"
   ]
  },
  {
   "cell_type": "code",
   "execution_count": 77,
   "id": "197af014-a316-44ec-825a-082a7a061373",
   "metadata": {},
   "outputs": [
    {
     "data": {
      "text/plain": [
       "Ttest_indResult(statistic=3.886420866027959, pvalue=0.00010780242482072949)"
      ]
     },
     "execution_count": 77,
     "metadata": {},
     "output_type": "execute_result"
    }
   ],
   "source": [
    "ttest_ind(df[df.labels=='abuse'].post_avg_word_length, df[df.labels=='non_abuse'].post_avg_word_length)"
   ]
  },
  {
   "cell_type": "code",
   "execution_count": 78,
   "id": "2d5a576f-505c-40c1-9fa5-036fb83a078e",
   "metadata": {},
   "outputs": [
    {
     "data": {
      "text/plain": [
       "Ttest_indResult(statistic=6.933847503397608, pvalue=6.963332045837476e-12)"
      ]
     },
     "execution_count": 78,
     "metadata": {},
     "output_type": "execute_result"
    }
   ],
   "source": [
    "ttest_ind(df[df.labels=='abuse'].post_word_count, df[df.labels=='non_abuse'].post_word_count)"
   ]
  },
  {
   "cell_type": "markdown",
   "id": "e3b16db9-e367-4e06-8ed3-2ad3315fd199",
   "metadata": {},
   "source": [
    "Posts related to abuse are longer, containing more characters and words. The outliers that have the most word counts were equally labeled abuse or non-abuse."
   ]
  },
  {
   "cell_type": "markdown",
   "id": "dc5ed305-57e8-4beb-ae71-ed7141d27204",
   "metadata": {
    "tags": []
   },
   "source": [
    "## Comments"
   ]
  },
  {
   "cell_type": "code",
   "execution_count": 79,
   "id": "14f468d1-a449-4c6e-b9cc-e9862c01575f",
   "metadata": {},
   "outputs": [
    {
     "data": {
      "text/plain": [
       "count    1104.000000\n",
       "mean      256.657492\n",
       "std       180.975541\n",
       "min         5.000000\n",
       "25%       144.971154\n",
       "50%       221.704545\n",
       "75%       323.575000\n",
       "max      2302.000000\n",
       "Name: comments_char_count, dtype: float64"
      ]
     },
     "execution_count": 79,
     "metadata": {},
     "output_type": "execute_result"
    }
   ],
   "source": [
    "#divide by the number of comments to get the average number of characters in each comment\n",
    "df.comments_char_count=df.comments_char_count/df.comments_count\n",
    "df.comments_char_count.describe()"
   ]
  },
  {
   "cell_type": "code",
   "execution_count": 80,
   "id": "fbc5778e-ee04-4b74-97bd-d53dab387202",
   "metadata": {},
   "outputs": [
    {
     "data": {
      "image/png": "[encoded data removed]",
      "text/plain": [
       "<Figure size 1500x200 with 1 Axes>"
      ]
     },
     "metadata": {},
     "output_type": "display_data"
    }
   ],
   "source": [
    "sns.set(rc={'figure.figsize':(15,2)})\n",
    "b=sns.boxplot(x='comments_char_count', data=df, showfliers = False, showmeans=True, color='mediumslateblue', medianprops={'color':'lavenderblush'}, meanprops={'marker':'.','markerfacecolor':'lavender','markeredgecolor':'black'})\n",
    "b.set(xlabel='Number of Characters Per Post', title='Characters per Comment for '+ str(sum(df.comments_count))+ ' Comments under '+str(len(df.posts))+' Reddit Submission Posts');"
   ]
  },
  {
   "cell_type": "code",
   "execution_count": 81,
   "id": "23163836-f7b3-4f2e-b5c5-4f613f7ad9e3",
   "metadata": {},
   "outputs": [
    {
     "data": {
      "text/plain": [
       "count    1104.000000\n",
       "mean       49.488810\n",
       "std        34.603015\n",
       "min         1.000000\n",
       "25%        28.000000\n",
       "50%        42.208333\n",
       "75%        62.852273\n",
       "max       444.000000\n",
       "Name: comments_word_count, dtype: float64"
      ]
     },
     "execution_count": 81,
     "metadata": {},
     "output_type": "execute_result"
    }
   ],
   "source": [
    "#get average number of words in each comment\n",
    "df.comments_word_count=df.comments_word_count/df.comments_count\n",
    "df.comments_word_count.describe()"
   ]
  },
  {
   "cell_type": "code",
   "execution_count": 82,
   "id": "a5e31d35-6bfd-470f-8b6a-148fa278837f",
   "metadata": {
    "scrolled": true
   },
   "outputs": [
    {
     "data": {
      "image/png": "[encoded data removed]",
      "text/plain": [
       "<Figure size 1500x200 with 1 Axes>"
      ]
     },
     "metadata": {},
     "output_type": "display_data"
    }
   ],
   "source": [
    "sns.set(rc={'figure.figsize':(15,2)})\n",
    "b=sns.boxplot(x='comments_word_count', data=df, showmeans=True, showfliers = False, color='mediumslateblue', medianprops={'color':'lavenderblush'}, meanprops={'marker':'.','markerfacecolor':'lavender','markeredgecolor':'black'})\n",
    "b.set(xlabel='Number of Words Per Post', title='Words per Comment for '+ str(sum(df.comments_count))+ ' Comments under '+str(len(df.posts))+' Reddit Submission Posts');"
   ]
  },
  {
   "cell_type": "code",
   "execution_count": 83,
   "id": "076d4f79-a314-46da-bbbc-d1670fad5e81",
   "metadata": {},
   "outputs": [
    {
     "data": {
      "text/html": [
       "<div>\n",
       "<style scoped>\n",
       "    .dataframe tbody tr th:only-of-type {\n",
       "        vertical-align: middle;\n",
       "    }\n",
       "\n",
       "    .dataframe tbody tr th {\n",
       "        vertical-align: top;\n",
       "    }\n",
       "\n",
       "    .dataframe thead th {\n",
       "        text-align: right;\n",
       "    }\n",
       "</style>\n",
       "<table border=\"1\" class=\"dataframe\">\n",
       "  <thead>\n",
       "    <tr style=\"text-align: right;\">\n",
       "      <th></th>\n",
       "      <th>posts</th>\n",
       "      <th>comments</th>\n",
       "      <th>labels</th>\n",
       "      <th>comments_count</th>\n",
       "    </tr>\n",
       "  </thead>\n",
       "  <tbody>\n",
       "  </tbody>\n",
       "</table>\n",
       "</div>"
      ],
      "text/plain": [
       "Empty DataFrame\n",
       "Columns: [posts, comments, labels, comments_count]\n",
       "Index: []"
      ]
     },
     "execution_count": 83,
     "metadata": {},
     "output_type": "execute_result"
    }
   ],
   "source": [
    "df[df.comments_word_count>800][['posts', 'comments', 'labels', 'comments_count']]"
   ]
  },
  {
   "cell_type": "code",
   "execution_count": 84,
   "id": "b43390b5-5155-4c25-9b78-9637439110e7",
   "metadata": {},
   "outputs": [
    {
     "data": {
      "text/plain": [
       "count    1104.000000\n",
       "mean        7.846014\n",
       "std        11.898019\n",
       "min         1.000000\n",
       "25%         2.000000\n",
       "50%         5.000000\n",
       "75%         9.000000\n",
       "max       207.000000\n",
       "Name: comments_count, dtype: float64"
      ]
     },
     "execution_count": 84,
     "metadata": {},
     "output_type": "execute_result"
    }
   ],
   "source": [
    "df.comments_count.describe()"
   ]
  },
  {
   "cell_type": "code",
   "execution_count": 85,
   "id": "679a8e42-ac04-4f78-a26c-4e08bf71600d",
   "metadata": {},
   "outputs": [
    {
     "data": {
      "image/png": "[encoded data removed]",
      "text/plain": [
       "<Figure size 1500x200 with 1 Axes>"
      ]
     },
     "metadata": {},
     "output_type": "display_data"
    }
   ],
   "source": [
    "sns.set(rc={'figure.figsize':(15,2)})\n",
    "b=sns.boxplot(x='comments_count', data=df, showmeans=True, showfliers = False, color='mediumslateblue', medianprops={'color':'lavenderblush'}, meanprops={'marker':'.','markerfacecolor':'lavender','markeredgecolor':'black'})\n",
    "b.set(xlabel='Number of Comments Per Post', title=str(sum(df.comments_count))+' Comments Under ' + str(len(df.comments_count))+' Reddit Submission Posts');"
   ]
  },
  {
   "cell_type": "code",
   "execution_count": 86,
   "id": "8fa65311-9e1c-49ea-adef-647b0af79b6e",
   "metadata": {},
   "outputs": [
    {
     "data": {
      "text/html": [
       "<div>\n",
       "<style scoped>\n",
       "    .dataframe tbody tr th:only-of-type {\n",
       "        vertical-align: middle;\n",
       "    }\n",
       "\n",
       "    .dataframe tbody tr th {\n",
       "        vertical-align: top;\n",
       "    }\n",
       "\n",
       "    .dataframe thead th {\n",
       "        text-align: right;\n",
       "    }\n",
       "</style>\n",
       "<table border=\"1\" class=\"dataframe\">\n",
       "  <thead>\n",
       "    <tr style=\"text-align: right;\">\n",
       "      <th></th>\n",
       "      <th>posts</th>\n",
       "      <th>comments</th>\n",
       "      <th>labels</th>\n",
       "    </tr>\n",
       "  </thead>\n",
       "  <tbody>\n",
       "    <tr>\n",
       "      <th>40</th>\n",
       "      <td>Foodie Friday. Make me hungry Post a **photo**...</td>\n",
       "      <td>[No prob! [Here's a bonus pic of my desert](ht...</td>\n",
       "      <td>non_abuse</td>\n",
       "    </tr>\n",
       "    <tr>\n",
       "      <th>59</th>\n",
       "      <td>What kind of phone do you guys use? Like the t...</td>\n",
       "      <td>[Does the big screen and battery life make it ...</td>\n",
       "      <td>non_abuse</td>\n",
       "    </tr>\n",
       "    <tr>\n",
       "      <th>88</th>\n",
       "      <td>What do you love and hate about your name? I h...</td>\n",
       "      <td>[YES!! on the latter. I wish I was named Beeth...</td>\n",
       "      <td>non_abuse</td>\n",
       "    </tr>\n",
       "    <tr>\n",
       "      <th>125</th>\n",
       "      <td>What do you like to do in your free time? I li...</td>\n",
       "      <td>[I'm on NA and LAN! My summoner is Khanthulhu....</td>\n",
       "      <td>non_abuse</td>\n",
       "    </tr>\n",
       "    <tr>\n",
       "      <th>166</th>\n",
       "      <td>I've been sick for five days and am alone in t...</td>\n",
       "      <td>[Aren't we already?, Portlandia, I'm still you...</td>\n",
       "      <td>non_abuse</td>\n",
       "    </tr>\n",
       "    <tr>\n",
       "      <th>180</th>\n",
       "      <td>In this thread: songs that invoke massive feel...</td>\n",
       "      <td>[[Gowan: A Criminal Mind creeped me the fuck o...</td>\n",
       "      <td>non_abuse</td>\n",
       "    </tr>\n",
       "    <tr>\n",
       "      <th>278</th>\n",
       "      <td>I am so afraid to speak at my dad's funeral to...</td>\n",
       "      <td>[I totally agree on your point. The decision a...</td>\n",
       "      <td>non_abuse</td>\n",
       "    </tr>\n",
       "    <tr>\n",
       "      <th>300</th>\n",
       "      <td>I'm about to become a liability to people who ...</td>\n",
       "      <td>[This seems like a very complicated, serious m...</td>\n",
       "      <td>non_abuse</td>\n",
       "    </tr>\n",
       "    <tr>\n",
       "      <th>315</th>\n",
       "      <td>You guys ever have a song lyric just hit you l...</td>\n",
       "      <td>[\"you're on your 5th drink with no bars in sig...</td>\n",
       "      <td>non_abuse</td>\n",
       "    </tr>\n",
       "    <tr>\n",
       "      <th>341</th>\n",
       "      <td>So glad to find this sub. My wife left me beca...</td>\n",
       "      <td>[Your self-honesty is amazing, and is incredib...</td>\n",
       "      <td>abuse</td>\n",
       "    </tr>\n",
       "    <tr>\n",
       "      <th>363</th>\n",
       "      <td>Differences between forums for estranged paren...</td>\n",
       "      <td>[Why can I only give this post one upvote?!?, ...</td>\n",
       "      <td>abuse</td>\n",
       "    </tr>\n",
       "    <tr>\n",
       "      <th>509</th>\n",
       "      <td>What is the Buzz about Reese's Peanut Butter C...</td>\n",
       "      <td>[That's too bad. :(, Are there any Dutch sweet...</td>\n",
       "      <td>non_abuse</td>\n",
       "    </tr>\n",
       "    <tr>\n",
       "      <th>723</th>\n",
       "      <td>Abused Friend has had enough-Now what? I'd pos...</td>\n",
       "      <td>[We live in a military town of about 90,000 pe...</td>\n",
       "      <td>abuse</td>\n",
       "    </tr>\n",
       "    <tr>\n",
       "      <th>753</th>\n",
       "      <td>What's everybody's favorite games? Doesn't hav...</td>\n",
       "      <td>[I like to try to be as awkward and uncomforta...</td>\n",
       "      <td>non_abuse</td>\n",
       "    </tr>\n",
       "    <tr>\n",
       "      <th>755</th>\n",
       "      <td>I'm stuck inside a small house with a lot of p...</td>\n",
       "      <td>[No help for you, Rachel., -Zoidberg scuttles ...</td>\n",
       "      <td>non_abuse</td>\n",
       "    </tr>\n",
       "    <tr>\n",
       "      <th>788</th>\n",
       "      <td>Wrote a letter to re-connect with my father......</td>\n",
       "      <td>[Alright. I won't post the whole thing, but se...</td>\n",
       "      <td>abuse</td>\n",
       "    </tr>\n",
       "    <tr>\n",
       "      <th>829</th>\n",
       "      <td>This super chill Canadian lady is back to chat...</td>\n",
       "      <td>[Not a problem! What has you tired today?, Do ...</td>\n",
       "      <td>non_abuse</td>\n",
       "    </tr>\n",
       "    <tr>\n",
       "      <th>870</th>\n",
       "      <td>UPQUOTE MEGATHREAD!!! That was a bit over zeal...</td>\n",
       "      <td>[my list I'll update as I go, 1. Edit: downvot...</td>\n",
       "      <td>non_abuse</td>\n",
       "    </tr>\n",
       "    <tr>\n",
       "      <th>1003</th>\n",
       "      <td>How is everyone's President's Day going? I wok...</td>\n",
       "      <td>[If you've had \"wasabi\", chances are it was no...</td>\n",
       "      <td>non_abuse</td>\n",
       "    </tr>\n",
       "    <tr>\n",
       "      <th>1025</th>\n",
       "      <td>Who's your favorite \"classic\" singer? When I w...</td>\n",
       "      <td>[The dude who did Tarzan music! :D, Who also d...</td>\n",
       "      <td>non_abuse</td>\n",
       "    </tr>\n",
       "    <tr>\n",
       "      <th>1076</th>\n",
       "      <td>Anyone want to talk about rap music? Who's you...</td>\n",
       "      <td>[Something like that. This is very ironic comi...</td>\n",
       "      <td>non_abuse</td>\n",
       "    </tr>\n",
       "    <tr>\n",
       "      <th>1101</th>\n",
       "      <td>Any metalheads here? If so what have you been ...</td>\n",
       "      <td>[Usually I mix a lot. The only two constant ba...</td>\n",
       "      <td>non_abuse</td>\n",
       "    </tr>\n",
       "  </tbody>\n",
       "</table>\n",
       "</div>"
      ],
      "text/plain": [
       "                                                  posts  \\\n",
       "40    Foodie Friday. Make me hungry Post a **photo**...   \n",
       "59    What kind of phone do you guys use? Like the t...   \n",
       "88    What do you love and hate about your name? I h...   \n",
       "125   What do you like to do in your free time? I li...   \n",
       "166   I've been sick for five days and am alone in t...   \n",
       "180   In this thread: songs that invoke massive feel...   \n",
       "278   I am so afraid to speak at my dad's funeral to...   \n",
       "300   I'm about to become a liability to people who ...   \n",
       "315   You guys ever have a song lyric just hit you l...   \n",
       "341   So glad to find this sub. My wife left me beca...   \n",
       "363   Differences between forums for estranged paren...   \n",
       "509   What is the Buzz about Reese's Peanut Butter C...   \n",
       "723   Abused Friend has had enough-Now what? I'd pos...   \n",
       "753   What's everybody's favorite games? Doesn't hav...   \n",
       "755   I'm stuck inside a small house with a lot of p...   \n",
       "788   Wrote a letter to re-connect with my father......   \n",
       "829   This super chill Canadian lady is back to chat...   \n",
       "870   UPQUOTE MEGATHREAD!!! That was a bit over zeal...   \n",
       "1003  How is everyone's President's Day going? I wok...   \n",
       "1025  Who's your favorite \"classic\" singer? When I w...   \n",
       "1076  Anyone want to talk about rap music? Who's you...   \n",
       "1101  Any metalheads here? If so what have you been ...   \n",
       "\n",
       "                                               comments     labels  \n",
       "40    [No prob! [Here's a bonus pic of my desert](ht...  non_abuse  \n",
       "59    [Does the big screen and battery life make it ...  non_abuse  \n",
       "88    [YES!! on the latter. I wish I was named Beeth...  non_abuse  \n",
       "125   [I'm on NA and LAN! My summoner is Khanthulhu....  non_abuse  \n",
       "166   [Aren't we already?, Portlandia, I'm still you...  non_abuse  \n",
       "180   [[Gowan: A Criminal Mind creeped me the fuck o...  non_abuse  \n",
       "278   [I totally agree on your point. The decision a...  non_abuse  \n",
       "300   [This seems like a very complicated, serious m...  non_abuse  \n",
       "315   [\"you're on your 5th drink with no bars in sig...  non_abuse  \n",
       "341   [Your self-honesty is amazing, and is incredib...      abuse  \n",
       "363   [Why can I only give this post one upvote?!?, ...      abuse  \n",
       "509   [That's too bad. :(, Are there any Dutch sweet...  non_abuse  \n",
       "723   [We live in a military town of about 90,000 pe...      abuse  \n",
       "753   [I like to try to be as awkward and uncomforta...  non_abuse  \n",
       "755   [No help for you, Rachel., -Zoidberg scuttles ...  non_abuse  \n",
       "788   [Alright. I won't post the whole thing, but se...      abuse  \n",
       "829   [Not a problem! What has you tired today?, Do ...  non_abuse  \n",
       "870   [my list I'll update as I go, 1. Edit: downvot...  non_abuse  \n",
       "1003  [If you've had \"wasabi\", chances are it was no...  non_abuse  \n",
       "1025  [The dude who did Tarzan music! :D, Who also d...  non_abuse  \n",
       "1076  [Something like that. This is very ironic comi...  non_abuse  \n",
       "1101  [Usually I mix a lot. The only two constant ba...  non_abuse  "
      ]
     },
     "execution_count": 86,
     "metadata": {},
     "output_type": "execute_result"
    }
   ],
   "source": [
    "df[df.comments_count>40][['posts', 'comments', 'labels']]"
   ]
  },
  {
   "cell_type": "code",
   "execution_count": 87,
   "id": "66990dd3-c97e-4eec-99c0-02b5cd32f2f8",
   "metadata": {},
   "outputs": [
    {
     "data": {
      "text/plain": [
       "'What do you like to do in your free time? I like to practice soccer and cuddle with my kids in my free time!\\n\\nWhat do you like to do?'"
      ]
     },
     "execution_count": 87,
     "metadata": {},
     "output_type": "execute_result"
    }
   ],
   "source": [
    "df.posts[125]"
   ]
  },
  {
   "cell_type": "code",
   "execution_count": 88,
   "id": "7176012c-34b0-4fb6-a061-4c708e32a1f4",
   "metadata": {},
   "outputs": [
    {
     "data": {
      "text/plain": [
       "'What do you love and hate about your name? I hate the fact that i\\'ve never heard it in the way it was intended to sound, because we moved to a different country when i was a kid. As if my name was \"John\", but everyone just calls me \"Juan\".\\n\\nI like the short versions of my name, and its versatility.'"
      ]
     },
     "execution_count": 88,
     "metadata": {},
     "output_type": "execute_result"
    }
   ],
   "source": [
    "df.posts[88]"
   ]
  },
  {
   "cell_type": "code",
   "execution_count": 89,
   "id": "edaa7a64-6bd4-46f7-b3fa-a7102afb050d",
   "metadata": {},
   "outputs": [
    {
     "data": {
      "text/plain": [
       "\"How is everyone's President's Day going? I woke up early, all tired and groggy and realized half way through my shower that I did not have school today, so I have an unexpected day off! (Well one I forgot about) :)\\n\\nHow is everyone else doing this fine day?\""
      ]
     },
     "execution_count": 89,
     "metadata": {},
     "output_type": "execute_result"
    }
   ],
   "source": [
    "df.posts[1003]"
   ]
  },
  {
   "cell_type": "code",
   "execution_count": 90,
   "id": "7b5624e5-15d7-4fb8-9978-c2da679476fc",
   "metadata": {},
   "outputs": [
    {
     "data": {
      "image/png": "[encoded data removed]",
      "text/plain": [
       "<Figure size 600x400 with 1 Axes>"
      ]
     },
     "metadata": {},
     "output_type": "display_data"
    }
   ],
   "source": [
    "sns.set(rc={'figure.figsize':(6,4)})\n",
    "bar=sns.barplot(x='labels', y='comments_char_count', data=df)\n",
    "bar.set(xlabel='Type', ylabel='Number Characters per Comment', title='Comment Length (Characters) per Type of Submission');"
   ]
  },
  {
   "cell_type": "code",
   "execution_count": 91,
   "id": "95ffda97-4934-43fd-bdb3-01034180d4f1",
   "metadata": {},
   "outputs": [
    {
     "data": {
      "image/png": "[encoded data removed]",
      "text/plain": [
       "<Figure size 600x400 with 1 Axes>"
      ]
     },
     "metadata": {},
     "output_type": "display_data"
    },
    {
     "data": {
      "image/png": "[encoded data removed]",
      "text/plain": [
       "<Figure size 500x500 with 1 Axes>"
      ]
     },
     "metadata": {},
     "output_type": "display_data"
    }
   ],
   "source": [
    "ax1=sns.barplot(x='labels', y='comments_word_count', data=df)\n",
    "ax1.set(xlabel='Type', ylabel='Number of Words per Comment', title='Comment Length (Words) per Type of Submission')\n",
    "ax2=sns.catplot(x='labels', y='comments_word_count', data=df, showfliers=False, kind='box', ax=ax2)\n",
    "ax2.set(xlabel='Type', ylabel='Number of Words per Comment', title='Comment Length (Words) per Type of Submission');"
   ]
  },
  {
   "cell_type": "code",
   "execution_count": 92,
   "id": "f889e519",
   "metadata": {},
   "outputs": [
    {
     "data": {
      "text/html": [
       "<div>\n",
       "<style scoped>\n",
       "    .dataframe tbody tr th:only-of-type {\n",
       "        vertical-align: middle;\n",
       "    }\n",
       "\n",
       "    .dataframe tbody tr th {\n",
       "        vertical-align: top;\n",
       "    }\n",
       "\n",
       "    .dataframe thead th {\n",
       "        text-align: right;\n",
       "    }\n",
       "</style>\n",
       "<table border=\"1\" class=\"dataframe\">\n",
       "  <thead>\n",
       "    <tr style=\"text-align: right;\">\n",
       "      <th></th>\n",
       "      <th>count</th>\n",
       "      <th>mean</th>\n",
       "      <th>std</th>\n",
       "      <th>min</th>\n",
       "      <th>25%</th>\n",
       "      <th>50%</th>\n",
       "      <th>75%</th>\n",
       "      <th>max</th>\n",
       "    </tr>\n",
       "    <tr>\n",
       "      <th>labels</th>\n",
       "      <th></th>\n",
       "      <th></th>\n",
       "      <th></th>\n",
       "      <th></th>\n",
       "      <th></th>\n",
       "      <th></th>\n",
       "      <th></th>\n",
       "      <th></th>\n",
       "    </tr>\n",
       "  </thead>\n",
       "  <tbody>\n",
       "    <tr>\n",
       "      <th>abuse</th>\n",
       "      <td>552.0</td>\n",
       "      <td>54.804069</td>\n",
       "      <td>35.467863</td>\n",
       "      <td>1.0</td>\n",
       "      <td>32.237500</td>\n",
       "      <td>47.875</td>\n",
       "      <td>67.000000</td>\n",
       "      <td>270.0</td>\n",
       "    </tr>\n",
       "    <tr>\n",
       "      <th>non_abuse</th>\n",
       "      <td>552.0</td>\n",
       "      <td>44.173551</td>\n",
       "      <td>32.898853</td>\n",
       "      <td>1.0</td>\n",
       "      <td>24.668103</td>\n",
       "      <td>37.125</td>\n",
       "      <td>54.039474</td>\n",
       "      <td>444.0</td>\n",
       "    </tr>\n",
       "  </tbody>\n",
       "</table>\n",
       "</div>"
      ],
      "text/plain": [
       "           count       mean        std  min        25%     50%        75%  \\\n",
       "labels                                                                      \n",
       "abuse      552.0  54.804069  35.467863  1.0  32.237500  47.875  67.000000   \n",
       "non_abuse  552.0  44.173551  32.898853  1.0  24.668103  37.125  54.039474   \n",
       "\n",
       "             max  \n",
       "labels            \n",
       "abuse      270.0  \n",
       "non_abuse  444.0  "
      ]
     },
     "execution_count": 92,
     "metadata": {},
     "output_type": "execute_result"
    }
   ],
   "source": [
    "df.groupby(by='labels').comments_word_count.describe()"
   ]
  },
  {
   "cell_type": "code",
   "execution_count": 93,
   "id": "fa674f3f-e24f-490c-b966-5665e71c5bd3",
   "metadata": {},
   "outputs": [
    {
     "data": {
      "text/plain": [
       "count    1104.000000\n",
       "mean        5.195478\n",
       "std         0.328391\n",
       "min         3.666667\n",
       "25%         5.011211\n",
       "50%         5.175940\n",
       "75%         5.336184\n",
       "max         9.000000\n",
       "Name: comments_avg_word_length, dtype: float64"
      ]
     },
     "execution_count": 93,
     "metadata": {},
     "output_type": "execute_result"
    }
   ],
   "source": [
    "df['comments_avg_word_length']=df.comments_char_count/df.comments_word_count\n",
    "df.comments_avg_word_length.describe()"
   ]
  },
  {
   "cell_type": "code",
   "execution_count": 94,
   "id": "ed4eee72-1483-4ef8-8d57-75b6128838a0",
   "metadata": {},
   "outputs": [
    {
     "data": {
      "image/png": "[encoded data removed]",
      "text/plain": [
       "<Figure size 600x400 with 1 Axes>"
      ]
     },
     "metadata": {},
     "output_type": "display_data"
    }
   ],
   "source": [
    "bar=sns.barplot(x='labels', y='comments_avg_word_length', data=df)\n",
    "bar.set(xlabel='Type', ylabel='Average Word Length', title='Average Word Length in Comments per Type of Submission');"
   ]
  },
  {
   "cell_type": "code",
   "execution_count": 95,
   "id": "6a2bd3a2-ef8c-4acd-a399-5b090839bef9",
   "metadata": {},
   "outputs": [
    {
     "data": {
      "image/png": "[encoded data removed]",
      "text/plain": [
       "<Figure size 600x400 with 1 Axes>"
      ]
     },
     "metadata": {},
     "output_type": "display_data"
    }
   ],
   "source": [
    "bar=sns.barplot(x='labels', y='comments_count', data=df)\n",
    "bar.set(xlabel='Type', ylabel='Number of Comments', title='Number of Comments Per Type of Submission');"
   ]
  },
  {
   "cell_type": "code",
   "execution_count": 96,
   "id": "6bb17ae7-db7d-4f0e-8957-b170704cb39a",
   "metadata": {
    "scrolled": true
   },
   "outputs": [
    {
     "data": {
      "image/png": "[encoded data removed]",
      "text/plain": [
       "<Figure size 1500x300 with 1 Axes>"
      ]
     },
     "metadata": {},
     "output_type": "display_data"
    }
   ],
   "source": [
    "sns.set(rc={'figure.figsize':(15,3)})\n",
    "box=sns.boxplot(y='labels', x='comments_count', data=df, showfliers = False)\n",
    "box.set(ylabel='Type', xlabel='Number of Comments', title='Number of Comments Per Type of Submission');"
   ]
  },
  {
   "cell_type": "code",
   "execution_count": 97,
   "id": "0920619f",
   "metadata": {},
   "outputs": [
    {
     "data": {
      "text/html": [
       "<div>\n",
       "<style scoped>\n",
       "    .dataframe tbody tr th:only-of-type {\n",
       "        vertical-align: middle;\n",
       "    }\n",
       "\n",
       "    .dataframe tbody tr th {\n",
       "        vertical-align: top;\n",
       "    }\n",
       "\n",
       "    .dataframe thead th {\n",
       "        text-align: right;\n",
       "    }\n",
       "</style>\n",
       "<table border=\"1\" class=\"dataframe\">\n",
       "  <thead>\n",
       "    <tr style=\"text-align: right;\">\n",
       "      <th></th>\n",
       "      <th>count</th>\n",
       "      <th>mean</th>\n",
       "      <th>std</th>\n",
       "      <th>min</th>\n",
       "      <th>25%</th>\n",
       "      <th>50%</th>\n",
       "      <th>75%</th>\n",
       "      <th>max</th>\n",
       "    </tr>\n",
       "    <tr>\n",
       "      <th>labels</th>\n",
       "      <th></th>\n",
       "      <th></th>\n",
       "      <th></th>\n",
       "      <th></th>\n",
       "      <th></th>\n",
       "      <th></th>\n",
       "      <th></th>\n",
       "      <th></th>\n",
       "    </tr>\n",
       "  </thead>\n",
       "  <tbody>\n",
       "    <tr>\n",
       "      <th>abuse</th>\n",
       "      <td>552.0</td>\n",
       "      <td>6.077899</td>\n",
       "      <td>6.250902</td>\n",
       "      <td>1.0</td>\n",
       "      <td>2.0</td>\n",
       "      <td>4.0</td>\n",
       "      <td>8.0</td>\n",
       "      <td>67.0</td>\n",
       "    </tr>\n",
       "    <tr>\n",
       "      <th>non_abuse</th>\n",
       "      <td>552.0</td>\n",
       "      <td>9.614130</td>\n",
       "      <td>15.428708</td>\n",
       "      <td>1.0</td>\n",
       "      <td>2.0</td>\n",
       "      <td>5.0</td>\n",
       "      <td>10.0</td>\n",
       "      <td>207.0</td>\n",
       "    </tr>\n",
       "  </tbody>\n",
       "</table>\n",
       "</div>"
      ],
      "text/plain": [
       "           count      mean        std  min  25%  50%   75%    max\n",
       "labels                                                           \n",
       "abuse      552.0  6.077899   6.250902  1.0  2.0  4.0   8.0   67.0\n",
       "non_abuse  552.0  9.614130  15.428708  1.0  2.0  5.0  10.0  207.0"
      ]
     },
     "execution_count": 97,
     "metadata": {},
     "output_type": "execute_result"
    }
   ],
   "source": [
    "df.groupby(by='labels').comments_count.describe()"
   ]
  },
  {
   "cell_type": "code",
   "execution_count": 98,
   "id": "26077877-4119-4919-8a42-521399bd6f87",
   "metadata": {
    "scrolled": true
   },
   "outputs": [
    {
     "data": {
      "text/plain": [
       "Ttest_indResult(statistic=5.093993102901979, pvalue=4.121989723771118e-07)"
      ]
     },
     "execution_count": 98,
     "metadata": {},
     "output_type": "execute_result"
    }
   ],
   "source": [
    "ttest_ind(df[df.labels=='abuse'].comments_avg_word_length, df[df.labels=='non_abuse'].comments_avg_word_length)"
   ]
  },
  {
   "cell_type": "markdown",
   "id": "b81896e9-2804-4acc-a4be-20a7ac60f4fc",
   "metadata": {},
   "source": [
    "All posts in this dataset have at least 1 comment, and over 50% of the posts have under 5 comments. The most popular post has 207 comments. These outliers are labeled non-abuse and contain questions directed towards other Redditors about themselves while sharing their own experiences. \n",
    "\n",
    "Posts about abuse tend to be longer, while having less comments. However, the comments under posts about abuse tend to be longer."
   ]
  },
  {
   "cell_type": "markdown",
   "id": "2cc2e55c-e515-409c-b112-bbe9b36087ae",
   "metadata": {
    "tags": []
   },
   "source": [
    "## Sentiment Analysis"
   ]
  },
  {
   "cell_type": "code",
   "execution_count": 99,
   "id": "1a370e7c",
   "metadata": {},
   "outputs": [],
   "source": [
    "from collections import Counter"
   ]
  },
  {
   "cell_type": "code",
   "execution_count": 100,
   "id": "b01a9d50-3eb0-42b7-ad47-ea1be9d9f9a6",
   "metadata": {},
   "outputs": [],
   "source": [
    "post_columns={'anger_post':'Anger', 'disgust_post':'Disgust', 'fear_post':'fear', 'happy_post':'Happy', 'neutral_post':'Neutral', 'sad_post':'Sad', 'surprise_post': 'Surprise'}"
   ]
  },
  {
   "cell_type": "code",
   "execution_count": 101,
   "id": "abd72982-43bf-433e-a80d-be18679cf416",
   "metadata": {},
   "outputs": [],
   "source": [
    "comments_columns={'anger_comments':'Anger', 'disgust_comments':'Disgust', 'fear_comments':'Fear', 'happy_comments':'Happy', 'neutral_comments':'Neutral', 'sad_comments': 'Sad', 'surprise_comments': 'Surprise'}"
   ]
  },
  {
   "cell_type": "code",
   "execution_count": 102,
   "id": "e8a26c82-c6ea-4afa-b4fb-088ee3abb1b9",
   "metadata": {},
   "outputs": [
    {
     "data": {
      "text/html": [
       "<div>\n",
       "<style scoped>\n",
       "    .dataframe tbody tr th:only-of-type {\n",
       "        vertical-align: middle;\n",
       "    }\n",
       "\n",
       "    .dataframe tbody tr th {\n",
       "        vertical-align: top;\n",
       "    }\n",
       "\n",
       "    .dataframe thead th {\n",
       "        text-align: right;\n",
       "    }\n",
       "</style>\n",
       "<table border=\"1\" class=\"dataframe\">\n",
       "  <thead>\n",
       "    <tr style=\"text-align: right;\">\n",
       "      <th></th>\n",
       "      <th>Sentiment</th>\n",
       "      <th>Score</th>\n",
       "    </tr>\n",
       "  </thead>\n",
       "  <tbody>\n",
       "    <tr>\n",
       "      <th>0</th>\n",
       "      <td>Anger</td>\n",
       "      <td>29.966094</td>\n",
       "    </tr>\n",
       "    <tr>\n",
       "      <th>1</th>\n",
       "      <td>Disgust</td>\n",
       "      <td>6.311606</td>\n",
       "    </tr>\n",
       "    <tr>\n",
       "      <th>2</th>\n",
       "      <td>fear</td>\n",
       "      <td>27.044529</td>\n",
       "    </tr>\n",
       "    <tr>\n",
       "      <th>3</th>\n",
       "      <td>Happy</td>\n",
       "      <td>28.111098</td>\n",
       "    </tr>\n",
       "    <tr>\n",
       "      <th>4</th>\n",
       "      <td>Neutral</td>\n",
       "      <td>2.576587</td>\n",
       "    </tr>\n",
       "    <tr>\n",
       "      <th>5</th>\n",
       "      <td>Sad</td>\n",
       "      <td>23.569424</td>\n",
       "    </tr>\n",
       "    <tr>\n",
       "      <th>6</th>\n",
       "      <td>Surprise</td>\n",
       "      <td>23.751221</td>\n",
       "    </tr>\n",
       "  </tbody>\n",
       "</table>\n",
       "</div>"
      ],
      "text/plain": [
       "  Sentiment      Score\n",
       "0     Anger  29.966094\n",
       "1   Disgust   6.311606\n",
       "2      fear  27.044529\n",
       "3     Happy  28.111098\n",
       "4   Neutral   2.576587\n",
       "5       Sad  23.569424\n",
       "6  Surprise  23.751221"
      ]
     },
     "execution_count": 102,
     "metadata": {},
     "output_type": "execute_result"
    }
   ],
   "source": [
    "post_sentiments=pd.DataFrame(df[post_columns.keys()].sum(), columns=['Score']).reset_index(drop=True)\n",
    "post_sentiments['Sentiment']=post_columns.values()\n",
    "post_sentiments=post_sentiments[['Sentiment', 'Score']]\n",
    "post_sentiments"
   ]
  },
  {
   "cell_type": "code",
   "execution_count": 103,
   "id": "47779863-df71-4df1-9a8e-c4478228270f",
   "metadata": {},
   "outputs": [
    {
     "data": {
      "image/png": "[encoded data removed]",
      "text/plain": [
       "<Figure size 600x400 with 1 Axes>"
      ]
     },
     "metadata": {},
     "output_type": "display_data"
    }
   ],
   "source": [
    "sns.set(rc={'figure.figsize':(6,4)})\n",
    "b=sns.barplot(x='Sentiment', y='Score', data=post_sentiments)\n",
    "b.set(xlabel='Post Sentiment', title='Overall Sentiment of '+str(len(df.post_sentiment))+' Posts');"
   ]
  },
  {
   "cell_type": "code",
   "execution_count": 104,
   "id": "a9a1d75c-b14b-4248-bd0f-ce1e0241e744",
   "metadata": {},
   "outputs": [
    {
     "data": {
      "text/html": [
       "<div>\n",
       "<style scoped>\n",
       "    .dataframe tbody tr th:only-of-type {\n",
       "        vertical-align: middle;\n",
       "    }\n",
       "\n",
       "    .dataframe tbody tr th {\n",
       "        vertical-align: top;\n",
       "    }\n",
       "\n",
       "    .dataframe thead th {\n",
       "        text-align: right;\n",
       "    }\n",
       "</style>\n",
       "<table border=\"1\" class=\"dataframe\">\n",
       "  <thead>\n",
       "    <tr style=\"text-align: right;\">\n",
       "      <th></th>\n",
       "      <th>Sentiment</th>\n",
       "      <th>Score</th>\n",
       "    </tr>\n",
       "  </thead>\n",
       "  <tbody>\n",
       "    <tr>\n",
       "      <th>0</th>\n",
       "      <td>Anger</td>\n",
       "      <td>27.337408</td>\n",
       "    </tr>\n",
       "    <tr>\n",
       "      <th>1</th>\n",
       "      <td>Disgust</td>\n",
       "      <td>5.510563</td>\n",
       "    </tr>\n",
       "    <tr>\n",
       "      <th>2</th>\n",
       "      <td>Fear</td>\n",
       "      <td>26.340923</td>\n",
       "    </tr>\n",
       "    <tr>\n",
       "      <th>3</th>\n",
       "      <td>Happy</td>\n",
       "      <td>30.184215</td>\n",
       "    </tr>\n",
       "    <tr>\n",
       "      <th>4</th>\n",
       "      <td>Neutral</td>\n",
       "      <td>3.155891</td>\n",
       "    </tr>\n",
       "    <tr>\n",
       "      <th>5</th>\n",
       "      <td>Sad</td>\n",
       "      <td>22.451903</td>\n",
       "    </tr>\n",
       "    <tr>\n",
       "      <th>6</th>\n",
       "      <td>Surprise</td>\n",
       "      <td>23.622872</td>\n",
       "    </tr>\n",
       "  </tbody>\n",
       "</table>\n",
       "</div>"
      ],
      "text/plain": [
       "  Sentiment      Score\n",
       "0     Anger  27.337408\n",
       "1   Disgust   5.510563\n",
       "2      Fear  26.340923\n",
       "3     Happy  30.184215\n",
       "4   Neutral   3.155891\n",
       "5       Sad  22.451903\n",
       "6  Surprise  23.622872"
      ]
     },
     "execution_count": 104,
     "metadata": {},
     "output_type": "execute_result"
    }
   ],
   "source": [
    "comments_sentiments=pd.DataFrame(df[comments_columns.keys()].sum(), columns=['Score']).reset_index(drop=True)\n",
    "comments_sentiments['Sentiment']=comments_columns.values()\n",
    "comments_sentiments=comments_sentiments[['Sentiment', 'Score']]\n",
    "comments_sentiments"
   ]
  },
  {
   "cell_type": "code",
   "execution_count": 105,
   "id": "3468c54c-f786-4cad-b416-35a1b4452fa6",
   "metadata": {},
   "outputs": [
    {
     "data": {
      "image/png": "[encoded data removed]",
      "text/plain": [
       "<Figure size 600x400 with 1 Axes>"
      ]
     },
     "metadata": {},
     "output_type": "display_data"
    }
   ],
   "source": [
    "sns.set(rc={'figure.figsize':(6,4)})\n",
    "b=sns.barplot(x='Sentiment', y='Score', data=comments_sentiments)\n",
    "b.set(xlabel='Comments Sentiment', title='Overall Sentiment of '+str(sum(df.comments_count))+' Comments Under '+str(len(df.post_sentiment))+' Posts');"
   ]
  },
  {
   "cell_type": "markdown",
   "id": "345894b3-286f-484a-9e38-1ba98e24f4fa",
   "metadata": {},
   "source": [
    "The comment section has more happy words and less angry words, but the posts and comments seem to contain more or less the same sentiments."
   ]
  },
  {
   "cell_type": "code",
   "execution_count": 106,
   "id": "34dad066-d709-4aa6-b1eb-c4853a3bfbae",
   "metadata": {},
   "outputs": [
    {
     "data": {
      "text/html": [
       "<div>\n",
       "<style scoped>\n",
       "    .dataframe tbody tr th:only-of-type {\n",
       "        vertical-align: middle;\n",
       "    }\n",
       "\n",
       "    .dataframe tbody tr th {\n",
       "        vertical-align: top;\n",
       "    }\n",
       "\n",
       "    .dataframe thead th {\n",
       "        text-align: right;\n",
       "    }\n",
       "</style>\n",
       "<table border=\"1\" class=\"dataframe\">\n",
       "  <thead>\n",
       "    <tr style=\"text-align: right;\">\n",
       "      <th></th>\n",
       "      <th>Sentiment</th>\n",
       "      <th>labels</th>\n",
       "      <th>value</th>\n",
       "    </tr>\n",
       "  </thead>\n",
       "  <tbody>\n",
       "    <tr>\n",
       "      <th>0</th>\n",
       "      <td>Anger</td>\n",
       "      <td>abuse</td>\n",
       "      <td>17.217184</td>\n",
       "    </tr>\n",
       "    <tr>\n",
       "      <th>1</th>\n",
       "      <td>Disgust</td>\n",
       "      <td>abuse</td>\n",
       "      <td>3.569733</td>\n",
       "    </tr>\n",
       "    <tr>\n",
       "      <th>2</th>\n",
       "      <td>fear</td>\n",
       "      <td>abuse</td>\n",
       "      <td>13.083963</td>\n",
       "    </tr>\n",
       "    <tr>\n",
       "      <th>3</th>\n",
       "      <td>Happy</td>\n",
       "      <td>abuse</td>\n",
       "      <td>13.819529</td>\n",
       "    </tr>\n",
       "    <tr>\n",
       "      <th>4</th>\n",
       "      <td>Neutral</td>\n",
       "      <td>abuse</td>\n",
       "      <td>1.244763</td>\n",
       "    </tr>\n",
       "    <tr>\n",
       "      <th>5</th>\n",
       "      <td>Sad</td>\n",
       "      <td>abuse</td>\n",
       "      <td>11.217937</td>\n",
       "    </tr>\n",
       "    <tr>\n",
       "      <th>6</th>\n",
       "      <td>Surprise</td>\n",
       "      <td>abuse</td>\n",
       "      <td>11.647137</td>\n",
       "    </tr>\n",
       "    <tr>\n",
       "      <th>7</th>\n",
       "      <td>Anger</td>\n",
       "      <td>non_abuse</td>\n",
       "      <td>12.748910</td>\n",
       "    </tr>\n",
       "    <tr>\n",
       "      <th>8</th>\n",
       "      <td>Disgust</td>\n",
       "      <td>non_abuse</td>\n",
       "      <td>2.741874</td>\n",
       "    </tr>\n",
       "    <tr>\n",
       "      <th>9</th>\n",
       "      <td>fear</td>\n",
       "      <td>non_abuse</td>\n",
       "      <td>13.960566</td>\n",
       "    </tr>\n",
       "    <tr>\n",
       "      <th>10</th>\n",
       "      <td>Happy</td>\n",
       "      <td>non_abuse</td>\n",
       "      <td>14.291569</td>\n",
       "    </tr>\n",
       "    <tr>\n",
       "      <th>11</th>\n",
       "      <td>Neutral</td>\n",
       "      <td>non_abuse</td>\n",
       "      <td>1.331824</td>\n",
       "    </tr>\n",
       "    <tr>\n",
       "      <th>12</th>\n",
       "      <td>Sad</td>\n",
       "      <td>non_abuse</td>\n",
       "      <td>12.351487</td>\n",
       "    </tr>\n",
       "    <tr>\n",
       "      <th>13</th>\n",
       "      <td>Surprise</td>\n",
       "      <td>non_abuse</td>\n",
       "      <td>12.104084</td>\n",
       "    </tr>\n",
       "  </tbody>\n",
       "</table>\n",
       "</div>"
      ],
      "text/plain": [
       "   Sentiment     labels      value\n",
       "0      Anger      abuse  17.217184\n",
       "1    Disgust      abuse   3.569733\n",
       "2       fear      abuse  13.083963\n",
       "3      Happy      abuse  13.819529\n",
       "4    Neutral      abuse   1.244763\n",
       "5        Sad      abuse  11.217937\n",
       "6   Surprise      abuse  11.647137\n",
       "7      Anger  non_abuse  12.748910\n",
       "8    Disgust  non_abuse   2.741874\n",
       "9       fear  non_abuse  13.960566\n",
       "10     Happy  non_abuse  14.291569\n",
       "11   Neutral  non_abuse   1.331824\n",
       "12       Sad  non_abuse  12.351487\n",
       "13  Surprise  non_abuse  12.104084"
      ]
     },
     "execution_count": 106,
     "metadata": {},
     "output_type": "execute_result"
    }
   ],
   "source": [
    "post_sentiments=pd.DataFrame(df.groupby('labels')[list(post_columns.keys())].sum().transpose()).reset_index()\n",
    "post_sentiments=post_sentiments.rename(columns={'index':'Sentiment'})\n",
    "post_sentiments['Sentiment']=post_columns.values()\n",
    "post_sentiments=pd.melt(post_sentiments, id_vars='Sentiment')\n",
    "post_sentiments"
   ]
  },
  {
   "cell_type": "code",
   "execution_count": 107,
   "id": "c665cb23-dc32-4f1e-8c14-d05cfd0f1cf0",
   "metadata": {},
   "outputs": [
    {
     "data": {
      "image/png": "[encoded data removed]",
      "text/plain": [
       "<Figure size 800x600 with 2 Axes>"
      ]
     },
     "metadata": {},
     "output_type": "display_data"
    }
   ],
   "source": [
    "sns.set(rc={'figure.figsize':(8,6)})\n",
    "h=sns.histplot(x='Sentiment', y='labels', data=post_sentiments, weights='value', cbar=True)\n",
    "h.set(xlabel='Post Sentiment', ylabel='Type', title='Post Sentiment According to Type of Submission');"
   ]
  },
  {
   "cell_type": "code",
   "execution_count": 108,
   "id": "8eb03417-16f1-4eb5-8cba-4a91f9cf03ad",
   "metadata": {},
   "outputs": [
    {
     "data": {
      "text/plain": [
       "{'anger_post': 'Anger',\n",
       " 'disgust_post': 'Disgust',\n",
       " 'fear_post': 'fear',\n",
       " 'happy_post': 'Happy',\n",
       " 'neutral_post': 'Neutral',\n",
       " 'sad_post': 'Sad',\n",
       " 'surprise_post': 'Surprise'}"
      ]
     },
     "execution_count": 108,
     "metadata": {},
     "output_type": "execute_result"
    }
   ],
   "source": [
    "post_columns"
   ]
  },
  {
   "cell_type": "code",
   "execution_count": 109,
   "id": "9427df40-5e71-42dd-95f3-2b9bbaa8e4d6",
   "metadata": {},
   "outputs": [
    {
     "data": {
      "text/html": [
       "<div>\n",
       "<style scoped>\n",
       "    .dataframe tbody tr th:only-of-type {\n",
       "        vertical-align: middle;\n",
       "    }\n",
       "\n",
       "    .dataframe tbody tr th {\n",
       "        vertical-align: top;\n",
       "    }\n",
       "\n",
       "    .dataframe thead th {\n",
       "        text-align: right;\n",
       "    }\n",
       "</style>\n",
       "<table border=\"1\" class=\"dataframe\">\n",
       "  <thead>\n",
       "    <tr style=\"text-align: right;\">\n",
       "      <th></th>\n",
       "      <th>Anger</th>\n",
       "      <th>Disgust</th>\n",
       "      <th>fear</th>\n",
       "      <th>Happy</th>\n",
       "      <th>Neutral</th>\n",
       "      <th>Sad</th>\n",
       "      <th>Surprise</th>\n",
       "    </tr>\n",
       "    <tr>\n",
       "      <th>labels</th>\n",
       "      <th></th>\n",
       "      <th></th>\n",
       "      <th></th>\n",
       "      <th></th>\n",
       "      <th></th>\n",
       "      <th></th>\n",
       "      <th></th>\n",
       "    </tr>\n",
       "  </thead>\n",
       "  <tbody>\n",
       "    <tr>\n",
       "      <th>abuse</th>\n",
       "      <td>0.239793</td>\n",
       "      <td>0.049718</td>\n",
       "      <td>0.182227</td>\n",
       "      <td>0.192472</td>\n",
       "      <td>0.017336</td>\n",
       "      <td>0.156238</td>\n",
       "      <td>0.162216</td>\n",
       "    </tr>\n",
       "    <tr>\n",
       "      <th>non_abuse</th>\n",
       "      <td>0.183358</td>\n",
       "      <td>0.039434</td>\n",
       "      <td>0.200784</td>\n",
       "      <td>0.205544</td>\n",
       "      <td>0.019155</td>\n",
       "      <td>0.177642</td>\n",
       "      <td>0.174084</td>\n",
       "    </tr>\n",
       "  </tbody>\n",
       "</table>\n",
       "</div>"
      ],
      "text/plain": [
       "              Anger   Disgust      fear     Happy   Neutral       Sad  \\\n",
       "labels                                                                  \n",
       "abuse      0.239793  0.049718  0.182227  0.192472  0.017336  0.156238   \n",
       "non_abuse  0.183358  0.039434  0.200784  0.205544  0.019155  0.177642   \n",
       "\n",
       "           Surprise  \n",
       "labels               \n",
       "abuse      0.162216  \n",
       "non_abuse  0.174084  "
      ]
     },
     "execution_count": 109,
     "metadata": {},
     "output_type": "execute_result"
    }
   ],
   "source": [
    "post_sentiments=pd.DataFrame(df.groupby('labels')[list(post_columns.keys())].sum())\n",
    "post_sentiments.rename(columns=post_columns, inplace=True)\n",
    "post_sentiments=post_sentiments.div(post_sentiments.sum(axis=1), axis=0) #percent stacked\n",
    "post_sentiments.head()"
   ]
  },
  {
   "cell_type": "code",
   "execution_count": 110,
   "id": "9b6d7fce-217e-4e28-9a72-0454665b7ffc",
   "metadata": {
    "scrolled": true,
    "tags": []
   },
   "outputs": [
    {
     "data": {
      "image/png": "[encoded data removed]",
      "text/plain": [
       "<Figure size 600x500 with 1 Axes>"
      ]
     },
     "metadata": {},
     "output_type": "display_data"
    }
   ],
   "source": [
    "sns.set(rc={'figure.figsize':(6,5)})\n",
    "ax=post_sentiments.plot(kind='bar', stacked=True, legend='reverse', width=0.3)\n",
    "ax.set(xlabel='Type of Post', title='Post Sentiment According to Type of Submission')\n",
    "plt.legend(bbox_to_anchor=(1.05,1))\n",
    "for p in ax.patches:\n",
    "    width = p.get_width()\n",
    "    height = p.get_height()\n",
    "    x, y = p.get_xy() \n",
    "    ax.annotate(f'{np.round(height,3)}', (x + 0.4, y + height/2 -0.015), ha='center', fontsize=8, color='black')\n",
    "\n",
    "\n",
    "plt.xticks(rotation=0);"
   ]
  },
  {
   "cell_type": "code",
   "execution_count": 111,
   "id": "a15c1461-1570-40dd-bd12-c480f2b82c64",
   "metadata": {},
   "outputs": [
    {
     "data": {
      "text/plain": [
       "dict_values(['Anger', 'Disgust', 'fear', 'Happy', 'Neutral', 'Sad', 'Surprise'])"
      ]
     },
     "execution_count": 111,
     "metadata": {},
     "output_type": "execute_result"
    }
   ],
   "source": [
    "post_columns.values()"
   ]
  },
  {
   "cell_type": "code",
   "execution_count": 112,
   "id": "4f6fedd9-3765-4ad2-a078-5ccdb9b4fb10",
   "metadata": {},
   "outputs": [
    {
     "data": {
      "text/plain": [
       "dict_keys(['anger_post', 'disgust_post', 'fear_post', 'happy_post', 'neutral_post', 'sad_post', 'surprise_post'])"
      ]
     },
     "execution_count": 112,
     "metadata": {},
     "output_type": "execute_result"
    }
   ],
   "source": [
    "post_columns.keys()"
   ]
  },
  {
   "cell_type": "code",
   "execution_count": 113,
   "id": "94242c3b-8f27-4756-9bcf-9ba223728ecb",
   "metadata": {},
   "outputs": [
    {
     "data": {
      "text/html": [
       "<div>\n",
       "<style scoped>\n",
       "    .dataframe tbody tr th:only-of-type {\n",
       "        vertical-align: middle;\n",
       "    }\n",
       "\n",
       "    .dataframe tbody tr th {\n",
       "        vertical-align: top;\n",
       "    }\n",
       "\n",
       "    .dataframe thead th {\n",
       "        text-align: right;\n",
       "    }\n",
       "</style>\n",
       "<table border=\"1\" class=\"dataframe\">\n",
       "  <thead>\n",
       "    <tr style=\"text-align: right;\">\n",
       "      <th></th>\n",
       "      <th>Anger</th>\n",
       "      <th>Disgust</th>\n",
       "      <th>fear</th>\n",
       "      <th>Happy</th>\n",
       "      <th>Neutral</th>\n",
       "      <th>Sad</th>\n",
       "      <th>Surprise</th>\n",
       "    </tr>\n",
       "    <tr>\n",
       "      <th>labels</th>\n",
       "      <th></th>\n",
       "      <th></th>\n",
       "      <th></th>\n",
       "      <th></th>\n",
       "      <th></th>\n",
       "      <th></th>\n",
       "      <th></th>\n",
       "    </tr>\n",
       "  </thead>\n",
       "  <tbody>\n",
       "    <tr>\n",
       "      <th>abuse</th>\n",
       "      <td>0.239793</td>\n",
       "      <td>0.049718</td>\n",
       "      <td>0.182227</td>\n",
       "      <td>0.192472</td>\n",
       "      <td>0.017336</td>\n",
       "      <td>0.156238</td>\n",
       "      <td>0.162216</td>\n",
       "    </tr>\n",
       "    <tr>\n",
       "      <th>non_abuse</th>\n",
       "      <td>0.183358</td>\n",
       "      <td>0.039434</td>\n",
       "      <td>0.200784</td>\n",
       "      <td>0.205544</td>\n",
       "      <td>0.019155</td>\n",
       "      <td>0.177642</td>\n",
       "      <td>0.174084</td>\n",
       "    </tr>\n",
       "  </tbody>\n",
       "</table>\n",
       "</div>"
      ],
      "text/plain": [
       "              Anger   Disgust      fear     Happy   Neutral       Sad  \\\n",
       "labels                                                                  \n",
       "abuse      0.239793  0.049718  0.182227  0.192472  0.017336  0.156238   \n",
       "non_abuse  0.183358  0.039434  0.200784  0.205544  0.019155  0.177642   \n",
       "\n",
       "           Surprise  \n",
       "labels               \n",
       "abuse      0.162216  \n",
       "non_abuse  0.174084  "
      ]
     },
     "execution_count": 113,
     "metadata": {},
     "output_type": "execute_result"
    }
   ],
   "source": [
    "post_sentiments"
   ]
  },
  {
   "cell_type": "code",
   "execution_count": 114,
   "id": "78c08339-7d5f-40c7-aee9-14c736f31b05",
   "metadata": {},
   "outputs": [
    {
     "data": {
      "text/html": [
       "<div>\n",
       "<style scoped>\n",
       "    .dataframe tbody tr th:only-of-type {\n",
       "        vertical-align: middle;\n",
       "    }\n",
       "\n",
       "    .dataframe tbody tr th {\n",
       "        vertical-align: top;\n",
       "    }\n",
       "\n",
       "    .dataframe thead th {\n",
       "        text-align: right;\n",
       "    }\n",
       "</style>\n",
       "<table border=\"1\" class=\"dataframe\">\n",
       "  <thead>\n",
       "    <tr style=\"text-align: right;\">\n",
       "      <th></th>\n",
       "      <th>Sentiment</th>\n",
       "      <th>labels</th>\n",
       "      <th>value</th>\n",
       "    </tr>\n",
       "  </thead>\n",
       "  <tbody>\n",
       "    <tr>\n",
       "      <th>0</th>\n",
       "      <td>Anger</td>\n",
       "      <td>abuse</td>\n",
       "      <td>15.038037</td>\n",
       "    </tr>\n",
       "    <tr>\n",
       "      <th>1</th>\n",
       "      <td>Disgust</td>\n",
       "      <td>abuse</td>\n",
       "      <td>2.867249</td>\n",
       "    </tr>\n",
       "    <tr>\n",
       "      <th>2</th>\n",
       "      <td>Fear</td>\n",
       "      <td>abuse</td>\n",
       "      <td>12.983638</td>\n",
       "    </tr>\n",
       "    <tr>\n",
       "      <th>3</th>\n",
       "      <td>Happy</td>\n",
       "      <td>abuse</td>\n",
       "      <td>15.124527</td>\n",
       "    </tr>\n",
       "    <tr>\n",
       "      <th>4</th>\n",
       "      <td>Neutral</td>\n",
       "      <td>abuse</td>\n",
       "      <td>1.540718</td>\n",
       "    </tr>\n",
       "    <tr>\n",
       "      <th>5</th>\n",
       "      <td>Sad</td>\n",
       "      <td>abuse</td>\n",
       "      <td>10.667063</td>\n",
       "    </tr>\n",
       "    <tr>\n",
       "      <th>6</th>\n",
       "      <td>Surprise</td>\n",
       "      <td>abuse</td>\n",
       "      <td>11.360517</td>\n",
       "    </tr>\n",
       "    <tr>\n",
       "      <th>7</th>\n",
       "      <td>Anger</td>\n",
       "      <td>non_abuse</td>\n",
       "      <td>12.299372</td>\n",
       "    </tr>\n",
       "    <tr>\n",
       "      <th>8</th>\n",
       "      <td>Disgust</td>\n",
       "      <td>non_abuse</td>\n",
       "      <td>2.643314</td>\n",
       "    </tr>\n",
       "    <tr>\n",
       "      <th>9</th>\n",
       "      <td>Fear</td>\n",
       "      <td>non_abuse</td>\n",
       "      <td>13.357285</td>\n",
       "    </tr>\n",
       "    <tr>\n",
       "      <th>10</th>\n",
       "      <td>Happy</td>\n",
       "      <td>non_abuse</td>\n",
       "      <td>15.059687</td>\n",
       "    </tr>\n",
       "    <tr>\n",
       "      <th>11</th>\n",
       "      <td>Neutral</td>\n",
       "      <td>non_abuse</td>\n",
       "      <td>1.615173</td>\n",
       "    </tr>\n",
       "    <tr>\n",
       "      <th>12</th>\n",
       "      <td>Sad</td>\n",
       "      <td>non_abuse</td>\n",
       "      <td>11.784840</td>\n",
       "    </tr>\n",
       "    <tr>\n",
       "      <th>13</th>\n",
       "      <td>Surprise</td>\n",
       "      <td>non_abuse</td>\n",
       "      <td>12.262355</td>\n",
       "    </tr>\n",
       "  </tbody>\n",
       "</table>\n",
       "</div>"
      ],
      "text/plain": [
       "   Sentiment     labels      value\n",
       "0      Anger      abuse  15.038037\n",
       "1    Disgust      abuse   2.867249\n",
       "2       Fear      abuse  12.983638\n",
       "3      Happy      abuse  15.124527\n",
       "4    Neutral      abuse   1.540718\n",
       "5        Sad      abuse  10.667063\n",
       "6   Surprise      abuse  11.360517\n",
       "7      Anger  non_abuse  12.299372\n",
       "8    Disgust  non_abuse   2.643314\n",
       "9       Fear  non_abuse  13.357285\n",
       "10     Happy  non_abuse  15.059687\n",
       "11   Neutral  non_abuse   1.615173\n",
       "12       Sad  non_abuse  11.784840\n",
       "13  Surprise  non_abuse  12.262355"
      ]
     },
     "execution_count": 114,
     "metadata": {},
     "output_type": "execute_result"
    }
   ],
   "source": [
    "comments_sentiments=pd.DataFrame(df.groupby('labels')[list(comments_columns.keys())].sum().transpose()).reset_index()\n",
    "comments_sentiments=comments_sentiments.rename(columns={'index':'Sentiment'})\n",
    "comments_sentiments['Sentiment']=comments_columns.values()\n",
    "comments_sentiments=pd.melt(comments_sentiments, id_vars='Sentiment')\n",
    "comments_sentiments"
   ]
  },
  {
   "cell_type": "code",
   "execution_count": 115,
   "id": "9b0d132f-7abb-4cb2-a842-42f347649c0c",
   "metadata": {},
   "outputs": [
    {
     "data": {
      "image/png": "[encoded data removed]",
      "text/plain": [
       "<Figure size 800x600 with 2 Axes>"
      ]
     },
     "metadata": {},
     "output_type": "display_data"
    }
   ],
   "source": [
    "sns.set(rc={'figure.figsize':(8,6)})\n",
    "h=sns.histplot(x='Sentiment', y='labels', data=comments_sentiments, weights='value', cbar=True)\n",
    "h.set(xlabel='Comments Sentiment', ylabel='Type', title='Comments Sentiment According to Type of Submission');"
   ]
  },
  {
   "cell_type": "code",
   "execution_count": 116,
   "id": "a274d2df-36b1-488a-87bd-a00477ee40f7",
   "metadata": {},
   "outputs": [
    {
     "data": {
      "text/html": [
       "<div>\n",
       "<style scoped>\n",
       "    .dataframe tbody tr th:only-of-type {\n",
       "        vertical-align: middle;\n",
       "    }\n",
       "\n",
       "    .dataframe tbody tr th {\n",
       "        vertical-align: top;\n",
       "    }\n",
       "\n",
       "    .dataframe thead th {\n",
       "        text-align: right;\n",
       "    }\n",
       "</style>\n",
       "<table border=\"1\" class=\"dataframe\">\n",
       "  <thead>\n",
       "    <tr style=\"text-align: right;\">\n",
       "      <th></th>\n",
       "      <th>Anger</th>\n",
       "      <th>Disgust</th>\n",
       "      <th>Fear</th>\n",
       "      <th>Happy</th>\n",
       "      <th>Neutral</th>\n",
       "      <th>Sad</th>\n",
       "      <th>Surprise</th>\n",
       "    </tr>\n",
       "    <tr>\n",
       "      <th>labels</th>\n",
       "      <th></th>\n",
       "      <th></th>\n",
       "      <th></th>\n",
       "      <th></th>\n",
       "      <th></th>\n",
       "      <th></th>\n",
       "      <th></th>\n",
       "    </tr>\n",
       "  </thead>\n",
       "  <tbody>\n",
       "    <tr>\n",
       "      <th>abuse</th>\n",
       "      <td>0.216120</td>\n",
       "      <td>0.041207</td>\n",
       "      <td>0.186595</td>\n",
       "      <td>0.217363</td>\n",
       "      <td>0.022143</td>\n",
       "      <td>0.153303</td>\n",
       "      <td>0.163269</td>\n",
       "    </tr>\n",
       "    <tr>\n",
       "      <th>non_abuse</th>\n",
       "      <td>0.178195</td>\n",
       "      <td>0.038297</td>\n",
       "      <td>0.193522</td>\n",
       "      <td>0.218187</td>\n",
       "      <td>0.023401</td>\n",
       "      <td>0.170740</td>\n",
       "      <td>0.177659</td>\n",
       "    </tr>\n",
       "  </tbody>\n",
       "</table>\n",
       "</div>"
      ],
      "text/plain": [
       "              Anger   Disgust      Fear     Happy   Neutral       Sad  \\\n",
       "labels                                                                  \n",
       "abuse      0.216120  0.041207  0.186595  0.217363  0.022143  0.153303   \n",
       "non_abuse  0.178195  0.038297  0.193522  0.218187  0.023401  0.170740   \n",
       "\n",
       "           Surprise  \n",
       "labels               \n",
       "abuse      0.163269  \n",
       "non_abuse  0.177659  "
      ]
     },
     "execution_count": 116,
     "metadata": {},
     "output_type": "execute_result"
    }
   ],
   "source": [
    "comments_sentiments=pd.DataFrame(df.groupby('labels')[list(comments_columns.keys())].sum())\n",
    "comments_sentiments.rename(columns=comments_columns, inplace=True)\n",
    "comments_sentiments=comments_sentiments.div(comments_sentiments.sum(axis=1), axis=0) #percent stacked\n",
    "comments_sentiments.head()"
   ]
  },
  {
   "cell_type": "code",
   "execution_count": 117,
   "id": "9be5cb83-92e8-47c5-92a2-c28faa7699bb",
   "metadata": {},
   "outputs": [
    {
     "data": {
      "image/png": "[encoded data removed]",
      "text/plain": [
       "<Figure size 600x500 with 1 Axes>"
      ]
     },
     "metadata": {},
     "output_type": "display_data"
    }
   ],
   "source": [
    "sns.set(rc={'figure.figsize':(6,5)})\n",
    "ax=comments_sentiments.plot(kind='bar', stacked=True, legend='reverse', width=0.3)\n",
    "ax.set(xlabel='Type of Comment', title='Comment Sentiment According to Type of Submission')\n",
    "plt.legend(bbox_to_anchor=(1.05,1))\n",
    "\n",
    "for p in ax.patches:\n",
    "    width = p.get_width()\n",
    "    height = p.get_height()\n",
    "    x, y = p.get_xy() \n",
    "    ax.annotate(f'{np.round(height,3)}', (x + 0.4, y + height/2 -0.015), ha='center', fontsize=8, color='black')\n",
    "\n",
    "plt.xticks(rotation=0);"
   ]
  },
  {
   "cell_type": "code",
   "execution_count": 118,
   "id": "3c783194-07c9-4df3-b263-478207dd434c",
   "metadata": {
    "scrolled": false
   },
   "outputs": [
    {
     "data": {
      "text/plain": [
       "13      [protect, love, grow, heard, daughter, daughte...\n",
       "14                                  [peace, need, seeing]\n",
       "16      [special, special, love, love, better, better,...\n",
       "23           [sense, good, good, trust, sexual, identity]\n",
       "29      [soul, acceptance, happy, happy, happy, happy,...\n",
       "                              ...                        \n",
       "1079    [protect, toward, important, truth, care, face...\n",
       "1082    [hidden, great, spot, spot, well, cost, hit, s...\n",
       "1088                               [happy, good, sharing]\n",
       "1095    [positive, love, love, love, love, love, love,...\n",
       "1098    [beautiful, healthy, perfect, love, love, love...\n",
       "Name: comments_sentiment_words, Length: 206, dtype: object"
      ]
     },
     "execution_count": 118,
     "metadata": {},
     "output_type": "execute_result"
    }
   ],
   "source": [
    "#The post_sentiment and comments_sentiment columns denote the emotion with the maximum score per post/comment,\n",
    "#and post_sentiment_words and comments_sentiment_words denote the words corresponding to this emotion sorted\n",
    "#by descending scores. \n",
    "\n",
    "#The first word of each row denotes the token with highest score of this sentiment.\n",
    "\n",
    "df[(df.comments_sentiment=='happy') & (df.labels=='abuse')]['comments_sentiment_words']"
   ]
  },
  {
   "cell_type": "code",
   "execution_count": 119,
   "id": "176eaa68-561e-4891-bf4e-0335bfb5c6ef",
   "metadata": {},
   "outputs": [
    {
     "data": {
      "text/plain": [
       "\"It's always there but it does get better. As time goes on it becomes less and less a part of you.\""
      ]
     },
     "execution_count": 119,
     "metadata": {},
     "output_type": "execute_result"
    }
   ],
   "source": [
    "df.comments[29][8]"
   ]
  },
  {
   "cell_type": "code",
   "execution_count": 120,
   "id": "4e567a13-3c4d-4818-86dc-f39ecbcadebb",
   "metadata": {
    "scrolled": true
   },
   "outputs": [
    {
     "data": {
      "text/plain": [
       "\"I haven't specifically had a family like this, though I'm realizing more and more how they often weren't there for me or helped when I really asked for help and start to become very unhappy as a kid, and they were always emotionally quite closed off, but I've had the kind of feelings you describe a lot with my total lack of friends/relationships. Everyone seems to have them and find it easy to make them etc, and yes it is really hard living without that support that everyone seems to take for granted. I've felt extremely alone for years because of this. I'm really glad that you have someone who really cares for you now though. I agree with what yummy_babies said, you can be your own support in a way by loving yourself and and staying positive and supportive for your own wellbeing, as you deserve that love and support even if its from yourself. Maybe that doesn't help very much but I think its easy to forget to love and support yourself sometimes.\""
      ]
     },
     "execution_count": 120,
     "metadata": {},
     "output_type": "execute_result"
    }
   ],
   "source": [
    "df.comments[1095][0]"
   ]
  },
  {
   "cell_type": "code",
   "execution_count": 121,
   "id": "bb8ccb72-e74b-4244-86e4-fe242a9501b8",
   "metadata": {
    "scrolled": true
   },
   "outputs": [
    {
     "data": {
      "text/plain": [
       "3                                     [wrong, yeah, yeah]\n",
       "34      [forced, guarantee, either, degree, career, ne...\n",
       "63      [wrong, heavy, intended, bag, bag, needed, bet...\n",
       "72      [negative, wrong, wrong, fight, script, attent...\n",
       "87      [fail, saying, either, carry, degree, slow, go...\n",
       "                              ...                        \n",
       "1011    [mg, mg, mg, mg, mg, mg, mg, palm, wish, clear...\n",
       "1018    [wrong, shared, taken, prepared, fact, felt, n...\n",
       "1075                           [bad, gone, normal, great]\n",
       "1089    [wrong, brother, became, fix, sorry, break, ex...\n",
       "1103    [negative, protected, sorry, damage, fact, gav...\n",
       "Name: comments_sentiment_words, Length: 79, dtype: object"
      ]
     },
     "execution_count": 121,
     "metadata": {},
     "output_type": "execute_result"
    }
   ],
   "source": [
    "df[(df.comments_sentiment=='anger') & (df.labels=='non_abuse')]['comments_sentiment_words']"
   ]
  },
  {
   "cell_type": "code",
   "execution_count": 122,
   "id": "6ff4942a-2c79-4aca-bc17-1b2ba3b7f5c2",
   "metadata": {},
   "outputs": [
    {
     "data": {
      "text/plain": [
       "[\"Yeah that's what I'm starting to believe... thank you so much!\",\n",
       " \"I'm a diligent person so I know I'd go back. I have to anyway because I need the higher degree for my career. \",\n",
       " \"I'm just more the type who hates uncertainty. Because if I took the year off there's no guarantee in getting accepted. Or what if something else happens in between? A lot of worry on my part.\",\n",
       " \"Still apply to schools but if you don't get accepted you may have no choice.\",\n",
       " \"That's what I'm thinking. I may not get into this other program either and then I'm forced to take a year off.\",\n",
       " \"I wouldn't have to but I would be doing it. I'd be gaining experience in the field which would help in my application.\",\n",
       " 'would you have to do something that looks good on applications in that year?',\n",
       " \"It depends on your personality. If you are diligent and you have no doubt that you could take a year off and get right back to it then get the work experience. But if you think you will dread going back and hate that you didn't get it over with then you should probably stick it out.\",\n",
       " \"Honestly, I wouldn't take a sub-par school though. I would think work experience would work in your favor for next year.\"]"
      ]
     },
     "execution_count": 122,
     "metadata": {},
     "output_type": "execute_result"
    }
   ],
   "source": [
    "df.comments[34]"
   ]
  },
  {
   "cell_type": "code",
   "execution_count": 123,
   "id": "1973964d-5285-408c-a3d4-76c56f88f4f2",
   "metadata": {},
   "outputs": [
    {
     "data": {
      "text/plain": [
       "1       [hope, posting, doctor, doctor, doctor, doctor...\n",
       "5                                       [highly, suggest]\n",
       "28                             [attack, thanks, bad, fun]\n",
       "31      [lost, moment, walk, wall, hole, kept, slow, g...\n",
       "66      [attack, attack, die, exposure, exposure, litt...\n",
       "                              ...                        \n",
       "1061    [fear, fear, doctor, doctor, benefit, benefit,...\n",
       "1062                                             [happen]\n",
       "1063    [attack, prescription, doc, doc, straight, tal...\n",
       "1083    [attack, attack, fear, fear, greater, hope, ho...\n",
       "1090    [flight, flight, doctor, bed, need, clear, cle...\n",
       "Name: comments_sentiment_words, Length: 116, dtype: object"
      ]
     },
     "execution_count": 123,
     "metadata": {},
     "output_type": "execute_result"
    }
   ],
   "source": [
    "df[(df.comments_sentiment=='fear') & (df.labels=='non_abuse')]['comments_sentiment_words']"
   ]
  },
  {
   "cell_type": "code",
   "execution_count": 124,
   "id": "d10b39fe-5914-4dcf-8d9d-221034e122bc",
   "metadata": {},
   "outputs": [
    {
     "data": {
      "text/plain": [
       "[\"Sounds like you are ready to give up struggling against anxiety. That's great! It's the struggling that is the problem, not anxiety. The fear of fear is the problem and it's just a habit we learned. The good news is you can unlearn it, but it takes some of your time and discipline.\",\n",
       " \"The best advice I can offer is to learn to meditate. It's the only thing I have really stuck at. Ever. and I can be the laziest, most anxious person I know.\",\n",
       " 'It is simple but difficult. I started with an 8 week mindfulness course with the Pain Service from my local doctors. This was enough to get me over the initial confusion and created a habit of daily meditation. The benefits are seemingly lifelong and have been well researched to be effective.',\n",
       " 'Once I started to feel the benefits from meditation I started doing some *mindful* yoga, which is just moving meditation. From there it started to seep into my everyday life. I started noticing good things that were going on in my life, things that were happening already but I was too tied up in anxiety to notice before.',\n",
       " 'The key for me was the breath. Before learning meditation, concentrating on my breath made me anxious. Nowadays *mindful* breathing is how I regulate my emotional state and keep calm and relaxed throughout the day.',\n",
       " 'Perhaps start today. Head on over to /r/meditation. They have a great faq to help you get started. Maybe find a local meditation group, religion is not part of meditation. I would definitely speak to your doctor about any courses going on.']"
      ]
     },
     "execution_count": 124,
     "metadata": {},
     "output_type": "execute_result"
    }
   ],
   "source": [
    "df.comments[1061]"
   ]
  },
  {
   "cell_type": "markdown",
   "id": "dbb29156-1425-492f-86d1-5c8a918d458b",
   "metadata": {},
   "source": [
    "Posts labeled as abuse mostly express angry emotions, and comments under these posts express both anger and happiness. It can be seen that the most 'happy' words are also 'positive' words of comfort and advice such as *love, happy,* and *protect*, but they can also be used to skepticism against being able to be happy. The 'happy' emotion is the most prominent in the non-abuse posts & dominates the non-abuse comment section.\n",
    "\n",
    "While posts labeled as non-abuse seem to have less emotions of anger, it is still quite prominent (third most common emotion) with tokens like *mg, wrong*, and *negative*. Fear was actually more common in non-abuse posts and comments, with prominent fear words being *doctor, attack,* and *hope* \n",
    "\n",
    "Emotions of disgust and neutrality were the least common in this dataset.\n"
   ]
  },
  {
   "cell_type": "code",
   "execution_count": 125,
   "id": "2db6737a-34b7-4c06-9d81-7cf836695588",
   "metadata": {},
   "outputs": [],
   "source": [
    "df.to_csv('Final_reddit.csv')"
   ]
  }
 ],
 "metadata": {
  "kernelspec": {
   "display_name": "Python 3 (ipykernel)",
   "language": "python",
   "name": "python3"
  },
  "language_info": {
   "codemirror_mode": {
    "name": "ipython",
    "version": 3
   },
   "file_extension": ".py",
   "mimetype": "text/x-python",
   "name": "python",
   "nbconvert_exporter": "python",
   "pygments_lexer": "ipython3",
   "version": "3.9.13"
  }
 },
 "nbformat": 4,
 "nbformat_minor": 5
}
