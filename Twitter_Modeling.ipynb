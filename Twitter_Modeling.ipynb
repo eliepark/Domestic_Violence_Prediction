{
 "cells": [
  {
   "cell_type": "code",
   "execution_count": 1,
   "id": "b8977b8e-c401-4027-bff2-3b04fdd69077",
   "metadata": {},
   "outputs": [],
   "source": [
    "import pandas as pd\n",
    "import numpy as np\n",
    "import matplotlib.pyplot as plt\n",
    "import seaborn as sns\n",
    "import warnings \n",
    "warnings.filterwarnings('ignore')"
   ]
  },
  {
   "cell_type": "code",
   "execution_count": 2,
   "id": "a57ec9f1-ba8d-44a4-99df-a03fb26d5932",
   "metadata": {},
   "outputs": [
    {
     "ename": "FileNotFoundError",
     "evalue": "[Errno 2] No such file or directory: 'Final_twitter.xlsx'",
     "output_type": "error",
     "traceback": [
      "\u001b[0;31m---------------------------------------------------------------------------\u001b[0m",
      "\u001b[0;31mFileNotFoundError\u001b[0m                         Traceback (most recent call last)",
      "Input \u001b[0;32mIn [2]\u001b[0m, in \u001b[0;36m<cell line: 1>\u001b[0;34m()\u001b[0m\n\u001b[0;32m----> 1\u001b[0m df\u001b[38;5;241m=\u001b[39m\u001b[43mpd\u001b[49m\u001b[38;5;241;43m.\u001b[39;49m\u001b[43mread_excel\u001b[49m\u001b[43m(\u001b[49m\u001b[38;5;124;43m'\u001b[39;49m\u001b[38;5;124;43mFinal_twitter.xlsx\u001b[39;49m\u001b[38;5;124;43m'\u001b[39;49m\u001b[43m)\u001b[49m\n",
      "File \u001b[0;32m/opt/homebrew/lib/python3.9/site-packages/pandas/util/_decorators.py:311\u001b[0m, in \u001b[0;36mdeprecate_nonkeyword_arguments.<locals>.decorate.<locals>.wrapper\u001b[0;34m(*args, **kwargs)\u001b[0m\n\u001b[1;32m    305\u001b[0m \u001b[38;5;28;01mif\u001b[39;00m \u001b[38;5;28mlen\u001b[39m(args) \u001b[38;5;241m>\u001b[39m num_allow_args:\n\u001b[1;32m    306\u001b[0m     warnings\u001b[38;5;241m.\u001b[39mwarn(\n\u001b[1;32m    307\u001b[0m         msg\u001b[38;5;241m.\u001b[39mformat(arguments\u001b[38;5;241m=\u001b[39marguments),\n\u001b[1;32m    308\u001b[0m         \u001b[38;5;167;01mFutureWarning\u001b[39;00m,\n\u001b[1;32m    309\u001b[0m         stacklevel\u001b[38;5;241m=\u001b[39mstacklevel,\n\u001b[1;32m    310\u001b[0m     )\n\u001b[0;32m--> 311\u001b[0m \u001b[38;5;28;01mreturn\u001b[39;00m \u001b[43mfunc\u001b[49m\u001b[43m(\u001b[49m\u001b[38;5;241;43m*\u001b[39;49m\u001b[43margs\u001b[49m\u001b[43m,\u001b[49m\u001b[43m \u001b[49m\u001b[38;5;241;43m*\u001b[39;49m\u001b[38;5;241;43m*\u001b[39;49m\u001b[43mkwargs\u001b[49m\u001b[43m)\u001b[49m\n",
      "File \u001b[0;32m/opt/homebrew/lib/python3.9/site-packages/pandas/io/excel/_base.py:457\u001b[0m, in \u001b[0;36mread_excel\u001b[0;34m(io, sheet_name, header, names, index_col, usecols, squeeze, dtype, engine, converters, true_values, false_values, skiprows, nrows, na_values, keep_default_na, na_filter, verbose, parse_dates, date_parser, thousands, decimal, comment, skipfooter, convert_float, mangle_dupe_cols, storage_options)\u001b[0m\n\u001b[1;32m    455\u001b[0m \u001b[38;5;28;01mif\u001b[39;00m \u001b[38;5;129;01mnot\u001b[39;00m \u001b[38;5;28misinstance\u001b[39m(io, ExcelFile):\n\u001b[1;32m    456\u001b[0m     should_close \u001b[38;5;241m=\u001b[39m \u001b[38;5;28;01mTrue\u001b[39;00m\n\u001b[0;32m--> 457\u001b[0m     io \u001b[38;5;241m=\u001b[39m \u001b[43mExcelFile\u001b[49m\u001b[43m(\u001b[49m\u001b[43mio\u001b[49m\u001b[43m,\u001b[49m\u001b[43m \u001b[49m\u001b[43mstorage_options\u001b[49m\u001b[38;5;241;43m=\u001b[39;49m\u001b[43mstorage_options\u001b[49m\u001b[43m,\u001b[49m\u001b[43m \u001b[49m\u001b[43mengine\u001b[49m\u001b[38;5;241;43m=\u001b[39;49m\u001b[43mengine\u001b[49m\u001b[43m)\u001b[49m\n\u001b[1;32m    458\u001b[0m \u001b[38;5;28;01melif\u001b[39;00m engine \u001b[38;5;129;01mand\u001b[39;00m engine \u001b[38;5;241m!=\u001b[39m io\u001b[38;5;241m.\u001b[39mengine:\n\u001b[1;32m    459\u001b[0m     \u001b[38;5;28;01mraise\u001b[39;00m \u001b[38;5;167;01mValueError\u001b[39;00m(\n\u001b[1;32m    460\u001b[0m         \u001b[38;5;124m\"\u001b[39m\u001b[38;5;124mEngine should not be specified when passing \u001b[39m\u001b[38;5;124m\"\u001b[39m\n\u001b[1;32m    461\u001b[0m         \u001b[38;5;124m\"\u001b[39m\u001b[38;5;124man ExcelFile - ExcelFile already has the engine set\u001b[39m\u001b[38;5;124m\"\u001b[39m\n\u001b[1;32m    462\u001b[0m     )\n",
      "File \u001b[0;32m/opt/homebrew/lib/python3.9/site-packages/pandas/io/excel/_base.py:1376\u001b[0m, in \u001b[0;36mExcelFile.__init__\u001b[0;34m(self, path_or_buffer, engine, storage_options)\u001b[0m\n\u001b[1;32m   1374\u001b[0m     ext \u001b[38;5;241m=\u001b[39m \u001b[38;5;124m\"\u001b[39m\u001b[38;5;124mxls\u001b[39m\u001b[38;5;124m\"\u001b[39m\n\u001b[1;32m   1375\u001b[0m \u001b[38;5;28;01melse\u001b[39;00m:\n\u001b[0;32m-> 1376\u001b[0m     ext \u001b[38;5;241m=\u001b[39m \u001b[43minspect_excel_format\u001b[49m\u001b[43m(\u001b[49m\n\u001b[1;32m   1377\u001b[0m \u001b[43m        \u001b[49m\u001b[43mcontent_or_path\u001b[49m\u001b[38;5;241;43m=\u001b[39;49m\u001b[43mpath_or_buffer\u001b[49m\u001b[43m,\u001b[49m\u001b[43m \u001b[49m\u001b[43mstorage_options\u001b[49m\u001b[38;5;241;43m=\u001b[39;49m\u001b[43mstorage_options\u001b[49m\n\u001b[1;32m   1378\u001b[0m \u001b[43m    \u001b[49m\u001b[43m)\u001b[49m\n\u001b[1;32m   1379\u001b[0m     \u001b[38;5;28;01mif\u001b[39;00m ext \u001b[38;5;129;01mis\u001b[39;00m \u001b[38;5;28;01mNone\u001b[39;00m:\n\u001b[1;32m   1380\u001b[0m         \u001b[38;5;28;01mraise\u001b[39;00m \u001b[38;5;167;01mValueError\u001b[39;00m(\n\u001b[1;32m   1381\u001b[0m             \u001b[38;5;124m\"\u001b[39m\u001b[38;5;124mExcel file format cannot be determined, you must specify \u001b[39m\u001b[38;5;124m\"\u001b[39m\n\u001b[1;32m   1382\u001b[0m             \u001b[38;5;124m\"\u001b[39m\u001b[38;5;124man engine manually.\u001b[39m\u001b[38;5;124m\"\u001b[39m\n\u001b[1;32m   1383\u001b[0m         )\n",
      "File \u001b[0;32m/opt/homebrew/lib/python3.9/site-packages/pandas/io/excel/_base.py:1250\u001b[0m, in \u001b[0;36minspect_excel_format\u001b[0;34m(content_or_path, storage_options)\u001b[0m\n\u001b[1;32m   1247\u001b[0m \u001b[38;5;28;01mif\u001b[39;00m \u001b[38;5;28misinstance\u001b[39m(content_or_path, \u001b[38;5;28mbytes\u001b[39m):\n\u001b[1;32m   1248\u001b[0m     content_or_path \u001b[38;5;241m=\u001b[39m BytesIO(content_or_path)\n\u001b[0;32m-> 1250\u001b[0m \u001b[38;5;28;01mwith\u001b[39;00m \u001b[43mget_handle\u001b[49m\u001b[43m(\u001b[49m\n\u001b[1;32m   1251\u001b[0m \u001b[43m    \u001b[49m\u001b[43mcontent_or_path\u001b[49m\u001b[43m,\u001b[49m\u001b[43m \u001b[49m\u001b[38;5;124;43m\"\u001b[39;49m\u001b[38;5;124;43mrb\u001b[39;49m\u001b[38;5;124;43m\"\u001b[39;49m\u001b[43m,\u001b[49m\u001b[43m \u001b[49m\u001b[43mstorage_options\u001b[49m\u001b[38;5;241;43m=\u001b[39;49m\u001b[43mstorage_options\u001b[49m\u001b[43m,\u001b[49m\u001b[43m \u001b[49m\u001b[43mis_text\u001b[49m\u001b[38;5;241;43m=\u001b[39;49m\u001b[38;5;28;43;01mFalse\u001b[39;49;00m\n\u001b[1;32m   1252\u001b[0m \u001b[43m\u001b[49m\u001b[43m)\u001b[49m \u001b[38;5;28;01mas\u001b[39;00m handle:\n\u001b[1;32m   1253\u001b[0m     stream \u001b[38;5;241m=\u001b[39m handle\u001b[38;5;241m.\u001b[39mhandle\n\u001b[1;32m   1254\u001b[0m     stream\u001b[38;5;241m.\u001b[39mseek(\u001b[38;5;241m0\u001b[39m)\n",
      "File \u001b[0;32m/opt/homebrew/lib/python3.9/site-packages/pandas/io/common.py:798\u001b[0m, in \u001b[0;36mget_handle\u001b[0;34m(path_or_buf, mode, encoding, compression, memory_map, is_text, errors, storage_options)\u001b[0m\n\u001b[1;32m    789\u001b[0m         handle \u001b[38;5;241m=\u001b[39m \u001b[38;5;28mopen\u001b[39m(\n\u001b[1;32m    790\u001b[0m             handle,\n\u001b[1;32m    791\u001b[0m             ioargs\u001b[38;5;241m.\u001b[39mmode,\n\u001b[0;32m   (...)\u001b[0m\n\u001b[1;32m    794\u001b[0m             newline\u001b[38;5;241m=\u001b[39m\u001b[38;5;124m\"\u001b[39m\u001b[38;5;124m\"\u001b[39m,\n\u001b[1;32m    795\u001b[0m         )\n\u001b[1;32m    796\u001b[0m     \u001b[38;5;28;01melse\u001b[39;00m:\n\u001b[1;32m    797\u001b[0m         \u001b[38;5;66;03m# Binary mode\u001b[39;00m\n\u001b[0;32m--> 798\u001b[0m         handle \u001b[38;5;241m=\u001b[39m \u001b[38;5;28;43mopen\u001b[39;49m\u001b[43m(\u001b[49m\u001b[43mhandle\u001b[49m\u001b[43m,\u001b[49m\u001b[43m \u001b[49m\u001b[43mioargs\u001b[49m\u001b[38;5;241;43m.\u001b[39;49m\u001b[43mmode\u001b[49m\u001b[43m)\u001b[49m\n\u001b[1;32m    799\u001b[0m     handles\u001b[38;5;241m.\u001b[39mappend(handle)\n\u001b[1;32m    801\u001b[0m \u001b[38;5;66;03m# Convert BytesIO or file objects passed with an encoding\u001b[39;00m\n",
      "\u001b[0;31mFileNotFoundError\u001b[0m: [Errno 2] No such file or directory: 'Final_twitter.xlsx'"
     ]
    }
   ],
   "source": [
    "df=pd.read_excel('Final_twitter.xlsx')"
   ]
  },
  {
   "cell_type": "code",
   "execution_count": null,
   "id": "dbc60f79-87b3-4c14-b357-70037fe64f86",
   "metadata": {},
   "outputs": [],
   "source": [
    "df.shape"
   ]
  },
  {
   "cell_type": "code",
   "execution_count": null,
   "id": "38a15f15-e41b-43a3-abab-7b91d863385a",
   "metadata": {},
   "outputs": [],
   "source": [
    "df.drop(columns='Unnamed: 0', inplace=True)"
   ]
  },
  {
   "cell_type": "code",
   "execution_count": 3,
   "id": "39e14b1d-715a-4461-b8a5-4201f43839b9",
   "metadata": {
    "scrolled": true
   },
   "outputs": [
    {
     "ename": "NameError",
     "evalue": "name 'df' is not defined",
     "output_type": "error",
     "traceback": [
      "\u001b[0;31m---------------------------------------------------------------------------\u001b[0m",
      "\u001b[0;31mNameError\u001b[0m                                 Traceback (most recent call last)",
      "Input \u001b[0;32mIn [3]\u001b[0m, in \u001b[0;36m<cell line: 1>\u001b[0;34m()\u001b[0m\n\u001b[0;32m----> 1\u001b[0m \u001b[43mdf\u001b[49m\u001b[38;5;241m.\u001b[39mhead()\n",
      "\u001b[0;31mNameError\u001b[0m: name 'df' is not defined"
     ]
    }
   ],
   "source": [
    "df.head()"
   ]
  },
  {
   "cell_type": "code",
   "execution_count": 6,
   "id": "30ad5708",
   "metadata": {
    "scrolled": true
   },
   "outputs": [
    {
     "data": {
      "text/html": [
       "<div>\n",
       "<style scoped>\n",
       "    .dataframe tbody tr th:only-of-type {\n",
       "        vertical-align: middle;\n",
       "    }\n",
       "\n",
       "    .dataframe tbody tr th {\n",
       "        vertical-align: top;\n",
       "    }\n",
       "\n",
       "    .dataframe thead th {\n",
       "        text-align: right;\n",
       "    }\n",
       "</style>\n",
       "<table border=\"1\" class=\"dataframe\">\n",
       "  <thead>\n",
       "    <tr style=\"text-align: right;\">\n",
       "      <th></th>\n",
       "      <th>post</th>\n",
       "      <th>label</th>\n",
       "      <th>reading_score</th>\n",
       "      <th>processed_post</th>\n",
       "      <th>emojis</th>\n",
       "      <th>mentions</th>\n",
       "      <th>caps</th>\n",
       "      <th>tokens</th>\n",
       "      <th>num_tokens</th>\n",
       "      <th>chars</th>\n",
       "      <th>...</th>\n",
       "      <th>disgust</th>\n",
       "      <th>surprise</th>\n",
       "      <th>neutral</th>\n",
       "      <th>anger</th>\n",
       "      <th>sad</th>\n",
       "      <th>happy</th>\n",
       "      <th>fear</th>\n",
       "      <th>labels_num</th>\n",
       "      <th>urls</th>\n",
       "      <th>avg_word_length</th>\n",
       "    </tr>\n",
       "  </thead>\n",
       "  <tbody>\n",
       "    <tr>\n",
       "      <th>19547</th>\n",
       "      <td>Bec she didn't want her kids to think it was</td>\n",
       "      <td>#WhyILeft</td>\n",
       "      <td>103.63</td>\n",
       "      <td>Bec she didn't want her kids to think it was</td>\n",
       "      <td>0</td>\n",
       "      <td>0</td>\n",
       "      <td>0.029412</td>\n",
       "      <td>bec want kid</td>\n",
       "      <td>3</td>\n",
       "      <td>45</td>\n",
       "      <td>...</td>\n",
       "      <td>NaN</td>\n",
       "      <td>NaN</td>\n",
       "      <td>NaN</td>\n",
       "      <td>NaN</td>\n",
       "      <td>NaN</td>\n",
       "      <td>NaN</td>\n",
       "      <td>NaN</td>\n",
       "      <td>0</td>\n",
       "      <td>0</td>\n",
       "      <td>4.090909</td>\n",
       "    </tr>\n",
       "    <tr>\n",
       "      <th>19548</th>\n",
       "      <td>If a guy asks questions, something is up with ...</td>\n",
       "      <td>#WhyILeft</td>\n",
       "      <td>85.69</td>\n",
       "      <td>If a guy asks questions, something is up with ...</td>\n",
       "      <td>0</td>\n",
       "      <td>0</td>\n",
       "      <td>0.025641</td>\n",
       "      <td>guy asks question something</td>\n",
       "      <td>4</td>\n",
       "      <td>51</td>\n",
       "      <td>...</td>\n",
       "      <td>NaN</td>\n",
       "      <td>NaN</td>\n",
       "      <td>NaN</td>\n",
       "      <td>NaN</td>\n",
       "      <td>NaN</td>\n",
       "      <td>NaN</td>\n",
       "      <td>NaN</td>\n",
       "      <td>0</td>\n",
       "      <td>0</td>\n",
       "      <td>5.100000</td>\n",
       "    </tr>\n",
       "    <tr>\n",
       "      <th>19549</th>\n",
       "      <td>: university options 4. Me</td>\n",
       "      <td>#WhyILeft</td>\n",
       "      <td>33.58</td>\n",
       "      <td>: university options 4. Me</td>\n",
       "      <td>0</td>\n",
       "      <td>0</td>\n",
       "      <td>0.052632</td>\n",
       "      <td>university option</td>\n",
       "      <td>2</td>\n",
       "      <td>27</td>\n",
       "      <td>...</td>\n",
       "      <td>0.004464</td>\n",
       "      <td>0.031250</td>\n",
       "      <td>0.004464</td>\n",
       "      <td>0.040179</td>\n",
       "      <td>0.040179</td>\n",
       "      <td>0.004464</td>\n",
       "      <td>0.040179</td>\n",
       "      <td>0</td>\n",
       "      <td>0</td>\n",
       "      <td>9.000000</td>\n",
       "    </tr>\n",
       "    <tr>\n",
       "      <th>19550</th>\n",
       "      <td>#WhyIStayed my friends tried to intervene, but...</td>\n",
       "      <td>#WhyIStayed</td>\n",
       "      <td>63.02</td>\n",
       "      <td>my friends tried to intervene, but I wasnt re...</td>\n",
       "      <td>0</td>\n",
       "      <td>0</td>\n",
       "      <td>0.019231</td>\n",
       "      <td>friend tried intervene wasnt ready b saved eve...</td>\n",
       "      <td>15</td>\n",
       "      <td>133</td>\n",
       "      <td>...</td>\n",
       "      <td>0.018123</td>\n",
       "      <td>0.024111</td>\n",
       "      <td>0.005226</td>\n",
       "      <td>0.026555</td>\n",
       "      <td>0.057947</td>\n",
       "      <td>0.022623</td>\n",
       "      <td>0.014403</td>\n",
       "      <td>1</td>\n",
       "      <td>0</td>\n",
       "      <td>5.320000</td>\n",
       "    </tr>\n",
       "    <tr>\n",
       "      <th>19551</th>\n",
       "      <td>I stayed because my pastor told me that God ha...</td>\n",
       "      <td>#WhyIStayed</td>\n",
       "      <td>85.18</td>\n",
       "      <td>I stayed because my pastor told me that God ha...</td>\n",
       "      <td>0</td>\n",
       "      <td>0</td>\n",
       "      <td>0.044944</td>\n",
       "      <td>stayed pastor god hate divorce cross mind god ...</td>\n",
       "      <td>11</td>\n",
       "      <td>115</td>\n",
       "      <td>...</td>\n",
       "      <td>0.000628</td>\n",
       "      <td>0.018005</td>\n",
       "      <td>0.015299</td>\n",
       "      <td>0.043888</td>\n",
       "      <td>0.009210</td>\n",
       "      <td>0.039747</td>\n",
       "      <td>0.016748</td>\n",
       "      <td>1</td>\n",
       "      <td>0</td>\n",
       "      <td>5.000000</td>\n",
       "    </tr>\n",
       "  </tbody>\n",
       "</table>\n",
       "<p>5 rows × 23 columns</p>\n",
       "</div>"
      ],
      "text/plain": [
       "                                                    post        label  \\\n",
       "19547       Bec she didn't want her kids to think it was    #WhyILeft   \n",
       "19548  If a guy asks questions, something is up with ...    #WhyILeft   \n",
       "19549                         : university options 4. Me    #WhyILeft   \n",
       "19550  #WhyIStayed my friends tried to intervene, but...  #WhyIStayed   \n",
       "19551  I stayed because my pastor told me that God ha...  #WhyIStayed   \n",
       "\n",
       "       reading_score                                     processed_post  \\\n",
       "19547         103.63       Bec she didn't want her kids to think it was   \n",
       "19548          85.69  If a guy asks questions, something is up with ...   \n",
       "19549          33.58                         : university options 4. Me   \n",
       "19550          63.02   my friends tried to intervene, but I wasnt re...   \n",
       "19551          85.18  I stayed because my pastor told me that God ha...   \n",
       "\n",
       "       emojis  mentions      caps  \\\n",
       "19547       0         0  0.029412   \n",
       "19548       0         0  0.025641   \n",
       "19549       0         0  0.052632   \n",
       "19550       0         0  0.019231   \n",
       "19551       0         0  0.044944   \n",
       "\n",
       "                                                  tokens  num_tokens  chars  \\\n",
       "19547                                       bec want kid           3     45   \n",
       "19548                        guy asks question something           4     51   \n",
       "19549                                  university option           2     27   \n",
       "19550  friend tried intervene wasnt ready b saved eve...          15    133   \n",
       "19551  stayed pastor god hate divorce cross mind god ...          11    115   \n",
       "\n",
       "       ...   disgust  surprise   neutral     anger       sad     happy  \\\n",
       "19547  ...       NaN       NaN       NaN       NaN       NaN       NaN   \n",
       "19548  ...       NaN       NaN       NaN       NaN       NaN       NaN   \n",
       "19549  ...  0.004464  0.031250  0.004464  0.040179  0.040179  0.004464   \n",
       "19550  ...  0.018123  0.024111  0.005226  0.026555  0.057947  0.022623   \n",
       "19551  ...  0.000628  0.018005  0.015299  0.043888  0.009210  0.039747   \n",
       "\n",
       "           fear  labels_num  urls  avg_word_length  \n",
       "19547       NaN           0     0         4.090909  \n",
       "19548       NaN           0     0         5.100000  \n",
       "19549  0.040179           0     0         9.000000  \n",
       "19550  0.014403           1     0         5.320000  \n",
       "19551  0.016748           1     0         5.000000  \n",
       "\n",
       "[5 rows x 23 columns]"
      ]
     },
     "execution_count": 6,
     "metadata": {},
     "output_type": "execute_result"
    }
   ],
   "source": [
    "df.tail()"
   ]
  },
  {
   "cell_type": "code",
   "execution_count": 7,
   "id": "a7171d96",
   "metadata": {},
   "outputs": [
    {
     "data": {
      "text/plain": [
       "(19552, 23)"
      ]
     },
     "execution_count": 7,
     "metadata": {},
     "output_type": "execute_result"
    }
   ],
   "source": [
    "df.shape"
   ]
  },
  {
   "cell_type": "code",
   "execution_count": 8,
   "id": "114fbe41",
   "metadata": {},
   "outputs": [
    {
     "data": {
      "text/plain": [
       "#WhyIStayed    13731\n",
       "#WhyILeft       5821\n",
       "Name: label, dtype: int64"
      ]
     },
     "execution_count": 8,
     "metadata": {},
     "output_type": "execute_result"
    }
   ],
   "source": [
    "df.label.value_counts()"
   ]
  },
  {
   "cell_type": "markdown",
   "id": "32ba8b72-f41a-4ae6-a969-d50a9f1a34ca",
   "metadata": {},
   "source": [
    "# Modeling"
   ]
  },
  {
   "cell_type": "code",
   "execution_count": 9,
   "id": "c4a0a57c",
   "metadata": {},
   "outputs": [],
   "source": [
    "models=pd.DataFrame(index=['Naive Bayes Classifier', 'Random Forest Classifier', 'Logistic Regression'],\\\n",
    "                    columns=['Best min_df for CountVectorizer', 'Best Parameters', 'ROC AUC Score'])"
   ]
  },
  {
   "cell_type": "markdown",
   "id": "7617b058",
   "metadata": {},
   "source": [
    "## Naive Bayes Classifier"
   ]
  },
  {
   "cell_type": "code",
   "execution_count": 10,
   "id": "c23d722b-f511-44eb-bf7a-8fe4031780db",
   "metadata": {},
   "outputs": [],
   "source": [
    "from sklearn.feature_extraction.text import CountVectorizer\n",
    "from sklearn.model_selection import train_test_split\n",
    "from sklearn.naive_bayes import MultinomialNB\n",
    "from sklearn.ensemble import RandomForestClassifier\n",
    "from sklearn.linear_model import LogisticRegression\n",
    "from sklearn.metrics import roc_auc_score, roc_curve"
   ]
  },
  {
   "cell_type": "code",
   "execution_count": 11,
   "id": "311a1a82-4eec-43c7-af9b-2cd0af014284",
   "metadata": {},
   "outputs": [],
   "source": [
    "def pick_min_df(X, y, min_df_range=20, clf='nb'):\n",
    "    X_train, X_test, y_train, y_test=train_test_split(X, y, test_size=0.2, random_state=123)\n",
    "    pick_df=pd.DataFrame({}, columns=['test_accuracy'])\n",
    "    for i in range(min_df_range):\n",
    "        vect=CountVectorizer(min_df=i)\n",
    "        #dtm: document-term matrix\n",
    "        X_train_dtm=vect.fit_transform(X_train)\n",
    "        X_test_dtm=vect.transform(X_test)\n",
    "        if clf=='nb':\n",
    "            clf=MultinomialNB()\n",
    "        elif clf=='rfc':\n",
    "            clf=RandomForestClassifier(random_state=123)\n",
    "        elif clf=='lr':\n",
    "            clf=LogisticRegression(random_state=123)\n",
    "        clf.fit(X_train_dtm, y_train)\n",
    "        y_pred=clf.predict(X_test_dtm)\n",
    "        y_pred_prob=clf.predict_proba(X_test_dtm)[:,1]\n",
    "        pick_df=pd.concat([pick_df, pd.DataFrame({'test_accuracy':[roc_auc_score(y_test, y_pred_prob)]})])\n",
    "    pick_df=pick_df.reset_index(drop=True)\n",
    "    \n",
    "    return pick_df[pick_df['test_accuracy']==max(pick_df['test_accuracy'])]\n",
    "\n"
   ]
  },
  {
   "cell_type": "code",
   "execution_count": 12,
   "id": "e28e6e48-c0f7-4afe-893d-26d3d499fa3f",
   "metadata": {
    "scrolled": true
   },
   "outputs": [
    {
     "data": {
      "text/html": [
       "<div>\n",
       "<style scoped>\n",
       "    .dataframe tbody tr th:only-of-type {\n",
       "        vertical-align: middle;\n",
       "    }\n",
       "\n",
       "    .dataframe tbody tr th {\n",
       "        vertical-align: top;\n",
       "    }\n",
       "\n",
       "    .dataframe thead th {\n",
       "        text-align: right;\n",
       "    }\n",
       "</style>\n",
       "<table border=\"1\" class=\"dataframe\">\n",
       "  <thead>\n",
       "    <tr style=\"text-align: right;\">\n",
       "      <th></th>\n",
       "      <th>test_accuracy</th>\n",
       "    </tr>\n",
       "  </thead>\n",
       "  <tbody>\n",
       "    <tr>\n",
       "      <th>0</th>\n",
       "      <td>0.824254</td>\n",
       "    </tr>\n",
       "    <tr>\n",
       "      <th>1</th>\n",
       "      <td>0.824254</td>\n",
       "    </tr>\n",
       "  </tbody>\n",
       "</table>\n",
       "</div>"
      ],
      "text/plain": [
       "  test_accuracy\n",
       "0      0.824254\n",
       "1      0.824254"
      ]
     },
     "execution_count": 12,
     "metadata": {},
     "output_type": "execute_result"
    }
   ],
   "source": [
    "pick_min_df(df.tokens, df.labels_num)"
   ]
  },
  {
   "cell_type": "code",
   "execution_count": 13,
   "id": "3d57c427-0c02-4916-90fe-fb4aaeda3b21",
   "metadata": {},
   "outputs": [],
   "source": [
    "X_train, X_test, y_train, y_test=train_test_split(df.tokens, df.labels_num, test_size=0.2, random_state=123)\n",
    "vect=CountVectorizer(min_df=1)\n",
    "X_train_dtm=vect.fit_transform(X_train)\n",
    "X_test_dtm=vect.transform(X_test)\n",
    "nb=MultinomialNB()\n",
    "nb.fit(X_train_dtm, y_train)\n",
    "y_pred=nb.predict(X_test_dtm)\n",
    "y_pred_prob=nb.predict_proba(X_test_dtm)[:,1]"
   ]
  },
  {
   "cell_type": "code",
   "execution_count": 14,
   "id": "d0016f9c-1868-4c47-a2bc-78a8d62e27b2",
   "metadata": {},
   "outputs": [
    {
     "data": {
      "text/plain": [
       "0.82425354163959"
      ]
     },
     "execution_count": 14,
     "metadata": {},
     "output_type": "execute_result"
    }
   ],
   "source": [
    "roc_auc_score(y_test, y_pred_prob) #same as nb.score(X_test_dtm,y_test)"
   ]
  },
  {
   "cell_type": "code",
   "execution_count": 15,
   "id": "5f74a391-03dc-494d-beb5-4214f3fd0fd5",
   "metadata": {
    "scrolled": true
   },
   "outputs": [
    {
     "name": "stdout",
     "output_type": "stream",
     "text": [
      "Tuned Naive Bayes Parameter: {'alpha': 1}\n",
      "Tuned Naive Bayes ROC_AUC Score: 0.8070528911631865\n"
     ]
    }
   ],
   "source": [
    "from sklearn.model_selection import GridSearchCV\n",
    "param_grid={'alpha':[.001, .01, .1, 1, 5, 10, 50, 100, 1000]}\n",
    "nb_cv=GridSearchCV(nb, param_grid, scoring='roc_auc', cv=5)\n",
    "nb_cv.fit(X_train_dtm, y_train)\n",
    "print(\"Tuned Naive Bayes Parameter: {}\".format(nb_cv.best_params_))\n",
    "print(\"Tuned Naive Bayes ROC_AUC Score: {}\".format(nb_cv.best_score_))"
   ]
  },
  {
   "cell_type": "code",
   "execution_count": 16,
   "id": "3dbeedc8",
   "metadata": {},
   "outputs": [],
   "source": [
    "models['Best min_df for CountVectorizer'][0]=1\n",
    "models['Best Parameters'][0]=nb_cv.best_params_"
   ]
  },
  {
   "cell_type": "code",
   "execution_count": 17,
   "id": "57aff819",
   "metadata": {},
   "outputs": [],
   "source": [
    "X_train, X_test, y_train, y_test=train_test_split(df.tokens, df.labels_num, test_size=0.2, random_state=123)\n",
    "vect=CountVectorizer(min_df=1)\n",
    "X_train_dtm=vect.fit_transform(X_train)\n",
    "X_test_dtm=vect.transform(X_test)\n",
    "nb=MultinomialNB(alpha=1)\n",
    "nb.fit(X_train_dtm, y_train)\n",
    "y_pred=nb.predict(X_test_dtm)\n",
    "y_pred_prob=nb.predict_proba(X_test_dtm)[:,1]\n",
    "nb_fpr, nb_tpr, nb_thresholds=roc_curve(y_test, y_pred_prob)\n",
    "models['ROC AUC Score'][0]=roc_auc_score(y_test, y_pred_prob)"
   ]
  },
  {
   "cell_type": "markdown",
   "id": "dac9382a",
   "metadata": {},
   "source": [
    "## Random Forest Classifier"
   ]
  },
  {
   "cell_type": "code",
   "execution_count": 18,
   "id": "fb81545f",
   "metadata": {},
   "outputs": [
    {
     "data": {
      "text/html": [
       "<div>\n",
       "<style scoped>\n",
       "    .dataframe tbody tr th:only-of-type {\n",
       "        vertical-align: middle;\n",
       "    }\n",
       "\n",
       "    .dataframe tbody tr th {\n",
       "        vertical-align: top;\n",
       "    }\n",
       "\n",
       "    .dataframe thead th {\n",
       "        text-align: right;\n",
       "    }\n",
       "</style>\n",
       "<table border=\"1\" class=\"dataframe\">\n",
       "  <thead>\n",
       "    <tr style=\"text-align: right;\">\n",
       "      <th></th>\n",
       "      <th>test_accuracy</th>\n",
       "    </tr>\n",
       "  </thead>\n",
       "  <tbody>\n",
       "    <tr>\n",
       "      <th>9</th>\n",
       "      <td>0.806089</td>\n",
       "    </tr>\n",
       "  </tbody>\n",
       "</table>\n",
       "</div>"
      ],
      "text/plain": [
       "  test_accuracy\n",
       "9      0.806089"
      ]
     },
     "execution_count": 18,
     "metadata": {},
     "output_type": "execute_result"
    }
   ],
   "source": [
    "pick_min_df(df.tokens, df.labels_num, clf='rfc')"
   ]
  },
  {
   "cell_type": "code",
   "execution_count": 19,
   "id": "95d6d93c",
   "metadata": {},
   "outputs": [],
   "source": [
    "models['Best min_df for CountVectorizer'][1]=9"
   ]
  },
  {
   "cell_type": "code",
   "execution_count": 20,
   "id": "e79752ca",
   "metadata": {},
   "outputs": [],
   "source": [
    "X_train, X_test, y_train, y_test=train_test_split(df.tokens, df.labels_num, test_size=0.2, random_state=123)\n",
    "vect=CountVectorizer(min_df=9)\n",
    "X_train_dtm=vect.fit_transform(X_train)\n",
    "X_test_dtm=vect.transform(X_test)\n",
    "rfc=RandomForestClassifier(random_state=123)\n",
    "rfc.fit(X_train_dtm, y_train)\n",
    "y_pred=rfc.predict(X_test_dtm)\n",
    "y_pred_prob=rfc.predict_proba(X_test_dtm)[:,1]"
   ]
  },
  {
   "cell_type": "code",
   "execution_count": 21,
   "id": "34135bf5",
   "metadata": {},
   "outputs": [
    {
     "data": {
      "text/plain": [
       "0.8060891800011722"
      ]
     },
     "execution_count": 21,
     "metadata": {},
     "output_type": "execute_result"
    }
   ],
   "source": [
    "roc_auc_score(y_test, y_pred_prob)"
   ]
  },
  {
   "cell_type": "code",
   "execution_count": 22,
   "id": "87cf5fe6",
   "metadata": {},
   "outputs": [
    {
     "ename": "KeyboardInterrupt",
     "evalue": "",
     "output_type": "error",
     "traceback": [
      "\u001b[0;31m---------------------------------------------------------------------------\u001b[0m",
      "\u001b[0;31mKeyboardInterrupt\u001b[0m                         Traceback (most recent call last)",
      "Input \u001b[0;32mIn [22]\u001b[0m, in \u001b[0;36m<cell line: 7>\u001b[0;34m()\u001b[0m\n\u001b[1;32m      1\u001b[0m param_grid\u001b[38;5;241m=\u001b[39m{\u001b[38;5;124m'\u001b[39m\u001b[38;5;124mcriterion\u001b[39m\u001b[38;5;124m'\u001b[39m: [\u001b[38;5;124m'\u001b[39m\u001b[38;5;124mgini\u001b[39m\u001b[38;5;124m'\u001b[39m, \u001b[38;5;124m'\u001b[39m\u001b[38;5;124mentropy\u001b[39m\u001b[38;5;124m'\u001b[39m],\n\u001b[1;32m      2\u001b[0m                          \u001b[38;5;124m'\u001b[39m\u001b[38;5;124mmax_depth\u001b[39m\u001b[38;5;124m'\u001b[39m: [\u001b[38;5;28;01mNone\u001b[39;00m, \u001b[38;5;241m1\u001b[39m, \u001b[38;5;241m3\u001b[39m, \u001b[38;5;241m5\u001b[39m, \u001b[38;5;241m7\u001b[39m, \u001b[38;5;241m15\u001b[39m, \u001b[38;5;241m30\u001b[39m],\n\u001b[1;32m      3\u001b[0m                          \u001b[38;5;124m'\u001b[39m\u001b[38;5;124mmax_features\u001b[39m\u001b[38;5;124m'\u001b[39m: [\u001b[38;5;124m'\u001b[39m\u001b[38;5;124msqrt\u001b[39m\u001b[38;5;124m'\u001b[39m, \u001b[38;5;124m'\u001b[39m\u001b[38;5;124mlog2\u001b[39m\u001b[38;5;124m'\u001b[39m],\n\u001b[1;32m      4\u001b[0m                          \u001b[38;5;124m'\u001b[39m\u001b[38;5;124mn_estimators\u001b[39m\u001b[38;5;124m'\u001b[39m: [\u001b[38;5;241m10\u001b[39m, \u001b[38;5;241m50\u001b[39m, \u001b[38;5;241m100\u001b[39m, \u001b[38;5;241m300\u001b[39m, \u001b[38;5;241m700\u001b[39m, \u001b[38;5;241m1000\u001b[39m]}\n\u001b[1;32m      6\u001b[0m rfc_cv\u001b[38;5;241m=\u001b[39mGridSearchCV(rfc, param_grid, scoring\u001b[38;5;241m=\u001b[39m\u001b[38;5;124m'\u001b[39m\u001b[38;5;124mroc_auc\u001b[39m\u001b[38;5;124m'\u001b[39m, cv\u001b[38;5;241m=\u001b[39m\u001b[38;5;241m5\u001b[39m)\n\u001b[0;32m----> 7\u001b[0m \u001b[43mrfc_cv\u001b[49m\u001b[38;5;241;43m.\u001b[39;49m\u001b[43mfit\u001b[49m\u001b[43m(\u001b[49m\u001b[43mX_train_dtm\u001b[49m\u001b[43m,\u001b[49m\u001b[43m \u001b[49m\u001b[43my_train\u001b[49m\u001b[43m)\u001b[49m\n\u001b[1;32m      8\u001b[0m \u001b[38;5;28mprint\u001b[39m(\u001b[38;5;124m\"\u001b[39m\u001b[38;5;124mTuned Random Forest Classifier Parameter: \u001b[39m\u001b[38;5;132;01m{}\u001b[39;00m\u001b[38;5;124m\"\u001b[39m\u001b[38;5;241m.\u001b[39mformat(rfc_cv\u001b[38;5;241m.\u001b[39mbest_params_))\n\u001b[1;32m      9\u001b[0m \u001b[38;5;28mprint\u001b[39m(\u001b[38;5;124m\"\u001b[39m\u001b[38;5;124mTuned Random Forest Classifier ROC_AUC Score: \u001b[39m\u001b[38;5;132;01m{}\u001b[39;00m\u001b[38;5;124m\"\u001b[39m\u001b[38;5;241m.\u001b[39mformat(rfc_cv\u001b[38;5;241m.\u001b[39mbest_score_))\n",
      "File \u001b[0;32m/opt/homebrew/lib/python3.9/site-packages/sklearn/model_selection/_search.py:875\u001b[0m, in \u001b[0;36mBaseSearchCV.fit\u001b[0;34m(self, X, y, groups, **fit_params)\u001b[0m\n\u001b[1;32m    869\u001b[0m     results \u001b[38;5;241m=\u001b[39m \u001b[38;5;28mself\u001b[39m\u001b[38;5;241m.\u001b[39m_format_results(\n\u001b[1;32m    870\u001b[0m         all_candidate_params, n_splits, all_out, all_more_results\n\u001b[1;32m    871\u001b[0m     )\n\u001b[1;32m    873\u001b[0m     \u001b[38;5;28;01mreturn\u001b[39;00m results\n\u001b[0;32m--> 875\u001b[0m \u001b[38;5;28;43mself\u001b[39;49m\u001b[38;5;241;43m.\u001b[39;49m\u001b[43m_run_search\u001b[49m\u001b[43m(\u001b[49m\u001b[43mevaluate_candidates\u001b[49m\u001b[43m)\u001b[49m\n\u001b[1;32m    877\u001b[0m \u001b[38;5;66;03m# multimetric is determined here because in the case of a callable\u001b[39;00m\n\u001b[1;32m    878\u001b[0m \u001b[38;5;66;03m# self.scoring the return type is only known after calling\u001b[39;00m\n\u001b[1;32m    879\u001b[0m first_test_score \u001b[38;5;241m=\u001b[39m all_out[\u001b[38;5;241m0\u001b[39m][\u001b[38;5;124m\"\u001b[39m\u001b[38;5;124mtest_scores\u001b[39m\u001b[38;5;124m\"\u001b[39m]\n",
      "File \u001b[0;32m/opt/homebrew/lib/python3.9/site-packages/sklearn/model_selection/_search.py:1375\u001b[0m, in \u001b[0;36mGridSearchCV._run_search\u001b[0;34m(self, evaluate_candidates)\u001b[0m\n\u001b[1;32m   1373\u001b[0m \u001b[38;5;28;01mdef\u001b[39;00m \u001b[38;5;21m_run_search\u001b[39m(\u001b[38;5;28mself\u001b[39m, evaluate_candidates):\n\u001b[1;32m   1374\u001b[0m     \u001b[38;5;124;03m\"\"\"Search all candidates in param_grid\"\"\"\u001b[39;00m\n\u001b[0;32m-> 1375\u001b[0m     \u001b[43mevaluate_candidates\u001b[49m\u001b[43m(\u001b[49m\u001b[43mParameterGrid\u001b[49m\u001b[43m(\u001b[49m\u001b[38;5;28;43mself\u001b[39;49m\u001b[38;5;241;43m.\u001b[39;49m\u001b[43mparam_grid\u001b[49m\u001b[43m)\u001b[49m\u001b[43m)\u001b[49m\n",
      "File \u001b[0;32m/opt/homebrew/lib/python3.9/site-packages/sklearn/model_selection/_search.py:822\u001b[0m, in \u001b[0;36mBaseSearchCV.fit.<locals>.evaluate_candidates\u001b[0;34m(candidate_params, cv, more_results)\u001b[0m\n\u001b[1;32m    814\u001b[0m \u001b[38;5;28;01mif\u001b[39;00m \u001b[38;5;28mself\u001b[39m\u001b[38;5;241m.\u001b[39mverbose \u001b[38;5;241m>\u001b[39m \u001b[38;5;241m0\u001b[39m:\n\u001b[1;32m    815\u001b[0m     \u001b[38;5;28mprint\u001b[39m(\n\u001b[1;32m    816\u001b[0m         \u001b[38;5;124m\"\u001b[39m\u001b[38;5;124mFitting \u001b[39m\u001b[38;5;132;01m{0}\u001b[39;00m\u001b[38;5;124m folds for each of \u001b[39m\u001b[38;5;132;01m{1}\u001b[39;00m\u001b[38;5;124m candidates,\u001b[39m\u001b[38;5;124m\"\u001b[39m\n\u001b[1;32m    817\u001b[0m         \u001b[38;5;124m\"\u001b[39m\u001b[38;5;124m totalling \u001b[39m\u001b[38;5;132;01m{2}\u001b[39;00m\u001b[38;5;124m fits\u001b[39m\u001b[38;5;124m\"\u001b[39m\u001b[38;5;241m.\u001b[39mformat(\n\u001b[1;32m    818\u001b[0m             n_splits, n_candidates, n_candidates \u001b[38;5;241m*\u001b[39m n_splits\n\u001b[1;32m    819\u001b[0m         )\n\u001b[1;32m    820\u001b[0m     )\n\u001b[0;32m--> 822\u001b[0m out \u001b[38;5;241m=\u001b[39m \u001b[43mparallel\u001b[49m\u001b[43m(\u001b[49m\n\u001b[1;32m    823\u001b[0m \u001b[43m    \u001b[49m\u001b[43mdelayed\u001b[49m\u001b[43m(\u001b[49m\u001b[43m_fit_and_score\u001b[49m\u001b[43m)\u001b[49m\u001b[43m(\u001b[49m\n\u001b[1;32m    824\u001b[0m \u001b[43m        \u001b[49m\u001b[43mclone\u001b[49m\u001b[43m(\u001b[49m\u001b[43mbase_estimator\u001b[49m\u001b[43m)\u001b[49m\u001b[43m,\u001b[49m\n\u001b[1;32m    825\u001b[0m \u001b[43m        \u001b[49m\u001b[43mX\u001b[49m\u001b[43m,\u001b[49m\n\u001b[1;32m    826\u001b[0m \u001b[43m        \u001b[49m\u001b[43my\u001b[49m\u001b[43m,\u001b[49m\n\u001b[1;32m    827\u001b[0m \u001b[43m        \u001b[49m\u001b[43mtrain\u001b[49m\u001b[38;5;241;43m=\u001b[39;49m\u001b[43mtrain\u001b[49m\u001b[43m,\u001b[49m\n\u001b[1;32m    828\u001b[0m \u001b[43m        \u001b[49m\u001b[43mtest\u001b[49m\u001b[38;5;241;43m=\u001b[39;49m\u001b[43mtest\u001b[49m\u001b[43m,\u001b[49m\n\u001b[1;32m    829\u001b[0m \u001b[43m        \u001b[49m\u001b[43mparameters\u001b[49m\u001b[38;5;241;43m=\u001b[39;49m\u001b[43mparameters\u001b[49m\u001b[43m,\u001b[49m\n\u001b[1;32m    830\u001b[0m \u001b[43m        \u001b[49m\u001b[43msplit_progress\u001b[49m\u001b[38;5;241;43m=\u001b[39;49m\u001b[43m(\u001b[49m\u001b[43msplit_idx\u001b[49m\u001b[43m,\u001b[49m\u001b[43m \u001b[49m\u001b[43mn_splits\u001b[49m\u001b[43m)\u001b[49m\u001b[43m,\u001b[49m\n\u001b[1;32m    831\u001b[0m \u001b[43m        \u001b[49m\u001b[43mcandidate_progress\u001b[49m\u001b[38;5;241;43m=\u001b[39;49m\u001b[43m(\u001b[49m\u001b[43mcand_idx\u001b[49m\u001b[43m,\u001b[49m\u001b[43m \u001b[49m\u001b[43mn_candidates\u001b[49m\u001b[43m)\u001b[49m\u001b[43m,\u001b[49m\n\u001b[1;32m    832\u001b[0m \u001b[43m        \u001b[49m\u001b[38;5;241;43m*\u001b[39;49m\u001b[38;5;241;43m*\u001b[39;49m\u001b[43mfit_and_score_kwargs\u001b[49m\u001b[43m,\u001b[49m\n\u001b[1;32m    833\u001b[0m \u001b[43m    \u001b[49m\u001b[43m)\u001b[49m\n\u001b[1;32m    834\u001b[0m \u001b[43m    \u001b[49m\u001b[38;5;28;43;01mfor\u001b[39;49;00m\u001b[43m \u001b[49m\u001b[43m(\u001b[49m\u001b[43mcand_idx\u001b[49m\u001b[43m,\u001b[49m\u001b[43m \u001b[49m\u001b[43mparameters\u001b[49m\u001b[43m)\u001b[49m\u001b[43m,\u001b[49m\u001b[43m \u001b[49m\u001b[43m(\u001b[49m\u001b[43msplit_idx\u001b[49m\u001b[43m,\u001b[49m\u001b[43m \u001b[49m\u001b[43m(\u001b[49m\u001b[43mtrain\u001b[49m\u001b[43m,\u001b[49m\u001b[43m \u001b[49m\u001b[43mtest\u001b[49m\u001b[43m)\u001b[49m\u001b[43m)\u001b[49m\u001b[43m \u001b[49m\u001b[38;5;129;43;01min\u001b[39;49;00m\u001b[43m \u001b[49m\u001b[43mproduct\u001b[49m\u001b[43m(\u001b[49m\n\u001b[1;32m    835\u001b[0m \u001b[43m        \u001b[49m\u001b[38;5;28;43menumerate\u001b[39;49m\u001b[43m(\u001b[49m\u001b[43mcandidate_params\u001b[49m\u001b[43m)\u001b[49m\u001b[43m,\u001b[49m\u001b[43m \u001b[49m\u001b[38;5;28;43menumerate\u001b[39;49m\u001b[43m(\u001b[49m\u001b[43mcv\u001b[49m\u001b[38;5;241;43m.\u001b[39;49m\u001b[43msplit\u001b[49m\u001b[43m(\u001b[49m\u001b[43mX\u001b[49m\u001b[43m,\u001b[49m\u001b[43m \u001b[49m\u001b[43my\u001b[49m\u001b[43m,\u001b[49m\u001b[43m \u001b[49m\u001b[43mgroups\u001b[49m\u001b[43m)\u001b[49m\u001b[43m)\u001b[49m\n\u001b[1;32m    836\u001b[0m \u001b[43m    \u001b[49m\u001b[43m)\u001b[49m\n\u001b[1;32m    837\u001b[0m \u001b[43m\u001b[49m\u001b[43m)\u001b[49m\n\u001b[1;32m    839\u001b[0m \u001b[38;5;28;01mif\u001b[39;00m \u001b[38;5;28mlen\u001b[39m(out) \u001b[38;5;241m<\u001b[39m \u001b[38;5;241m1\u001b[39m:\n\u001b[1;32m    840\u001b[0m     \u001b[38;5;28;01mraise\u001b[39;00m \u001b[38;5;167;01mValueError\u001b[39;00m(\n\u001b[1;32m    841\u001b[0m         \u001b[38;5;124m\"\u001b[39m\u001b[38;5;124mNo fits were performed. \u001b[39m\u001b[38;5;124m\"\u001b[39m\n\u001b[1;32m    842\u001b[0m         \u001b[38;5;124m\"\u001b[39m\u001b[38;5;124mWas the CV iterator empty? \u001b[39m\u001b[38;5;124m\"\u001b[39m\n\u001b[1;32m    843\u001b[0m         \u001b[38;5;124m\"\u001b[39m\u001b[38;5;124mWere there no candidates?\u001b[39m\u001b[38;5;124m\"\u001b[39m\n\u001b[1;32m    844\u001b[0m     )\n",
      "File \u001b[0;32m/opt/homebrew/lib/python3.9/site-packages/joblib/parallel.py:1046\u001b[0m, in \u001b[0;36mParallel.__call__\u001b[0;34m(self, iterable)\u001b[0m\n\u001b[1;32m   1043\u001b[0m \u001b[38;5;28;01mif\u001b[39;00m \u001b[38;5;28mself\u001b[39m\u001b[38;5;241m.\u001b[39mdispatch_one_batch(iterator):\n\u001b[1;32m   1044\u001b[0m     \u001b[38;5;28mself\u001b[39m\u001b[38;5;241m.\u001b[39m_iterating \u001b[38;5;241m=\u001b[39m \u001b[38;5;28mself\u001b[39m\u001b[38;5;241m.\u001b[39m_original_iterator \u001b[38;5;129;01mis\u001b[39;00m \u001b[38;5;129;01mnot\u001b[39;00m \u001b[38;5;28;01mNone\u001b[39;00m\n\u001b[0;32m-> 1046\u001b[0m \u001b[38;5;28;01mwhile\u001b[39;00m \u001b[38;5;28;43mself\u001b[39;49m\u001b[38;5;241;43m.\u001b[39;49m\u001b[43mdispatch_one_batch\u001b[49m\u001b[43m(\u001b[49m\u001b[43miterator\u001b[49m\u001b[43m)\u001b[49m:\n\u001b[1;32m   1047\u001b[0m     \u001b[38;5;28;01mpass\u001b[39;00m\n\u001b[1;32m   1049\u001b[0m \u001b[38;5;28;01mif\u001b[39;00m pre_dispatch \u001b[38;5;241m==\u001b[39m \u001b[38;5;124m\"\u001b[39m\u001b[38;5;124mall\u001b[39m\u001b[38;5;124m\"\u001b[39m \u001b[38;5;129;01mor\u001b[39;00m n_jobs \u001b[38;5;241m==\u001b[39m \u001b[38;5;241m1\u001b[39m:\n\u001b[1;32m   1050\u001b[0m     \u001b[38;5;66;03m# The iterable was consumed all at once by the above for loop.\u001b[39;00m\n\u001b[1;32m   1051\u001b[0m     \u001b[38;5;66;03m# No need to wait for async callbacks to trigger to\u001b[39;00m\n\u001b[1;32m   1052\u001b[0m     \u001b[38;5;66;03m# consumption.\u001b[39;00m\n",
      "File \u001b[0;32m/opt/homebrew/lib/python3.9/site-packages/joblib/parallel.py:861\u001b[0m, in \u001b[0;36mParallel.dispatch_one_batch\u001b[0;34m(self, iterator)\u001b[0m\n\u001b[1;32m    859\u001b[0m     \u001b[38;5;28;01mreturn\u001b[39;00m \u001b[38;5;28;01mFalse\u001b[39;00m\n\u001b[1;32m    860\u001b[0m \u001b[38;5;28;01melse\u001b[39;00m:\n\u001b[0;32m--> 861\u001b[0m     \u001b[38;5;28;43mself\u001b[39;49m\u001b[38;5;241;43m.\u001b[39;49m\u001b[43m_dispatch\u001b[49m\u001b[43m(\u001b[49m\u001b[43mtasks\u001b[49m\u001b[43m)\u001b[49m\n\u001b[1;32m    862\u001b[0m     \u001b[38;5;28;01mreturn\u001b[39;00m \u001b[38;5;28;01mTrue\u001b[39;00m\n",
      "File \u001b[0;32m/opt/homebrew/lib/python3.9/site-packages/joblib/parallel.py:779\u001b[0m, in \u001b[0;36mParallel._dispatch\u001b[0;34m(self, batch)\u001b[0m\n\u001b[1;32m    777\u001b[0m \u001b[38;5;28;01mwith\u001b[39;00m \u001b[38;5;28mself\u001b[39m\u001b[38;5;241m.\u001b[39m_lock:\n\u001b[1;32m    778\u001b[0m     job_idx \u001b[38;5;241m=\u001b[39m \u001b[38;5;28mlen\u001b[39m(\u001b[38;5;28mself\u001b[39m\u001b[38;5;241m.\u001b[39m_jobs)\n\u001b[0;32m--> 779\u001b[0m     job \u001b[38;5;241m=\u001b[39m \u001b[38;5;28;43mself\u001b[39;49m\u001b[38;5;241;43m.\u001b[39;49m\u001b[43m_backend\u001b[49m\u001b[38;5;241;43m.\u001b[39;49m\u001b[43mapply_async\u001b[49m\u001b[43m(\u001b[49m\u001b[43mbatch\u001b[49m\u001b[43m,\u001b[49m\u001b[43m \u001b[49m\u001b[43mcallback\u001b[49m\u001b[38;5;241;43m=\u001b[39;49m\u001b[43mcb\u001b[49m\u001b[43m)\u001b[49m\n\u001b[1;32m    780\u001b[0m     \u001b[38;5;66;03m# A job can complete so quickly than its callback is\u001b[39;00m\n\u001b[1;32m    781\u001b[0m     \u001b[38;5;66;03m# called before we get here, causing self._jobs to\u001b[39;00m\n\u001b[1;32m    782\u001b[0m     \u001b[38;5;66;03m# grow. To ensure correct results ordering, .insert is\u001b[39;00m\n\u001b[1;32m    783\u001b[0m     \u001b[38;5;66;03m# used (rather than .append) in the following line\u001b[39;00m\n\u001b[1;32m    784\u001b[0m     \u001b[38;5;28mself\u001b[39m\u001b[38;5;241m.\u001b[39m_jobs\u001b[38;5;241m.\u001b[39minsert(job_idx, job)\n",
      "File \u001b[0;32m/opt/homebrew/lib/python3.9/site-packages/joblib/_parallel_backends.py:208\u001b[0m, in \u001b[0;36mSequentialBackend.apply_async\u001b[0;34m(self, func, callback)\u001b[0m\n\u001b[1;32m    206\u001b[0m \u001b[38;5;28;01mdef\u001b[39;00m \u001b[38;5;21mapply_async\u001b[39m(\u001b[38;5;28mself\u001b[39m, func, callback\u001b[38;5;241m=\u001b[39m\u001b[38;5;28;01mNone\u001b[39;00m):\n\u001b[1;32m    207\u001b[0m     \u001b[38;5;124;03m\"\"\"Schedule a func to be run\"\"\"\u001b[39;00m\n\u001b[0;32m--> 208\u001b[0m     result \u001b[38;5;241m=\u001b[39m \u001b[43mImmediateResult\u001b[49m\u001b[43m(\u001b[49m\u001b[43mfunc\u001b[49m\u001b[43m)\u001b[49m\n\u001b[1;32m    209\u001b[0m     \u001b[38;5;28;01mif\u001b[39;00m callback:\n\u001b[1;32m    210\u001b[0m         callback(result)\n",
      "File \u001b[0;32m/opt/homebrew/lib/python3.9/site-packages/joblib/_parallel_backends.py:572\u001b[0m, in \u001b[0;36mImmediateResult.__init__\u001b[0;34m(self, batch)\u001b[0m\n\u001b[1;32m    569\u001b[0m \u001b[38;5;28;01mdef\u001b[39;00m \u001b[38;5;21m__init__\u001b[39m(\u001b[38;5;28mself\u001b[39m, batch):\n\u001b[1;32m    570\u001b[0m     \u001b[38;5;66;03m# Don't delay the application, to avoid keeping the input\u001b[39;00m\n\u001b[1;32m    571\u001b[0m     \u001b[38;5;66;03m# arguments in memory\u001b[39;00m\n\u001b[0;32m--> 572\u001b[0m     \u001b[38;5;28mself\u001b[39m\u001b[38;5;241m.\u001b[39mresults \u001b[38;5;241m=\u001b[39m \u001b[43mbatch\u001b[49m\u001b[43m(\u001b[49m\u001b[43m)\u001b[49m\n",
      "File \u001b[0;32m/opt/homebrew/lib/python3.9/site-packages/joblib/parallel.py:262\u001b[0m, in \u001b[0;36mBatchedCalls.__call__\u001b[0;34m(self)\u001b[0m\n\u001b[1;32m    258\u001b[0m \u001b[38;5;28;01mdef\u001b[39;00m \u001b[38;5;21m__call__\u001b[39m(\u001b[38;5;28mself\u001b[39m):\n\u001b[1;32m    259\u001b[0m     \u001b[38;5;66;03m# Set the default nested backend to self._backend but do not set the\u001b[39;00m\n\u001b[1;32m    260\u001b[0m     \u001b[38;5;66;03m# change the default number of processes to -1\u001b[39;00m\n\u001b[1;32m    261\u001b[0m     \u001b[38;5;28;01mwith\u001b[39;00m parallel_backend(\u001b[38;5;28mself\u001b[39m\u001b[38;5;241m.\u001b[39m_backend, n_jobs\u001b[38;5;241m=\u001b[39m\u001b[38;5;28mself\u001b[39m\u001b[38;5;241m.\u001b[39m_n_jobs):\n\u001b[0;32m--> 262\u001b[0m         \u001b[38;5;28;01mreturn\u001b[39;00m [func(\u001b[38;5;241m*\u001b[39margs, \u001b[38;5;241m*\u001b[39m\u001b[38;5;241m*\u001b[39mkwargs)\n\u001b[1;32m    263\u001b[0m                 \u001b[38;5;28;01mfor\u001b[39;00m func, args, kwargs \u001b[38;5;129;01min\u001b[39;00m \u001b[38;5;28mself\u001b[39m\u001b[38;5;241m.\u001b[39mitems]\n",
      "File \u001b[0;32m/opt/homebrew/lib/python3.9/site-packages/joblib/parallel.py:262\u001b[0m, in \u001b[0;36m<listcomp>\u001b[0;34m(.0)\u001b[0m\n\u001b[1;32m    258\u001b[0m \u001b[38;5;28;01mdef\u001b[39;00m \u001b[38;5;21m__call__\u001b[39m(\u001b[38;5;28mself\u001b[39m):\n\u001b[1;32m    259\u001b[0m     \u001b[38;5;66;03m# Set the default nested backend to self._backend but do not set the\u001b[39;00m\n\u001b[1;32m    260\u001b[0m     \u001b[38;5;66;03m# change the default number of processes to -1\u001b[39;00m\n\u001b[1;32m    261\u001b[0m     \u001b[38;5;28;01mwith\u001b[39;00m parallel_backend(\u001b[38;5;28mself\u001b[39m\u001b[38;5;241m.\u001b[39m_backend, n_jobs\u001b[38;5;241m=\u001b[39m\u001b[38;5;28mself\u001b[39m\u001b[38;5;241m.\u001b[39m_n_jobs):\n\u001b[0;32m--> 262\u001b[0m         \u001b[38;5;28;01mreturn\u001b[39;00m [\u001b[43mfunc\u001b[49m\u001b[43m(\u001b[49m\u001b[38;5;241;43m*\u001b[39;49m\u001b[43margs\u001b[49m\u001b[43m,\u001b[49m\u001b[43m \u001b[49m\u001b[38;5;241;43m*\u001b[39;49m\u001b[38;5;241;43m*\u001b[39;49m\u001b[43mkwargs\u001b[49m\u001b[43m)\u001b[49m\n\u001b[1;32m    263\u001b[0m                 \u001b[38;5;28;01mfor\u001b[39;00m func, args, kwargs \u001b[38;5;129;01min\u001b[39;00m \u001b[38;5;28mself\u001b[39m\u001b[38;5;241m.\u001b[39mitems]\n",
      "File \u001b[0;32m/opt/homebrew/lib/python3.9/site-packages/sklearn/utils/fixes.py:117\u001b[0m, in \u001b[0;36m_FuncWrapper.__call__\u001b[0;34m(self, *args, **kwargs)\u001b[0m\n\u001b[1;32m    115\u001b[0m \u001b[38;5;28;01mdef\u001b[39;00m \u001b[38;5;21m__call__\u001b[39m(\u001b[38;5;28mself\u001b[39m, \u001b[38;5;241m*\u001b[39margs, \u001b[38;5;241m*\u001b[39m\u001b[38;5;241m*\u001b[39mkwargs):\n\u001b[1;32m    116\u001b[0m     \u001b[38;5;28;01mwith\u001b[39;00m config_context(\u001b[38;5;241m*\u001b[39m\u001b[38;5;241m*\u001b[39m\u001b[38;5;28mself\u001b[39m\u001b[38;5;241m.\u001b[39mconfig):\n\u001b[0;32m--> 117\u001b[0m         \u001b[38;5;28;01mreturn\u001b[39;00m \u001b[38;5;28;43mself\u001b[39;49m\u001b[38;5;241;43m.\u001b[39;49m\u001b[43mfunction\u001b[49m\u001b[43m(\u001b[49m\u001b[38;5;241;43m*\u001b[39;49m\u001b[43margs\u001b[49m\u001b[43m,\u001b[49m\u001b[43m \u001b[49m\u001b[38;5;241;43m*\u001b[39;49m\u001b[38;5;241;43m*\u001b[39;49m\u001b[43mkwargs\u001b[49m\u001b[43m)\u001b[49m\n",
      "File \u001b[0;32m/opt/homebrew/lib/python3.9/site-packages/sklearn/model_selection/_validation.py:686\u001b[0m, in \u001b[0;36m_fit_and_score\u001b[0;34m(estimator, X, y, scorer, train, test, verbose, parameters, fit_params, return_train_score, return_parameters, return_n_test_samples, return_times, return_estimator, split_progress, candidate_progress, error_score)\u001b[0m\n\u001b[1;32m    684\u001b[0m         estimator\u001b[38;5;241m.\u001b[39mfit(X_train, \u001b[38;5;241m*\u001b[39m\u001b[38;5;241m*\u001b[39mfit_params)\n\u001b[1;32m    685\u001b[0m     \u001b[38;5;28;01melse\u001b[39;00m:\n\u001b[0;32m--> 686\u001b[0m         \u001b[43mestimator\u001b[49m\u001b[38;5;241;43m.\u001b[39;49m\u001b[43mfit\u001b[49m\u001b[43m(\u001b[49m\u001b[43mX_train\u001b[49m\u001b[43m,\u001b[49m\u001b[43m \u001b[49m\u001b[43my_train\u001b[49m\u001b[43m,\u001b[49m\u001b[43m \u001b[49m\u001b[38;5;241;43m*\u001b[39;49m\u001b[38;5;241;43m*\u001b[39;49m\u001b[43mfit_params\u001b[49m\u001b[43m)\u001b[49m\n\u001b[1;32m    688\u001b[0m \u001b[38;5;28;01mexcept\u001b[39;00m \u001b[38;5;167;01mException\u001b[39;00m:\n\u001b[1;32m    689\u001b[0m     \u001b[38;5;66;03m# Note fit time as time until error\u001b[39;00m\n\u001b[1;32m    690\u001b[0m     fit_time \u001b[38;5;241m=\u001b[39m time\u001b[38;5;241m.\u001b[39mtime() \u001b[38;5;241m-\u001b[39m start_time\n",
      "File \u001b[0;32m/opt/homebrew/lib/python3.9/site-packages/sklearn/ensemble/_forest.py:476\u001b[0m, in \u001b[0;36mBaseForest.fit\u001b[0;34m(self, X, y, sample_weight)\u001b[0m\n\u001b[1;32m    465\u001b[0m trees \u001b[38;5;241m=\u001b[39m [\n\u001b[1;32m    466\u001b[0m     \u001b[38;5;28mself\u001b[39m\u001b[38;5;241m.\u001b[39m_make_estimator(append\u001b[38;5;241m=\u001b[39m\u001b[38;5;28;01mFalse\u001b[39;00m, random_state\u001b[38;5;241m=\u001b[39mrandom_state)\n\u001b[1;32m    467\u001b[0m     \u001b[38;5;28;01mfor\u001b[39;00m i \u001b[38;5;129;01min\u001b[39;00m \u001b[38;5;28mrange\u001b[39m(n_more_estimators)\n\u001b[1;32m    468\u001b[0m ]\n\u001b[1;32m    470\u001b[0m \u001b[38;5;66;03m# Parallel loop: we prefer the threading backend as the Cython code\u001b[39;00m\n\u001b[1;32m    471\u001b[0m \u001b[38;5;66;03m# for fitting the trees is internally releasing the Python GIL\u001b[39;00m\n\u001b[1;32m    472\u001b[0m \u001b[38;5;66;03m# making threading more efficient than multiprocessing in\u001b[39;00m\n\u001b[1;32m    473\u001b[0m \u001b[38;5;66;03m# that case. However, for joblib 0.12+ we respect any\u001b[39;00m\n\u001b[1;32m    474\u001b[0m \u001b[38;5;66;03m# parallel_backend contexts set at a higher level,\u001b[39;00m\n\u001b[1;32m    475\u001b[0m \u001b[38;5;66;03m# since correctness does not rely on using threads.\u001b[39;00m\n\u001b[0;32m--> 476\u001b[0m trees \u001b[38;5;241m=\u001b[39m \u001b[43mParallel\u001b[49m\u001b[43m(\u001b[49m\n\u001b[1;32m    477\u001b[0m \u001b[43m    \u001b[49m\u001b[43mn_jobs\u001b[49m\u001b[38;5;241;43m=\u001b[39;49m\u001b[38;5;28;43mself\u001b[39;49m\u001b[38;5;241;43m.\u001b[39;49m\u001b[43mn_jobs\u001b[49m\u001b[43m,\u001b[49m\n\u001b[1;32m    478\u001b[0m \u001b[43m    \u001b[49m\u001b[43mverbose\u001b[49m\u001b[38;5;241;43m=\u001b[39;49m\u001b[38;5;28;43mself\u001b[39;49m\u001b[38;5;241;43m.\u001b[39;49m\u001b[43mverbose\u001b[49m\u001b[43m,\u001b[49m\n\u001b[1;32m    479\u001b[0m \u001b[43m    \u001b[49m\u001b[43mprefer\u001b[49m\u001b[38;5;241;43m=\u001b[39;49m\u001b[38;5;124;43m\"\u001b[39;49m\u001b[38;5;124;43mthreads\u001b[39;49m\u001b[38;5;124;43m\"\u001b[39;49m\u001b[43m,\u001b[49m\n\u001b[1;32m    480\u001b[0m \u001b[43m\u001b[49m\u001b[43m)\u001b[49m\u001b[43m(\u001b[49m\n\u001b[1;32m    481\u001b[0m \u001b[43m    \u001b[49m\u001b[43mdelayed\u001b[49m\u001b[43m(\u001b[49m\u001b[43m_parallel_build_trees\u001b[49m\u001b[43m)\u001b[49m\u001b[43m(\u001b[49m\n\u001b[1;32m    482\u001b[0m \u001b[43m        \u001b[49m\u001b[43mt\u001b[49m\u001b[43m,\u001b[49m\n\u001b[1;32m    483\u001b[0m \u001b[43m        \u001b[49m\u001b[38;5;28;43mself\u001b[39;49m\u001b[38;5;241;43m.\u001b[39;49m\u001b[43mbootstrap\u001b[49m\u001b[43m,\u001b[49m\n\u001b[1;32m    484\u001b[0m \u001b[43m        \u001b[49m\u001b[43mX\u001b[49m\u001b[43m,\u001b[49m\n\u001b[1;32m    485\u001b[0m \u001b[43m        \u001b[49m\u001b[43my\u001b[49m\u001b[43m,\u001b[49m\n\u001b[1;32m    486\u001b[0m \u001b[43m        \u001b[49m\u001b[43msample_weight\u001b[49m\u001b[43m,\u001b[49m\n\u001b[1;32m    487\u001b[0m \u001b[43m        \u001b[49m\u001b[43mi\u001b[49m\u001b[43m,\u001b[49m\n\u001b[1;32m    488\u001b[0m \u001b[43m        \u001b[49m\u001b[38;5;28;43mlen\u001b[39;49m\u001b[43m(\u001b[49m\u001b[43mtrees\u001b[49m\u001b[43m)\u001b[49m\u001b[43m,\u001b[49m\n\u001b[1;32m    489\u001b[0m \u001b[43m        \u001b[49m\u001b[43mverbose\u001b[49m\u001b[38;5;241;43m=\u001b[39;49m\u001b[38;5;28;43mself\u001b[39;49m\u001b[38;5;241;43m.\u001b[39;49m\u001b[43mverbose\u001b[49m\u001b[43m,\u001b[49m\n\u001b[1;32m    490\u001b[0m \u001b[43m        \u001b[49m\u001b[43mclass_weight\u001b[49m\u001b[38;5;241;43m=\u001b[39;49m\u001b[38;5;28;43mself\u001b[39;49m\u001b[38;5;241;43m.\u001b[39;49m\u001b[43mclass_weight\u001b[49m\u001b[43m,\u001b[49m\n\u001b[1;32m    491\u001b[0m \u001b[43m        \u001b[49m\u001b[43mn_samples_bootstrap\u001b[49m\u001b[38;5;241;43m=\u001b[39;49m\u001b[43mn_samples_bootstrap\u001b[49m\u001b[43m,\u001b[49m\n\u001b[1;32m    492\u001b[0m \u001b[43m    \u001b[49m\u001b[43m)\u001b[49m\n\u001b[1;32m    493\u001b[0m \u001b[43m    \u001b[49m\u001b[38;5;28;43;01mfor\u001b[39;49;00m\u001b[43m \u001b[49m\u001b[43mi\u001b[49m\u001b[43m,\u001b[49m\u001b[43m \u001b[49m\u001b[43mt\u001b[49m\u001b[43m \u001b[49m\u001b[38;5;129;43;01min\u001b[39;49;00m\u001b[43m \u001b[49m\u001b[38;5;28;43menumerate\u001b[39;49m\u001b[43m(\u001b[49m\u001b[43mtrees\u001b[49m\u001b[43m)\u001b[49m\n\u001b[1;32m    494\u001b[0m \u001b[43m\u001b[49m\u001b[43m)\u001b[49m\n\u001b[1;32m    496\u001b[0m \u001b[38;5;66;03m# Collect newly grown trees\u001b[39;00m\n\u001b[1;32m    497\u001b[0m \u001b[38;5;28mself\u001b[39m\u001b[38;5;241m.\u001b[39mestimators_\u001b[38;5;241m.\u001b[39mextend(trees)\n",
      "File \u001b[0;32m/opt/homebrew/lib/python3.9/site-packages/joblib/parallel.py:1046\u001b[0m, in \u001b[0;36mParallel.__call__\u001b[0;34m(self, iterable)\u001b[0m\n\u001b[1;32m   1043\u001b[0m \u001b[38;5;28;01mif\u001b[39;00m \u001b[38;5;28mself\u001b[39m\u001b[38;5;241m.\u001b[39mdispatch_one_batch(iterator):\n\u001b[1;32m   1044\u001b[0m     \u001b[38;5;28mself\u001b[39m\u001b[38;5;241m.\u001b[39m_iterating \u001b[38;5;241m=\u001b[39m \u001b[38;5;28mself\u001b[39m\u001b[38;5;241m.\u001b[39m_original_iterator \u001b[38;5;129;01mis\u001b[39;00m \u001b[38;5;129;01mnot\u001b[39;00m \u001b[38;5;28;01mNone\u001b[39;00m\n\u001b[0;32m-> 1046\u001b[0m \u001b[38;5;28;01mwhile\u001b[39;00m \u001b[38;5;28;43mself\u001b[39;49m\u001b[38;5;241;43m.\u001b[39;49m\u001b[43mdispatch_one_batch\u001b[49m\u001b[43m(\u001b[49m\u001b[43miterator\u001b[49m\u001b[43m)\u001b[49m:\n\u001b[1;32m   1047\u001b[0m     \u001b[38;5;28;01mpass\u001b[39;00m\n\u001b[1;32m   1049\u001b[0m \u001b[38;5;28;01mif\u001b[39;00m pre_dispatch \u001b[38;5;241m==\u001b[39m \u001b[38;5;124m\"\u001b[39m\u001b[38;5;124mall\u001b[39m\u001b[38;5;124m\"\u001b[39m \u001b[38;5;129;01mor\u001b[39;00m n_jobs \u001b[38;5;241m==\u001b[39m \u001b[38;5;241m1\u001b[39m:\n\u001b[1;32m   1050\u001b[0m     \u001b[38;5;66;03m# The iterable was consumed all at once by the above for loop.\u001b[39;00m\n\u001b[1;32m   1051\u001b[0m     \u001b[38;5;66;03m# No need to wait for async callbacks to trigger to\u001b[39;00m\n\u001b[1;32m   1052\u001b[0m     \u001b[38;5;66;03m# consumption.\u001b[39;00m\n",
      "File \u001b[0;32m/opt/homebrew/lib/python3.9/site-packages/joblib/parallel.py:861\u001b[0m, in \u001b[0;36mParallel.dispatch_one_batch\u001b[0;34m(self, iterator)\u001b[0m\n\u001b[1;32m    859\u001b[0m     \u001b[38;5;28;01mreturn\u001b[39;00m \u001b[38;5;28;01mFalse\u001b[39;00m\n\u001b[1;32m    860\u001b[0m \u001b[38;5;28;01melse\u001b[39;00m:\n\u001b[0;32m--> 861\u001b[0m     \u001b[38;5;28;43mself\u001b[39;49m\u001b[38;5;241;43m.\u001b[39;49m\u001b[43m_dispatch\u001b[49m\u001b[43m(\u001b[49m\u001b[43mtasks\u001b[49m\u001b[43m)\u001b[49m\n\u001b[1;32m    862\u001b[0m     \u001b[38;5;28;01mreturn\u001b[39;00m \u001b[38;5;28;01mTrue\u001b[39;00m\n",
      "File \u001b[0;32m/opt/homebrew/lib/python3.9/site-packages/joblib/parallel.py:779\u001b[0m, in \u001b[0;36mParallel._dispatch\u001b[0;34m(self, batch)\u001b[0m\n\u001b[1;32m    777\u001b[0m \u001b[38;5;28;01mwith\u001b[39;00m \u001b[38;5;28mself\u001b[39m\u001b[38;5;241m.\u001b[39m_lock:\n\u001b[1;32m    778\u001b[0m     job_idx \u001b[38;5;241m=\u001b[39m \u001b[38;5;28mlen\u001b[39m(\u001b[38;5;28mself\u001b[39m\u001b[38;5;241m.\u001b[39m_jobs)\n\u001b[0;32m--> 779\u001b[0m     job \u001b[38;5;241m=\u001b[39m \u001b[38;5;28;43mself\u001b[39;49m\u001b[38;5;241;43m.\u001b[39;49m\u001b[43m_backend\u001b[49m\u001b[38;5;241;43m.\u001b[39;49m\u001b[43mapply_async\u001b[49m\u001b[43m(\u001b[49m\u001b[43mbatch\u001b[49m\u001b[43m,\u001b[49m\u001b[43m \u001b[49m\u001b[43mcallback\u001b[49m\u001b[38;5;241;43m=\u001b[39;49m\u001b[43mcb\u001b[49m\u001b[43m)\u001b[49m\n\u001b[1;32m    780\u001b[0m     \u001b[38;5;66;03m# A job can complete so quickly than its callback is\u001b[39;00m\n\u001b[1;32m    781\u001b[0m     \u001b[38;5;66;03m# called before we get here, causing self._jobs to\u001b[39;00m\n\u001b[1;32m    782\u001b[0m     \u001b[38;5;66;03m# grow. To ensure correct results ordering, .insert is\u001b[39;00m\n\u001b[1;32m    783\u001b[0m     \u001b[38;5;66;03m# used (rather than .append) in the following line\u001b[39;00m\n\u001b[1;32m    784\u001b[0m     \u001b[38;5;28mself\u001b[39m\u001b[38;5;241m.\u001b[39m_jobs\u001b[38;5;241m.\u001b[39minsert(job_idx, job)\n",
      "File \u001b[0;32m/opt/homebrew/lib/python3.9/site-packages/joblib/_parallel_backends.py:208\u001b[0m, in \u001b[0;36mSequentialBackend.apply_async\u001b[0;34m(self, func, callback)\u001b[0m\n\u001b[1;32m    206\u001b[0m \u001b[38;5;28;01mdef\u001b[39;00m \u001b[38;5;21mapply_async\u001b[39m(\u001b[38;5;28mself\u001b[39m, func, callback\u001b[38;5;241m=\u001b[39m\u001b[38;5;28;01mNone\u001b[39;00m):\n\u001b[1;32m    207\u001b[0m     \u001b[38;5;124;03m\"\"\"Schedule a func to be run\"\"\"\u001b[39;00m\n\u001b[0;32m--> 208\u001b[0m     result \u001b[38;5;241m=\u001b[39m \u001b[43mImmediateResult\u001b[49m\u001b[43m(\u001b[49m\u001b[43mfunc\u001b[49m\u001b[43m)\u001b[49m\n\u001b[1;32m    209\u001b[0m     \u001b[38;5;28;01mif\u001b[39;00m callback:\n\u001b[1;32m    210\u001b[0m         callback(result)\n",
      "File \u001b[0;32m/opt/homebrew/lib/python3.9/site-packages/joblib/_parallel_backends.py:572\u001b[0m, in \u001b[0;36mImmediateResult.__init__\u001b[0;34m(self, batch)\u001b[0m\n\u001b[1;32m    569\u001b[0m \u001b[38;5;28;01mdef\u001b[39;00m \u001b[38;5;21m__init__\u001b[39m(\u001b[38;5;28mself\u001b[39m, batch):\n\u001b[1;32m    570\u001b[0m     \u001b[38;5;66;03m# Don't delay the application, to avoid keeping the input\u001b[39;00m\n\u001b[1;32m    571\u001b[0m     \u001b[38;5;66;03m# arguments in memory\u001b[39;00m\n\u001b[0;32m--> 572\u001b[0m     \u001b[38;5;28mself\u001b[39m\u001b[38;5;241m.\u001b[39mresults \u001b[38;5;241m=\u001b[39m \u001b[43mbatch\u001b[49m\u001b[43m(\u001b[49m\u001b[43m)\u001b[49m\n",
      "File \u001b[0;32m/opt/homebrew/lib/python3.9/site-packages/joblib/parallel.py:262\u001b[0m, in \u001b[0;36mBatchedCalls.__call__\u001b[0;34m(self)\u001b[0m\n\u001b[1;32m    258\u001b[0m \u001b[38;5;28;01mdef\u001b[39;00m \u001b[38;5;21m__call__\u001b[39m(\u001b[38;5;28mself\u001b[39m):\n\u001b[1;32m    259\u001b[0m     \u001b[38;5;66;03m# Set the default nested backend to self._backend but do not set the\u001b[39;00m\n\u001b[1;32m    260\u001b[0m     \u001b[38;5;66;03m# change the default number of processes to -1\u001b[39;00m\n\u001b[1;32m    261\u001b[0m     \u001b[38;5;28;01mwith\u001b[39;00m parallel_backend(\u001b[38;5;28mself\u001b[39m\u001b[38;5;241m.\u001b[39m_backend, n_jobs\u001b[38;5;241m=\u001b[39m\u001b[38;5;28mself\u001b[39m\u001b[38;5;241m.\u001b[39m_n_jobs):\n\u001b[0;32m--> 262\u001b[0m         \u001b[38;5;28;01mreturn\u001b[39;00m [func(\u001b[38;5;241m*\u001b[39margs, \u001b[38;5;241m*\u001b[39m\u001b[38;5;241m*\u001b[39mkwargs)\n\u001b[1;32m    263\u001b[0m                 \u001b[38;5;28;01mfor\u001b[39;00m func, args, kwargs \u001b[38;5;129;01min\u001b[39;00m \u001b[38;5;28mself\u001b[39m\u001b[38;5;241m.\u001b[39mitems]\n",
      "File \u001b[0;32m/opt/homebrew/lib/python3.9/site-packages/joblib/parallel.py:262\u001b[0m, in \u001b[0;36m<listcomp>\u001b[0;34m(.0)\u001b[0m\n\u001b[1;32m    258\u001b[0m \u001b[38;5;28;01mdef\u001b[39;00m \u001b[38;5;21m__call__\u001b[39m(\u001b[38;5;28mself\u001b[39m):\n\u001b[1;32m    259\u001b[0m     \u001b[38;5;66;03m# Set the default nested backend to self._backend but do not set the\u001b[39;00m\n\u001b[1;32m    260\u001b[0m     \u001b[38;5;66;03m# change the default number of processes to -1\u001b[39;00m\n\u001b[1;32m    261\u001b[0m     \u001b[38;5;28;01mwith\u001b[39;00m parallel_backend(\u001b[38;5;28mself\u001b[39m\u001b[38;5;241m.\u001b[39m_backend, n_jobs\u001b[38;5;241m=\u001b[39m\u001b[38;5;28mself\u001b[39m\u001b[38;5;241m.\u001b[39m_n_jobs):\n\u001b[0;32m--> 262\u001b[0m         \u001b[38;5;28;01mreturn\u001b[39;00m [\u001b[43mfunc\u001b[49m\u001b[43m(\u001b[49m\u001b[38;5;241;43m*\u001b[39;49m\u001b[43margs\u001b[49m\u001b[43m,\u001b[49m\u001b[43m \u001b[49m\u001b[38;5;241;43m*\u001b[39;49m\u001b[38;5;241;43m*\u001b[39;49m\u001b[43mkwargs\u001b[49m\u001b[43m)\u001b[49m\n\u001b[1;32m    263\u001b[0m                 \u001b[38;5;28;01mfor\u001b[39;00m func, args, kwargs \u001b[38;5;129;01min\u001b[39;00m \u001b[38;5;28mself\u001b[39m\u001b[38;5;241m.\u001b[39mitems]\n",
      "File \u001b[0;32m/opt/homebrew/lib/python3.9/site-packages/sklearn/utils/fixes.py:117\u001b[0m, in \u001b[0;36m_FuncWrapper.__call__\u001b[0;34m(self, *args, **kwargs)\u001b[0m\n\u001b[1;32m    115\u001b[0m \u001b[38;5;28;01mdef\u001b[39;00m \u001b[38;5;21m__call__\u001b[39m(\u001b[38;5;28mself\u001b[39m, \u001b[38;5;241m*\u001b[39margs, \u001b[38;5;241m*\u001b[39m\u001b[38;5;241m*\u001b[39mkwargs):\n\u001b[1;32m    116\u001b[0m     \u001b[38;5;28;01mwith\u001b[39;00m config_context(\u001b[38;5;241m*\u001b[39m\u001b[38;5;241m*\u001b[39m\u001b[38;5;28mself\u001b[39m\u001b[38;5;241m.\u001b[39mconfig):\n\u001b[0;32m--> 117\u001b[0m         \u001b[38;5;28;01mreturn\u001b[39;00m \u001b[38;5;28;43mself\u001b[39;49m\u001b[38;5;241;43m.\u001b[39;49m\u001b[43mfunction\u001b[49m\u001b[43m(\u001b[49m\u001b[38;5;241;43m*\u001b[39;49m\u001b[43margs\u001b[49m\u001b[43m,\u001b[49m\u001b[43m \u001b[49m\u001b[38;5;241;43m*\u001b[39;49m\u001b[38;5;241;43m*\u001b[39;49m\u001b[43mkwargs\u001b[49m\u001b[43m)\u001b[49m\n",
      "File \u001b[0;32m/opt/homebrew/lib/python3.9/site-packages/sklearn/ensemble/_forest.py:189\u001b[0m, in \u001b[0;36m_parallel_build_trees\u001b[0;34m(tree, bootstrap, X, y, sample_weight, tree_idx, n_trees, verbose, class_weight, n_samples_bootstrap)\u001b[0m\n\u001b[1;32m    186\u001b[0m     \u001b[38;5;28;01melif\u001b[39;00m class_weight \u001b[38;5;241m==\u001b[39m \u001b[38;5;124m\"\u001b[39m\u001b[38;5;124mbalanced_subsample\u001b[39m\u001b[38;5;124m\"\u001b[39m:\n\u001b[1;32m    187\u001b[0m         curr_sample_weight \u001b[38;5;241m*\u001b[39m\u001b[38;5;241m=\u001b[39m compute_sample_weight(\u001b[38;5;124m\"\u001b[39m\u001b[38;5;124mbalanced\u001b[39m\u001b[38;5;124m\"\u001b[39m, y, indices\u001b[38;5;241m=\u001b[39mindices)\n\u001b[0;32m--> 189\u001b[0m     \u001b[43mtree\u001b[49m\u001b[38;5;241;43m.\u001b[39;49m\u001b[43mfit\u001b[49m\u001b[43m(\u001b[49m\u001b[43mX\u001b[49m\u001b[43m,\u001b[49m\u001b[43m \u001b[49m\u001b[43my\u001b[49m\u001b[43m,\u001b[49m\u001b[43m \u001b[49m\u001b[43msample_weight\u001b[49m\u001b[38;5;241;43m=\u001b[39;49m\u001b[43mcurr_sample_weight\u001b[49m\u001b[43m,\u001b[49m\u001b[43m \u001b[49m\u001b[43mcheck_input\u001b[49m\u001b[38;5;241;43m=\u001b[39;49m\u001b[38;5;28;43;01mFalse\u001b[39;49;00m\u001b[43m)\u001b[49m\n\u001b[1;32m    190\u001b[0m \u001b[38;5;28;01melse\u001b[39;00m:\n\u001b[1;32m    191\u001b[0m     tree\u001b[38;5;241m.\u001b[39mfit(X, y, sample_weight\u001b[38;5;241m=\u001b[39msample_weight, check_input\u001b[38;5;241m=\u001b[39m\u001b[38;5;28;01mFalse\u001b[39;00m)\n",
      "File \u001b[0;32m/opt/homebrew/lib/python3.9/site-packages/sklearn/tree/_classes.py:969\u001b[0m, in \u001b[0;36mDecisionTreeClassifier.fit\u001b[0;34m(self, X, y, sample_weight, check_input)\u001b[0m\n\u001b[1;32m    939\u001b[0m \u001b[38;5;28;01mdef\u001b[39;00m \u001b[38;5;21mfit\u001b[39m(\u001b[38;5;28mself\u001b[39m, X, y, sample_weight\u001b[38;5;241m=\u001b[39m\u001b[38;5;28;01mNone\u001b[39;00m, check_input\u001b[38;5;241m=\u001b[39m\u001b[38;5;28;01mTrue\u001b[39;00m):\n\u001b[1;32m    940\u001b[0m     \u001b[38;5;124;03m\"\"\"Build a decision tree classifier from the training set (X, y).\u001b[39;00m\n\u001b[1;32m    941\u001b[0m \n\u001b[1;32m    942\u001b[0m \u001b[38;5;124;03m    Parameters\u001b[39;00m\n\u001b[0;32m   (...)\u001b[0m\n\u001b[1;32m    966\u001b[0m \u001b[38;5;124;03m        Fitted estimator.\u001b[39;00m\n\u001b[1;32m    967\u001b[0m \u001b[38;5;124;03m    \"\"\"\u001b[39;00m\n\u001b[0;32m--> 969\u001b[0m     \u001b[38;5;28;43msuper\u001b[39;49m\u001b[43m(\u001b[49m\u001b[43m)\u001b[49m\u001b[38;5;241;43m.\u001b[39;49m\u001b[43mfit\u001b[49m\u001b[43m(\u001b[49m\n\u001b[1;32m    970\u001b[0m \u001b[43m        \u001b[49m\u001b[43mX\u001b[49m\u001b[43m,\u001b[49m\n\u001b[1;32m    971\u001b[0m \u001b[43m        \u001b[49m\u001b[43my\u001b[49m\u001b[43m,\u001b[49m\n\u001b[1;32m    972\u001b[0m \u001b[43m        \u001b[49m\u001b[43msample_weight\u001b[49m\u001b[38;5;241;43m=\u001b[39;49m\u001b[43msample_weight\u001b[49m\u001b[43m,\u001b[49m\n\u001b[1;32m    973\u001b[0m \u001b[43m        \u001b[49m\u001b[43mcheck_input\u001b[49m\u001b[38;5;241;43m=\u001b[39;49m\u001b[43mcheck_input\u001b[49m\u001b[43m,\u001b[49m\n\u001b[1;32m    974\u001b[0m \u001b[43m    \u001b[49m\u001b[43m)\u001b[49m\n\u001b[1;32m    975\u001b[0m     \u001b[38;5;28;01mreturn\u001b[39;00m \u001b[38;5;28mself\u001b[39m\n",
      "File \u001b[0;32m/opt/homebrew/lib/python3.9/site-packages/sklearn/tree/_classes.py:458\u001b[0m, in \u001b[0;36mBaseDecisionTree.fit\u001b[0;34m(self, X, y, sample_weight, check_input)\u001b[0m\n\u001b[1;32m    447\u001b[0m \u001b[38;5;28;01melse\u001b[39;00m:\n\u001b[1;32m    448\u001b[0m     builder \u001b[38;5;241m=\u001b[39m BestFirstTreeBuilder(\n\u001b[1;32m    449\u001b[0m         splitter,\n\u001b[1;32m    450\u001b[0m         min_samples_split,\n\u001b[0;32m   (...)\u001b[0m\n\u001b[1;32m    455\u001b[0m         \u001b[38;5;28mself\u001b[39m\u001b[38;5;241m.\u001b[39mmin_impurity_decrease,\n\u001b[1;32m    456\u001b[0m     )\n\u001b[0;32m--> 458\u001b[0m \u001b[43mbuilder\u001b[49m\u001b[38;5;241;43m.\u001b[39;49m\u001b[43mbuild\u001b[49m\u001b[43m(\u001b[49m\u001b[38;5;28;43mself\u001b[39;49m\u001b[38;5;241;43m.\u001b[39;49m\u001b[43mtree_\u001b[49m\u001b[43m,\u001b[49m\u001b[43m \u001b[49m\u001b[43mX\u001b[49m\u001b[43m,\u001b[49m\u001b[43m \u001b[49m\u001b[43my\u001b[49m\u001b[43m,\u001b[49m\u001b[43m \u001b[49m\u001b[43msample_weight\u001b[49m\u001b[43m)\u001b[49m\n\u001b[1;32m    460\u001b[0m \u001b[38;5;28;01mif\u001b[39;00m \u001b[38;5;28mself\u001b[39m\u001b[38;5;241m.\u001b[39mn_outputs_ \u001b[38;5;241m==\u001b[39m \u001b[38;5;241m1\u001b[39m \u001b[38;5;129;01mand\u001b[39;00m is_classifier(\u001b[38;5;28mself\u001b[39m):\n\u001b[1;32m    461\u001b[0m     \u001b[38;5;28mself\u001b[39m\u001b[38;5;241m.\u001b[39mn_classes_ \u001b[38;5;241m=\u001b[39m \u001b[38;5;28mself\u001b[39m\u001b[38;5;241m.\u001b[39mn_classes_[\u001b[38;5;241m0\u001b[39m]\n",
      "\u001b[0;31mKeyboardInterrupt\u001b[0m: "
     ]
    }
   ],
   "source": [
    "param_grid={'criterion': ['gini', 'entropy'],\n",
    "                         'max_depth': [None, 1, 3, 5, 7, 15, 30],\n",
    "                         'max_features': ['sqrt', 'log2'],\n",
    "                         'n_estimators': [10, 50, 100, 300, 700, 1000]}\n",
    "\n",
    "rfc_cv=GridSearchCV(rfc, param_grid, scoring='roc_auc', cv=5)\n",
    "rfc_cv.fit(X_train_dtm, y_train)\n",
    "print(\"Tuned Random Forest Classifier Parameter: {}\".format(rfc_cv.best_params_))\n",
    "print(\"Tuned Random Forest Classifier ROC_AUC Score: {}\".format(rfc_cv.best_score_))"
   ]
  },
  {
   "cell_type": "code",
   "execution_count": null,
   "id": "19abc36e",
   "metadata": {},
   "outputs": [],
   "source": [
    "models['Best Parameters'][1]=rfc_cv.best_params_"
   ]
  },
  {
   "cell_type": "code",
   "execution_count": null,
   "id": "05a2f7f0",
   "metadata": {},
   "outputs": [],
   "source": [
    "X_train, X_test, y_train, y_test=train_test_split(df.tokens, df.labels_num, test_size=0.2, random_state=123)\n",
    "vect=CountVectorizer(min_df=9)\n",
    "X_train_dtm=vect.fit_transform(X_train)\n",
    "X_test_dtm=vect.transform(X_test)\n",
    "rfc=RandomForestClassifier(random_state=123, criterion='entropy', max_depth=30, max_features='log2', n_estimators=1000)\n",
    "rfc.fit(X_train_dtm, y_train)\n",
    "y_pred=rfc.predict(X_test_dtm)\n",
    "y_pred_prob=rfc.predict_proba(X_test_dtm)[:,1]\n",
    "rfc_fpr, rfc_tpr, rfc_thresholds = roc_curve(y_test, y_pred_prob) "
   ]
  },
  {
   "cell_type": "code",
   "execution_count": null,
   "id": "5c5f18c7",
   "metadata": {},
   "outputs": [],
   "source": [
    "models['ROC AUC Score'][1]=roc_auc_score(y_test, y_pred_prob)"
   ]
  },
  {
   "cell_type": "markdown",
   "id": "058bc0fd-d636-44f3-966a-123e534f1d67",
   "metadata": {},
   "source": [
    "## Logistic Regression"
   ]
  },
  {
   "cell_type": "code",
   "execution_count": null,
   "id": "07d7a0bd",
   "metadata": {},
   "outputs": [],
   "source": [
    "pick_min_df(df.tokens, df.labels_num, clf='lr')"
   ]
  },
  {
   "cell_type": "code",
   "execution_count": null,
   "id": "b532274f",
   "metadata": {},
   "outputs": [],
   "source": [
    "models['Best min_df for CountVectorizer'][2]=1"
   ]
  },
  {
   "cell_type": "code",
   "execution_count": null,
   "id": "37016868",
   "metadata": {},
   "outputs": [],
   "source": [
    "X_train, X_test, y_train, y_test=train_test_split(df.tokens, df.labels_num, test_size=0.2, random_state=123)\n",
    "vect=CountVectorizer(min_df=1)\n",
    "X_train_dtm=vect.fit_transform(X_train)\n",
    "X_test_dtm=vect.transform(X_test)\n",
    "lr=LogisticRegression(random_state=123)\n",
    "lr.fit(X_train_dtm, y_train)\n",
    "y_pred=lr.predict(X_test_dtm)\n",
    "y_pred_prob=lr.predict_proba(X_test_dtm)[:,1]"
   ]
  },
  {
   "cell_type": "code",
   "execution_count": null,
   "id": "5ba0547e",
   "metadata": {},
   "outputs": [],
   "source": [
    "roc_auc_score(y_test, y_pred_prob) "
   ]
  },
  {
   "cell_type": "code",
   "execution_count": null,
   "id": "1d161315",
   "metadata": {},
   "outputs": [],
   "source": [
    "param_grid={'C':[0.001, 0.01, 0.1, 1, 10, 100, 1000]}\n",
    "lr_cv=GridSearchCV(lr, param_grid, scoring='roc_auc', cv=5)\n",
    "lr_cv.fit(X_train_dtm, y_train)\n",
    "print(\"Tuned Logistic Regression Parameter: {}\".format(lr_cv.best_params_))\n",
    "print(\"Tuned Logistic Regression ROC_AUC Score: {}\".format(lr_cv.best_score_))"
   ]
  },
  {
   "cell_type": "code",
   "execution_count": null,
   "id": "b573e351",
   "metadata": {},
   "outputs": [],
   "source": [
    "models['Best Parameters'][2]=lr_cv.best_params_"
   ]
  },
  {
   "cell_type": "code",
   "execution_count": null,
   "id": "1e7c7e6b",
   "metadata": {},
   "outputs": [],
   "source": [
    "X_train, X_test, y_train, y_test=train_test_split(df.tokens, df.labels_num, test_size=0.2, random_state=123)\n",
    "vect=CountVectorizer(min_df=1)\n",
    "X_train_dtm=vect.fit_transform(X_train)\n",
    "X_test_dtm=vect.transform(X_test)\n",
    "lr=LogisticRegression(random_state=123, C=1)\n",
    "lr.fit(X_train_dtm, y_train)\n",
    "y_pred=lr.predict(X_test_dtm)\n",
    "y_pred_prob=lr.predict_proba(X_test_dtm)[:,1]\n",
    "lr_fpr, lr_tpr, lr_thresholds = roc_curve(y_test, y_pred_prob) "
   ]
  },
  {
   "cell_type": "code",
   "execution_count": null,
   "id": "e2adc59b",
   "metadata": {},
   "outputs": [],
   "source": [
    "models['ROC AUC Score'][2]=roc_auc_score(y_test, y_pred_prob)"
   ]
  },
  {
   "cell_type": "code",
   "execution_count": null,
   "id": "27da614b",
   "metadata": {},
   "outputs": [],
   "source": [
    "pd.set_option('display.max_colwidth', None)\n",
    "models"
   ]
  },
  {
   "cell_type": "code",
   "execution_count": null,
   "id": "18bdec0b",
   "metadata": {},
   "outputs": [],
   "source": [
    "plt.plot([0,1],[0,1],'k--')\n",
    "plt.plot(nb_fpr, nb_tpr, label='Naive Bayes Classifier') \n",
    "plt.plot(rfc_fpr, rfc_tpr, label='Random Forest Classifier') \n",
    "plt.plot(lr_fpr, lr_tpr, label='Logistic Regression') \n",
    "plt.grid()\n",
    "plt.xlabel('False Positive Rate') \n",
    "plt.ylabel('True Positive Rate')\n",
    "plt.legend()\n",
    "plt.title('ROC Curve') \n",
    "plt.show()"
   ]
  },
  {
   "cell_type": "markdown",
   "id": "7788e2ce-e3bc-4bbf-8e61-ed163864bfeb",
   "metadata": {},
   "source": [
    "# Feature Importances: Most Predictive Words"
   ]
  },
  {
   "cell_type": "code",
   "execution_count": 23,
   "id": "63384b81-57a1-4772-925f-de69b2c39ea4",
   "metadata": {},
   "outputs": [],
   "source": [
    "from sklearn.metrics import roc_curve, precision_recall_curve, fbeta_score, ConfusionMatrixDisplay, classification_report, confusion_matrix"
   ]
  },
  {
   "cell_type": "code",
   "execution_count": 24,
   "id": "712b5f51-93c6-4da1-8e0a-dcb0ee37317b",
   "metadata": {},
   "outputs": [],
   "source": [
    "X_train, X_test, y_train, y_test=train_test_split(df.tokens, df.labels_num, test_size=0.2, random_state=123)\n",
    "vect=CountVectorizer(min_df=1)\n",
    "X_train_dtm=vect.fit_transform(X_train)\n",
    "X_test_dtm=vect.transform(X_test)\n",
    "lr=LogisticRegression(random_state=123, C=1)\n",
    "lr.fit(X_train_dtm, y_train)\n",
    "y_pred=lr.predict(X_test_dtm)\n",
    "y_pred_prob=lr.predict_proba(X_test_dtm)[:,1]\n",
    "lr_fpr, lr_tpr, lr_thresholds = roc_curve(y_test, y_pred_prob) "
   ]
  },
  {
   "cell_type": "code",
   "execution_count": 25,
   "id": "e3ba6326-fe36-4838-b9c9-3577172e638a",
   "metadata": {},
   "outputs": [
    {
     "data": {
      "text/plain": [
       "0.8288739510146457"
      ]
     },
     "execution_count": 25,
     "metadata": {},
     "output_type": "execute_result"
    }
   ],
   "source": [
    "roc_auc_score(y_test, y_pred_prob)"
   ]
  },
  {
   "cell_type": "code",
   "execution_count": 26,
   "id": "c6caaafa-7acb-4a87-ab1a-ef7de91a70cb",
   "metadata": {},
   "outputs": [
    {
     "data": {
      "text/html": [
       "<div>\n",
       "<style scoped>\n",
       "    .dataframe tbody tr th:only-of-type {\n",
       "        vertical-align: middle;\n",
       "    }\n",
       "\n",
       "    .dataframe tbody tr th {\n",
       "        vertical-align: top;\n",
       "    }\n",
       "\n",
       "    .dataframe thead th {\n",
       "        text-align: right;\n",
       "    }\n",
       "</style>\n",
       "<table border=\"1\" class=\"dataframe\">\n",
       "  <thead>\n",
       "    <tr style=\"text-align: right;\">\n",
       "      <th></th>\n",
       "      <th>word</th>\n",
       "      <th>prob</th>\n",
       "    </tr>\n",
       "  </thead>\n",
       "  <tbody>\n",
       "    <tr>\n",
       "      <th>0</th>\n",
       "      <td>nowhere</td>\n",
       "      <td>0.934345</td>\n",
       "    </tr>\n",
       "    <tr>\n",
       "      <th>1</th>\n",
       "      <td>believed</td>\n",
       "      <td>0.917359</td>\n",
       "    </tr>\n",
       "    <tr>\n",
       "      <th>2</th>\n",
       "      <td>convinced</td>\n",
       "      <td>0.910508</td>\n",
       "    </tr>\n",
       "    <tr>\n",
       "      <th>3</th>\n",
       "      <td>isolated</td>\n",
       "      <td>0.899940</td>\n",
       "    </tr>\n",
       "    <tr>\n",
       "      <th>4</th>\n",
       "      <td>brainwashed</td>\n",
       "      <td>0.892029</td>\n",
       "    </tr>\n",
       "    <tr>\n",
       "      <th>5</th>\n",
       "      <td>admit</td>\n",
       "      <td>0.891917</td>\n",
       "    </tr>\n",
       "    <tr>\n",
       "      <th>6</th>\n",
       "      <td>embarrassed</td>\n",
       "      <td>0.891530</td>\n",
       "    </tr>\n",
       "    <tr>\n",
       "      <th>7</th>\n",
       "      <td>fault</td>\n",
       "      <td>0.891363</td>\n",
       "    </tr>\n",
       "    <tr>\n",
       "      <th>8</th>\n",
       "      <td>shock</td>\n",
       "      <td>0.884665</td>\n",
       "    </tr>\n",
       "    <tr>\n",
       "      <th>9</th>\n",
       "      <td>petrified</td>\n",
       "      <td>0.884183</td>\n",
       "    </tr>\n",
       "    <tr>\n",
       "      <th>10</th>\n",
       "      <td>exactly</td>\n",
       "      <td>0.882478</td>\n",
       "    </tr>\n",
       "    <tr>\n",
       "      <th>11</th>\n",
       "      <td>taught</td>\n",
       "      <td>0.881798</td>\n",
       "    </tr>\n",
       "    <tr>\n",
       "      <th>12</th>\n",
       "      <td>financially</td>\n",
       "      <td>0.881534</td>\n",
       "    </tr>\n",
       "    <tr>\n",
       "      <th>13</th>\n",
       "      <td>promised</td>\n",
       "      <td>0.879538</td>\n",
       "    </tr>\n",
       "    <tr>\n",
       "      <th>14</th>\n",
       "      <td>dependent</td>\n",
       "      <td>0.876491</td>\n",
       "    </tr>\n",
       "    <tr>\n",
       "      <th>15</th>\n",
       "      <td>dumb</td>\n",
       "      <td>0.875804</td>\n",
       "    </tr>\n",
       "    <tr>\n",
       "      <th>16</th>\n",
       "      <td>custody</td>\n",
       "      <td>0.875546</td>\n",
       "    </tr>\n",
       "    <tr>\n",
       "      <th>17</th>\n",
       "      <td>believe</td>\n",
       "      <td>0.874425</td>\n",
       "    </tr>\n",
       "    <tr>\n",
       "      <th>18</th>\n",
       "      <td>fair</td>\n",
       "      <td>0.874155</td>\n",
       "    </tr>\n",
       "    <tr>\n",
       "      <th>19</th>\n",
       "      <td>apologized</td>\n",
       "      <td>0.873558</td>\n",
       "    </tr>\n",
       "  </tbody>\n",
       "</table>\n",
       "</div>"
      ],
      "text/plain": [
       "           word      prob\n",
       "0       nowhere  0.934345\n",
       "1      believed  0.917359\n",
       "2     convinced  0.910508\n",
       "3      isolated  0.899940\n",
       "4   brainwashed  0.892029\n",
       "5         admit  0.891917\n",
       "6   embarrassed  0.891530\n",
       "7         fault  0.891363\n",
       "8         shock  0.884665\n",
       "9     petrified  0.884183\n",
       "10      exactly  0.882478\n",
       "11       taught  0.881798\n",
       "12  financially  0.881534\n",
       "13     promised  0.879538\n",
       "14    dependent  0.876491\n",
       "15         dumb  0.875804\n",
       "16      custody  0.875546\n",
       "17      believe  0.874425\n",
       "18         fair  0.874155\n",
       "19   apologized  0.873558"
      ]
     },
     "execution_count": 26,
     "metadata": {},
     "output_type": "execute_result"
    }
   ],
   "source": [
    "features = np.array(vect.get_feature_names_out())\n",
    "\n",
    "x = np.eye(X_test_dtm.shape[1])\n",
    "probs = lr.predict_log_proba(x)[:, 0] #using log is more precise for lower probabilities\n",
    "ind = np.argsort(probs)\n",
    "\n",
    "words = pd.DataFrame({})\n",
    "\n",
    "words['word']=features[ind]\n",
    "words['prob']=1-np.exp(probs[ind])\n",
    "\n",
    "words.head(20)"
   ]
  },
  {
   "cell_type": "code",
   "execution_count": 27,
   "id": "f8a3e524-c2f6-4601-98e1-45110e519193",
   "metadata": {
    "scrolled": false
   },
   "outputs": [
    {
     "data": {
      "text/html": [
       "<div>\n",
       "<style scoped>\n",
       "    .dataframe tbody tr th:only-of-type {\n",
       "        vertical-align: middle;\n",
       "    }\n",
       "\n",
       "    .dataframe tbody tr th {\n",
       "        vertical-align: top;\n",
       "    }\n",
       "\n",
       "    .dataframe thead th {\n",
       "        text-align: right;\n",
       "    }\n",
       "</style>\n",
       "<table border=\"1\" class=\"dataframe\">\n",
       "  <thead>\n",
       "    <tr style=\"text-align: right;\">\n",
       "      <th></th>\n",
       "      <th>word</th>\n",
       "      <th>prob</th>\n",
       "    </tr>\n",
       "  </thead>\n",
       "  <tbody>\n",
       "    <tr>\n",
       "      <th>8531</th>\n",
       "      <td>terrorized</td>\n",
       "      <td>0.277049</td>\n",
       "    </tr>\n",
       "    <tr>\n",
       "      <th>8532</th>\n",
       "      <td>mirror</td>\n",
       "      <td>0.270864</td>\n",
       "    </tr>\n",
       "    <tr>\n",
       "      <th>8533</th>\n",
       "      <td>opportunity</td>\n",
       "      <td>0.268306</td>\n",
       "    </tr>\n",
       "    <tr>\n",
       "      <th>8534</th>\n",
       "      <td>appeal</td>\n",
       "      <td>0.265841</td>\n",
       "    </tr>\n",
       "    <tr>\n",
       "      <th>8535</th>\n",
       "      <td>longer</td>\n",
       "      <td>0.261093</td>\n",
       "    </tr>\n",
       "    <tr>\n",
       "      <th>8536</th>\n",
       "      <td>woke</td>\n",
       "      <td>0.257867</td>\n",
       "    </tr>\n",
       "    <tr>\n",
       "      <th>8537</th>\n",
       "      <td>met</td>\n",
       "      <td>0.256681</td>\n",
       "    </tr>\n",
       "    <tr>\n",
       "      <th>8538</th>\n",
       "      <td>mommy</td>\n",
       "      <td>0.249751</td>\n",
       "    </tr>\n",
       "    <tr>\n",
       "      <th>8539</th>\n",
       "      <td>verbally</td>\n",
       "      <td>0.245463</td>\n",
       "    </tr>\n",
       "    <tr>\n",
       "      <th>8540</th>\n",
       "      <td>daughter</td>\n",
       "      <td>0.237025</td>\n",
       "    </tr>\n",
       "    <tr>\n",
       "      <th>8541</th>\n",
       "      <td>anymore</td>\n",
       "      <td>0.226917</td>\n",
       "    </tr>\n",
       "    <tr>\n",
       "      <th>8542</th>\n",
       "      <td>reached</td>\n",
       "      <td>0.214494</td>\n",
       "    </tr>\n",
       "    <tr>\n",
       "      <th>8543</th>\n",
       "      <td>finally</td>\n",
       "      <td>0.205326</td>\n",
       "    </tr>\n",
       "    <tr>\n",
       "      <th>8544</th>\n",
       "      <td>fled</td>\n",
       "      <td>0.185009</td>\n",
       "    </tr>\n",
       "    <tr>\n",
       "      <th>8545</th>\n",
       "      <td>discovered</td>\n",
       "      <td>0.171697</td>\n",
       "    </tr>\n",
       "    <tr>\n",
       "      <th>8546</th>\n",
       "      <td>biological</td>\n",
       "      <td>0.122325</td>\n",
       "    </tr>\n",
       "    <tr>\n",
       "      <th>8547</th>\n",
       "      <td>decided</td>\n",
       "      <td>0.110796</td>\n",
       "    </tr>\n",
       "    <tr>\n",
       "      <th>8548</th>\n",
       "      <td>realised</td>\n",
       "      <td>0.110738</td>\n",
       "    </tr>\n",
       "    <tr>\n",
       "      <th>8549</th>\n",
       "      <td>tired</td>\n",
       "      <td>0.107292</td>\n",
       "    </tr>\n",
       "    <tr>\n",
       "      <th>8550</th>\n",
       "      <td>realized</td>\n",
       "      <td>0.070490</td>\n",
       "    </tr>\n",
       "  </tbody>\n",
       "</table>\n",
       "</div>"
      ],
      "text/plain": [
       "             word      prob\n",
       "8531   terrorized  0.277049\n",
       "8532       mirror  0.270864\n",
       "8533  opportunity  0.268306\n",
       "8534       appeal  0.265841\n",
       "8535       longer  0.261093\n",
       "8536         woke  0.257867\n",
       "8537          met  0.256681\n",
       "8538        mommy  0.249751\n",
       "8539     verbally  0.245463\n",
       "8540     daughter  0.237025\n",
       "8541      anymore  0.226917\n",
       "8542      reached  0.214494\n",
       "8543      finally  0.205326\n",
       "8544         fled  0.185009\n",
       "8545   discovered  0.171697\n",
       "8546   biological  0.122325\n",
       "8547      decided  0.110796\n",
       "8548     realised  0.110738\n",
       "8549        tired  0.107292\n",
       "8550     realized  0.070490"
      ]
     },
     "execution_count": 27,
     "metadata": {},
     "output_type": "execute_result"
    }
   ],
   "source": [
    "words.tail(20)"
   ]
  },
  {
   "cell_type": "code",
   "execution_count": 28,
   "id": "804e436b-40eb-4a6f-a318-280780ce0905",
   "metadata": {
    "scrolled": true,
    "tags": []
   },
   "outputs": [
    {
     "data": {
      "image/png": "[encoded data removed]",
      "text/plain": [
       "<Figure size 432x288 with 1 Axes>"
      ]
     },
     "metadata": {
      "needs_background": "light"
     },
     "output_type": "display_data"
    }
   ],
   "source": [
    "sns.set(rc={'figure.figsize':(10,8)})\n",
    "ax=sns.barplot(x=words.prob[:20], y=words.word[:20])\n",
    "ax.set(xlim=(0.0,1.0),xlabel='P(#WhyILeft | word)', ylabel='Word', title='Most Predictive Words of #WhyILeft Tweets')\n",
    "plt.show();"
   ]
  },
  {
   "cell_type": "markdown",
   "id": "fc26e884-1b26-46f3-ba45-5d24f62112be",
   "metadata": {
    "tags": []
   },
   "source": [
    "## Self Empowerment"
   ]
  },
  {
   "cell_type": "markdown",
   "id": "2507bd7a-a1c7-4efd-847a-160b5618136b",
   "metadata": {},
   "source": [
    "*Discovered, realized, decided, inability, and motivated* describe both gradual and sudden moments of breaking out of learned helplessness through self-empowerment."
   ]
  },
  {
   "cell_type": "code",
   "execution_count": 29,
   "id": "ec2b891a-1d17-4375-b9f2-26f50f575ffa",
   "metadata": {
    "scrolled": true
   },
   "outputs": [
    {
     "data": {
      "text/plain": [
       "'\"@ravenmundy: #whyileft Because I realized someone had to actually love me, even if it was only myself.\"  Wow! #truth'"
      ]
     },
     "execution_count": 29,
     "metadata": {},
     "output_type": "execute_result"
    }
   ],
   "source": [
    "df.post[127] #realized"
   ]
  },
  {
   "cell_type": "code",
   "execution_count": 30,
   "id": "b9023780",
   "metadata": {
    "scrolled": true
   },
   "outputs": [
    {
     "data": {
      "text/plain": [
       "'#whyileft I left him because I had enough with the insults and the threats and the empty demonstrations of so called love. I was tired.'"
      ]
     },
     "execution_count": 30,
     "metadata": {},
     "output_type": "execute_result"
    }
   ],
   "source": [
    "df.post[19343] #tired"
   ]
  },
  {
   "cell_type": "code",
   "execution_count": 31,
   "id": "192cf1e7-af4c-4f1f-9142-83580a0462b6",
   "metadata": {},
   "outputs": [
    {
     "data": {
      "text/plain": [
       "'#whyileft because I woke up one morning and decided to take my power back. I needed to set an example for my kids abuse is not acceptable!!'"
      ]
     },
     "execution_count": 31,
     "metadata": {},
     "output_type": "execute_result"
    }
   ],
   "source": [
    "df.post[1771] #decided"
   ]
  },
  {
   "cell_type": "code",
   "execution_count": 32,
   "id": "231da304",
   "metadata": {
    "scrolled": true
   },
   "outputs": [
    {
     "data": {
      "text/plain": [
       "'I discovered one day that I was powerful and beautiful, that my friends loved me. #WhyILeft'"
      ]
     },
     "execution_count": 32,
     "metadata": {},
     "output_type": "execute_result"
    }
   ],
   "source": [
    "df.post[7865] #discovered"
   ]
  },
  {
   "cell_type": "code",
   "execution_count": 33,
   "id": "d808c680",
   "metadata": {
    "scrolled": false
   },
   "outputs": [
    {
     "data": {
      "text/plain": [
       "'#WhyILeft  I woke up and realised that no one could possibly deserve it... especially not the children.'"
      ]
     },
     "execution_count": 33,
     "metadata": {},
     "output_type": "execute_result"
    }
   ],
   "source": [
    "df.post[4632] #woke"
   ]
  },
  {
   "cell_type": "markdown",
   "id": "cbacbf17-e9db-4091-9569-537c939dfb00",
   "metadata": {},
   "source": [
    "## Descriptions of Abuse"
   ]
  },
  {
   "cell_type": "markdown",
   "id": "09c35014-21d3-42a8-a261-9bbd821a91ad",
   "metadata": {},
   "source": [
    "*Table, chased, kitchen, snuck, and pulling* are contained in often graphic tweets describing physical abuse."
   ]
  },
  {
   "cell_type": "code",
   "execution_count": 34,
   "id": "d291a8ea",
   "metadata": {},
   "outputs": [
    {
     "data": {
      "text/plain": [
       "'@WhyIStayed When the many shades of verbal abuse bruises began to show in the mirror #WhyILeft'"
      ]
     },
     "execution_count": 34,
     "metadata": {},
     "output_type": "execute_result"
    }
   ],
   "source": [
    "df.post[9861] #mirror #verbal"
   ]
  },
  {
   "cell_type": "code",
   "execution_count": 35,
   "id": "981aa3d7",
   "metadata": {},
   "outputs": [
    {
     "data": {
      "text/plain": [
       "\" I couldn't look at myself in the mirror anymore. Scars fade but still dealing w/ it 20 yrs on.\""
      ]
     },
     "execution_count": 35,
     "metadata": {},
     "output_type": "execute_result"
    }
   ],
   "source": [
    "df.post[18946] #mirror"
   ]
  },
  {
   "cell_type": "code",
   "execution_count": 36,
   "id": "ce48def7",
   "metadata": {},
   "outputs": [
    {
     "data": {
      "text/plain": [
       "\"#whyileft My mental and physical health was bottoming out.  I ended up in the hospital.  I couldn't do it anymore even if I loved him.\""
      ]
     },
     "execution_count": 36,
     "metadata": {},
     "output_type": "execute_result"
    }
   ],
   "source": [
    "df.post[4321] #anymore"
   ]
  },
  {
   "cell_type": "code",
   "execution_count": 37,
   "id": "a8770d85",
   "metadata": {},
   "outputs": [
    {
     "data": {
      "text/plain": [
       "'I left my biological family because I WAS NEVER LOVED BY THEM, NEVER EVER, I WAS USED AND ABUSED AND EVEN RAPED BY THEM #WhyILeft'"
      ]
     },
     "execution_count": 37,
     "metadata": {},
     "output_type": "execute_result"
    }
   ],
   "source": [
    "df.post[12524] #biological"
   ]
  },
  {
   "cell_type": "code",
   "execution_count": 38,
   "id": "c36e7ab2",
   "metadata": {
    "scrolled": false
   },
   "outputs": [
    {
     "data": {
      "text/plain": [
       "\"#WhyILeft - Because I finally saw the light leave his eyes in the act. That's when I believed he wouldn't stop until he killed me.\""
      ]
     },
     "execution_count": 38,
     "metadata": {},
     "output_type": "execute_result"
    }
   ],
   "source": [
    "df.post[695] #finally"
   ]
  },
  {
   "cell_type": "code",
   "execution_count": 39,
   "id": "bbe03e5e",
   "metadata": {
    "scrolled": true
   },
   "outputs": [
    {
     "data": {
      "text/plain": [
       "\"#whyileft i'll say it again.  i left him because i didn't love him anymore after he tried to choke (kill) me.  he also tried to kill my cat.\""
      ]
     },
     "execution_count": 39,
     "metadata": {},
     "output_type": "execute_result"
    }
   ],
   "source": [
    "df.post[13086] #anymore"
   ]
  },
  {
   "cell_type": "code",
   "execution_count": 40,
   "id": "ecdc5318",
   "metadata": {},
   "outputs": [
    {
     "data": {
      "text/plain": [
       "' He broke my nose, totally terrorized me after and threatened to kill my parents.'"
      ]
     },
     "execution_count": 40,
     "metadata": {},
     "output_type": "execute_result"
    }
   ],
   "source": [
    "df.post[1321] #terrorized"
   ]
  },
  {
   "cell_type": "markdown",
   "id": "488fd3c7-b118-4e4a-a8a1-bb000965b67d",
   "metadata": {},
   "source": [
    "## Outside Intervention"
   ]
  },
  {
   "cell_type": "markdown",
   "id": "27d581fe-5727-4e83-8286-8a59f7cccff0",
   "metadata": {},
   "source": [
    "** is used to describehow outside influences such as family, friends, and new relationships intervened with the situation."
   ]
  },
  {
   "cell_type": "code",
   "execution_count": 41,
   "id": "a9224fca",
   "metadata": {},
   "outputs": [
    {
     "data": {
      "text/plain": [
       "'#WhyILeft My now-wife gave me the courage and opportunity to leave.'"
      ]
     },
     "execution_count": 41,
     "metadata": {},
     "output_type": "execute_result"
    }
   ],
   "source": [
    "df.post[2577] #opportunity"
   ]
  },
  {
   "cell_type": "code",
   "execution_count": 42,
   "id": "e4f01d91",
   "metadata": {},
   "outputs": [
    {
     "data": {
      "text/plain": [
       "'I was finally able to break the isolation, met people who empowered me to see that I deserved better. They changed my worldview #whyileft'"
      ]
     },
     "execution_count": 42,
     "metadata": {},
     "output_type": "execute_result"
    }
   ],
   "source": [
    "df.post[959] #met"
   ]
  },
  {
   "cell_type": "code",
   "execution_count": 43,
   "id": "dbbbd087",
   "metadata": {},
   "outputs": [
    {
     "data": {
      "text/plain": [
       "'I left because I had the support of my mother, who immediately let me move back home after I fled once he fell asleep. #whyileft'"
      ]
     },
     "execution_count": 43,
     "metadata": {},
     "output_type": "execute_result"
    }
   ],
   "source": [
    "df.post[18346] #fled"
   ]
  },
  {
   "cell_type": "code",
   "execution_count": 44,
   "id": "60b5b853",
   "metadata": {
    "scrolled": true
   },
   "outputs": [
    {
     "data": {
      "text/plain": [
       "'#whyileft good friends helped me finally see that I deserve better'"
      ]
     },
     "execution_count": 44,
     "metadata": {},
     "output_type": "execute_result"
    }
   ],
   "source": [
    "df.post[85] #finally"
   ]
  },
  {
   "cell_type": "code",
   "execution_count": 45,
   "id": "efaf1ed4",
   "metadata": {},
   "outputs": [
    {
     "data": {
      "text/plain": [
       "'#WhyILeft is good, kind people reached out to me and helped me when I needed it the most.'"
      ]
     },
     "execution_count": 45,
     "metadata": {},
     "output_type": "execute_result"
    }
   ],
   "source": [
    "df.post[2132] #reached"
   ]
  },
  {
   "cell_type": "code",
   "execution_count": 46,
   "id": "1d2effa7",
   "metadata": {},
   "outputs": [
    {
     "data": {
      "text/plain": [
       "'#whyileft An old friend reached out, showed me that I was not alone, and helped me find a way out.'"
      ]
     },
     "execution_count": 46,
     "metadata": {},
     "output_type": "execute_result"
    }
   ],
   "source": [
    "df.post[3777] #reached"
   ]
  },
  {
   "cell_type": "code",
   "execution_count": 47,
   "id": "796267cf",
   "metadata": {},
   "outputs": [
    {
     "data": {
      "text/plain": [
       "\"Although everyone knew, one of his friends reached out to me and told me that it wasn't my fault and that I deserved to be safe.  #WhyILeft\""
      ]
     },
     "execution_count": 47,
     "metadata": {},
     "output_type": "execute_result"
    }
   ],
   "source": [
    "df.post[14918] #reached"
   ]
  },
  {
   "cell_type": "markdown",
   "id": "6a2a782d-be4f-4eb6-8ef1-ba689c18ead1",
   "metadata": {},
   "source": [
    "## Children"
   ]
  },
  {
   "cell_type": "markdown",
   "id": "d2872984-d809-4278-b3af-170f56c595e4",
   "metadata": {},
   "source": [
    "*Mommy* tweets expressed love and empathy for the children in the family. Seeing how the children were affected by the abuse aided in the decision to leave, in order to gain control of the environment they were growing up in."
   ]
  },
  {
   "cell_type": "code",
   "execution_count": 48,
   "id": "4d2d46e4",
   "metadata": {
    "scrolled": true
   },
   "outputs": [
    {
     "data": {
      "text/plain": [
       "'To give my son the fair opportunity to learn to respect women, mothers, and me. And because I love him. #WhyILeft http://t.co/t3LRhoNkVl'"
      ]
     },
     "execution_count": 48,
     "metadata": {},
     "output_type": "execute_result"
    }
   ],
   "source": [
    "df.post[41] #opportunity"
   ]
  },
  {
   "cell_type": "code",
   "execution_count": 49,
   "id": "ba57399d",
   "metadata": {
    "scrolled": false
   },
   "outputs": [
    {
     "data": {
      "text/plain": [
       "'#whyileft my son refusing to go to school cos \"daddy hits mommy\" was the last straw. I finally saw it through his eyes. Near death. Twice'"
      ]
     },
     "execution_count": 49,
     "metadata": {},
     "output_type": "execute_result"
    }
   ],
   "source": [
    "df.post[944] #finally"
   ]
  },
  {
   "cell_type": "code",
   "execution_count": 50,
   "id": "895d0a38",
   "metadata": {},
   "outputs": [
    {
     "data": {
      "text/plain": [
       "'I didn\\'t want my daughter growing up thinking it was \"normal\" for your husband to abuse you verbally and physically #WhyILeft'"
      ]
     },
     "execution_count": 50,
     "metadata": {},
     "output_type": "execute_result"
    }
   ],
   "source": [
    "df.post[13939] #daughter #verbally"
   ]
  },
  {
   "cell_type": "code",
   "execution_count": 51,
   "id": "4d0e51d1",
   "metadata": {},
   "outputs": [
    {
     "data": {
      "text/plain": [
       "'#WhyILeft I finally found the word No once I had kids - they made me stay longer at first, but seeing the wrong with their eyes opened mine.'"
      ]
     },
     "execution_count": 51,
     "metadata": {},
     "output_type": "execute_result"
    }
   ],
   "source": [
    "df.post[18715] #longer"
   ]
  },
  {
   "cell_type": "code",
   "execution_count": 52,
   "id": "131b6a49",
   "metadata": {
    "scrolled": false
   },
   "outputs": [
    {
     "data": {
      "text/plain": [
       "\"when he kicked my daughter in the stomach and said he'd put a bullet through my head, i knew it wasn't getting better. #WhyILeft\""
      ]
     },
     "execution_count": 52,
     "metadata": {},
     "output_type": "execute_result"
    }
   ],
   "source": [
    "df.post[150] #daughter"
   ]
  },
  {
   "cell_type": "markdown",
   "id": "9523dc91-8e5e-4516-a399-63c8c3aa26cc",
   "metadata": {},
   "source": [
    "# Feature Importances: Least Predictive Words"
   ]
  },
  {
   "cell_type": "code",
   "execution_count": 53,
   "id": "7e8877eb-53d3-4b02-9968-64422f171555",
   "metadata": {
    "scrolled": true
   },
   "outputs": [
    {
     "data": {
      "image/png": "[encoded data removed]",
      "text/plain": [
       "<Figure size 720x576 with 1 Axes>"
      ]
     },
     "metadata": {},
     "output_type": "display_data"
    }
   ],
   "source": [
    "sns.set(rc={'figure.figsize':(10,8)})\n",
    "ax=sns.barplot(x=1-words.sort_values(by='prob', ascending=True).prob[:20], y=words.sort_values(by='prob', ascending=True).word[:20])\n",
    "ax.set(xlim=(0.0,1.0),xlabel='P(#WhyIStayed | word)', ylabel='Word', title='Most Predictive Words of #WhyIStayed Tweets')\n",
    "plt.show();"
   ]
  },
  {
   "cell_type": "markdown",
   "id": "234ca713",
   "metadata": {},
   "source": [
    "## Psychological Dependency (Low Self-Worth/Gaslighting)"
   ]
  },
  {
   "cell_type": "markdown",
   "id": "3fbf1b04",
   "metadata": {},
   "source": [
    "*Dumb, brainwashed, dependent* and *syndrome* refer to the erosion of self-worth through repeated exposure to name-calling and criticism. Insecure attachment to the abusive partner is described in these tweets."
   ]
  },
  {
   "cell_type": "code",
   "execution_count": 54,
   "id": "41818e24",
   "metadata": {
    "scrolled": false
   },
   "outputs": [
    {
     "data": {
      "text/plain": [
       "'Because he told me that no one would else would ever want me &amp; claimed that I belonged to him. I was scared, so I believed him. #WhyIStayed'"
      ]
     },
     "execution_count": 54,
     "metadata": {},
     "output_type": "execute_result"
    }
   ],
   "source": [
    "df.post[19515] #believed"
   ]
  },
  {
   "cell_type": "code",
   "execution_count": 55,
   "id": "190df17a",
   "metadata": {},
   "outputs": [
    {
     "data": {
      "text/plain": [
       "'#WhyIStayed he convinced me I was stupid, less desirable than other women and that *he* did me a favor by being with me because of my PTSD.'"
      ]
     },
     "execution_count": 55,
     "metadata": {},
     "output_type": "execute_result"
    }
   ],
   "source": [
    "df.post[201] #convinced"
   ]
  },
  {
   "cell_type": "code",
   "execution_count": 56,
   "id": "684b41c2",
   "metadata": {
    "scrolled": true
   },
   "outputs": [
    {
     "data": {
      "text/plain": [
       "'He slowly started verbally abusing me, destroying self-esteem I had &amp; isolated me from friends &amp; family before ever hitting me #whyistayed'"
      ]
     },
     "execution_count": 56,
     "metadata": {},
     "output_type": "execute_result"
    }
   ],
   "source": [
    "df.post[18820] #isolated"
   ]
  },
  {
   "cell_type": "code",
   "execution_count": 57,
   "id": "67979494",
   "metadata": {},
   "outputs": [
    {
     "data": {
      "text/plain": [
       "\"I had been conditioned to think it was my fault. Had to figure out it wasn't me and I had no reason to stay. #WhyIStayed\""
      ]
     },
     "execution_count": 57,
     "metadata": {},
     "output_type": "execute_result"
    }
   ],
   "source": [
    "df.post[185] #fault"
   ]
  },
  {
   "cell_type": "code",
   "execution_count": 58,
   "id": "2901ebe8",
   "metadata": {},
   "outputs": [
    {
     "data": {
      "text/plain": [
       "\"because he repeatedly told me that all guys were exactly like him and I couldn't do any better. #WhyIStayed\""
      ]
     },
     "execution_count": 58,
     "metadata": {},
     "output_type": "execute_result"
    }
   ],
   "source": [
    "df.post[8809] #exactly"
   ]
  },
  {
   "cell_type": "code",
   "execution_count": 59,
   "id": "4b8c8faf",
   "metadata": {},
   "outputs": [
    {
     "data": {
      "text/plain": [
       "'#WhyIStayed I felt dependent on him. After you are told and treated like you are worthless repetitively enough you start to believe it.'"
      ]
     },
     "execution_count": 59,
     "metadata": {},
     "output_type": "execute_result"
    }
   ],
   "source": [
    "df.post[7924] #dependent #believe"
   ]
  },
  {
   "cell_type": "code",
   "execution_count": 60,
   "id": "5da6161d",
   "metadata": {},
   "outputs": [
    {
     "data": {
      "text/plain": [
       "'#WhyIStayed because when you hear \"you\\'re dumb, worthless, ugly\" daily for 1 year you begin to believe it so much you stay a 2nd year'"
      ]
     },
     "execution_count": 60,
     "metadata": {},
     "output_type": "execute_result"
    }
   ],
   "source": [
    "df.post[4147] #dumb #believe"
   ]
  },
  {
   "cell_type": "markdown",
   "id": "d69f4c65-a8d8-4465-9b0f-0fba6d71822e",
   "metadata": {},
   "source": [
    "## Lack of Validation & History of Family Violence"
   ]
  },
  {
   "cell_type": "markdown",
   "id": "fcb9e313-6d60-4a9a-8743-669e7c09cdf3",
   "metadata": {},
   "source": [
    "*Believed*, *convinced*, and *dumb* were features for lack of social validation. Some of these tweets describe victims turning a blind eye to emotional and verbal abuse because there was no physical abuse."
   ]
  },
  {
   "cell_type": "code",
   "execution_count": 61,
   "id": "d569db3e",
   "metadata": {},
   "outputs": [
    {
     "data": {
      "text/plain": [
       "\"let's not forget that some women convince abused women that the abuse they are suffering is own their fault...society is sick! #WhyIStayed\""
      ]
     },
     "execution_count": 61,
     "metadata": {},
     "output_type": "execute_result"
    }
   ],
   "source": [
    "df.post[15456] #fault"
   ]
  },
  {
   "cell_type": "code",
   "execution_count": 62,
   "id": "c73328c2",
   "metadata": {},
   "outputs": [
    {
     "data": {
      "text/plain": [
       "'Because we live in a society that blames victims, and I believed it was my fault for a long time. #WhyIStayed'"
      ]
     },
     "execution_count": 62,
     "metadata": {},
     "output_type": "execute_result"
    }
   ],
   "source": [
    "df.post[17850] #believed"
   ]
  },
  {
   "cell_type": "code",
   "execution_count": 63,
   "id": "4bc129c3",
   "metadata": {
    "scrolled": true
   },
   "outputs": [
    {
     "data": {
      "text/plain": [
       "'#WhyIStayed no one believed it was as bad as it was even after all the frequent er visits'"
      ]
     },
     "execution_count": 63,
     "metadata": {},
     "output_type": "execute_result"
    }
   ],
   "source": [
    "df.post[16] #believed"
   ]
  },
  {
   "cell_type": "code",
   "execution_count": 64,
   "id": "64b39aac",
   "metadata": {
    "scrolled": true
   },
   "outputs": [
    {
     "data": {
      "text/plain": [
       "\"#WhyIStayed Because I've been told all my life that a man's only worth is in how he supports and protects women, and I foolishly believed it\""
      ]
     },
     "execution_count": 64,
     "metadata": {},
     "output_type": "execute_result"
    }
   ],
   "source": [
    "df.post[7271] #believed"
   ]
  },
  {
   "cell_type": "code",
   "execution_count": 65,
   "id": "89807006",
   "metadata": {},
   "outputs": [
    {
     "data": {
      "text/plain": [
       "'#WhyIStayed My parents hit me &amp; said they loved me. So when he hit me &amp; said he loved me I believed him.'"
      ]
     },
     "execution_count": 65,
     "metadata": {},
     "output_type": "execute_result"
    }
   ],
   "source": [
    "df.post[727] #believed"
   ]
  },
  {
   "cell_type": "code",
   "execution_count": 66,
   "id": "34cc0f41",
   "metadata": {},
   "outputs": [
    {
     "data": {
      "text/plain": [
       "'The abuse felt normal (like my childhood) I believed I was lucky that anyone would even want me and he made that clear. #WhyIStayed'"
      ]
     },
     "execution_count": 66,
     "metadata": {},
     "output_type": "execute_result"
    }
   ],
   "source": [
    "df.post[3439] #believed"
   ]
  },
  {
   "cell_type": "code",
   "execution_count": 67,
   "id": "dce1d6bb",
   "metadata": {
    "scrolled": true
   },
   "outputs": [
    {
     "data": {
      "text/plain": [
       "'His mom convinced me to stay. Her need for s/one to babysit her son was greater than my safety. Even after she knew he beat me. #WhyIStayed'"
      ]
     },
     "execution_count": 67,
     "metadata": {},
     "output_type": "execute_result"
    }
   ],
   "source": [
    "df.post[12984] #convinced"
   ]
  },
  {
   "cell_type": "code",
   "execution_count": 68,
   "id": "ac9df2b6",
   "metadata": {},
   "outputs": [
    {
     "data": {
      "text/plain": [
       "\"I stayed because I convinced myself verbal abuse wasn't that bad if it didn't turn physical &amp; he said no one else would want me. #WhyIStayed\""
      ]
     },
     "execution_count": 68,
     "metadata": {},
     "output_type": "execute_result"
    }
   ],
   "source": [
    "df.post[4731] #convinced"
   ]
  },
  {
   "cell_type": "code",
   "execution_count": 69,
   "id": "eacdb45e",
   "metadata": {
    "scrolled": false
   },
   "outputs": [
    {
     "data": {
      "text/plain": [
       "'Bc when it got even worse my best friend at the time blamed me for being so weak so dumb so stupid #WhyIStayed'"
      ]
     },
     "execution_count": 69,
     "metadata": {},
     "output_type": "execute_result"
    }
   ],
   "source": [
    "df.post[2624] #dumb"
   ]
  },
  {
   "cell_type": "code",
   "execution_count": 70,
   "id": "24dd66bf",
   "metadata": {
    "scrolled": false
   },
   "outputs": [
    {
     "data": {
      "text/plain": [
       "'Because my mother said \"you were dumb enough to marry him, now you have to suffer the consequences\" #WhyIStayed'"
      ]
     },
     "execution_count": 70,
     "metadata": {},
     "output_type": "execute_result"
    }
   ],
   "source": [
    "df.post[19097] #dumb"
   ]
  },
  {
   "cell_type": "markdown",
   "id": "5c361144-c7d9-4343-9811-c10c89006ef1",
   "metadata": {},
   "source": [
    "## Feelings of Shame"
   ]
  },
  {
   "cell_type": "markdown",
   "id": "e9703412-a604-4436-a6c8-ccea340af825",
   "metadata": {},
   "source": [
    "*Embarrassed, shock, dumb*, and *admit* were words that express feelings of shame."
   ]
  },
  {
   "cell_type": "code",
   "execution_count": 71,
   "id": "b8d848ef",
   "metadata": {},
   "outputs": [
    {
     "data": {
      "text/plain": [
       "'#WhyIStayed I was too stubborn to admit that my family was right'"
      ]
     },
     "execution_count": 71,
     "metadata": {},
     "output_type": "execute_result"
    }
   ],
   "source": [
    "df.post[287] #admit"
   ]
  },
  {
   "cell_type": "code",
   "execution_count": 72,
   "id": "1c715d83",
   "metadata": {},
   "outputs": [
    {
     "data": {
      "text/plain": [
       "'The reason #WhyIStayed after he moved his girlfriend in was because I really had no place to go and I was too embarrassed to tell anyone.'"
      ]
     },
     "execution_count": 72,
     "metadata": {},
     "output_type": "execute_result"
    }
   ],
   "source": [
    "df.post[233] #embarrassed"
   ]
  },
  {
   "cell_type": "code",
   "execution_count": 73,
   "id": "d5196095",
   "metadata": {
    "scrolled": true
   },
   "outputs": [
    {
     "data": {
      "text/plain": [
       "\"#WhyIStayed because I was embarrassed &amp; shocked it happened. Then thought, in relationship you're supposed to work through problems together\""
      ]
     },
     "execution_count": 73,
     "metadata": {},
     "output_type": "execute_result"
    }
   ],
   "source": [
    "df.post[10702] #embarrassed #shock"
   ]
  },
  {
   "cell_type": "code",
   "execution_count": 74,
   "id": "7dbb834e",
   "metadata": {},
   "outputs": [
    {
     "data": {
      "text/plain": [
       "\"Because I was a strong intelligent woman and I didn't want people to know I was dumb enough to let it happen to me. #WhyIStayed\""
      ]
     },
     "execution_count": 74,
     "metadata": {},
     "output_type": "execute_result"
    }
   ],
   "source": [
    "df.post[9791] #dumb"
   ]
  },
  {
   "cell_type": "markdown",
   "id": "de025637-aa2c-4c0a-9f7a-8217394f23f1",
   "metadata": {
    "tags": []
   },
   "source": [
    "## Financial, Emotional, and Physical Dependency"
   ]
  },
  {
   "cell_type": "markdown",
   "id": "3fa4f185-3f7e-481b-bde8-6aef23e304c8",
   "metadata": {},
   "source": [
    "*Financially, nowhere*, and *isolated* describe situations where the victim did not have control of her/his own finances and felt socially isolated from loved ones. Many tweets relating to finances recalled experiencing economic abuse, where one partner controls the other partner's ability to acquire, use, and maintain economic resources to prevent victims from leaving the abuser by lack of financial means."
   ]
  },
  {
   "cell_type": "code",
   "execution_count": 75,
   "id": "a4c10443",
   "metadata": {},
   "outputs": [
    {
     "data": {
      "text/plain": [
       "'#WhyIStayed There was no room in the shelter and nowhere else to go.'"
      ]
     },
     "execution_count": 75,
     "metadata": {},
     "output_type": "execute_result"
    }
   ],
   "source": [
    "df.post[280] #nowhere"
   ]
  },
  {
   "cell_type": "code",
   "execution_count": 76,
   "id": "92af95a3",
   "metadata": {},
   "outputs": [
    {
     "data": {
      "text/plain": [
       "'also \"just leaving\" becomes irrelevant if you don\\'t have the resources/support network to do so. no money. nowhere to go. etc #WhyIStayed'"
      ]
     },
     "execution_count": 76,
     "metadata": {},
     "output_type": "execute_result"
    }
   ],
   "source": [
    "df.post[317] #nowhere #convinced"
   ]
  },
  {
   "cell_type": "code",
   "execution_count": 77,
   "id": "eb07e856",
   "metadata": {
    "scrolled": true
   },
   "outputs": [
    {
     "data": {
      "text/plain": [
       "'Being isolated enough to hate my friends, family, and self, while brainwashed into thinking that was how all relationships are #WhyIStayed'"
      ]
     },
     "execution_count": 77,
     "metadata": {},
     "output_type": "execute_result"
    }
   ],
   "source": [
    "df.post[12084] #brainwashed"
   ]
  },
  {
   "cell_type": "code",
   "execution_count": 78,
   "id": "706db7a0",
   "metadata": {},
   "outputs": [
    {
     "data": {
      "text/plain": [
       "\"Bcuz it didn't happen overnight, it gradually led up to him abusing me and by then I was emotionally &amp; financially dependent   #WhyIStayed\""
      ]
     },
     "execution_count": 78,
     "metadata": {},
     "output_type": "execute_result"
    }
   ],
   "source": [
    "df.post[35] #financially #dependent"
   ]
  },
  {
   "cell_type": "code",
   "execution_count": 79,
   "id": "90c07d76",
   "metadata": {},
   "outputs": [
    {
     "data": {
      "text/plain": [
       "'#WhyIStayed Not because I depended on him financially, but because it was the other way around.'"
      ]
     },
     "execution_count": 79,
     "metadata": {},
     "output_type": "execute_result"
    }
   ],
   "source": [
    "df.post[1965] #financally"
   ]
  },
  {
   "cell_type": "code",
   "execution_count": 80,
   "id": "e2fb1345",
   "metadata": {},
   "outputs": [
    {
     "data": {
      "text/plain": [
       "'#WhyIStayed we worked together, lived together. she controlled me financially, emotionally. she manipulated me into thinking i owed her.'"
      ]
     },
     "execution_count": 80,
     "metadata": {},
     "output_type": "execute_result"
    }
   ],
   "source": [
    "df.post[2845] #financially"
   ]
  },
  {
   "cell_type": "code",
   "execution_count": 81,
   "id": "80c239e0",
   "metadata": {},
   "outputs": [
    {
     "data": {
      "text/plain": [
       "'#WhyIStayed is almost never about the net worth of the abuser. It is often about the abuser having made the victim financially dependent.'"
      ]
     },
     "execution_count": 81,
     "metadata": {},
     "output_type": "execute_result"
    }
   ],
   "source": [
    "df.post[6205] #financially"
   ]
  },
  {
   "cell_type": "code",
   "execution_count": 82,
   "id": "affd3d8a",
   "metadata": {
    "scrolled": false
   },
   "outputs": [
    {
     "data": {
      "text/plain": [
       "'He also made me quit working, made me completely dependent on him, &amp; I realized all too late he had cleaned me out financially. #WhyIStayed'"
      ]
     },
     "execution_count": 82,
     "metadata": {},
     "output_type": "execute_result"
    }
   ],
   "source": [
    "df.post[12402] #financially"
   ]
  },
  {
   "cell_type": "markdown",
   "id": "e4d4973a-74c1-47f8-b81b-3965595e43ad",
   "metadata": {},
   "source": [
    "## Fear of Retaliation"
   ]
  },
  {
   "cell_type": "markdown",
   "id": "c392e2fc-e988-49c3-b533-ccbe4c6a2ee5",
   "metadata": {},
   "source": [
    "*Fail, nowhere, apologized*, and *believed* are used to describe situations where the abusive partner would use threats against his or her own life, or the author and author's loved ones."
   ]
  },
  {
   "cell_type": "code",
   "execution_count": 83,
   "id": "43d82982",
   "metadata": {},
   "outputs": [
    {
     "data": {
      "text/plain": [
       "'#WhyIStayed Because he told me he would kill me and that no one would ever love me the way he did. I was scared, felt isolated from family.'"
      ]
     },
     "execution_count": 83,
     "metadata": {},
     "output_type": "execute_result"
    }
   ],
   "source": [
    "df.post[376] #isolated"
   ]
  },
  {
   "cell_type": "code",
   "execution_count": 84,
   "id": "d7f3e32a",
   "metadata": {},
   "outputs": [
    {
     "data": {
      "text/plain": [
       "'#whyistayed because I was afraid he would kill himself and that it would be all my fault. He did, and I am not to blame.'"
      ]
     },
     "execution_count": 84,
     "metadata": {},
     "output_type": "execute_result"
    }
   ],
   "source": [
    "df.post[11426] #fault"
   ]
  },
  {
   "cell_type": "code",
   "execution_count": 85,
   "id": "e58c0cb4",
   "metadata": {},
   "outputs": [
    {
     "data": {
      "text/plain": [
       "'#WhyIStayed because I was in shock, like a nightmare, then when I gained focus he threatened to kill me.'"
      ]
     },
     "execution_count": 85,
     "metadata": {},
     "output_type": "execute_result"
    }
   ],
   "source": [
    "df.post[15993] #shock"
   ]
  },
  {
   "cell_type": "code",
   "execution_count": 86,
   "id": "6fd091b5",
   "metadata": {
    "scrolled": true
   },
   "outputs": [
    {
     "data": {
      "text/plain": [
       "'#WhyIStayed I was petrified and thought he would take my daughter. #Why I Left I knew one day he would do the same to my daughter.'"
      ]
     },
     "execution_count": 86,
     "metadata": {},
     "output_type": "execute_result"
    }
   ],
   "source": [
    "df.post[12839] #petrified"
   ]
  },
  {
   "cell_type": "code",
   "execution_count": 87,
   "id": "3cd081f4",
   "metadata": {},
   "outputs": [
    {
     "data": {
      "text/plain": [
       "'#WhyIStayed because he threatened to kidnap the children or destroy me in a nasty custody battle if i ever left.'"
      ]
     },
     "execution_count": 87,
     "metadata": {},
     "output_type": "execute_result"
    }
   ],
   "source": [
    "df.post[14847] #custody"
   ]
  },
  {
   "cell_type": "markdown",
   "id": "2fd6ee1c",
   "metadata": {},
   "source": [
    "## Children"
   ]
  },
  {
   "cell_type": "code",
   "execution_count": 88,
   "id": "22d22d5a",
   "metadata": {},
   "outputs": [
    {
     "data": {
      "text/plain": [
       "'#WhyIStayed I felt financially trapped even though I knew I could support myself. It was different with a child with special needs though.'"
      ]
     },
     "execution_count": 88,
     "metadata": {},
     "output_type": "execute_result"
    }
   ],
   "source": [
    "df.post[12365] #financially"
   ]
  },
  {
   "cell_type": "code",
   "execution_count": 89,
   "id": "ace15374",
   "metadata": {},
   "outputs": [
    {
     "data": {
      "text/plain": [
       "'Because of the financial burdens of custody battles while still caring for the kids alone monetarily #WhyIStayed'"
      ]
     },
     "execution_count": 89,
     "metadata": {},
     "output_type": "execute_result"
    }
   ],
   "source": [
    "df.post[323] #custody"
   ]
  },
  {
   "cell_type": "code",
   "execution_count": 90,
   "id": "e4b598aa",
   "metadata": {
    "scrolled": true
   },
   "outputs": [
    {
     "data": {
      "text/plain": [
       "\"family court doesn't believe u if u have no proof, so they take your kids away from you, or force you to agree to joint custody #WhyIStayed\""
      ]
     },
     "execution_count": 90,
     "metadata": {},
     "output_type": "execute_result"
    }
   ],
   "source": [
    "df.post[12033] #custody"
   ]
  },
  {
   "cell_type": "code",
   "execution_count": 91,
   "id": "5a8349fc",
   "metadata": {
    "scrolled": true
   },
   "outputs": [
    {
     "data": {
      "text/plain": [
       "'“@Katiebyeager: I thought my daughter deserved a fair shot at a \"happy family\" #WhyIStayed” same with my son'"
      ]
     },
     "execution_count": 91,
     "metadata": {},
     "output_type": "execute_result"
    }
   ],
   "source": [
    "df.post[19271] #fair"
   ]
  },
  {
   "cell_type": "code",
   "execution_count": 92,
   "id": "4cf49620",
   "metadata": {},
   "outputs": [
    {
     "data": {
      "text/plain": [
       "'#WhyIStayed cuz i believed I needed to give our children a whole family. No matter how miserable I was....I was wrong, left 2 years ago'"
      ]
     },
     "execution_count": 92,
     "metadata": {},
     "output_type": "execute_result"
    }
   ],
   "source": [
    "df.post[2876] #believed"
   ]
  },
  {
   "cell_type": "markdown",
   "id": "8d7f958b-6ecc-4a07-bce8-e4393ac88d4e",
   "metadata": {},
   "source": [
    "## Forgiveness & Hope"
   ]
  },
  {
   "cell_type": "markdown",
   "id": "ee952f4b-0c46-47b7-b3c1-f7ccb4e42fd3",
   "metadata": {},
   "source": [
    "*Apologized* points to circumstances where the abusive partner apologized but often did not change their behaviour. *Trauma, believed* and *convinced* posts also demonstrate empathy towards the abuser."
   ]
  },
  {
   "cell_type": "code",
   "execution_count": 93,
   "id": "f7d91088",
   "metadata": {},
   "outputs": [
    {
     "data": {
      "text/plain": [
       "'#WhyIStayed After he was violent, he apologized and was extremely apologetic and loving, until the next blowup.'"
      ]
     },
     "execution_count": 93,
     "metadata": {},
     "output_type": "execute_result"
    }
   ],
   "source": [
    "df.post[3617] #apologized"
   ]
  },
  {
   "cell_type": "code",
   "execution_count": 94,
   "id": "3e006668",
   "metadata": {
    "scrolled": false
   },
   "outputs": [
    {
     "data": {
      "text/plain": [
       "'#WhyIStayed because I thought things would change, and I convinced myself that everything he called me was right.'"
      ]
     },
     "execution_count": 94,
     "metadata": {},
     "output_type": "execute_result"
    }
   ],
   "source": [
    "df.post[161] #convinced"
   ]
  },
  {
   "cell_type": "code",
   "execution_count": 95,
   "id": "e8cf9baa",
   "metadata": {},
   "outputs": [
    {
     "data": {
      "text/plain": [
       "\"#WhyIStayed ...we were newlyweds,I was shell-shocked,he didn't hit me-it was verbal,he apologized w/shopping,&amp;he said it wasn't verbal abuse\""
      ]
     },
     "execution_count": 95,
     "metadata": {},
     "output_type": "execute_result"
    }
   ],
   "source": [
    "df.post[17411] #shock"
   ]
  },
  {
   "cell_type": "code",
   "execution_count": 96,
   "id": "8ff18ba3",
   "metadata": {
    "scrolled": true
   },
   "outputs": [
    {
     "data": {
      "text/plain": [
       "'Because he was always sorry and promised he would change.  And i had to believe him to survive.  #whyistayed'"
      ]
     },
     "execution_count": 96,
     "metadata": {},
     "output_type": "execute_result"
    }
   ],
   "source": [
    "df.post[18656] #promised #believe"
   ]
  },
  {
   "cell_type": "code",
   "execution_count": 97,
   "id": "f30112fd",
   "metadata": {
    "scrolled": false
   },
   "outputs": [
    {
     "data": {
      "text/plain": [
       "'He said he would change. He promised it was the last time. I believed him. He lied. #WhyIStayed'"
      ]
     },
     "execution_count": 97,
     "metadata": {},
     "output_type": "execute_result"
    }
   ],
   "source": [
    "df.post[1230] #promised #believed"
   ]
  },
  {
   "cell_type": "code",
   "execution_count": 98,
   "id": "62d788b5",
   "metadata": {
    "scrolled": true
   },
   "outputs": [
    {
     "data": {
      "text/plain": [
       "'#WhyIStayed he always apologized with gifts and promised it would never happen again. (Or at least until the bruises healed)'"
      ]
     },
     "execution_count": 98,
     "metadata": {},
     "output_type": "execute_result"
    }
   ],
   "source": [
    "df.post[5702] #promised #apologized"
   ]
  },
  {
   "cell_type": "markdown",
   "id": "87fdfbc0-e303-4e55-ae53-f6e10479ffb4",
   "metadata": {},
   "source": [
    "## Religion"
   ]
  },
  {
   "cell_type": "markdown",
   "id": "657514b9-5845-47e3-915e-d4c72ce87537",
   "metadata": {},
   "source": [
    "Most *Church* tweets contain information about outdated religious views of marriage, as many religions consider divorce to be sinful."
   ]
  },
  {
   "cell_type": "code",
   "execution_count": 99,
   "id": "e78cec5e",
   "metadata": {},
   "outputs": [
    {
     "data": {
      "text/plain": [
       "'#WhyIStayed being a Christian had taught me i had no value without my wife and that it could be \"that bad\"'"
      ]
     },
     "execution_count": 99,
     "metadata": {},
     "output_type": "execute_result"
    }
   ],
   "source": [
    "df.post[634] #taught"
   ]
  },
  {
   "cell_type": "code",
   "execution_count": 100,
   "id": "2611d55d",
   "metadata": {},
   "outputs": [
    {
     "data": {
      "text/plain": [
       "'#WhyIStayed Because the elders of our church told my mother and I that it was our fault.'"
      ]
     },
     "execution_count": 100,
     "metadata": {},
     "output_type": "execute_result"
    }
   ],
   "source": [
    "df.post[1621] #fault"
   ]
  },
  {
   "cell_type": "code",
   "execution_count": 101,
   "id": "0619984a",
   "metadata": {
    "scrolled": true
   },
   "outputs": [
    {
     "data": {
      "text/plain": [
       "'#WhyIStayed my pastor told me to pray more, fast more, submit more.  I was told by my church it was my fault.  \\n\\nRC'"
      ]
     },
     "execution_count": 101,
     "metadata": {},
     "output_type": "execute_result"
    }
   ],
   "source": [
    "df.post[13725] #fault"
   ]
  },
  {
   "cell_type": "code",
   "execution_count": null,
   "id": "e635535d",
   "metadata": {},
   "outputs": [],
   "source": []
  },
  {
   "cell_type": "markdown",
   "id": "0b0def0b-6d7a-4214-9ba4-078d3ede1cf4",
   "metadata": {},
   "source": [
    "## Notable Mentions"
   ]
  },
  {
   "cell_type": "markdown",
   "id": "cac8c84a-3b5c-4d94-a3af-71eb4abfbc4b",
   "metadata": {},
   "source": [
    "### Criticisms of #WhyIStayed"
   ]
  },
  {
   "cell_type": "markdown",
   "id": "8bd615a5-13ec-4a2a-8ece-e14e923b6471",
   "metadata": {},
   "source": [
    "The reason why *society* seems to be the most predictive feature of #WhyIStayed may be partly because *society* is also used to criticize the movement of putting the focus onto victims rather than abusers. "
   ]
  },
  {
   "cell_type": "code",
   "execution_count": 102,
   "id": "ba0be9fd-857e-4d91-9bee-1be87ec2f0a8",
   "metadata": {},
   "outputs": [
    {
     "data": {
      "text/plain": [
       "'#WhyIStayed: Fear, embarrassment, lack of money, lack of a different place to live (due to lack of money)...'"
      ]
     },
     "execution_count": 102,
     "metadata": {},
     "output_type": "execute_result"
    }
   ],
   "source": [
    "df.post[4135] #society"
   ]
  },
  {
   "cell_type": "code",
   "execution_count": 103,
   "id": "e5628cea",
   "metadata": {},
   "outputs": [
    {
     "data": {
      "text/plain": [
       "111      #WhyIStayed:  How some churches support spousa...\n",
       "452      New post that focuses on how some churches sup...\n",
       "723      @unitedchurch let us not judge- let us listen....\n",
       "769      We had so many mutual friends and he was activ...\n",
       "1549     B/C 3 years after my MIL finally defied the Ch...\n",
       "1621     #WhyIStayed Because the elders of our church t...\n",
       "1775     When I went to the church authorities, they to...\n",
       "1781      #WhyIStayed because the church told me I had to.\n",
       "2960         The church said God hated divorce #WhyIStayed\n",
       "3032     #WhyIStayed because my only option for protect...\n",
       "3070     My mom had 3 young kids, a mortgage, and a PT ...\n",
       "3113     #WhyIStayed because the church I attended said...\n",
       "3283     #WhyIStayed because he knew every place I coul...\n",
       "3329     @AWiltshire19 I could not be in contct with my...\n",
       "3705     #WhyIStayed: How some churches support spousal...\n",
       "3874     A friend of my mom's stayed because our church...\n",
       "4011     So true......“@ReaganWorld: #WhyIStayed:  How ...\n",
       "4330     A group of ministers at my then church told me...\n",
       "4360     Boyce Watkins tappin' keys abt \"strong women\" ...\n",
       "5748     I AM GRATEFUL TO BE IN A SAFE CHURCH-but for t...\n",
       "6190     My heart aches for the women of #WhyIStayed, e...\n",
       "6304     #WhyIStayed  because there were no open shelte...\n",
       "6660     Good insights into evangelical world and abuse...\n",
       "6663     #WhyIStayed Asked \"church elder\" who was an at...\n",
       "7496     Pls make a plan &amp; get away. If he hits u o...\n",
       "7938     #WhyIStayed For the bible (and my church) told...\n",
       "8243     #WhyIStayed: How some churches support spousal...\n",
       "8348     #WhyIStayed has brought up an important topic ...\n",
       "8542     \"#WhyIStayed: How some churches support spousa...\n",
       "8743     #WhyIStayed because my church said leaving was...\n",
       "9217     \"Rhymes With Religion\" - #WhyIStayed: How do s...\n",
       "9654     #WhyIStayed His family &amp; church told me it...\n",
       "9711     I sang the wrong lyrics/he said I pushed his b...\n",
       "10976    Well intended pastor and women of my church to...\n",
       "11899    #WhyIStayed:  How some churches support spousa...\n",
       "12010    Because the church told me divorce was a sin. ...\n",
       "12143    My mom stayed because my dad controlled the mo...\n",
       "12240    He was an officer in the church. They didn't w...\n",
       "12477    \"@AfroIvoire: Because good church girls persev...\n",
       "12719    #WhyIStayed We had two children together, he s...\n",
       "13465    #WhyIStayed My church encouraged me 2 love wit...\n",
       "13553    #WhyIStayed Because the abuser recruited allie...\n",
       "13725    #WhyIStayed my pastor told me to pray more, fa...\n",
       "13954    Disturbing how many women listed church as a f...\n",
       "14122    A Mormon woman's value is based completely on ...\n",
       "14232    http://t.co/7sgsDKJZGI they call it six feet u...\n",
       "14597    #WhyIStayed \\n\\nI didn't stay. My abuser, my m...\n",
       "14696    #WhyIStayed: How some churches support spousal...\n",
       "14748    When you're Mormon it's all about appearances,...\n",
       "15082    He said he would tell lies about me and the ch...\n",
       "16156    What's her family/friends/church leaders sayin...\n",
       "16876    I've seen this too many times “@David_C_Cook: ...\n",
       "17021    “@ellen_g: My mom had 3 young kids, a mortgage...\n",
       "17294    #WhyIStayed Violence is  rooted in our society...\n",
       "17509    I was in an abusive marriage. My church and re...\n",
       "17707    #WhyIStayed and faith: \"Not one woman or man c...\n",
       "18001    #WhyIStayed my church and church leaders kept ...\n",
       "18833    #WhyIStayed, I was afraid of what my family an...\n",
       "18852    I didn't want to disappoint family, friends, a...\n",
       "19234    Because I didn't think my church friends would...\n",
       "Name: post, dtype: object"
      ]
     },
     "execution_count": 103,
     "metadata": {},
     "output_type": "execute_result"
    }
   ],
   "source": [
    "df[(df.post.str.contains('church'))&(df.label=='#WhyIStayed')].post"
   ]
  },
  {
   "cell_type": "code",
   "execution_count": 104,
   "id": "00ad8b8f-e67b-4974-9b7c-52f54ad1dd83",
   "metadata": {},
   "outputs": [
    {
     "data": {
      "text/plain": [
       "'#WhyIStayed because he threatened to kill himself and blame me in the suicide note if I didn\\'t \"forget\" he shoved me down the stairs'"
      ]
     },
     "execution_count": 104,
     "metadata": {},
     "output_type": "execute_result"
    }
   ],
   "source": [
    "df.post[4143] #society"
   ]
  },
  {
   "cell_type": "code",
   "execution_count": 105,
   "id": "5d11a09f-7bb1-4a38-968a-dbe400c7a419",
   "metadata": {},
   "outputs": [
    {
     "data": {
      "text/plain": [
       "\"Because he's just trying to keep me out of trouble by not letting me go out w/ certain people. #WhyIStayed #itsnotalwaysphysical\""
      ]
     },
     "execution_count": 105,
     "metadata": {},
     "output_type": "execute_result"
    }
   ],
   "source": [
    "df.post[4733] #society"
   ]
  },
  {
   "cell_type": "code",
   "execution_count": 106,
   "id": "c76a967f-472d-4efc-938a-6906586de54a",
   "metadata": {},
   "outputs": [
    {
     "data": {
      "text/plain": [
       "'#WhyILeft Because what if my sons grew up to be like him?'"
      ]
     },
     "execution_count": 106,
     "metadata": {},
     "output_type": "execute_result"
    }
   ],
   "source": [
    "df.post[7021] #perspective"
   ]
  },
  {
   "cell_type": "markdown",
   "id": "91c96ab1-33ad-4a07-8954-bfe3dd081e99",
   "metadata": {},
   "source": [
    "\n",
    "\n",
    "*Complicated* helps us look at the other side of this argument that it is indeed important to understand the victim's perspectives in order to ease the victim-blaming."
   ]
  },
  {
   "cell_type": "code",
   "execution_count": 107,
   "id": "424af977-2381-4fd5-af88-2058a43dc14e",
   "metadata": {},
   "outputs": [
    {
     "data": {
      "text/plain": [
       "'#WhyIStayed I felt I had no other options in life, but to be with him.  My ID was with him, not myself.  #nomore'"
      ]
     },
     "execution_count": 107,
     "metadata": {},
     "output_type": "execute_result"
    }
   ],
   "source": [
    "df.post[19357] #nowhere"
   ]
  },
  {
   "cell_type": "code",
   "execution_count": 108,
   "id": "4b59966f-779a-4dd4-9c82-86418df07cd9",
   "metadata": {},
   "outputs": [
    {
     "data": {
      "text/plain": [
       "\"#WhyIStayed he promised he was sorry, he promised he wouldn't do it again, he promised to get help\""
      ]
     },
     "execution_count": 108,
     "metadata": {},
     "output_type": "execute_result"
    }
   ],
   "source": [
    "df.post[6019] #complicated"
   ]
  },
  {
   "cell_type": "code",
   "execution_count": 109,
   "id": "e7303358-041c-4330-be26-2113312fab6a",
   "metadata": {},
   "outputs": [
    {
     "data": {
      "text/plain": [
       "'#WhyIStayed \"@TheAtlantic: For abuse victims, the obstacles to leaving are more complicated than many people think http://t.co/zhJsfoLyfk\"'"
      ]
     },
     "execution_count": 109,
     "metadata": {},
     "output_type": "execute_result"
    }
   ],
   "source": [
    "df.post[148] #complicated"
   ]
  },
  {
   "cell_type": "code",
   "execution_count": 110,
   "id": "98d6710b-d1bd-4edf-b4fb-698d5b0cfdfd",
   "metadata": {},
   "outputs": [
    {
     "data": {
      "text/plain": [
       "\"On average it takes a person 7 tries to leave an abusive relationship.  It is everyone's duty to help lower this to 1. #WhyIStayed\""
      ]
     },
     "execution_count": 110,
     "metadata": {},
     "output_type": "execute_result"
    }
   ],
   "source": [
    "df.post[12387]"
   ]
  },
  {
   "cell_type": "markdown",
   "id": "72548f70-2961-42fb-a5e5-9b587e617600",
   "metadata": {},
   "source": [
    "### Battered Person Syndrome"
   ]
  },
  {
   "cell_type": "markdown",
   "id": "47011150-6f15-4d81-adde-18ba84e32bef",
   "metadata": {},
   "source": [
    "The keyword *syndrome* returned many tweets alluding to 'battered person syndrome'. Battered woman syndrome, or battered person syndrome, is a psychological condition that can develop when a person experiences abuse, usually at the hands of an intimate partner. These people exhibit four characteristics: They believe the violence is their fault, they can’t place the blame for the violence on anyone else, they fear for their lives and their children’s lives, and they believe their abuser is everywhere and sees everything they do. These symptoms seem to encompass the narratives as seen especially in **2.2.4. Psychological Dependency** and **2.2.5. Fear of Retaliation**. Source: https://www.everydayhealth.com/news/understanding-battered-womens-syndrome/)."
   ]
  },
  {
   "cell_type": "code",
   "execution_count": 111,
   "id": "11dcf119-29dc-41d7-a4fc-ca0da3deecb5",
   "metadata": {},
   "outputs": [
    {
     "data": {
      "text/plain": [
       "array([\"#WhyIStayed battered person's syndrome\",\n",
       "       'Battered Person Syndrome and learned helplessness theory help explain why abused spouses often stay in destructive relationships #WhyIStayed',\n",
       "       '#whyistayed. Cause u need help battered woman syndrome is some real ish. http://t.co/I9FGGk1zwg',\n",
       "       \"I fully understand the abused woman syndrome! I was one. It feels like u can't live without them. Had no self-esteem. #WhyIStayed\",\n",
       "       '@writersrepublic The man is abusive get out of the relationship. That said, I get the concept of the battered women syndrome. #WhyIStayed'],\n",
       "      dtype=object)"
      ]
     },
     "execution_count": 111,
     "metadata": {},
     "output_type": "execute_result"
    }
   ],
   "source": [
    "df[(df.tokens.str.contains('syndrome'))&(df.label=='#WhyIStayed')].post.values[:5]"
   ]
  },
  {
   "cell_type": "markdown",
   "id": "db665e30-654b-4c5b-a00b-bf46edca889b",
   "metadata": {},
   "source": [
    "# Thresholding"
   ]
  },
  {
   "cell_type": "code",
   "execution_count": 112,
   "id": "1629c86c-2255-47f6-aa59-5b82e1b52d1b",
   "metadata": {
    "scrolled": false
   },
   "outputs": [
    {
     "data": {
      "image/png": "[encoded data removed]",
      "text/plain": [
       "<Figure size 432x432 with 2 Axes>"
      ]
     },
     "metadata": {},
     "output_type": "display_data"
    },
    {
     "name": "stdout",
     "output_type": "stream",
     "text": [
      "              precision    recall  f1-score   support\n",
      "\n",
      "           0       0.72      0.55      0.63      1128\n",
      "           1       0.83      0.91      0.87      2783\n",
      "\n",
      "    accuracy                           0.81      3911\n",
      "   macro avg       0.78      0.73      0.75      3911\n",
      "weighted avg       0.80      0.81      0.80      3911\n",
      "\n"
     ]
    }
   ],
   "source": [
    "fthreshold = 0.5\n",
    "\n",
    "y_pred = (y_pred_prob >= fthreshold).astype('int')\n",
    "fig, ax = plt.subplots(figsize=(6,6))\n",
    "cm=confusion_matrix(y_test, y_pred)\n",
    "disp=ConfusionMatrixDisplay(cm)\n",
    "disp.plot(ax=ax)\n",
    "plt.grid(False)\n",
    "plt.title('Confusion Matrix for threshold='+ str(np.round(fthreshold, 3)))\n",
    "plt.show()\n",
    "print(classification_report(y_test, y_pred))"
   ]
  },
  {
   "cell_type": "code",
   "execution_count": 113,
   "id": "cd79aa34-79f4-4e11-bfec-5186434d541f",
   "metadata": {},
   "outputs": [
    {
     "data": {
      "image/png": "[encoded data removed]",
      "text/plain": [
       "<Figure size 432x432 with 1 Axes>"
      ]
     },
     "metadata": {},
     "output_type": "display_data"
    }
   ],
   "source": [
    "fig, ax=plt.subplots(figsize=(6,6))\n",
    "ax.plot([0,1],[0,1],'k--')\n",
    "ax.plot(lr_fpr, lr_tpr) \n",
    "plt.xlabel('False Positive Rate') \n",
    "plt.ylabel('True Positive Rate')\n",
    "plt.title('ROC Curve for Naive Bayes Classifier') \n",
    "plt.show()"
   ]
  },
  {
   "cell_type": "code",
   "execution_count": 114,
   "id": "6510c8d0-4b7f-450e-a72f-334e0c5f863c",
   "metadata": {},
   "outputs": [
    {
     "data": {
      "image/png": "[encoded data removed]",
      "text/plain": [
       "<Figure size 432x432 with 1 Axes>"
      ]
     },
     "metadata": {},
     "output_type": "display_data"
    }
   ],
   "source": [
    "precision, recall, threshold = precision_recall_curve(y_test, y_pred_prob) # pos_labelstr - picks normal weight class\n",
    "fig, ax=plt.subplots(figsize=(6,6))\n",
    "ax.plot(recall, precision)\n",
    "ax.set_xlabel('Recall')\n",
    "ax.set_ylabel('Precision')\n",
    "ax.set_title('Precision-Recall Curve for Naive Bayes Classifier')\n",
    "ax.set_ylim(0.0, 1.1)\n",
    "plt.show()"
   ]
  },
  {
   "cell_type": "code",
   "execution_count": 115,
   "id": "1989f826-0ce2-4d35-9a4d-2d13903bfd19",
   "metadata": {},
   "outputs": [],
   "source": [
    "def fbeta_score(precision, recall, beta=1.0):\n",
    "    return (1+beta**2)*(precision*recall)/((beta**2)*precision+recall)"
   ]
  },
  {
   "cell_type": "code",
   "execution_count": 116,
   "id": "80080d79-6566-42d5-95e5-f7174bd84ffb",
   "metadata": {},
   "outputs": [
    {
     "name": "stdout",
     "output_type": "stream",
     "text": [
      "Beta: 1, Threshold: 0.39998, F-score: 0.875\n",
      "Beta: 2, Threshold: 0.13267, F-score: 0.932\n",
      "Beta: 3, Threshold: 0.07206, F-score: 0.963\n",
      "Beta: 4, Threshold: 0.0208, F-score: 0.977\n",
      "Beta: 5, Threshold: 0.00153, F-score: 0.985\n"
     ]
    }
   ],
   "source": [
    "for i in range(1,6):\n",
    "    score=fbeta_score(precision, recall, beta=i)\n",
    "    idx=np.argmax(score)\n",
    "    print('Beta: '+str(i)+', Threshold: '+str(np.round(threshold[idx], 5))+', F-score: '+str(np.round(score[idx],3)))"
   ]
  },
  {
   "cell_type": "code",
   "execution_count": 117,
   "id": "68a44f5f-f6e9-494e-8c2c-fa8b455bf157",
   "metadata": {},
   "outputs": [],
   "source": [
    "fscore=fbeta_score(precision, recall, beta=2)\n",
    "f_i=np.argmax(fscore)"
   ]
  },
  {
   "cell_type": "code",
   "execution_count": 118,
   "id": "de59609d-b106-4111-8a5b-5dda874b49b1",
   "metadata": {},
   "outputs": [
    {
     "data": {
      "image/png": "[encoded data removed]",
      "text/plain": [
       "<Figure size 432x432 with 1 Axes>"
      ]
     },
     "metadata": {},
     "output_type": "display_data"
    }
   ],
   "source": [
    "fig, ax=plt.subplots(figsize=(6,6))\n",
    "ax.plot(threshold, precision[1:], label='Precision')\n",
    "ax.plot(threshold, recall[1:], label='Recall')\n",
    "\n",
    "ax.set_xlabel('Threshold')\n",
    "ax.set_ylabel('Precision/Recall')\n",
    "ax.set_title('Precision/Recall vs. Threshold for Naive Bayes Classifier')\n",
    "\n",
    "ax.plot(threshold, fscore[1:], label='F-score')\n",
    "\n",
    "ax.axvline(threshold[f_i], linestyle='dashed', color='green')\n",
    "plt.text(threshold[f_i]*1.05, 0.455, 'Threshold: '+str(np.round(threshold[f_i], 3)), fontsize='small', backgroundcolor='honeydew')\n",
    "plt.text(threshold[f_i]*1.05, 0.385, 'Max F-score: '+str(np.round(fscore[f_i], 3)), fontsize='small', backgroundcolor='honeydew')\n",
    "\n",
    "ax.legend()\n",
    "plt.show()"
   ]
  },
  {
   "cell_type": "code",
   "execution_count": 119,
   "id": "b7eba83d-7f8a-4285-989c-4da8b1ef9361",
   "metadata": {
    "scrolled": true
   },
   "outputs": [
    {
     "data": {
      "image/png": "[encoded data removed]",
      "text/plain": [
       "<Figure size 432x432 with 2 Axes>"
      ]
     },
     "metadata": {},
     "output_type": "display_data"
    },
    {
     "name": "stdout",
     "output_type": "stream",
     "text": [
      "              precision    recall  f1-score   support\n",
      "\n",
      "           0       0.90      0.20      0.32      1128\n",
      "           1       0.75      0.99      0.86      2783\n",
      "\n",
      "    accuracy                           0.76      3911\n",
      "   macro avg       0.83      0.59      0.59      3911\n",
      "weighted avg       0.80      0.76      0.70      3911\n",
      "\n"
     ]
    }
   ],
   "source": [
    "new_threshold = threshold[f_i]\n",
    "\n",
    "y_pred = (y_pred_prob >= new_threshold).astype('int')\n",
    "fig, ax = plt.subplots(figsize=(6,6))\n",
    "cm=confusion_matrix(y_test, y_pred)\n",
    "disp=ConfusionMatrixDisplay(cm)\n",
    "disp.plot(ax=ax)\n",
    "plt.grid(False)\n",
    "plt.title('Confusion Matrix for threshold='+ str(np.round(new_threshold, 3))+ ', F-score='+str(np.round(fscore[f_i], 3)))\n",
    "plt.show()\n",
    "print(classification_report(y_test, y_pred))"
   ]
  },
  {
   "cell_type": "markdown",
   "id": "950be0c4",
   "metadata": {},
   "source": [
    "A recall of 0.2 for the #WhyILeft label is too low for this model to be useful. We set a threshold of 0.6 for this number."
   ]
  },
  {
   "cell_type": "code",
   "execution_count": 125,
   "id": "ed83e7df",
   "metadata": {},
   "outputs": [
    {
     "data": {
      "image/png": "[encoded data removed]",
      "text/plain": [
       "<Figure size 432x432 with 2 Axes>"
      ]
     },
     "metadata": {},
     "output_type": "display_data"
    },
    {
     "name": "stdout",
     "output_type": "stream",
     "text": [
      "              precision    recall  f1-score   support\n",
      "\n",
      "           0       0.75      0.50      0.60      1128\n",
      "           1       0.82      0.93      0.87      2783\n",
      "\n",
      "    accuracy                           0.81      3911\n",
      "   macro avg       0.78      0.71      0.73      3911\n",
      "weighted avg       0.80      0.81      0.79      3911\n",
      "\n"
     ]
    }
   ],
   "source": [
    "new_threshold = 0.45\n",
    "\n",
    "y_pred = (y_pred_prob >= new_threshold).astype('int')\n",
    "fig, ax = plt.subplots(figsize=(6,6))\n",
    "cm=confusion_matrix(y_test, y_pred)\n",
    "disp=ConfusionMatrixDisplay(cm)\n",
    "disp.plot(ax=ax)\n",
    "plt.grid(False)\n",
    "plt.title('Confusion Matrix for threshold='+ str(np.round(new_threshold, 3))+ ', F-score='+str(np.round(fscore[f_i], 3)))\n",
    "plt.show()\n",
    "print(classification_report(y_test, y_pred))"
   ]
  },
  {
   "cell_type": "code",
   "execution_count": 129,
   "id": "fec1d702",
   "metadata": {},
   "outputs": [
    {
     "data": {
      "image/png": "[encoded data removed]",
      "text/plain": [
       "<Figure size 432x432 with 2 Axes>"
      ]
     },
     "metadata": {},
     "output_type": "display_data"
    },
    {
     "name": "stdout",
     "output_type": "stream",
     "text": [
      "              precision    recall  f1-score   support\n",
      "\n",
      "           0       0.67      0.60      0.63      1128\n",
      "           1       0.84      0.88      0.86      2783\n",
      "\n",
      "    accuracy                           0.80      3911\n",
      "   macro avg       0.76      0.74      0.75      3911\n",
      "weighted avg       0.79      0.80      0.80      3911\n",
      "\n"
     ]
    }
   ],
   "source": [
    "new_threshold = 0.56\n",
    "\n",
    "y_pred = (y_pred_prob >= new_threshold).astype('int')\n",
    "fig, ax = plt.subplots(figsize=(6,6))\n",
    "cm=confusion_matrix(y_test, y_pred)\n",
    "disp=ConfusionMatrixDisplay(cm)\n",
    "disp.plot(ax=ax)\n",
    "plt.grid(False)\n",
    "plt.title('Confusion Matrix for threshold='+ str(np.round(new_threshold, 3))+ ', F-score='+str(np.round(fscore[f_i], 3)))\n",
    "plt.show()\n",
    "print(classification_report(y_test, y_pred))"
   ]
  }
 ],
 "metadata": {
  "kernelspec": {
   "display_name": "Python 3 (ipykernel)",
   "language": "python",
   "name": "python3"
  },
  "language_info": {
   "codemirror_mode": {
    "name": "ipython",
    "version": 3
   },
   "file_extension": ".py",
   "mimetype": "text/x-python",
   "name": "python",
   "nbconvert_exporter": "python",
   "pygments_lexer": "ipython3",
   "version": "3.9.13"
  }
 },
 "nbformat": 4,
 "nbformat_minor": 5
}
