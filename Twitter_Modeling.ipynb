{
 "cells": [
  {
   "cell_type": "markdown",
   "id": "4ee3e358",
   "metadata": {
    "toc": true
   },
   "source": [
    "<h1>Table of Contents<span class=\"tocSkip\"></span></h1>\n",
    "<div class=\"toc\"><ul class=\"toc-item\"><li><span><a href=\"#Modeling\" data-toc-modified-id=\"Modeling-1\"><span class=\"toc-item-num\">1&nbsp;&nbsp;</span>Modeling</a></span><ul class=\"toc-item\"><li><span><a href=\"#Naive-Bayes-Classifier\" data-toc-modified-id=\"Naive-Bayes-Classifier-1.1\"><span class=\"toc-item-num\">1.1&nbsp;&nbsp;</span>Naive Bayes Classifier</a></span></li><li><span><a href=\"#Random-Forest-Classifier\" data-toc-modified-id=\"Random-Forest-Classifier-1.2\"><span class=\"toc-item-num\">1.2&nbsp;&nbsp;</span>Random Forest Classifier</a></span></li><li><span><a href=\"#Logistic-Regression\" data-toc-modified-id=\"Logistic-Regression-1.3\"><span class=\"toc-item-num\">1.3&nbsp;&nbsp;</span>Logistic Regression</a></span></li></ul></li><li><span><a href=\"#Feature-Importances:-Most-Predictive-Words\" data-toc-modified-id=\"Feature-Importances:-Most-Predictive-Words-2\"><span class=\"toc-item-num\">2&nbsp;&nbsp;</span>Feature Importances: Most Predictive Words</a></span><ul class=\"toc-item\"><li><span><a href=\"#Self-Empowerment\" data-toc-modified-id=\"Self-Empowerment-2.1\"><span class=\"toc-item-num\">2.1&nbsp;&nbsp;</span>Self Empowerment</a></span></li><li><span><a href=\"#Descriptions-of-Abuse\" data-toc-modified-id=\"Descriptions-of-Abuse-2.2\"><span class=\"toc-item-num\">2.2&nbsp;&nbsp;</span>Descriptions of Abuse</a></span></li><li><span><a href=\"#Outside-Intervention\" data-toc-modified-id=\"Outside-Intervention-2.3\"><span class=\"toc-item-num\">2.3&nbsp;&nbsp;</span>Outside Intervention</a></span></li><li><span><a href=\"#Children\" data-toc-modified-id=\"Children-2.4\"><span class=\"toc-item-num\">2.4&nbsp;&nbsp;</span>Children</a></span></li></ul></li><li><span><a href=\"#Feature-Importances:-Least-Predictive-Words\" data-toc-modified-id=\"Feature-Importances:-Least-Predictive-Words-3\"><span class=\"toc-item-num\">3&nbsp;&nbsp;</span>Feature Importances: Least Predictive Words</a></span><ul class=\"toc-item\"><li><span><a href=\"#Psychological-Dependency-(Low-Self-Worth/Gaslighting)\" data-toc-modified-id=\"Psychological-Dependency-(Low-Self-Worth/Gaslighting)-3.1\"><span class=\"toc-item-num\">3.1&nbsp;&nbsp;</span>Psychological Dependency (Low Self-Worth/Gaslighting)</a></span></li><li><span><a href=\"#Lack-of-Validation-&amp;-History-of-Family-Violence\" data-toc-modified-id=\"Lack-of-Validation-&amp;-History-of-Family-Violence-3.2\"><span class=\"toc-item-num\">3.2&nbsp;&nbsp;</span>Lack of Validation &amp; History of Family Violence</a></span></li><li><span><a href=\"#Feelings-of-Shame\" data-toc-modified-id=\"Feelings-of-Shame-3.3\"><span class=\"toc-item-num\">3.3&nbsp;&nbsp;</span>Feelings of Shame</a></span></li><li><span><a href=\"#Financial,-Emotional,-and-Physical-Dependency\" data-toc-modified-id=\"Financial,-Emotional,-and-Physical-Dependency-3.4\"><span class=\"toc-item-num\">3.4&nbsp;&nbsp;</span>Financial, Emotional, and Physical Dependency</a></span></li><li><span><a href=\"#Fear-of-Retaliation\" data-toc-modified-id=\"Fear-of-Retaliation-3.5\"><span class=\"toc-item-num\">3.5&nbsp;&nbsp;</span>Fear of Retaliation</a></span></li><li><span><a href=\"#Children\" data-toc-modified-id=\"Children-3.6\"><span class=\"toc-item-num\">3.6&nbsp;&nbsp;</span>Children</a></span></li><li><span><a href=\"#Forgiveness-&amp;-Hope\" data-toc-modified-id=\"Forgiveness-&amp;-Hope-3.7\"><span class=\"toc-item-num\">3.7&nbsp;&nbsp;</span>Forgiveness &amp; Hope</a></span></li><li><span><a href=\"#Religion\" data-toc-modified-id=\"Religion-3.8\"><span class=\"toc-item-num\">3.8&nbsp;&nbsp;</span>Religion</a></span></li><li><span><a href=\"#Notable-Mentions\" data-toc-modified-id=\"Notable-Mentions-3.9\"><span class=\"toc-item-num\">3.9&nbsp;&nbsp;</span>Notable Mentions</a></span><ul class=\"toc-item\"><li><span><a href=\"#Criticisms-of-#WhyIStayed\" data-toc-modified-id=\"Criticisms-of-#WhyIStayed-3.9.1\"><span class=\"toc-item-num\">3.9.1&nbsp;&nbsp;</span>Criticisms of #WhyIStayed</a></span></li><li><span><a href=\"#Battered-Person-Syndrome\" data-toc-modified-id=\"Battered-Person-Syndrome-3.9.2\"><span class=\"toc-item-num\">3.9.2&nbsp;&nbsp;</span>Battered Person Syndrome</a></span></li></ul></li></ul></li><li><span><a href=\"#Thresholding\" data-toc-modified-id=\"Thresholding-4\"><span class=\"toc-item-num\">4&nbsp;&nbsp;</span>Thresholding</a></span></li></ul></div>"
   ]
  },
  {
   "cell_type": "code",
   "execution_count": 1,
   "id": "b8977b8e-c401-4027-bff2-3b04fdd69077",
   "metadata": {},
   "outputs": [],
   "source": [
    "import pandas as pd\n",
    "import numpy as np\n",
    "import matplotlib.pyplot as plt\n",
    "import seaborn as sns\n",
    "import warnings \n",
    "warnings.filterwarnings('ignore')"
   ]
  },
  {
   "cell_type": "code",
   "execution_count": 2,
   "id": "a57ec9f1-ba8d-44a4-99df-a03fb26d5932",
   "metadata": {},
   "outputs": [],
   "source": [
    "df=pd.read_excel('Final_twitter.xlsx')"
   ]
  },
  {
   "cell_type": "code",
   "execution_count": 3,
   "id": "dbc60f79-87b3-4c14-b357-70037fe64f86",
   "metadata": {},
   "outputs": [
    {
     "data": {
      "text/plain": [
       "(19552, 24)"
      ]
     },
     "execution_count": 3,
     "metadata": {},
     "output_type": "execute_result"
    }
   ],
   "source": [
    "df.shape"
   ]
  },
  {
   "cell_type": "code",
   "execution_count": 4,
   "id": "38a15f15-e41b-43a3-abab-7b91d863385a",
   "metadata": {},
   "outputs": [],
   "source": [
    "df.drop(columns='Unnamed: 0', inplace=True)"
   ]
  },
  {
   "cell_type": "code",
   "execution_count": 5,
   "id": "39e14b1d-715a-4461-b8a5-4201f43839b9",
   "metadata": {
    "scrolled": true
   },
   "outputs": [
    {
     "data": {
      "text/html": [
       "<div>\n",
       "<style scoped>\n",
       "    .dataframe tbody tr th:only-of-type {\n",
       "        vertical-align: middle;\n",
       "    }\n",
       "\n",
       "    .dataframe tbody tr th {\n",
       "        vertical-align: top;\n",
       "    }\n",
       "\n",
       "    .dataframe thead th {\n",
       "        text-align: right;\n",
       "    }\n",
       "</style>\n",
       "<table border=\"1\" class=\"dataframe\">\n",
       "  <thead>\n",
       "    <tr style=\"text-align: right;\">\n",
       "      <th></th>\n",
       "      <th>post</th>\n",
       "      <th>label</th>\n",
       "      <th>reading_score</th>\n",
       "      <th>processed_post</th>\n",
       "      <th>emojis</th>\n",
       "      <th>mentions</th>\n",
       "      <th>caps</th>\n",
       "      <th>tokens</th>\n",
       "      <th>num_tokens</th>\n",
       "      <th>chars</th>\n",
       "      <th>...</th>\n",
       "      <th>disgust</th>\n",
       "      <th>surprise</th>\n",
       "      <th>neutral</th>\n",
       "      <th>anger</th>\n",
       "      <th>sad</th>\n",
       "      <th>happy</th>\n",
       "      <th>fear</th>\n",
       "      <th>labels_num</th>\n",
       "      <th>urls</th>\n",
       "      <th>avg_word_length</th>\n",
       "    </tr>\n",
       "  </thead>\n",
       "  <tbody>\n",
       "    <tr>\n",
       "      <th>0</th>\n",
       "      <td>What Huffington Post Gets Wrong about #WhyISta...</td>\n",
       "      <td>#WhyIStayed</td>\n",
       "      <td>28.50</td>\n",
       "      <td>What Huffington Post Gets Wrong about  http://...</td>\n",
       "      <td>0</td>\n",
       "      <td>0</td>\n",
       "      <td>0.166667</td>\n",
       "      <td>huffington post get wrong urlco</td>\n",
       "      <td>5</td>\n",
       "      <td>45</td>\n",
       "      <td>...</td>\n",
       "      <td>0.001244</td>\n",
       "      <td>0.004231</td>\n",
       "      <td>0.000083</td>\n",
       "      <td>0.116725</td>\n",
       "      <td>0.009209</td>\n",
       "      <td>0.002904</td>\n",
       "      <td>0.008877</td>\n",
       "      <td>1</td>\n",
       "      <td>1</td>\n",
       "      <td>6.428571</td>\n",
       "    </tr>\n",
       "    <tr>\n",
       "      <th>1</th>\n",
       "      <td>if u ignore me , i'll ignore u . if u don't st...</td>\n",
       "      <td>#WhyIStayed</td>\n",
       "      <td>87.72</td>\n",
       "      <td>if u ignore me , i'll ignore u . if u don't st...</td>\n",
       "      <td>0</td>\n",
       "      <td>0</td>\n",
       "      <td>0.000000</td>\n",
       "      <td>ignore ignore start conversation talk put effo...</td>\n",
       "      <td>8</td>\n",
       "      <td>128</td>\n",
       "      <td>...</td>\n",
       "      <td>NaN</td>\n",
       "      <td>NaN</td>\n",
       "      <td>NaN</td>\n",
       "      <td>NaN</td>\n",
       "      <td>NaN</td>\n",
       "      <td>NaN</td>\n",
       "      <td>NaN</td>\n",
       "      <td>1</td>\n",
       "      <td>0</td>\n",
       "      <td>4.266667</td>\n",
       "    </tr>\n",
       "    <tr>\n",
       "      <th>2</th>\n",
       "      <td>In #domesticViolence #Shelters the topic of #W...</td>\n",
       "      <td>#WhyIStayed</td>\n",
       "      <td>35.27</td>\n",
       "      <td>In   the topic of  is core 2many discussions H...</td>\n",
       "      <td>0</td>\n",
       "      <td>0</td>\n",
       "      <td>0.128571</td>\n",
       "      <td>topic core many discussion r reason urlco</td>\n",
       "      <td>7</td>\n",
       "      <td>79</td>\n",
       "      <td>...</td>\n",
       "      <td>NaN</td>\n",
       "      <td>NaN</td>\n",
       "      <td>NaN</td>\n",
       "      <td>NaN</td>\n",
       "      <td>NaN</td>\n",
       "      <td>NaN</td>\n",
       "      <td>NaN</td>\n",
       "      <td>1</td>\n",
       "      <td>1</td>\n",
       "      <td>5.266667</td>\n",
       "    </tr>\n",
       "    <tr>\n",
       "      <th>3</th>\n",
       "      <td>7 painful yrs later I accepted that possessio...</td>\n",
       "      <td>#WhyILeft</td>\n",
       "      <td>74.19</td>\n",
       "      <td>7 painful yrs later I accepted that possessio...</td>\n",
       "      <td>0</td>\n",
       "      <td>0</td>\n",
       "      <td>0.017241</td>\n",
       "      <td>painful yr later accepted possession love</td>\n",
       "      <td>6</td>\n",
       "      <td>74</td>\n",
       "      <td>...</td>\n",
       "      <td>0.000800</td>\n",
       "      <td>0.023866</td>\n",
       "      <td>0.000042</td>\n",
       "      <td>0.014353</td>\n",
       "      <td>0.015868</td>\n",
       "      <td>0.073028</td>\n",
       "      <td>0.015111</td>\n",
       "      <td>0</td>\n",
       "      <td>0</td>\n",
       "      <td>5.692308</td>\n",
       "    </tr>\n",
       "    <tr>\n",
       "      <th>4</th>\n",
       "      <td>#WhyIStayed because I do believe people can ch...</td>\n",
       "      <td>#WhyIStayed</td>\n",
       "      <td>80.58</td>\n",
       "      <td>because I do believe people can change with t...</td>\n",
       "      <td>0</td>\n",
       "      <td>0</td>\n",
       "      <td>0.028571</td>\n",
       "      <td>believe people change right help abusive relat...</td>\n",
       "      <td>11</td>\n",
       "      <td>129</td>\n",
       "      <td>...</td>\n",
       "      <td>0.003935</td>\n",
       "      <td>0.018314</td>\n",
       "      <td>0.000270</td>\n",
       "      <td>0.021816</td>\n",
       "      <td>0.029766</td>\n",
       "      <td>0.036671</td>\n",
       "      <td>0.033434</td>\n",
       "      <td>1</td>\n",
       "      <td>0</td>\n",
       "      <td>5.863636</td>\n",
       "    </tr>\n",
       "  </tbody>\n",
       "</table>\n",
       "<p>5 rows × 23 columns</p>\n",
       "</div>"
      ],
      "text/plain": [
       "                                                post        label  \\\n",
       "0  What Huffington Post Gets Wrong about #WhyISta...  #WhyIStayed   \n",
       "1  if u ignore me , i'll ignore u . if u don't st...  #WhyIStayed   \n",
       "2  In #domesticViolence #Shelters the topic of #W...  #WhyIStayed   \n",
       "3   7 painful yrs later I accepted that possessio...    #WhyILeft   \n",
       "4  #WhyIStayed because I do believe people can ch...  #WhyIStayed   \n",
       "\n",
       "   reading_score                                     processed_post  emojis  \\\n",
       "0          28.50  What Huffington Post Gets Wrong about  http://...       0   \n",
       "1          87.72  if u ignore me , i'll ignore u . if u don't st...       0   \n",
       "2          35.27  In   the topic of  is core 2many discussions H...       0   \n",
       "3          74.19   7 painful yrs later I accepted that possessio...       0   \n",
       "4          80.58   because I do believe people can change with t...       0   \n",
       "\n",
       "   mentions      caps                                             tokens  \\\n",
       "0         0  0.166667                    huffington post get wrong urlco   \n",
       "1         0  0.000000  ignore ignore start conversation talk put effo...   \n",
       "2         0  0.128571          topic core many discussion r reason urlco   \n",
       "3         0  0.017241          painful yr later accepted possession love   \n",
       "4         0  0.028571  believe people change right help abusive relat...   \n",
       "\n",
       "   num_tokens  chars  ...   disgust  surprise   neutral     anger       sad  \\\n",
       "0           5     45  ...  0.001244  0.004231  0.000083  0.116725  0.009209   \n",
       "1           8    128  ...       NaN       NaN       NaN       NaN       NaN   \n",
       "2           7     79  ...       NaN       NaN       NaN       NaN       NaN   \n",
       "3           6     74  ...  0.000800  0.023866  0.000042  0.014353  0.015868   \n",
       "4          11    129  ...  0.003935  0.018314  0.000270  0.021816  0.029766   \n",
       "\n",
       "      happy      fear  labels_num  urls  avg_word_length  \n",
       "0  0.002904  0.008877           1     1         6.428571  \n",
       "1       NaN       NaN           1     0         4.266667  \n",
       "2       NaN       NaN           1     1         5.266667  \n",
       "3  0.073028  0.015111           0     0         5.692308  \n",
       "4  0.036671  0.033434           1     0         5.863636  \n",
       "\n",
       "[5 rows x 23 columns]"
      ]
     },
     "execution_count": 5,
     "metadata": {},
     "output_type": "execute_result"
    }
   ],
   "source": [
    "df.head()"
   ]
  },
  {
   "cell_type": "code",
   "execution_count": 6,
   "id": "30ad5708",
   "metadata": {
    "scrolled": true
   },
   "outputs": [
    {
     "data": {
      "text/html": [
       "<div>\n",
       "<style scoped>\n",
       "    .dataframe tbody tr th:only-of-type {\n",
       "        vertical-align: middle;\n",
       "    }\n",
       "\n",
       "    .dataframe tbody tr th {\n",
       "        vertical-align: top;\n",
       "    }\n",
       "\n",
       "    .dataframe thead th {\n",
       "        text-align: right;\n",
       "    }\n",
       "</style>\n",
       "<table border=\"1\" class=\"dataframe\">\n",
       "  <thead>\n",
       "    <tr style=\"text-align: right;\">\n",
       "      <th></th>\n",
       "      <th>post</th>\n",
       "      <th>label</th>\n",
       "      <th>reading_score</th>\n",
       "      <th>processed_post</th>\n",
       "      <th>emojis</th>\n",
       "      <th>mentions</th>\n",
       "      <th>caps</th>\n",
       "      <th>tokens</th>\n",
       "      <th>num_tokens</th>\n",
       "      <th>chars</th>\n",
       "      <th>...</th>\n",
       "      <th>disgust</th>\n",
       "      <th>surprise</th>\n",
       "      <th>neutral</th>\n",
       "      <th>anger</th>\n",
       "      <th>sad</th>\n",
       "      <th>happy</th>\n",
       "      <th>fear</th>\n",
       "      <th>labels_num</th>\n",
       "      <th>urls</th>\n",
       "      <th>avg_word_length</th>\n",
       "    </tr>\n",
       "  </thead>\n",
       "  <tbody>\n",
       "    <tr>\n",
       "      <th>19547</th>\n",
       "      <td>Bec she didn't want her kids to think it was</td>\n",
       "      <td>#WhyILeft</td>\n",
       "      <td>103.63</td>\n",
       "      <td>Bec she didn't want her kids to think it was</td>\n",
       "      <td>0</td>\n",
       "      <td>0</td>\n",
       "      <td>0.029412</td>\n",
       "      <td>bec want kid</td>\n",
       "      <td>3</td>\n",
       "      <td>45</td>\n",
       "      <td>...</td>\n",
       "      <td>NaN</td>\n",
       "      <td>NaN</td>\n",
       "      <td>NaN</td>\n",
       "      <td>NaN</td>\n",
       "      <td>NaN</td>\n",
       "      <td>NaN</td>\n",
       "      <td>NaN</td>\n",
       "      <td>0</td>\n",
       "      <td>0</td>\n",
       "      <td>4.090909</td>\n",
       "    </tr>\n",
       "    <tr>\n",
       "      <th>19548</th>\n",
       "      <td>If a guy asks questions, something is up with ...</td>\n",
       "      <td>#WhyILeft</td>\n",
       "      <td>85.69</td>\n",
       "      <td>If a guy asks questions, something is up with ...</td>\n",
       "      <td>0</td>\n",
       "      <td>0</td>\n",
       "      <td>0.025641</td>\n",
       "      <td>guy asks question something</td>\n",
       "      <td>4</td>\n",
       "      <td>51</td>\n",
       "      <td>...</td>\n",
       "      <td>NaN</td>\n",
       "      <td>NaN</td>\n",
       "      <td>NaN</td>\n",
       "      <td>NaN</td>\n",
       "      <td>NaN</td>\n",
       "      <td>NaN</td>\n",
       "      <td>NaN</td>\n",
       "      <td>0</td>\n",
       "      <td>0</td>\n",
       "      <td>5.100000</td>\n",
       "    </tr>\n",
       "    <tr>\n",
       "      <th>19549</th>\n",
       "      <td>: university options 4. Me</td>\n",
       "      <td>#WhyILeft</td>\n",
       "      <td>33.58</td>\n",
       "      <td>: university options 4. Me</td>\n",
       "      <td>0</td>\n",
       "      <td>0</td>\n",
       "      <td>0.052632</td>\n",
       "      <td>university option</td>\n",
       "      <td>2</td>\n",
       "      <td>27</td>\n",
       "      <td>...</td>\n",
       "      <td>0.004464</td>\n",
       "      <td>0.031250</td>\n",
       "      <td>0.004464</td>\n",
       "      <td>0.040179</td>\n",
       "      <td>0.040179</td>\n",
       "      <td>0.004464</td>\n",
       "      <td>0.040179</td>\n",
       "      <td>0</td>\n",
       "      <td>0</td>\n",
       "      <td>9.000000</td>\n",
       "    </tr>\n",
       "    <tr>\n",
       "      <th>19550</th>\n",
       "      <td>#WhyIStayed my friends tried to intervene, but...</td>\n",
       "      <td>#WhyIStayed</td>\n",
       "      <td>63.02</td>\n",
       "      <td>my friends tried to intervene, but I wasnt re...</td>\n",
       "      <td>0</td>\n",
       "      <td>0</td>\n",
       "      <td>0.019231</td>\n",
       "      <td>friend tried intervene wasnt ready b saved eve...</td>\n",
       "      <td>15</td>\n",
       "      <td>133</td>\n",
       "      <td>...</td>\n",
       "      <td>0.018123</td>\n",
       "      <td>0.024111</td>\n",
       "      <td>0.005226</td>\n",
       "      <td>0.026555</td>\n",
       "      <td>0.057947</td>\n",
       "      <td>0.022623</td>\n",
       "      <td>0.014403</td>\n",
       "      <td>1</td>\n",
       "      <td>0</td>\n",
       "      <td>5.320000</td>\n",
       "    </tr>\n",
       "    <tr>\n",
       "      <th>19551</th>\n",
       "      <td>I stayed because my pastor told me that God ha...</td>\n",
       "      <td>#WhyIStayed</td>\n",
       "      <td>85.18</td>\n",
       "      <td>I stayed because my pastor told me that God ha...</td>\n",
       "      <td>0</td>\n",
       "      <td>0</td>\n",
       "      <td>0.044944</td>\n",
       "      <td>stayed pastor god hate divorce cross mind god ...</td>\n",
       "      <td>11</td>\n",
       "      <td>115</td>\n",
       "      <td>...</td>\n",
       "      <td>0.000628</td>\n",
       "      <td>0.018005</td>\n",
       "      <td>0.015299</td>\n",
       "      <td>0.043888</td>\n",
       "      <td>0.009210</td>\n",
       "      <td>0.039747</td>\n",
       "      <td>0.016748</td>\n",
       "      <td>1</td>\n",
       "      <td>0</td>\n",
       "      <td>5.000000</td>\n",
       "    </tr>\n",
       "  </tbody>\n",
       "</table>\n",
       "<p>5 rows × 23 columns</p>\n",
       "</div>"
      ],
      "text/plain": [
       "                                                    post        label  \\\n",
       "19547       Bec she didn't want her kids to think it was    #WhyILeft   \n",
       "19548  If a guy asks questions, something is up with ...    #WhyILeft   \n",
       "19549                         : university options 4. Me    #WhyILeft   \n",
       "19550  #WhyIStayed my friends tried to intervene, but...  #WhyIStayed   \n",
       "19551  I stayed because my pastor told me that God ha...  #WhyIStayed   \n",
       "\n",
       "       reading_score                                     processed_post  \\\n",
       "19547         103.63       Bec she didn't want her kids to think it was   \n",
       "19548          85.69  If a guy asks questions, something is up with ...   \n",
       "19549          33.58                         : university options 4. Me   \n",
       "19550          63.02   my friends tried to intervene, but I wasnt re...   \n",
       "19551          85.18  I stayed because my pastor told me that God ha...   \n",
       "\n",
       "       emojis  mentions      caps  \\\n",
       "19547       0         0  0.029412   \n",
       "19548       0         0  0.025641   \n",
       "19549       0         0  0.052632   \n",
       "19550       0         0  0.019231   \n",
       "19551       0         0  0.044944   \n",
       "\n",
       "                                                  tokens  num_tokens  chars  \\\n",
       "19547                                       bec want kid           3     45   \n",
       "19548                        guy asks question something           4     51   \n",
       "19549                                  university option           2     27   \n",
       "19550  friend tried intervene wasnt ready b saved eve...          15    133   \n",
       "19551  stayed pastor god hate divorce cross mind god ...          11    115   \n",
       "\n",
       "       ...   disgust  surprise   neutral     anger       sad     happy  \\\n",
       "19547  ...       NaN       NaN       NaN       NaN       NaN       NaN   \n",
       "19548  ...       NaN       NaN       NaN       NaN       NaN       NaN   \n",
       "19549  ...  0.004464  0.031250  0.004464  0.040179  0.040179  0.004464   \n",
       "19550  ...  0.018123  0.024111  0.005226  0.026555  0.057947  0.022623   \n",
       "19551  ...  0.000628  0.018005  0.015299  0.043888  0.009210  0.039747   \n",
       "\n",
       "           fear  labels_num  urls  avg_word_length  \n",
       "19547       NaN           0     0         4.090909  \n",
       "19548       NaN           0     0         5.100000  \n",
       "19549  0.040179           0     0         9.000000  \n",
       "19550  0.014403           1     0         5.320000  \n",
       "19551  0.016748           1     0         5.000000  \n",
       "\n",
       "[5 rows x 23 columns]"
      ]
     },
     "execution_count": 6,
     "metadata": {},
     "output_type": "execute_result"
    }
   ],
   "source": [
    "df.tail()"
   ]
  },
  {
   "cell_type": "code",
   "execution_count": 7,
   "id": "a7171d96",
   "metadata": {},
   "outputs": [
    {
     "data": {
      "text/plain": [
       "(19552, 23)"
      ]
     },
     "execution_count": 7,
     "metadata": {},
     "output_type": "execute_result"
    }
   ],
   "source": [
    "df.shape"
   ]
  },
  {
   "cell_type": "code",
   "execution_count": 8,
   "id": "114fbe41",
   "metadata": {},
   "outputs": [
    {
     "data": {
      "text/plain": [
       "#WhyIStayed    13731\n",
       "#WhyILeft       5821\n",
       "Name: label, dtype: int64"
      ]
     },
     "execution_count": 8,
     "metadata": {},
     "output_type": "execute_result"
    }
   ],
   "source": [
    "df.label.value_counts()"
   ]
  },
  {
   "cell_type": "markdown",
   "id": "32ba8b72-f41a-4ae6-a969-d50a9f1a34ca",
   "metadata": {},
   "source": [
    "# Modeling"
   ]
  },
  {
   "cell_type": "code",
   "execution_count": 9,
   "id": "c4a0a57c",
   "metadata": {},
   "outputs": [],
   "source": [
    "models=pd.DataFrame(index=['Naive Bayes Classifier', 'Random Forest Classifier', 'Logistic Regression'],\\\n",
    "                    columns=['Best min_df for CountVectorizer', 'Best Parameters', 'ROC AUC Score'])"
   ]
  },
  {
   "cell_type": "markdown",
   "id": "7617b058",
   "metadata": {},
   "source": [
    "## Naive Bayes Classifier"
   ]
  },
  {
   "cell_type": "code",
   "execution_count": 10,
   "id": "c23d722b-f511-44eb-bf7a-8fe4031780db",
   "metadata": {},
   "outputs": [],
   "source": [
    "from sklearn.feature_extraction.text import CountVectorizer\n",
    "from sklearn.model_selection import train_test_split\n",
    "from sklearn.naive_bayes import MultinomialNB\n",
    "from sklearn.ensemble import RandomForestClassifier\n",
    "from sklearn.linear_model import LogisticRegression\n",
    "from sklearn.metrics import roc_auc_score, roc_curve"
   ]
  },
  {
   "cell_type": "code",
   "execution_count": 11,
   "id": "311a1a82-4eec-43c7-af9b-2cd0af014284",
   "metadata": {},
   "outputs": [],
   "source": [
    "def pick_min_df(X, y, min_df_range=20, clf='nb'):\n",
    "    X_train, X_test, y_train, y_test=train_test_split(X, y, test_size=0.2, random_state=123)\n",
    "    pick_df=pd.DataFrame({}, columns=['test_accuracy'])\n",
    "    for i in range(min_df_range):\n",
    "        vect=CountVectorizer(min_df=i)\n",
    "        #dtm: document-term matrix\n",
    "        X_train_dtm=vect.fit_transform(X_train)\n",
    "        X_test_dtm=vect.transform(X_test)\n",
    "        if clf=='nb':\n",
    "            clf=MultinomialNB()\n",
    "        elif clf=='rfc':\n",
    "            clf=RandomForestClassifier(random_state=123)\n",
    "        elif clf=='lr':\n",
    "            clf=LogisticRegression(random_state=123)\n",
    "        clf.fit(X_train_dtm, y_train)\n",
    "        y_pred=clf.predict(X_test_dtm)\n",
    "        y_pred_prob=clf.predict_proba(X_test_dtm)[:,1]\n",
    "        pick_df=pd.concat([pick_df, pd.DataFrame({'test_accuracy':[roc_auc_score(y_test, y_pred_prob)]})])\n",
    "    pick_df=pick_df.reset_index(drop=True)\n",
    "    \n",
    "    return pick_df[pick_df['test_accuracy']==max(pick_df['test_accuracy'])]\n",
    "\n"
   ]
  },
  {
   "cell_type": "code",
   "execution_count": 12,
   "id": "e28e6e48-c0f7-4afe-893d-26d3d499fa3f",
   "metadata": {
    "scrolled": true
   },
   "outputs": [
    {
     "data": {
      "text/html": [
       "<div>\n",
       "<style scoped>\n",
       "    .dataframe tbody tr th:only-of-type {\n",
       "        vertical-align: middle;\n",
       "    }\n",
       "\n",
       "    .dataframe tbody tr th {\n",
       "        vertical-align: top;\n",
       "    }\n",
       "\n",
       "    .dataframe thead th {\n",
       "        text-align: right;\n",
       "    }\n",
       "</style>\n",
       "<table border=\"1\" class=\"dataframe\">\n",
       "  <thead>\n",
       "    <tr style=\"text-align: right;\">\n",
       "      <th></th>\n",
       "      <th>test_accuracy</th>\n",
       "    </tr>\n",
       "  </thead>\n",
       "  <tbody>\n",
       "    <tr>\n",
       "      <th>0</th>\n",
       "      <td>0.824254</td>\n",
       "    </tr>\n",
       "    <tr>\n",
       "      <th>1</th>\n",
       "      <td>0.824254</td>\n",
       "    </tr>\n",
       "  </tbody>\n",
       "</table>\n",
       "</div>"
      ],
      "text/plain": [
       "  test_accuracy\n",
       "0      0.824254\n",
       "1      0.824254"
      ]
     },
     "execution_count": 12,
     "metadata": {},
     "output_type": "execute_result"
    }
   ],
   "source": [
    "pick_min_df(df.tokens, df.labels_num)"
   ]
  },
  {
   "cell_type": "code",
   "execution_count": 13,
   "id": "3d57c427-0c02-4916-90fe-fb4aaeda3b21",
   "metadata": {},
   "outputs": [],
   "source": [
    "X_train, X_test, y_train, y_test=train_test_split(df.tokens, df.labels_num, test_size=0.2, random_state=123)\n",
    "vect=CountVectorizer(min_df=1)\n",
    "X_train_dtm=vect.fit_transform(X_train)\n",
    "X_test_dtm=vect.transform(X_test)\n",
    "nb=MultinomialNB()\n",
    "nb.fit(X_train_dtm, y_train)\n",
    "y_pred=nb.predict(X_test_dtm)\n",
    "y_pred_prob=nb.predict_proba(X_test_dtm)[:,1]"
   ]
  },
  {
   "cell_type": "code",
   "execution_count": 14,
   "id": "d0016f9c-1868-4c47-a2bc-78a8d62e27b2",
   "metadata": {},
   "outputs": [
    {
     "data": {
      "text/plain": [
       "0.82425354163959"
      ]
     },
     "execution_count": 14,
     "metadata": {},
     "output_type": "execute_result"
    }
   ],
   "source": [
    "roc_auc_score(y_test, y_pred_prob) #same as nb.score(X_test_dtm,y_test)"
   ]
  },
  {
   "cell_type": "code",
   "execution_count": 15,
   "id": "5f74a391-03dc-494d-beb5-4214f3fd0fd5",
   "metadata": {
    "scrolled": true
   },
   "outputs": [
    {
     "name": "stdout",
     "output_type": "stream",
     "text": [
      "Tuned Naive Bayes Parameter: {'alpha': 1}\n",
      "Tuned Naive Bayes ROC_AUC Score: 0.8070528911631865\n"
     ]
    }
   ],
   "source": [
    "from sklearn.model_selection import GridSearchCV\n",
    "param_grid={'alpha':[.001, .01, .1, 1, 5, 10, 50, 100, 1000]}\n",
    "nb_cv=GridSearchCV(nb, param_grid, scoring='roc_auc', cv=5)\n",
    "nb_cv.fit(X_train_dtm, y_train)\n",
    "print(\"Tuned Naive Bayes Parameter: {}\".format(nb_cv.best_params_))\n",
    "print(\"Tuned Naive Bayes ROC_AUC Score: {}\".format(nb_cv.best_score_))"
   ]
  },
  {
   "cell_type": "code",
   "execution_count": 16,
   "id": "3dbeedc8",
   "metadata": {},
   "outputs": [],
   "source": [
    "models['Best min_df for CountVectorizer'][0]=1\n",
    "models['Best Parameters'][0]=nb_cv.best_params_"
   ]
  },
  {
   "cell_type": "code",
   "execution_count": 17,
   "id": "57aff819",
   "metadata": {},
   "outputs": [],
   "source": [
    "X_train, X_test, y_train, y_test=train_test_split(df.tokens, df.labels_num, test_size=0.2, random_state=123)\n",
    "vect=CountVectorizer(min_df=1)\n",
    "X_train_dtm=vect.fit_transform(X_train)\n",
    "X_test_dtm=vect.transform(X_test)\n",
    "nb=MultinomialNB(alpha=1)\n",
    "nb.fit(X_train_dtm, y_train)\n",
    "y_pred=nb.predict(X_test_dtm)\n",
    "y_pred_prob=nb.predict_proba(X_test_dtm)[:,1]\n",
    "nb_fpr, nb_tpr, nb_thresholds=roc_curve(y_test, y_pred_prob)\n",
    "models['ROC AUC Score'][0]=roc_auc_score(y_test, y_pred_prob)"
   ]
  },
  {
   "cell_type": "markdown",
   "id": "dac9382a",
   "metadata": {},
   "source": [
    "## Random Forest Classifier"
   ]
  },
  {
   "cell_type": "code",
   "execution_count": 18,
   "id": "fb81545f",
   "metadata": {},
   "outputs": [
    {
     "data": {
      "text/html": [
       "<div>\n",
       "<style scoped>\n",
       "    .dataframe tbody tr th:only-of-type {\n",
       "        vertical-align: middle;\n",
       "    }\n",
       "\n",
       "    .dataframe tbody tr th {\n",
       "        vertical-align: top;\n",
       "    }\n",
       "\n",
       "    .dataframe thead th {\n",
       "        text-align: right;\n",
       "    }\n",
       "</style>\n",
       "<table border=\"1\" class=\"dataframe\">\n",
       "  <thead>\n",
       "    <tr style=\"text-align: right;\">\n",
       "      <th></th>\n",
       "      <th>test_accuracy</th>\n",
       "    </tr>\n",
       "  </thead>\n",
       "  <tbody>\n",
       "    <tr>\n",
       "      <th>9</th>\n",
       "      <td>0.806089</td>\n",
       "    </tr>\n",
       "  </tbody>\n",
       "</table>\n",
       "</div>"
      ],
      "text/plain": [
       "  test_accuracy\n",
       "9      0.806089"
      ]
     },
     "execution_count": 18,
     "metadata": {},
     "output_type": "execute_result"
    }
   ],
   "source": [
    "pick_min_df(df.tokens, df.labels_num, clf='rfc')"
   ]
  },
  {
   "cell_type": "code",
   "execution_count": 19,
   "id": "95d6d93c",
   "metadata": {},
   "outputs": [],
   "source": [
    "models['Best min_df for CountVectorizer'][1]=9"
   ]
  },
  {
   "cell_type": "code",
   "execution_count": 20,
   "id": "e79752ca",
   "metadata": {},
   "outputs": [],
   "source": [
    "X_train, X_test, y_train, y_test=train_test_split(df.tokens, df.labels_num, test_size=0.2, random_state=123)\n",
    "vect=CountVectorizer(min_df=9)\n",
    "X_train_dtm=vect.fit_transform(X_train)\n",
    "X_test_dtm=vect.transform(X_test)\n",
    "rfc=RandomForestClassifier(random_state=123)\n",
    "rfc.fit(X_train_dtm, y_train)\n",
    "y_pred=rfc.predict(X_test_dtm)\n",
    "y_pred_prob=rfc.predict_proba(X_test_dtm)[:,1]"
   ]
  },
  {
   "cell_type": "code",
   "execution_count": 21,
   "id": "34135bf5",
   "metadata": {},
   "outputs": [
    {
     "data": {
      "text/plain": [
       "0.8060891800011722"
      ]
     },
     "execution_count": 21,
     "metadata": {},
     "output_type": "execute_result"
    }
   ],
   "source": [
    "roc_auc_score(y_test, y_pred_prob)"
   ]
  },
  {
   "cell_type": "code",
   "execution_count": 22,
   "id": "87cf5fe6",
   "metadata": {},
   "outputs": [
    {
     "name": "stdout",
     "output_type": "stream",
     "text": [
      "Tuned Random Forest Classifier Parameter: {'criterion': 'entropy', 'max_depth': 30, 'max_features': 'log2', 'n_estimators': 1000}\n",
      "Tuned Random Forest Classifier ROC_AUC Score: 0.8143655933562044\n"
     ]
    }
   ],
   "source": [
    "param_grid={'criterion': ['gini', 'entropy'],\n",
    "                         'max_depth': [None, 1, 3, 5, 7, 15, 30],\n",
    "                         'max_features': ['sqrt', 'log2'],\n",
    "                         'n_estimators': [10, 50, 100, 300, 700, 1000]}\n",
    "\n",
    "rfc_cv=GridSearchCV(rfc, param_grid, scoring='roc_auc', cv=5)\n",
    "rfc_cv.fit(X_train_dtm, y_train)\n",
    "print(\"Tuned Random Forest Classifier Parameter: {}\".format(rfc_cv.best_params_))\n",
    "print(\"Tuned Random Forest Classifier ROC_AUC Score: {}\".format(rfc_cv.best_score_))"
   ]
  },
  {
   "cell_type": "code",
   "execution_count": 23,
   "id": "19abc36e",
   "metadata": {},
   "outputs": [],
   "source": [
    "models['Best Parameters'][1]=rfc_cv.best_params_"
   ]
  },
  {
   "cell_type": "code",
   "execution_count": 24,
   "id": "05a2f7f0",
   "metadata": {},
   "outputs": [],
   "source": [
    "X_train, X_test, y_train, y_test=train_test_split(df.tokens, df.labels_num, test_size=0.2, random_state=123)\n",
    "vect=CountVectorizer(min_df=9)\n",
    "X_train_dtm=vect.fit_transform(X_train)\n",
    "X_test_dtm=vect.transform(X_test)\n",
    "rfc=RandomForestClassifier(random_state=123, criterion='entropy', max_depth=30, max_features='log2', n_estimators=1000)\n",
    "rfc.fit(X_train_dtm, y_train)\n",
    "y_pred=rfc.predict(X_test_dtm)\n",
    "y_pred_prob=rfc.predict_proba(X_test_dtm)[:,1]\n",
    "rfc_fpr, rfc_tpr, rfc_thresholds = roc_curve(y_test, y_pred_prob) "
   ]
  },
  {
   "cell_type": "code",
   "execution_count": 25,
   "id": "5c5f18c7",
   "metadata": {},
   "outputs": [],
   "source": [
    "models['ROC AUC Score'][1]=roc_auc_score(y_test, y_pred_prob)"
   ]
  },
  {
   "cell_type": "markdown",
   "id": "058bc0fd-d636-44f3-966a-123e534f1d67",
   "metadata": {},
   "source": [
    "## Logistic Regression"
   ]
  },
  {
   "cell_type": "code",
   "execution_count": 26,
   "id": "07d7a0bd",
   "metadata": {},
   "outputs": [
    {
     "data": {
      "text/html": [
       "<div>\n",
       "<style scoped>\n",
       "    .dataframe tbody tr th:only-of-type {\n",
       "        vertical-align: middle;\n",
       "    }\n",
       "\n",
       "    .dataframe tbody tr th {\n",
       "        vertical-align: top;\n",
       "    }\n",
       "\n",
       "    .dataframe thead th {\n",
       "        text-align: right;\n",
       "    }\n",
       "</style>\n",
       "<table border=\"1\" class=\"dataframe\">\n",
       "  <thead>\n",
       "    <tr style=\"text-align: right;\">\n",
       "      <th></th>\n",
       "      <th>test_accuracy</th>\n",
       "    </tr>\n",
       "  </thead>\n",
       "  <tbody>\n",
       "    <tr>\n",
       "      <th>0</th>\n",
       "      <td>0.828874</td>\n",
       "    </tr>\n",
       "    <tr>\n",
       "      <th>1</th>\n",
       "      <td>0.828874</td>\n",
       "    </tr>\n",
       "  </tbody>\n",
       "</table>\n",
       "</div>"
      ],
      "text/plain": [
       "  test_accuracy\n",
       "0      0.828874\n",
       "1      0.828874"
      ]
     },
     "execution_count": 26,
     "metadata": {},
     "output_type": "execute_result"
    }
   ],
   "source": [
    "pick_min_df(df.tokens, df.labels_num, clf='lr')"
   ]
  },
  {
   "cell_type": "code",
   "execution_count": 27,
   "id": "b532274f",
   "metadata": {},
   "outputs": [],
   "source": [
    "models['Best min_df for CountVectorizer'][2]=1"
   ]
  },
  {
   "cell_type": "code",
   "execution_count": 28,
   "id": "37016868",
   "metadata": {},
   "outputs": [],
   "source": [
    "X_train, X_test, y_train, y_test=train_test_split(df.tokens, df.labels_num, test_size=0.2, random_state=123)\n",
    "vect=CountVectorizer(min_df=1)\n",
    "X_train_dtm=vect.fit_transform(X_train)\n",
    "X_test_dtm=vect.transform(X_test)\n",
    "lr=LogisticRegression(random_state=123)\n",
    "lr.fit(X_train_dtm, y_train)\n",
    "y_pred=lr.predict(X_test_dtm)\n",
    "y_pred_prob=lr.predict_proba(X_test_dtm)[:,1]"
   ]
  },
  {
   "cell_type": "code",
   "execution_count": 29,
   "id": "5ba0547e",
   "metadata": {},
   "outputs": [
    {
     "data": {
      "text/plain": [
       "0.8288739510146457"
      ]
     },
     "execution_count": 29,
     "metadata": {},
     "output_type": "execute_result"
    }
   ],
   "source": [
    "roc_auc_score(y_test, y_pred_prob) "
   ]
  },
  {
   "cell_type": "code",
   "execution_count": 30,
   "id": "1d161315",
   "metadata": {},
   "outputs": [
    {
     "name": "stdout",
     "output_type": "stream",
     "text": [
      "Tuned Logistic Regression Parameter: {'C': 1}\n",
      "Tuned Logistic Regression ROC_AUC Score: 0.8195052865893547\n"
     ]
    }
   ],
   "source": [
    "param_grid={'C':[0.001, 0.01, 0.1, 1, 10, 100, 1000]}\n",
    "lr_cv=GridSearchCV(lr, param_grid, scoring='roc_auc', cv=5)\n",
    "lr_cv.fit(X_train_dtm, y_train)\n",
    "print(\"Tuned Logistic Regression Parameter: {}\".format(lr_cv.best_params_))\n",
    "print(\"Tuned Logistic Regression ROC_AUC Score: {}\".format(lr_cv.best_score_))"
   ]
  },
  {
   "cell_type": "code",
   "execution_count": 31,
   "id": "b573e351",
   "metadata": {},
   "outputs": [],
   "source": [
    "models['Best Parameters'][2]=lr_cv.best_params_"
   ]
  },
  {
   "cell_type": "code",
   "execution_count": 32,
   "id": "1e7c7e6b",
   "metadata": {},
   "outputs": [],
   "source": [
    "X_train, X_test, y_train, y_test=train_test_split(df.tokens, df.labels_num, test_size=0.2, random_state=123)\n",
    "vect=CountVectorizer(min_df=1)\n",
    "X_train_dtm=vect.fit_transform(X_train)\n",
    "X_test_dtm=vect.transform(X_test)\n",
    "lr=LogisticRegression(random_state=123, C=1)\n",
    "lr.fit(X_train_dtm, y_train)\n",
    "y_pred=lr.predict(X_test_dtm)\n",
    "y_pred_prob=lr.predict_proba(X_test_dtm)[:,1]\n",
    "lr_fpr, lr_tpr, lr_thresholds = roc_curve(y_test, y_pred_prob) "
   ]
  },
  {
   "cell_type": "code",
   "execution_count": 33,
   "id": "e2adc59b",
   "metadata": {},
   "outputs": [],
   "source": [
    "models['ROC AUC Score'][2]=roc_auc_score(y_test, y_pred_prob)"
   ]
  },
  {
   "cell_type": "code",
   "execution_count": 34,
   "id": "27da614b",
   "metadata": {},
   "outputs": [
    {
     "data": {
      "text/html": [
       "<div>\n",
       "<style scoped>\n",
       "    .dataframe tbody tr th:only-of-type {\n",
       "        vertical-align: middle;\n",
       "    }\n",
       "\n",
       "    .dataframe tbody tr th {\n",
       "        vertical-align: top;\n",
       "    }\n",
       "\n",
       "    .dataframe thead th {\n",
       "        text-align: right;\n",
       "    }\n",
       "</style>\n",
       "<table border=\"1\" class=\"dataframe\">\n",
       "  <thead>\n",
       "    <tr style=\"text-align: right;\">\n",
       "      <th></th>\n",
       "      <th>Best min_df for CountVectorizer</th>\n",
       "      <th>Best Parameters</th>\n",
       "      <th>ROC AUC Score</th>\n",
       "    </tr>\n",
       "  </thead>\n",
       "  <tbody>\n",
       "    <tr>\n",
       "      <th>Naive Bayes Classifier</th>\n",
       "      <td>1</td>\n",
       "      <td>{'alpha': 1}</td>\n",
       "      <td>0.824254</td>\n",
       "    </tr>\n",
       "    <tr>\n",
       "      <th>Random Forest Classifier</th>\n",
       "      <td>9</td>\n",
       "      <td>{'criterion': 'entropy', 'max_depth': 30, 'max_features': 'log2', 'n_estimators': 1000}</td>\n",
       "      <td>0.820747</td>\n",
       "    </tr>\n",
       "    <tr>\n",
       "      <th>Logistic Regression</th>\n",
       "      <td>1</td>\n",
       "      <td>{'C': 1}</td>\n",
       "      <td>0.828874</td>\n",
       "    </tr>\n",
       "  </tbody>\n",
       "</table>\n",
       "</div>"
      ],
      "text/plain": [
       "                         Best min_df for CountVectorizer  \\\n",
       "Naive Bayes Classifier                                 1   \n",
       "Random Forest Classifier                               9   \n",
       "Logistic Regression                                    1   \n",
       "\n",
       "                                                                                                  Best Parameters  \\\n",
       "Naive Bayes Classifier                                                                               {'alpha': 1}   \n",
       "Random Forest Classifier  {'criterion': 'entropy', 'max_depth': 30, 'max_features': 'log2', 'n_estimators': 1000}   \n",
       "Logistic Regression                                                                                      {'C': 1}   \n",
       "\n",
       "                         ROC AUC Score  \n",
       "Naive Bayes Classifier        0.824254  \n",
       "Random Forest Classifier      0.820747  \n",
       "Logistic Regression           0.828874  "
      ]
     },
     "execution_count": 34,
     "metadata": {},
     "output_type": "execute_result"
    }
   ],
   "source": [
    "pd.set_option('display.max_colwidth', None)\n",
    "models"
   ]
  },
  {
   "cell_type": "code",
   "execution_count": 35,
   "id": "18bdec0b",
   "metadata": {},
   "outputs": [
    {
     "data": {
      "image/png": "[encoded data removed]",
      "text/plain": [
       "<Figure size 432x288 with 1 Axes>"
      ]
     },
     "metadata": {
      "needs_background": "light"
     },
     "output_type": "display_data"
    }
   ],
   "source": [
    "plt.plot([0,1],[0,1],'k--')\n",
    "plt.plot(nb_fpr, nb_tpr, label='Naive Bayes Classifier') \n",
    "plt.plot(rfc_fpr, rfc_tpr, label='Random Forest Classifier') \n",
    "plt.plot(lr_fpr, lr_tpr, label='Logistic Regression') \n",
    "plt.grid()\n",
    "plt.xlabel('False Positive Rate') \n",
    "plt.ylabel('True Positive Rate')\n",
    "plt.legend()\n",
    "plt.title('ROC Curve') \n",
    "plt.show()"
   ]
  },
  {
   "cell_type": "markdown",
   "id": "7788e2ce-e3bc-4bbf-8e61-ed163864bfeb",
   "metadata": {},
   "source": [
    "# Feature Importances: Most Predictive Words"
   ]
  },
  {
   "cell_type": "code",
   "execution_count": 36,
   "id": "63384b81-57a1-4772-925f-de69b2c39ea4",
   "metadata": {},
   "outputs": [],
   "source": [
    "from sklearn.metrics import roc_curve, precision_recall_curve, fbeta_score, ConfusionMatrixDisplay, classification_report, confusion_matrix"
   ]
  },
  {
   "cell_type": "code",
   "execution_count": 37,
   "id": "712b5f51-93c6-4da1-8e0a-dcb0ee37317b",
   "metadata": {},
   "outputs": [],
   "source": [
    "X_train, X_test, y_train, y_test=train_test_split(df.tokens, df.labels_num, test_size=0.2, random_state=123)\n",
    "vect=CountVectorizer(min_df=1)\n",
    "X_train_dtm=vect.fit_transform(X_train)\n",
    "X_test_dtm=vect.transform(X_test)\n",
    "lr=LogisticRegression(random_state=123, C=1)\n",
    "lr.fit(X_train_dtm, y_train)\n",
    "y_pred=lr.predict(X_test_dtm)\n",
    "y_pred_prob=lr.predict_proba(X_test_dtm)[:,1]\n",
    "lr_fpr, lr_tpr, lr_thresholds = roc_curve(y_test, y_pred_prob) "
   ]
  },
  {
   "cell_type": "code",
   "execution_count": 38,
   "id": "e3ba6326-fe36-4838-b9c9-3577172e638a",
   "metadata": {},
   "outputs": [
    {
     "data": {
      "text/plain": [
       "0.8288739510146457"
      ]
     },
     "execution_count": 38,
     "metadata": {},
     "output_type": "execute_result"
    }
   ],
   "source": [
    "roc_auc_score(y_test, y_pred_prob)"
   ]
  },
  {
   "cell_type": "code",
   "execution_count": 39,
   "id": "c6caaafa-7acb-4a87-ab1a-ef7de91a70cb",
   "metadata": {},
   "outputs": [
    {
     "data": {
      "text/html": [
       "<div>\n",
       "<style scoped>\n",
       "    .dataframe tbody tr th:only-of-type {\n",
       "        vertical-align: middle;\n",
       "    }\n",
       "\n",
       "    .dataframe tbody tr th {\n",
       "        vertical-align: top;\n",
       "    }\n",
       "\n",
       "    .dataframe thead th {\n",
       "        text-align: right;\n",
       "    }\n",
       "</style>\n",
       "<table border=\"1\" class=\"dataframe\">\n",
       "  <thead>\n",
       "    <tr style=\"text-align: right;\">\n",
       "      <th></th>\n",
       "      <th>word</th>\n",
       "      <th>prob</th>\n",
       "    </tr>\n",
       "  </thead>\n",
       "  <tbody>\n",
       "    <tr>\n",
       "      <th>0</th>\n",
       "      <td>nowhere</td>\n",
       "      <td>0.934345</td>\n",
       "    </tr>\n",
       "    <tr>\n",
       "      <th>1</th>\n",
       "      <td>believed</td>\n",
       "      <td>0.917359</td>\n",
       "    </tr>\n",
       "    <tr>\n",
       "      <th>2</th>\n",
       "      <td>convinced</td>\n",
       "      <td>0.910508</td>\n",
       "    </tr>\n",
       "    <tr>\n",
       "      <th>3</th>\n",
       "      <td>isolated</td>\n",
       "      <td>0.899940</td>\n",
       "    </tr>\n",
       "    <tr>\n",
       "      <th>4</th>\n",
       "      <td>brainwashed</td>\n",
       "      <td>0.892029</td>\n",
       "    </tr>\n",
       "    <tr>\n",
       "      <th>5</th>\n",
       "      <td>admit</td>\n",
       "      <td>0.891917</td>\n",
       "    </tr>\n",
       "    <tr>\n",
       "      <th>6</th>\n",
       "      <td>embarrassed</td>\n",
       "      <td>0.891530</td>\n",
       "    </tr>\n",
       "    <tr>\n",
       "      <th>7</th>\n",
       "      <td>fault</td>\n",
       "      <td>0.891363</td>\n",
       "    </tr>\n",
       "    <tr>\n",
       "      <th>8</th>\n",
       "      <td>shock</td>\n",
       "      <td>0.884665</td>\n",
       "    </tr>\n",
       "    <tr>\n",
       "      <th>9</th>\n",
       "      <td>petrified</td>\n",
       "      <td>0.884183</td>\n",
       "    </tr>\n",
       "    <tr>\n",
       "      <th>10</th>\n",
       "      <td>exactly</td>\n",
       "      <td>0.882478</td>\n",
       "    </tr>\n",
       "    <tr>\n",
       "      <th>11</th>\n",
       "      <td>taught</td>\n",
       "      <td>0.881798</td>\n",
       "    </tr>\n",
       "    <tr>\n",
       "      <th>12</th>\n",
       "      <td>financially</td>\n",
       "      <td>0.881534</td>\n",
       "    </tr>\n",
       "    <tr>\n",
       "      <th>13</th>\n",
       "      <td>promised</td>\n",
       "      <td>0.879538</td>\n",
       "    </tr>\n",
       "    <tr>\n",
       "      <th>14</th>\n",
       "      <td>dependent</td>\n",
       "      <td>0.876491</td>\n",
       "    </tr>\n",
       "    <tr>\n",
       "      <th>15</th>\n",
       "      <td>dumb</td>\n",
       "      <td>0.875804</td>\n",
       "    </tr>\n",
       "    <tr>\n",
       "      <th>16</th>\n",
       "      <td>custody</td>\n",
       "      <td>0.875546</td>\n",
       "    </tr>\n",
       "    <tr>\n",
       "      <th>17</th>\n",
       "      <td>believe</td>\n",
       "      <td>0.874425</td>\n",
       "    </tr>\n",
       "    <tr>\n",
       "      <th>18</th>\n",
       "      <td>fair</td>\n",
       "      <td>0.874155</td>\n",
       "    </tr>\n",
       "    <tr>\n",
       "      <th>19</th>\n",
       "      <td>apologized</td>\n",
       "      <td>0.873558</td>\n",
       "    </tr>\n",
       "  </tbody>\n",
       "</table>\n",
       "</div>"
      ],
      "text/plain": [
       "           word      prob\n",
       "0       nowhere  0.934345\n",
       "1      believed  0.917359\n",
       "2     convinced  0.910508\n",
       "3      isolated  0.899940\n",
       "4   brainwashed  0.892029\n",
       "5         admit  0.891917\n",
       "6   embarrassed  0.891530\n",
       "7         fault  0.891363\n",
       "8         shock  0.884665\n",
       "9     petrified  0.884183\n",
       "10      exactly  0.882478\n",
       "11       taught  0.881798\n",
       "12  financially  0.881534\n",
       "13     promised  0.879538\n",
       "14    dependent  0.876491\n",
       "15         dumb  0.875804\n",
       "16      custody  0.875546\n",
       "17      believe  0.874425\n",
       "18         fair  0.874155\n",
       "19   apologized  0.873558"
      ]
     },
     "execution_count": 39,
     "metadata": {},
     "output_type": "execute_result"
    }
   ],
   "source": [
    "features = np.array(vect.get_feature_names_out())\n",
    "\n",
    "x = np.eye(X_test_dtm.shape[1])\n",
    "probs = lr.predict_log_proba(x)[:, 0] #using log is more precise for lower probabilities\n",
    "ind = np.argsort(probs)\n",
    "\n",
    "words = pd.DataFrame({})\n",
    "\n",
    "words['word']=features[ind]\n",
    "words['prob']=1-np.exp(probs[ind])\n",
    "\n",
    "words.head(20)"
   ]
  },
  {
   "cell_type": "code",
   "execution_count": 40,
   "id": "f8a3e524-c2f6-4601-98e1-45110e519193",
   "metadata": {
    "scrolled": false
   },
   "outputs": [
    {
     "data": {
      "text/html": [
       "<div>\n",
       "<style scoped>\n",
       "    .dataframe tbody tr th:only-of-type {\n",
       "        vertical-align: middle;\n",
       "    }\n",
       "\n",
       "    .dataframe tbody tr th {\n",
       "        vertical-align: top;\n",
       "    }\n",
       "\n",
       "    .dataframe thead th {\n",
       "        text-align: right;\n",
       "    }\n",
       "</style>\n",
       "<table border=\"1\" class=\"dataframe\">\n",
       "  <thead>\n",
       "    <tr style=\"text-align: right;\">\n",
       "      <th></th>\n",
       "      <th>word</th>\n",
       "      <th>prob</th>\n",
       "    </tr>\n",
       "  </thead>\n",
       "  <tbody>\n",
       "    <tr>\n",
       "      <th>8531</th>\n",
       "      <td>terrorized</td>\n",
       "      <td>0.277049</td>\n",
       "    </tr>\n",
       "    <tr>\n",
       "      <th>8532</th>\n",
       "      <td>mirror</td>\n",
       "      <td>0.270864</td>\n",
       "    </tr>\n",
       "    <tr>\n",
       "      <th>8533</th>\n",
       "      <td>opportunity</td>\n",
       "      <td>0.268306</td>\n",
       "    </tr>\n",
       "    <tr>\n",
       "      <th>8534</th>\n",
       "      <td>appeal</td>\n",
       "      <td>0.265841</td>\n",
       "    </tr>\n",
       "    <tr>\n",
       "      <th>8535</th>\n",
       "      <td>longer</td>\n",
       "      <td>0.261093</td>\n",
       "    </tr>\n",
       "    <tr>\n",
       "      <th>8536</th>\n",
       "      <td>woke</td>\n",
       "      <td>0.257867</td>\n",
       "    </tr>\n",
       "    <tr>\n",
       "      <th>8537</th>\n",
       "      <td>met</td>\n",
       "      <td>0.256681</td>\n",
       "    </tr>\n",
       "    <tr>\n",
       "      <th>8538</th>\n",
       "      <td>mommy</td>\n",
       "      <td>0.249751</td>\n",
       "    </tr>\n",
       "    <tr>\n",
       "      <th>8539</th>\n",
       "      <td>verbally</td>\n",
       "      <td>0.245463</td>\n",
       "    </tr>\n",
       "    <tr>\n",
       "      <th>8540</th>\n",
       "      <td>daughter</td>\n",
       "      <td>0.237025</td>\n",
       "    </tr>\n",
       "    <tr>\n",
       "      <th>8541</th>\n",
       "      <td>anymore</td>\n",
       "      <td>0.226917</td>\n",
       "    </tr>\n",
       "    <tr>\n",
       "      <th>8542</th>\n",
       "      <td>reached</td>\n",
       "      <td>0.214494</td>\n",
       "    </tr>\n",
       "    <tr>\n",
       "      <th>8543</th>\n",
       "      <td>finally</td>\n",
       "      <td>0.205326</td>\n",
       "    </tr>\n",
       "    <tr>\n",
       "      <th>8544</th>\n",
       "      <td>fled</td>\n",
       "      <td>0.185009</td>\n",
       "    </tr>\n",
       "    <tr>\n",
       "      <th>8545</th>\n",
       "      <td>discovered</td>\n",
       "      <td>0.171697</td>\n",
       "    </tr>\n",
       "    <tr>\n",
       "      <th>8546</th>\n",
       "      <td>biological</td>\n",
       "      <td>0.122325</td>\n",
       "    </tr>\n",
       "    <tr>\n",
       "      <th>8547</th>\n",
       "      <td>decided</td>\n",
       "      <td>0.110796</td>\n",
       "    </tr>\n",
       "    <tr>\n",
       "      <th>8548</th>\n",
       "      <td>realised</td>\n",
       "      <td>0.110738</td>\n",
       "    </tr>\n",
       "    <tr>\n",
       "      <th>8549</th>\n",
       "      <td>tired</td>\n",
       "      <td>0.107292</td>\n",
       "    </tr>\n",
       "    <tr>\n",
       "      <th>8550</th>\n",
       "      <td>realized</td>\n",
       "      <td>0.070490</td>\n",
       "    </tr>\n",
       "  </tbody>\n",
       "</table>\n",
       "</div>"
      ],
      "text/plain": [
       "             word      prob\n",
       "8531   terrorized  0.277049\n",
       "8532       mirror  0.270864\n",
       "8533  opportunity  0.268306\n",
       "8534       appeal  0.265841\n",
       "8535       longer  0.261093\n",
       "8536         woke  0.257867\n",
       "8537          met  0.256681\n",
       "8538        mommy  0.249751\n",
       "8539     verbally  0.245463\n",
       "8540     daughter  0.237025\n",
       "8541      anymore  0.226917\n",
       "8542      reached  0.214494\n",
       "8543      finally  0.205326\n",
       "8544         fled  0.185009\n",
       "8545   discovered  0.171697\n",
       "8546   biological  0.122325\n",
       "8547      decided  0.110796\n",
       "8548     realised  0.110738\n",
       "8549        tired  0.107292\n",
       "8550     realized  0.070490"
      ]
     },
     "execution_count": 40,
     "metadata": {},
     "output_type": "execute_result"
    }
   ],
   "source": [
    "words.tail(20)"
   ]
  },
  {
   "cell_type": "code",
   "execution_count": 41,
   "id": "804e436b-40eb-4a6f-a318-280780ce0905",
   "metadata": {
    "scrolled": true,
    "tags": []
   },
   "outputs": [
    {
     "data": {
      "image/png": "[encoded data removed]",
      "text/plain": [
       "<Figure size 720x576 with 1 Axes>"
      ]
     },
     "metadata": {},
     "output_type": "display_data"
    }
   ],
   "source": [
    "sns.set(rc={'figure.figsize':(10,8)})\n",
    "ax=sns.barplot(x=words.prob[:20], y=words.word[:20])\n",
    "ax.set(xlim=(0.0,1.0),xlabel='P(#WhyILeft | word)', ylabel='Word', title='Most Predictive Words of #WhyILeft Tweets')\n",
    "plt.show();"
   ]
  },
  {
   "cell_type": "markdown",
   "id": "fc26e884-1b26-46f3-ba45-5d24f62112be",
   "metadata": {
    "tags": []
   },
   "source": [
    "## Self Empowerment"
   ]
  },
  {
   "cell_type": "code",
   "execution_count": 42,
   "id": "ec2b891a-1d17-4375-b9f2-26f50f575ffa",
   "metadata": {
    "scrolled": true
   },
   "outputs": [
    {
     "data": {
      "text/plain": [
       "'\"@ravenmundy: #whyileft Because I realized someone had to actually love me, even if it was only myself.\"  Wow! #truth'"
      ]
     },
     "execution_count": 42,
     "metadata": {},
     "output_type": "execute_result"
    }
   ],
   "source": [
    "df.post[127] #realized"
   ]
  },
  {
   "cell_type": "code",
   "execution_count": 43,
   "id": "b9023780",
   "metadata": {
    "scrolled": true
   },
   "outputs": [
    {
     "data": {
      "text/plain": [
       "'#whyileft I left him because I had enough with the insults and the threats and the empty demonstrations of so called love. I was tired.'"
      ]
     },
     "execution_count": 43,
     "metadata": {},
     "output_type": "execute_result"
    }
   ],
   "source": [
    "df.post[19343] #tired"
   ]
  },
  {
   "cell_type": "code",
   "execution_count": 44,
   "id": "192cf1e7-af4c-4f1f-9142-83580a0462b6",
   "metadata": {},
   "outputs": [
    {
     "data": {
      "text/plain": [
       "'#whyileft because I woke up one morning and decided to take my power back. I needed to set an example for my kids abuse is not acceptable!!'"
      ]
     },
     "execution_count": 44,
     "metadata": {},
     "output_type": "execute_result"
    }
   ],
   "source": [
    "df.post[1771] #decided"
   ]
  },
  {
   "cell_type": "code",
   "execution_count": 45,
   "id": "231da304",
   "metadata": {
    "scrolled": true
   },
   "outputs": [
    {
     "data": {
      "text/plain": [
       "'I discovered one day that I was powerful and beautiful, that my friends loved me. #WhyILeft'"
      ]
     },
     "execution_count": 45,
     "metadata": {},
     "output_type": "execute_result"
    }
   ],
   "source": [
    "df.post[7865] #discovered"
   ]
  },
  {
   "cell_type": "code",
   "execution_count": 46,
   "id": "d808c680",
   "metadata": {
    "scrolled": false
   },
   "outputs": [
    {
     "data": {
      "text/plain": [
       "'#WhyILeft  I woke up and realised that no one could possibly deserve it... especially not the children.'"
      ]
     },
     "execution_count": 46,
     "metadata": {},
     "output_type": "execute_result"
    }
   ],
   "source": [
    "df.post[4632] #woke"
   ]
  },
  {
   "cell_type": "markdown",
   "id": "cbacbf17-e9db-4091-9569-537c939dfb00",
   "metadata": {},
   "source": [
    "## Descriptions of Abuse"
   ]
  },
  {
   "cell_type": "code",
   "execution_count": 47,
   "id": "d291a8ea",
   "metadata": {},
   "outputs": [
    {
     "data": {
      "text/plain": [
       "'@WhyIStayed When the many shades of verbal abuse bruises began to show in the mirror #WhyILeft'"
      ]
     },
     "execution_count": 47,
     "metadata": {},
     "output_type": "execute_result"
    }
   ],
   "source": [
    "df.post[9861] #mirror #verbal"
   ]
  },
  {
   "cell_type": "code",
   "execution_count": 48,
   "id": "981aa3d7",
   "metadata": {},
   "outputs": [
    {
     "data": {
      "text/plain": [
       "\" I couldn't look at myself in the mirror anymore. Scars fade but still dealing w/ it 20 yrs on.\""
      ]
     },
     "execution_count": 48,
     "metadata": {},
     "output_type": "execute_result"
    }
   ],
   "source": [
    "df.post[18946] #mirror"
   ]
  },
  {
   "cell_type": "code",
   "execution_count": 49,
   "id": "ce48def7",
   "metadata": {},
   "outputs": [
    {
     "data": {
      "text/plain": [
       "\"#whyileft My mental and physical health was bottoming out.  I ended up in the hospital.  I couldn't do it anymore even if I loved him.\""
      ]
     },
     "execution_count": 49,
     "metadata": {},
     "output_type": "execute_result"
    }
   ],
   "source": [
    "df.post[4321] #anymore"
   ]
  },
  {
   "cell_type": "code",
   "execution_count": 50,
   "id": "a8770d85",
   "metadata": {},
   "outputs": [
    {
     "data": {
      "text/plain": [
       "'I left my biological family because I WAS NEVER LOVED BY THEM, NEVER EVER, I WAS USED AND ABUSED AND EVEN RAPED BY THEM #WhyILeft'"
      ]
     },
     "execution_count": 50,
     "metadata": {},
     "output_type": "execute_result"
    }
   ],
   "source": [
    "df.post[12524] #biological"
   ]
  },
  {
   "cell_type": "code",
   "execution_count": 51,
   "id": "c36e7ab2",
   "metadata": {
    "scrolled": false
   },
   "outputs": [
    {
     "data": {
      "text/plain": [
       "\"#WhyILeft - Because I finally saw the light leave his eyes in the act. That's when I believed he wouldn't stop until he killed me.\""
      ]
     },
     "execution_count": 51,
     "metadata": {},
     "output_type": "execute_result"
    }
   ],
   "source": [
    "df.post[695] #finally"
   ]
  },
  {
   "cell_type": "code",
   "execution_count": 52,
   "id": "bbe03e5e",
   "metadata": {
    "scrolled": true
   },
   "outputs": [
    {
     "data": {
      "text/plain": [
       "\"#whyileft i'll say it again.  i left him because i didn't love him anymore after he tried to choke (kill) me.  he also tried to kill my cat.\""
      ]
     },
     "execution_count": 52,
     "metadata": {},
     "output_type": "execute_result"
    }
   ],
   "source": [
    "df.post[13086] #anymore"
   ]
  },
  {
   "cell_type": "code",
   "execution_count": 53,
   "id": "ecdc5318",
   "metadata": {},
   "outputs": [
    {
     "data": {
      "text/plain": [
       "' He broke my nose, totally terrorized me after and threatened to kill my parents.'"
      ]
     },
     "execution_count": 53,
     "metadata": {},
     "output_type": "execute_result"
    }
   ],
   "source": [
    "df.post[1321] #terrorized"
   ]
  },
  {
   "cell_type": "markdown",
   "id": "488fd3c7-b118-4e4a-a8a1-bb000965b67d",
   "metadata": {},
   "source": [
    "## Outside Intervention"
   ]
  },
  {
   "cell_type": "markdown",
   "id": "27d581fe-5727-4e83-8286-8a59f7cccff0",
   "metadata": {},
   "source": [
    "** is used to describehow outside influences such as family, friends, and new relationships intervened with the situation."
   ]
  },
  {
   "cell_type": "code",
   "execution_count": 54,
   "id": "a9224fca",
   "metadata": {},
   "outputs": [
    {
     "data": {
      "text/plain": [
       "'#WhyILeft My now-wife gave me the courage and opportunity to leave.'"
      ]
     },
     "execution_count": 54,
     "metadata": {},
     "output_type": "execute_result"
    }
   ],
   "source": [
    "df.post[2577] #opportunity"
   ]
  },
  {
   "cell_type": "code",
   "execution_count": 55,
   "id": "e4f01d91",
   "metadata": {},
   "outputs": [
    {
     "data": {
      "text/plain": [
       "'I was finally able to break the isolation, met people who empowered me to see that I deserved better. They changed my worldview #whyileft'"
      ]
     },
     "execution_count": 55,
     "metadata": {},
     "output_type": "execute_result"
    }
   ],
   "source": [
    "df.post[959] #met"
   ]
  },
  {
   "cell_type": "code",
   "execution_count": 56,
   "id": "dbbbd087",
   "metadata": {},
   "outputs": [
    {
     "data": {
      "text/plain": [
       "'I left because I had the support of my mother, who immediately let me move back home after I fled once he fell asleep. #whyileft'"
      ]
     },
     "execution_count": 56,
     "metadata": {},
     "output_type": "execute_result"
    }
   ],
   "source": [
    "df.post[18346] #fled"
   ]
  },
  {
   "cell_type": "code",
   "execution_count": 57,
   "id": "60b5b853",
   "metadata": {
    "scrolled": true
   },
   "outputs": [
    {
     "data": {
      "text/plain": [
       "'#whyileft good friends helped me finally see that I deserve better'"
      ]
     },
     "execution_count": 57,
     "metadata": {},
     "output_type": "execute_result"
    }
   ],
   "source": [
    "df.post[85] #finally"
   ]
  },
  {
   "cell_type": "code",
   "execution_count": 58,
   "id": "efaf1ed4",
   "metadata": {},
   "outputs": [
    {
     "data": {
      "text/plain": [
       "'#WhyILeft is good, kind people reached out to me and helped me when I needed it the most.'"
      ]
     },
     "execution_count": 58,
     "metadata": {},
     "output_type": "execute_result"
    }
   ],
   "source": [
    "df.post[2132] #reached"
   ]
  },
  {
   "cell_type": "code",
   "execution_count": 59,
   "id": "1d2effa7",
   "metadata": {},
   "outputs": [
    {
     "data": {
      "text/plain": [
       "'#whyileft An old friend reached out, showed me that I was not alone, and helped me find a way out.'"
      ]
     },
     "execution_count": 59,
     "metadata": {},
     "output_type": "execute_result"
    }
   ],
   "source": [
    "df.post[3777] #reached"
   ]
  },
  {
   "cell_type": "code",
   "execution_count": 60,
   "id": "796267cf",
   "metadata": {},
   "outputs": [
    {
     "data": {
      "text/plain": [
       "\"Although everyone knew, one of his friends reached out to me and told me that it wasn't my fault and that I deserved to be safe.  #WhyILeft\""
      ]
     },
     "execution_count": 60,
     "metadata": {},
     "output_type": "execute_result"
    }
   ],
   "source": [
    "df.post[14918] #reached"
   ]
  },
  {
   "cell_type": "markdown",
   "id": "6a2a782d-be4f-4eb6-8ef1-ba689c18ead1",
   "metadata": {},
   "source": [
    "## Children"
   ]
  },
  {
   "cell_type": "code",
   "execution_count": 61,
   "id": "4d2d46e4",
   "metadata": {
    "scrolled": true
   },
   "outputs": [
    {
     "data": {
      "text/plain": [
       "'To give my son the fair opportunity to learn to respect women, mothers, and me. And because I love him. #WhyILeft http://t.co/t3LRhoNkVl'"
      ]
     },
     "execution_count": 61,
     "metadata": {},
     "output_type": "execute_result"
    }
   ],
   "source": [
    "df.post[41] #opportunity"
   ]
  },
  {
   "cell_type": "code",
   "execution_count": 62,
   "id": "ba57399d",
   "metadata": {
    "scrolled": false
   },
   "outputs": [
    {
     "data": {
      "text/plain": [
       "'#whyileft my son refusing to go to school cos \"daddy hits mommy\" was the last straw. I finally saw it through his eyes. Near death. Twice'"
      ]
     },
     "execution_count": 62,
     "metadata": {},
     "output_type": "execute_result"
    }
   ],
   "source": [
    "df.post[944] #finally"
   ]
  },
  {
   "cell_type": "code",
   "execution_count": 63,
   "id": "895d0a38",
   "metadata": {},
   "outputs": [
    {
     "data": {
      "text/plain": [
       "'I didn\\'t want my daughter growing up thinking it was \"normal\" for your husband to abuse you verbally and physically #WhyILeft'"
      ]
     },
     "execution_count": 63,
     "metadata": {},
     "output_type": "execute_result"
    }
   ],
   "source": [
    "df.post[13939] #daughter #verbally"
   ]
  },
  {
   "cell_type": "code",
   "execution_count": 64,
   "id": "4d0e51d1",
   "metadata": {},
   "outputs": [
    {
     "data": {
      "text/plain": [
       "'#WhyILeft I finally found the word No once I had kids - they made me stay longer at first, but seeing the wrong with their eyes opened mine.'"
      ]
     },
     "execution_count": 64,
     "metadata": {},
     "output_type": "execute_result"
    }
   ],
   "source": [
    "df.post[18715] #longer"
   ]
  },
  {
   "cell_type": "code",
   "execution_count": 65,
   "id": "131b6a49",
   "metadata": {
    "scrolled": false
   },
   "outputs": [
    {
     "data": {
      "text/plain": [
       "\"when he kicked my daughter in the stomach and said he'd put a bullet through my head, i knew it wasn't getting better. #WhyILeft\""
      ]
     },
     "execution_count": 65,
     "metadata": {},
     "output_type": "execute_result"
    }
   ],
   "source": [
    "df.post[150] #daughter"
   ]
  },
  {
   "cell_type": "markdown",
   "id": "9523dc91-8e5e-4516-a399-63c8c3aa26cc",
   "metadata": {},
   "source": [
    "# Feature Importances: Least Predictive Words"
   ]
  },
  {
   "cell_type": "code",
   "execution_count": 66,
   "id": "7e8877eb-53d3-4b02-9968-64422f171555",
   "metadata": {
    "scrolled": true
   },
   "outputs": [
    {
     "data": {
      "image/png": "[encoded data removed]",
      "text/plain": [
       "<Figure size 720x576 with 1 Axes>"
      ]
     },
     "metadata": {},
     "output_type": "display_data"
    }
   ],
   "source": [
    "sns.set(rc={'figure.figsize':(10,8)})\n",
    "ax=sns.barplot(x=1-words.sort_values(by='prob', ascending=True).prob[:20], y=words.sort_values(by='prob', ascending=True).word[:20])\n",
    "ax.set(xlim=(0.0,1.0),xlabel='P(#WhyIStayed | word)', ylabel='Word', title='Most Predictive Words of #WhyIStayed Tweets')\n",
    "plt.show();"
   ]
  },
  {
   "cell_type": "markdown",
   "id": "234ca713",
   "metadata": {},
   "source": [
    "## Psychological Dependency (Low Self-Worth/Gaslighting)"
   ]
  },
  {
   "cell_type": "code",
   "execution_count": 67,
   "id": "41818e24",
   "metadata": {
    "scrolled": false
   },
   "outputs": [
    {
     "data": {
      "text/plain": [
       "'Because he told me that no one would else would ever want me &amp; claimed that I belonged to him. I was scared, so I believed him. #WhyIStayed'"
      ]
     },
     "execution_count": 67,
     "metadata": {},
     "output_type": "execute_result"
    }
   ],
   "source": [
    "df.post[19515] #believed"
   ]
  },
  {
   "cell_type": "code",
   "execution_count": 68,
   "id": "190df17a",
   "metadata": {},
   "outputs": [
    {
     "data": {
      "text/plain": [
       "'#WhyIStayed he convinced me I was stupid, less desirable than other women and that *he* did me a favor by being with me because of my PTSD.'"
      ]
     },
     "execution_count": 68,
     "metadata": {},
     "output_type": "execute_result"
    }
   ],
   "source": [
    "df.post[201] #convinced"
   ]
  },
  {
   "cell_type": "code",
   "execution_count": 69,
   "id": "684b41c2",
   "metadata": {
    "scrolled": true
   },
   "outputs": [
    {
     "data": {
      "text/plain": [
       "'He slowly started verbally abusing me, destroying self-esteem I had &amp; isolated me from friends &amp; family before ever hitting me #whyistayed'"
      ]
     },
     "execution_count": 69,
     "metadata": {},
     "output_type": "execute_result"
    }
   ],
   "source": [
    "df.post[18820] #isolated"
   ]
  },
  {
   "cell_type": "code",
   "execution_count": 70,
   "id": "67979494",
   "metadata": {},
   "outputs": [
    {
     "data": {
      "text/plain": [
       "\"I had been conditioned to think it was my fault. Had to figure out it wasn't me and I had no reason to stay. #WhyIStayed\""
      ]
     },
     "execution_count": 70,
     "metadata": {},
     "output_type": "execute_result"
    }
   ],
   "source": [
    "df.post[185] #fault"
   ]
  },
  {
   "cell_type": "code",
   "execution_count": 71,
   "id": "2901ebe8",
   "metadata": {},
   "outputs": [
    {
     "data": {
      "text/plain": [
       "\"because he repeatedly told me that all guys were exactly like him and I couldn't do any better. #WhyIStayed\""
      ]
     },
     "execution_count": 71,
     "metadata": {},
     "output_type": "execute_result"
    }
   ],
   "source": [
    "df.post[8809] #exactly"
   ]
  },
  {
   "cell_type": "code",
   "execution_count": 72,
   "id": "4b8c8faf",
   "metadata": {},
   "outputs": [
    {
     "data": {
      "text/plain": [
       "'#WhyIStayed I felt dependent on him. After you are told and treated like you are worthless repetitively enough you start to believe it.'"
      ]
     },
     "execution_count": 72,
     "metadata": {},
     "output_type": "execute_result"
    }
   ],
   "source": [
    "df.post[7924] #dependent #believe"
   ]
  },
  {
   "cell_type": "code",
   "execution_count": 73,
   "id": "5da6161d",
   "metadata": {},
   "outputs": [
    {
     "data": {
      "text/plain": [
       "'#WhyIStayed because when you hear \"you\\'re dumb, worthless, ugly\" daily for 1 year you begin to believe it so much you stay a 2nd year'"
      ]
     },
     "execution_count": 73,
     "metadata": {},
     "output_type": "execute_result"
    }
   ],
   "source": [
    "df.post[4147] #dumb #believe"
   ]
  },
  {
   "cell_type": "markdown",
   "id": "d69f4c65-a8d8-4465-9b0f-0fba6d71822e",
   "metadata": {},
   "source": [
    "## Lack of Validation & History of Family Violence"
   ]
  },
  {
   "cell_type": "code",
   "execution_count": 74,
   "id": "d569db3e",
   "metadata": {},
   "outputs": [
    {
     "data": {
      "text/plain": [
       "\"let's not forget that some women convince abused women that the abuse they are suffering is own their fault...society is sick! #WhyIStayed\""
      ]
     },
     "execution_count": 74,
     "metadata": {},
     "output_type": "execute_result"
    }
   ],
   "source": [
    "df.post[15456] #fault"
   ]
  },
  {
   "cell_type": "code",
   "execution_count": 75,
   "id": "c73328c2",
   "metadata": {},
   "outputs": [
    {
     "data": {
      "text/plain": [
       "'Because we live in a society that blames victims, and I believed it was my fault for a long time. #WhyIStayed'"
      ]
     },
     "execution_count": 75,
     "metadata": {},
     "output_type": "execute_result"
    }
   ],
   "source": [
    "df.post[17850] #believed"
   ]
  },
  {
   "cell_type": "code",
   "execution_count": 76,
   "id": "4bc129c3",
   "metadata": {
    "scrolled": true
   },
   "outputs": [
    {
     "data": {
      "text/plain": [
       "'#WhyIStayed no one believed it was as bad as it was even after all the frequent er visits'"
      ]
     },
     "execution_count": 76,
     "metadata": {},
     "output_type": "execute_result"
    }
   ],
   "source": [
    "df.post[16] #believed"
   ]
  },
  {
   "cell_type": "code",
   "execution_count": 77,
   "id": "64b39aac",
   "metadata": {
    "scrolled": true
   },
   "outputs": [
    {
     "data": {
      "text/plain": [
       "\"#WhyIStayed Because I've been told all my life that a man's only worth is in how he supports and protects women, and I foolishly believed it\""
      ]
     },
     "execution_count": 77,
     "metadata": {},
     "output_type": "execute_result"
    }
   ],
   "source": [
    "df.post[7271] #believed"
   ]
  },
  {
   "cell_type": "code",
   "execution_count": 78,
   "id": "89807006",
   "metadata": {},
   "outputs": [
    {
     "data": {
      "text/plain": [
       "'#WhyIStayed My parents hit me &amp; said they loved me. So when he hit me &amp; said he loved me I believed him.'"
      ]
     },
     "execution_count": 78,
     "metadata": {},
     "output_type": "execute_result"
    }
   ],
   "source": [
    "df.post[727] #believed"
   ]
  },
  {
   "cell_type": "code",
   "execution_count": 79,
   "id": "34cc0f41",
   "metadata": {},
   "outputs": [
    {
     "data": {
      "text/plain": [
       "'The abuse felt normal (like my childhood) I believed I was lucky that anyone would even want me and he made that clear. #WhyIStayed'"
      ]
     },
     "execution_count": 79,
     "metadata": {},
     "output_type": "execute_result"
    }
   ],
   "source": [
    "df.post[3439] #believed"
   ]
  },
  {
   "cell_type": "code",
   "execution_count": 80,
   "id": "dce1d6bb",
   "metadata": {
    "scrolled": true
   },
   "outputs": [
    {
     "data": {
      "text/plain": [
       "'His mom convinced me to stay. Her need for s/one to babysit her son was greater than my safety. Even after she knew he beat me. #WhyIStayed'"
      ]
     },
     "execution_count": 80,
     "metadata": {},
     "output_type": "execute_result"
    }
   ],
   "source": [
    "df.post[12984] #convinced"
   ]
  },
  {
   "cell_type": "code",
   "execution_count": 81,
   "id": "ac9df2b6",
   "metadata": {},
   "outputs": [
    {
     "data": {
      "text/plain": [
       "\"I stayed because I convinced myself verbal abuse wasn't that bad if it didn't turn physical &amp; he said no one else would want me. #WhyIStayed\""
      ]
     },
     "execution_count": 81,
     "metadata": {},
     "output_type": "execute_result"
    }
   ],
   "source": [
    "df.post[4731] #convinced"
   ]
  },
  {
   "cell_type": "code",
   "execution_count": 82,
   "id": "eacdb45e",
   "metadata": {
    "scrolled": false
   },
   "outputs": [
    {
     "data": {
      "text/plain": [
       "'Bc when it got even worse my best friend at the time blamed me for being so weak so dumb so stupid #WhyIStayed'"
      ]
     },
     "execution_count": 82,
     "metadata": {},
     "output_type": "execute_result"
    }
   ],
   "source": [
    "df.post[2624] #dumb"
   ]
  },
  {
   "cell_type": "code",
   "execution_count": 83,
   "id": "24dd66bf",
   "metadata": {
    "scrolled": false
   },
   "outputs": [
    {
     "data": {
      "text/plain": [
       "'Because my mother said \"you were dumb enough to marry him, now you have to suffer the consequences\" #WhyIStayed'"
      ]
     },
     "execution_count": 83,
     "metadata": {},
     "output_type": "execute_result"
    }
   ],
   "source": [
    "df.post[19097] #dumb"
   ]
  },
  {
   "cell_type": "markdown",
   "id": "5c361144-c7d9-4343-9811-c10c89006ef1",
   "metadata": {},
   "source": [
    "## Feelings of Shame"
   ]
  },
  {
   "cell_type": "code",
   "execution_count": 84,
   "id": "b8d848ef",
   "metadata": {},
   "outputs": [
    {
     "data": {
      "text/plain": [
       "'#WhyIStayed I was too stubborn to admit that my family was right'"
      ]
     },
     "execution_count": 84,
     "metadata": {},
     "output_type": "execute_result"
    }
   ],
   "source": [
    "df.post[287] #admit"
   ]
  },
  {
   "cell_type": "code",
   "execution_count": 85,
   "id": "1c715d83",
   "metadata": {},
   "outputs": [
    {
     "data": {
      "text/plain": [
       "'The reason #WhyIStayed after he moved his girlfriend in was because I really had no place to go and I was too embarrassed to tell anyone.'"
      ]
     },
     "execution_count": 85,
     "metadata": {},
     "output_type": "execute_result"
    }
   ],
   "source": [
    "df.post[233] #embarrassed"
   ]
  },
  {
   "cell_type": "code",
   "execution_count": 86,
   "id": "d5196095",
   "metadata": {
    "scrolled": true
   },
   "outputs": [
    {
     "data": {
      "text/plain": [
       "\"#WhyIStayed because I was embarrassed &amp; shocked it happened. Then thought, in relationship you're supposed to work through problems together\""
      ]
     },
     "execution_count": 86,
     "metadata": {},
     "output_type": "execute_result"
    }
   ],
   "source": [
    "df.post[10702] #embarrassed #shock"
   ]
  },
  {
   "cell_type": "code",
   "execution_count": 87,
   "id": "7dbb834e",
   "metadata": {},
   "outputs": [
    {
     "data": {
      "text/plain": [
       "\"Because I was a strong intelligent woman and I didn't want people to know I was dumb enough to let it happen to me. #WhyIStayed\""
      ]
     },
     "execution_count": 87,
     "metadata": {},
     "output_type": "execute_result"
    }
   ],
   "source": [
    "df.post[9791] #dumb"
   ]
  },
  {
   "cell_type": "markdown",
   "id": "de025637-aa2c-4c0a-9f7a-8217394f23f1",
   "metadata": {
    "tags": []
   },
   "source": [
    "## Financial, Emotional, and Physical Dependency"
   ]
  },
  {
   "cell_type": "code",
   "execution_count": 88,
   "id": "a4c10443",
   "metadata": {},
   "outputs": [
    {
     "data": {
      "text/plain": [
       "'#WhyIStayed There was no room in the shelter and nowhere else to go.'"
      ]
     },
     "execution_count": 88,
     "metadata": {},
     "output_type": "execute_result"
    }
   ],
   "source": [
    "df.post[280] #nowhere"
   ]
  },
  {
   "cell_type": "code",
   "execution_count": 89,
   "id": "92af95a3",
   "metadata": {},
   "outputs": [
    {
     "data": {
      "text/plain": [
       "'also \"just leaving\" becomes irrelevant if you don\\'t have the resources/support network to do so. no money. nowhere to go. etc #WhyIStayed'"
      ]
     },
     "execution_count": 89,
     "metadata": {},
     "output_type": "execute_result"
    }
   ],
   "source": [
    "df.post[317] #nowhere #convinced"
   ]
  },
  {
   "cell_type": "code",
   "execution_count": 90,
   "id": "eb07e856",
   "metadata": {
    "scrolled": true
   },
   "outputs": [
    {
     "data": {
      "text/plain": [
       "'Being isolated enough to hate my friends, family, and self, while brainwashed into thinking that was how all relationships are #WhyIStayed'"
      ]
     },
     "execution_count": 90,
     "metadata": {},
     "output_type": "execute_result"
    }
   ],
   "source": [
    "df.post[12084] #brainwashed"
   ]
  },
  {
   "cell_type": "code",
   "execution_count": 91,
   "id": "706db7a0",
   "metadata": {},
   "outputs": [
    {
     "data": {
      "text/plain": [
       "\"Bcuz it didn't happen overnight, it gradually led up to him abusing me and by then I was emotionally &amp; financially dependent   #WhyIStayed\""
      ]
     },
     "execution_count": 91,
     "metadata": {},
     "output_type": "execute_result"
    }
   ],
   "source": [
    "df.post[35] #financially #dependent"
   ]
  },
  {
   "cell_type": "code",
   "execution_count": 92,
   "id": "90c07d76",
   "metadata": {},
   "outputs": [
    {
     "data": {
      "text/plain": [
       "'#WhyIStayed Not because I depended on him financially, but because it was the other way around.'"
      ]
     },
     "execution_count": 92,
     "metadata": {},
     "output_type": "execute_result"
    }
   ],
   "source": [
    "df.post[1965] #financally"
   ]
  },
  {
   "cell_type": "code",
   "execution_count": 93,
   "id": "e2fb1345",
   "metadata": {},
   "outputs": [
    {
     "data": {
      "text/plain": [
       "'#WhyIStayed we worked together, lived together. she controlled me financially, emotionally. she manipulated me into thinking i owed her.'"
      ]
     },
     "execution_count": 93,
     "metadata": {},
     "output_type": "execute_result"
    }
   ],
   "source": [
    "df.post[2845] #financially"
   ]
  },
  {
   "cell_type": "code",
   "execution_count": 94,
   "id": "80c239e0",
   "metadata": {},
   "outputs": [
    {
     "data": {
      "text/plain": [
       "'#WhyIStayed is almost never about the net worth of the abuser. It is often about the abuser having made the victim financially dependent.'"
      ]
     },
     "execution_count": 94,
     "metadata": {},
     "output_type": "execute_result"
    }
   ],
   "source": [
    "df.post[6205] #financially"
   ]
  },
  {
   "cell_type": "code",
   "execution_count": 95,
   "id": "affd3d8a",
   "metadata": {
    "scrolled": false
   },
   "outputs": [
    {
     "data": {
      "text/plain": [
       "'He also made me quit working, made me completely dependent on him, &amp; I realized all too late he had cleaned me out financially. #WhyIStayed'"
      ]
     },
     "execution_count": 95,
     "metadata": {},
     "output_type": "execute_result"
    }
   ],
   "source": [
    "df.post[12402] #financially"
   ]
  },
  {
   "cell_type": "markdown",
   "id": "e4d4973a-74c1-47f8-b81b-3965595e43ad",
   "metadata": {},
   "source": [
    "## Fear of Retaliation"
   ]
  },
  {
   "cell_type": "code",
   "execution_count": 96,
   "id": "43d82982",
   "metadata": {},
   "outputs": [
    {
     "data": {
      "text/plain": [
       "'#WhyIStayed Because he told me he would kill me and that no one would ever love me the way he did. I was scared, felt isolated from family.'"
      ]
     },
     "execution_count": 96,
     "metadata": {},
     "output_type": "execute_result"
    }
   ],
   "source": [
    "df.post[376] #isolated"
   ]
  },
  {
   "cell_type": "code",
   "execution_count": 97,
   "id": "d7f3e32a",
   "metadata": {},
   "outputs": [
    {
     "data": {
      "text/plain": [
       "'#whyistayed because I was afraid he would kill himself and that it would be all my fault. He did, and I am not to blame.'"
      ]
     },
     "execution_count": 97,
     "metadata": {},
     "output_type": "execute_result"
    }
   ],
   "source": [
    "df.post[11426] #fault"
   ]
  },
  {
   "cell_type": "code",
   "execution_count": 98,
   "id": "e58c0cb4",
   "metadata": {},
   "outputs": [
    {
     "data": {
      "text/plain": [
       "'#WhyIStayed because I was in shock, like a nightmare, then when I gained focus he threatened to kill me.'"
      ]
     },
     "execution_count": 98,
     "metadata": {},
     "output_type": "execute_result"
    }
   ],
   "source": [
    "df.post[15993] #shock"
   ]
  },
  {
   "cell_type": "code",
   "execution_count": 99,
   "id": "6fd091b5",
   "metadata": {
    "scrolled": true
   },
   "outputs": [
    {
     "data": {
      "text/plain": [
       "'#WhyIStayed I was petrified and thought he would take my daughter. #Why I Left I knew one day he would do the same to my daughter.'"
      ]
     },
     "execution_count": 99,
     "metadata": {},
     "output_type": "execute_result"
    }
   ],
   "source": [
    "df.post[12839] #petrified"
   ]
  },
  {
   "cell_type": "code",
   "execution_count": 100,
   "id": "3cd081f4",
   "metadata": {},
   "outputs": [
    {
     "data": {
      "text/plain": [
       "'#WhyIStayed because he threatened to kidnap the children or destroy me in a nasty custody battle if i ever left.'"
      ]
     },
     "execution_count": 100,
     "metadata": {},
     "output_type": "execute_result"
    }
   ],
   "source": [
    "df.post[14847] #custody"
   ]
  },
  {
   "cell_type": "markdown",
   "id": "2fd6ee1c",
   "metadata": {},
   "source": [
    "## Children"
   ]
  },
  {
   "cell_type": "code",
   "execution_count": 101,
   "id": "22d22d5a",
   "metadata": {},
   "outputs": [
    {
     "data": {
      "text/plain": [
       "'#WhyIStayed I felt financially trapped even though I knew I could support myself. It was different with a child with special needs though.'"
      ]
     },
     "execution_count": 101,
     "metadata": {},
     "output_type": "execute_result"
    }
   ],
   "source": [
    "df.post[12365] #financially"
   ]
  },
  {
   "cell_type": "code",
   "execution_count": 102,
   "id": "ace15374",
   "metadata": {},
   "outputs": [
    {
     "data": {
      "text/plain": [
       "'Because of the financial burdens of custody battles while still caring for the kids alone monetarily #WhyIStayed'"
      ]
     },
     "execution_count": 102,
     "metadata": {},
     "output_type": "execute_result"
    }
   ],
   "source": [
    "df.post[323] #custody"
   ]
  },
  {
   "cell_type": "code",
   "execution_count": 103,
   "id": "e4b598aa",
   "metadata": {
    "scrolled": true
   },
   "outputs": [
    {
     "data": {
      "text/plain": [
       "\"family court doesn't believe u if u have no proof, so they take your kids away from you, or force you to agree to joint custody #WhyIStayed\""
      ]
     },
     "execution_count": 103,
     "metadata": {},
     "output_type": "execute_result"
    }
   ],
   "source": [
    "df.post[12033] #custody"
   ]
  },
  {
   "cell_type": "code",
   "execution_count": 104,
   "id": "5a8349fc",
   "metadata": {
    "scrolled": true
   },
   "outputs": [
    {
     "data": {
      "text/plain": [
       "'“@Katiebyeager: I thought my daughter deserved a fair shot at a \"happy family\" #WhyIStayed” same with my son'"
      ]
     },
     "execution_count": 104,
     "metadata": {},
     "output_type": "execute_result"
    }
   ],
   "source": [
    "df.post[19271] #fair"
   ]
  },
  {
   "cell_type": "code",
   "execution_count": 105,
   "id": "4cf49620",
   "metadata": {},
   "outputs": [
    {
     "data": {
      "text/plain": [
       "'#WhyIStayed cuz i believed I needed to give our children a whole family. No matter how miserable I was....I was wrong, left 2 years ago'"
      ]
     },
     "execution_count": 105,
     "metadata": {},
     "output_type": "execute_result"
    }
   ],
   "source": [
    "df.post[2876] #believed"
   ]
  },
  {
   "cell_type": "markdown",
   "id": "8d7f958b-6ecc-4a07-bce8-e4393ac88d4e",
   "metadata": {},
   "source": [
    "## Forgiveness & Hope"
   ]
  },
  {
   "cell_type": "code",
   "execution_count": 106,
   "id": "f7d91088",
   "metadata": {},
   "outputs": [
    {
     "data": {
      "text/plain": [
       "'#WhyIStayed After he was violent, he apologized and was extremely apologetic and loving, until the next blowup.'"
      ]
     },
     "execution_count": 106,
     "metadata": {},
     "output_type": "execute_result"
    }
   ],
   "source": [
    "df.post[3617] #apologized"
   ]
  },
  {
   "cell_type": "code",
   "execution_count": 107,
   "id": "3e006668",
   "metadata": {
    "scrolled": false
   },
   "outputs": [
    {
     "data": {
      "text/plain": [
       "'#WhyIStayed because I thought things would change, and I convinced myself that everything he called me was right.'"
      ]
     },
     "execution_count": 107,
     "metadata": {},
     "output_type": "execute_result"
    }
   ],
   "source": [
    "df.post[161] #convinced"
   ]
  },
  {
   "cell_type": "code",
   "execution_count": 108,
   "id": "e8cf9baa",
   "metadata": {},
   "outputs": [
    {
     "data": {
      "text/plain": [
       "\"#WhyIStayed ...we were newlyweds,I was shell-shocked,he didn't hit me-it was verbal,he apologized w/shopping,&amp;he said it wasn't verbal abuse\""
      ]
     },
     "execution_count": 108,
     "metadata": {},
     "output_type": "execute_result"
    }
   ],
   "source": [
    "df.post[17411] #shock"
   ]
  },
  {
   "cell_type": "code",
   "execution_count": 109,
   "id": "8ff18ba3",
   "metadata": {
    "scrolled": true
   },
   "outputs": [
    {
     "data": {
      "text/plain": [
       "'Because he was always sorry and promised he would change.  And i had to believe him to survive.  #whyistayed'"
      ]
     },
     "execution_count": 109,
     "metadata": {},
     "output_type": "execute_result"
    }
   ],
   "source": [
    "df.post[18656] #promised #believe"
   ]
  },
  {
   "cell_type": "code",
   "execution_count": 110,
   "id": "f30112fd",
   "metadata": {
    "scrolled": false
   },
   "outputs": [
    {
     "data": {
      "text/plain": [
       "'He said he would change. He promised it was the last time. I believed him. He lied. #WhyIStayed'"
      ]
     },
     "execution_count": 110,
     "metadata": {},
     "output_type": "execute_result"
    }
   ],
   "source": [
    "df.post[1230] #promised #believed"
   ]
  },
  {
   "cell_type": "code",
   "execution_count": 111,
   "id": "62d788b5",
   "metadata": {
    "scrolled": true
   },
   "outputs": [
    {
     "data": {
      "text/plain": [
       "'#WhyIStayed he always apologized with gifts and promised it would never happen again. (Or at least until the bruises healed)'"
      ]
     },
     "execution_count": 111,
     "metadata": {},
     "output_type": "execute_result"
    }
   ],
   "source": [
    "df.post[5702] #promised #apologized"
   ]
  },
  {
   "cell_type": "markdown",
   "id": "87fdfbc0-e303-4e55-ae53-f6e10479ffb4",
   "metadata": {},
   "source": [
    "## Religion"
   ]
  },
  {
   "cell_type": "code",
   "execution_count": 112,
   "id": "e78cec5e",
   "metadata": {},
   "outputs": [
    {
     "data": {
      "text/plain": [
       "'#WhyIStayed being a Christian had taught me i had no value without my wife and that it could be \"that bad\"'"
      ]
     },
     "execution_count": 112,
     "metadata": {},
     "output_type": "execute_result"
    }
   ],
   "source": [
    "df.post[634] #taught"
   ]
  },
  {
   "cell_type": "code",
   "execution_count": 113,
   "id": "2611d55d",
   "metadata": {},
   "outputs": [
    {
     "data": {
      "text/plain": [
       "'#WhyIStayed Because the elders of our church told my mother and I that it was our fault.'"
      ]
     },
     "execution_count": 113,
     "metadata": {},
     "output_type": "execute_result"
    }
   ],
   "source": [
    "df.post[1621] #fault"
   ]
  },
  {
   "cell_type": "code",
   "execution_count": 114,
   "id": "0619984a",
   "metadata": {
    "scrolled": true
   },
   "outputs": [
    {
     "data": {
      "text/plain": [
       "'#WhyIStayed my pastor told me to pray more, fast more, submit more.  I was told by my church it was my fault.  \\n\\nRC'"
      ]
     },
     "execution_count": 114,
     "metadata": {},
     "output_type": "execute_result"
    }
   ],
   "source": [
    "df.post[13725] #fault"
   ]
  },
  {
   "cell_type": "markdown",
   "id": "0b0def0b-6d7a-4214-9ba4-078d3ede1cf4",
   "metadata": {},
   "source": [
    "## Notable Mentions"
   ]
  },
  {
   "cell_type": "markdown",
   "id": "cac8c84a-3b5c-4d94-a3af-71eb4abfbc4b",
   "metadata": {},
   "source": [
    "### Criticisms of #WhyIStayed"
   ]
  },
  {
   "cell_type": "code",
   "execution_count": 115,
   "id": "ba0be9fd-857e-4d91-9bee-1be87ec2f0a8",
   "metadata": {},
   "outputs": [
    {
     "data": {
      "text/plain": [
       "'Because I live in a society that would rather ask #WhyIStayed than ask abusers why they abuse. \\n http://t.co/HB8FbfWMUK via @HuffPostWomen'"
      ]
     },
     "execution_count": 115,
     "metadata": {},
     "output_type": "execute_result"
    }
   ],
   "source": [
    "df.post[4128]"
   ]
  },
  {
   "cell_type": "code",
   "execution_count": 116,
   "id": "8c9aba23",
   "metadata": {
    "scrolled": true
   },
   "outputs": [
    {
     "data": {
      "text/plain": [
       "\"It's abs wrong when society looks @ women asking her why she stayed in abusive relationship instead of asking men why he hit her #WhyIStayed\""
      ]
     },
     "execution_count": 116,
     "metadata": {},
     "output_type": "execute_result"
    }
   ],
   "source": [
    "df.post[4136] "
   ]
  },
  {
   "cell_type": "code",
   "execution_count": 117,
   "id": "e7303358-041c-4330-be26-2113312fab6a",
   "metadata": {},
   "outputs": [
    {
     "data": {
      "text/plain": [
       "'#WhyIStayed \"@TheAtlantic: For abuse victims, the obstacles to leaving are more complicated than many people think http://t.co/zhJsfoLyfk\"'"
      ]
     },
     "execution_count": 117,
     "metadata": {},
     "output_type": "execute_result"
    }
   ],
   "source": [
    "df.post[148] #complicated"
   ]
  },
  {
   "cell_type": "code",
   "execution_count": 118,
   "id": "5c79dbd3",
   "metadata": {},
   "outputs": [
    {
     "data": {
      "text/plain": [
       "'We should learn from #WhyIStayed not to blame victims of violence but rather to understand them &amp; learn and battle the root causes of GBV.'"
      ]
     },
     "execution_count": 118,
     "metadata": {},
     "output_type": "execute_result"
    }
   ],
   "source": [
    "df.post[4180]"
   ]
  },
  {
   "cell_type": "markdown",
   "id": "72548f70-2961-42fb-a5e5-9b587e617600",
   "metadata": {},
   "source": [
    "### Battered Person Syndrome"
   ]
  },
  {
   "cell_type": "markdown",
   "id": "47011150-6f15-4d81-adde-18ba84e32bef",
   "metadata": {},
   "source": [
    "The keyword *syndrome* returned many tweets alluding to 'battered person syndrome'. Battered woman syndrome, or battered person syndrome, is a psychological condition that can develop when a person experiences abuse, usually at the hands of an intimate partner. These people exhibit four characteristics: They believe the violence is their fault, they can’t place the blame for the violence on anyone else, they fear for their lives and their children’s lives, and they believe their abuser is everywhere and sees everything they do. These symptoms seem to encompass the narratives as seen especially in **2.2.4. Psychological Dependency** and **2.2.5. Fear of Retaliation**. Source: https://www.everydayhealth.com/news/understanding-battered-womens-syndrome/)."
   ]
  },
  {
   "cell_type": "code",
   "execution_count": 119,
   "id": "11dcf119-29dc-41d7-a4fc-ca0da3deecb5",
   "metadata": {},
   "outputs": [
    {
     "data": {
      "text/plain": [
       "array([\"#WhyIStayed battered person's syndrome\",\n",
       "       'Battered Person Syndrome and learned helplessness theory help explain why abused spouses often stay in destructive relationships #WhyIStayed',\n",
       "       '#whyistayed. Cause u need help battered woman syndrome is some real ish. http://t.co/I9FGGk1zwg',\n",
       "       \"I fully understand the abused woman syndrome! I was one. It feels like u can't live without them. Had no self-esteem. #WhyIStayed\",\n",
       "       '@writersrepublic The man is abusive get out of the relationship. That said, I get the concept of the battered women syndrome. #WhyIStayed'],\n",
       "      dtype=object)"
      ]
     },
     "execution_count": 119,
     "metadata": {},
     "output_type": "execute_result"
    }
   ],
   "source": [
    "df[(df.tokens.str.contains('syndrome'))&(df.label=='#WhyIStayed')].post.values[:5]"
   ]
  },
  {
   "cell_type": "markdown",
   "id": "db665e30-654b-4c5b-a00b-bf46edca889b",
   "metadata": {},
   "source": [
    "# Thresholding"
   ]
  },
  {
   "cell_type": "code",
   "execution_count": 120,
   "id": "1629c86c-2255-47f6-aa59-5b82e1b52d1b",
   "metadata": {
    "scrolled": false
   },
   "outputs": [
    {
     "data": {
      "image/png": "[encoded data removed]",
      "text/plain": [
       "<Figure size 432x432 with 2 Axes>"
      ]
     },
     "metadata": {},
     "output_type": "display_data"
    },
    {
     "name": "stdout",
     "output_type": "stream",
     "text": [
      "              precision    recall  f1-score   support\n",
      "\n",
      "           0       0.72      0.55      0.63      1128\n",
      "           1       0.83      0.91      0.87      2783\n",
      "\n",
      "    accuracy                           0.81      3911\n",
      "   macro avg       0.78      0.73      0.75      3911\n",
      "weighted avg       0.80      0.81      0.80      3911\n",
      "\n"
     ]
    }
   ],
   "source": [
    "fthreshold = 0.5\n",
    "\n",
    "y_pred = (y_pred_prob >= fthreshold).astype('int')\n",
    "fig, ax = plt.subplots(figsize=(6,6))\n",
    "cm=confusion_matrix(y_test, y_pred)\n",
    "disp=ConfusionMatrixDisplay(cm)\n",
    "disp.plot(ax=ax)\n",
    "plt.grid(False)\n",
    "plt.title('Confusion Matrix for threshold='+ str(np.round(fthreshold, 3)))\n",
    "plt.show()\n",
    "print(classification_report(y_test, y_pred))"
   ]
  },
  {
   "cell_type": "code",
   "execution_count": 121,
   "id": "cd79aa34-79f4-4e11-bfec-5186434d541f",
   "metadata": {},
   "outputs": [
    {
     "data": {
      "image/png": "[encoded data removed]",
      "text/plain": [
       "<Figure size 432x432 with 1 Axes>"
      ]
     },
     "metadata": {},
     "output_type": "display_data"
    }
   ],
   "source": [
    "fig, ax=plt.subplots(figsize=(6,6))\n",
    "ax.plot([0,1],[0,1],'k--')\n",
    "ax.plot(lr_fpr, lr_tpr) \n",
    "plt.xlabel('False Positive Rate') \n",
    "plt.ylabel('True Positive Rate')\n",
    "plt.title('ROC Curve for Naive Bayes Classifier') \n",
    "plt.show()"
   ]
  },
  {
   "cell_type": "code",
   "execution_count": 122,
   "id": "6510c8d0-4b7f-450e-a72f-334e0c5f863c",
   "metadata": {},
   "outputs": [
    {
     "data": {
      "image/png": "[encoded data removed]",
      "text/plain": [
       "<Figure size 432x432 with 1 Axes>"
      ]
     },
     "metadata": {},
     "output_type": "display_data"
    }
   ],
   "source": [
    "precision, recall, threshold = precision_recall_curve(y_test, y_pred_prob) # pos_labelstr - picks normal weight class\n",
    "fig, ax=plt.subplots(figsize=(6,6))\n",
    "ax.plot(recall, precision)\n",
    "ax.set_xlabel('Recall')\n",
    "ax.set_ylabel('Precision')\n",
    "ax.set_title('Precision-Recall Curve for Naive Bayes Classifier')\n",
    "ax.set_ylim(0.0, 1.1)\n",
    "plt.show()"
   ]
  },
  {
   "cell_type": "code",
   "execution_count": 123,
   "id": "1989f826-0ce2-4d35-9a4d-2d13903bfd19",
   "metadata": {},
   "outputs": [],
   "source": [
    "def fbeta_score(precision, recall, beta=1.0):\n",
    "    return (1+beta**2)*(precision*recall)/((beta**2)*precision+recall)"
   ]
  },
  {
   "cell_type": "code",
   "execution_count": 124,
   "id": "80080d79-6566-42d5-95e5-f7174bd84ffb",
   "metadata": {},
   "outputs": [
    {
     "name": "stdout",
     "output_type": "stream",
     "text": [
      "Beta: 1, Threshold: 0.39998, F-score: 0.875\n",
      "Beta: 2, Threshold: 0.13267, F-score: 0.932\n",
      "Beta: 3, Threshold: 0.07206, F-score: 0.963\n",
      "Beta: 4, Threshold: 0.0208, F-score: 0.977\n",
      "Beta: 5, Threshold: 0.00153, F-score: 0.985\n"
     ]
    }
   ],
   "source": [
    "for i in range(1,6):\n",
    "    score=fbeta_score(precision, recall, beta=i)\n",
    "    idx=np.argmax(score)\n",
    "    print('Beta: '+str(i)+', Threshold: '+str(np.round(threshold[idx], 5))+', F-score: '+str(np.round(score[idx],3)))"
   ]
  },
  {
   "cell_type": "code",
   "execution_count": 125,
   "id": "68a44f5f-f6e9-494e-8c2c-fa8b455bf157",
   "metadata": {},
   "outputs": [],
   "source": [
    "fscore=fbeta_score(precision, recall, beta=2)\n",
    "f_i=np.argmax(fscore)"
   ]
  },
  {
   "cell_type": "code",
   "execution_count": 126,
   "id": "de59609d-b106-4111-8a5b-5dda874b49b1",
   "metadata": {},
   "outputs": [
    {
     "data": {
      "image/png": "[encoded data removed]",
      "text/plain": [
       "<Figure size 432x432 with 1 Axes>"
      ]
     },
     "metadata": {},
     "output_type": "display_data"
    }
   ],
   "source": [
    "fig, ax=plt.subplots(figsize=(6,6))\n",
    "ax.plot(threshold, precision[1:], label='Precision')\n",
    "ax.plot(threshold, recall[1:], label='Recall')\n",
    "\n",
    "ax.set_xlabel('Threshold')\n",
    "ax.set_ylabel('Precision/Recall')\n",
    "ax.set_title('Precision/Recall vs. Threshold for Naive Bayes Classifier')\n",
    "\n",
    "ax.plot(threshold, fscore[1:], label='F-score')\n",
    "\n",
    "ax.axvline(threshold[f_i], linestyle='dashed', color='green')\n",
    "plt.text(threshold[f_i]*1.05, 0.455, 'Threshold: '+str(np.round(threshold[f_i], 3)), fontsize='small', backgroundcolor='honeydew')\n",
    "plt.text(threshold[f_i]*1.05, 0.385, 'Max F-score: '+str(np.round(fscore[f_i], 3)), fontsize='small', backgroundcolor='honeydew')\n",
    "\n",
    "ax.legend()\n",
    "plt.show()"
   ]
  },
  {
   "cell_type": "code",
   "execution_count": 127,
   "id": "b7eba83d-7f8a-4285-989c-4da8b1ef9361",
   "metadata": {
    "scrolled": true
   },
   "outputs": [
    {
     "data": {
      "image/png": "[encoded data removed]",
      "text/plain": [
       "<Figure size 432x432 with 2 Axes>"
      ]
     },
     "metadata": {},
     "output_type": "display_data"
    },
    {
     "name": "stdout",
     "output_type": "stream",
     "text": [
      "              precision    recall  f1-score   support\n",
      "\n",
      "           0       0.90      0.20      0.32      1128\n",
      "           1       0.75      0.99      0.86      2783\n",
      "\n",
      "    accuracy                           0.76      3911\n",
      "   macro avg       0.83      0.59      0.59      3911\n",
      "weighted avg       0.80      0.76      0.70      3911\n",
      "\n"
     ]
    }
   ],
   "source": [
    "new_threshold = threshold[f_i]\n",
    "\n",
    "y_pred = (y_pred_prob >= new_threshold).astype('int')\n",
    "fig, ax = plt.subplots(figsize=(6,6))\n",
    "cm=confusion_matrix(y_test, y_pred)\n",
    "disp=ConfusionMatrixDisplay(cm)\n",
    "disp.plot(ax=ax)\n",
    "plt.grid(False)\n",
    "plt.title('Confusion Matrix for threshold='+ str(np.round(new_threshold, 3))+ ', F-score='+str(np.round(fscore[f_i], 3)))\n",
    "plt.show()\n",
    "print(classification_report(y_test, y_pred))"
   ]
  },
  {
   "cell_type": "markdown",
   "id": "950be0c4",
   "metadata": {},
   "source": [
    "A recall of 0.2 for the #WhyILeft label is too low for this model to be useful. We set a threshold of 0.6 for this number."
   ]
  },
  {
   "cell_type": "code",
   "execution_count": 128,
   "id": "ed83e7df",
   "metadata": {},
   "outputs": [
    {
     "data": {
      "image/png": "[encoded data removed]",
      "text/plain": [
       "<Figure size 432x432 with 2 Axes>"
      ]
     },
     "metadata": {},
     "output_type": "display_data"
    },
    {
     "name": "stdout",
     "output_type": "stream",
     "text": [
      "              precision    recall  f1-score   support\n",
      "\n",
      "           0       0.75      0.50      0.60      1128\n",
      "           1       0.82      0.93      0.87      2783\n",
      "\n",
      "    accuracy                           0.81      3911\n",
      "   macro avg       0.78      0.71      0.73      3911\n",
      "weighted avg       0.80      0.81      0.79      3911\n",
      "\n"
     ]
    }
   ],
   "source": [
    "new_threshold = 0.45\n",
    "\n",
    "y_pred = (y_pred_prob >= new_threshold).astype('int')\n",
    "fig, ax = plt.subplots(figsize=(6,6))\n",
    "cm=confusion_matrix(y_test, y_pred)\n",
    "disp=ConfusionMatrixDisplay(cm)\n",
    "disp.plot(ax=ax)\n",
    "plt.grid(False)\n",
    "plt.title('Confusion Matrix for threshold='+ str(np.round(new_threshold, 3))+ ', F-score='+str(np.round(fscore[f_i], 3)))\n",
    "plt.show()\n",
    "print(classification_report(y_test, y_pred))"
   ]
  },
  {
   "cell_type": "code",
   "execution_count": 164,
   "id": "fec1d702",
   "metadata": {
    "scrolled": true
   },
   "outputs": [
    {
     "data": {
      "image/png": "[encoded data removed]",
      "text/plain": [
       "<Figure size 432x432 with 2 Axes>"
      ]
     },
     "metadata": {},
     "output_type": "display_data"
    },
    {
     "name": "stdout",
     "output_type": "stream",
     "text": [
      "              precision    recall  f1-score   support\n",
      "\n",
      "           0       0.67      0.60      0.63      1128\n",
      "           1       0.84      0.88      0.86      2783\n",
      "\n",
      "    accuracy                           0.80      3911\n",
      "   macro avg       0.76      0.74      0.75      3911\n",
      "weighted avg       0.79      0.80      0.80      3911\n",
      "\n"
     ]
    }
   ],
   "source": [
    "new_threshold = 0.56\n",
    "\n",
    "y_pred = (y_pred_prob >= new_threshold).astype('int')\n",
    "fig, ax = plt.subplots(figsize=(6,6))\n",
    "cm=confusion_matrix(y_test, y_pred)\n",
    "disp=ConfusionMatrixDisplay(cm)\n",
    "disp.plot(ax=ax)\n",
    "plt.grid(False)\n",
    "plt.title('Confusion Matrix for threshold='+ str(np.round(new_threshold, 3)))\n",
    "plt.show()\n",
    "print(classification_report(y_test, y_pred))"
   ]
  },
  {
   "cell_type": "code",
   "execution_count": 163,
   "id": "7d1ca9f9",
   "metadata": {
    "scrolled": true
   },
   "outputs": [
    {
     "data": {
      "image/png": "[encoded data removed]",
      "text/plain": [
       "<Figure size 432x432 with 1 Axes>"
      ]
     },
     "metadata": {},
     "output_type": "display_data"
    }
   ],
   "source": [
    "fig, ax=plt.subplots(figsize=(6,6))\n",
    "ax.plot(threshold, precision[1:], label='Precision')\n",
    "ax.plot(threshold, recall[1:], label='Recall')\n",
    "\n",
    "ax.set_xlabel('Threshold')\n",
    "ax.set_ylabel('Precision/Recall')\n",
    "ax.set_title('Precision/Recall vs. Threshold for Naive Bayes Classifier')\n",
    "\n",
    "ax.plot(threshold, fscore[1:], label='F-score')\n",
    "\n",
    "ax.axvline(new_threshold, linestyle='dashed', color='green')\n",
    "plt.text(new_threshold*1.05, 0.455, 'Threshold: '+str(0.56), fontsize='small', backgroundcolor='honeydew')\n",
    "\n",
    "ax.legend()\n",
    "plt.show()"
   ]
  }
 ],
 "metadata": {
  "kernelspec": {
   "display_name": "Python 3 (ipykernel)",
   "language": "python",
   "name": "python3"
  },
  "language_info": {
   "codemirror_mode": {
    "name": "ipython",
    "version": 3
   },
   "file_extension": ".py",
   "mimetype": "text/x-python",
   "name": "python",
   "nbconvert_exporter": "python",
   "pygments_lexer": "ipython3",
   "version": "3.9.13"
  },
  "toc": {
   "base_numbering": 1,
   "nav_menu": {},
   "number_sections": true,
   "sideBar": true,
   "skip_h1_title": false,
   "title_cell": "Table of Contents",
   "title_sidebar": "Contents",
   "toc_cell": true,
   "toc_position": {},
   "toc_section_display": true,
   "toc_window_display": true
  }
 },
 "nbformat": 4,
 "nbformat_minor": 5
}
