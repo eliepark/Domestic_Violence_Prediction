{
 "cells": [
  {
   "cell_type": "code",
   "execution_count": 1,
   "id": "7f6ca5fe-2076-4e71-9299-d89e7e960b9a",
   "metadata": {},
   "outputs": [],
   "source": [
    "import pandas as pd\n",
    "import numpy as np\n",
    "import matplotlib.pyplot as plt\n",
    "\n",
    "import warnings \n",
    "warnings.filterwarnings('ignore')"
   ]
  },
  {
   "cell_type": "markdown",
   "id": "6112f352-2495-4951-8bf1-5d9e17571342",
   "metadata": {
    "tags": []
   },
   "source": [
    "# Text Preprocessing"
   ]
  },
  {
   "cell_type": "code",
   "execution_count": 2,
   "id": "d350792c-0777-4009-898b-af13f63b323c",
   "metadata": {},
   "outputs": [],
   "source": [
    "tweets=pd.read_csv('tweets.csv')"
   ]
  },
  {
   "cell_type": "code",
   "execution_count": 3,
   "id": "ba633295-6085-4818-8643-8626817e9418",
   "metadata": {
    "tags": []
   },
   "outputs": [
    {
     "data": {
      "text/html": [
       "<div>\n",
       "<style scoped>\n",
       "    .dataframe tbody tr th:only-of-type {\n",
       "        vertical-align: middle;\n",
       "    }\n",
       "\n",
       "    .dataframe tbody tr th {\n",
       "        vertical-align: top;\n",
       "    }\n",
       "\n",
       "    .dataframe thead th {\n",
       "        text-align: right;\n",
       "    }\n",
       "</style>\n",
       "<table border=\"1\" class=\"dataframe\">\n",
       "  <thead>\n",
       "    <tr style=\"text-align: right;\">\n",
       "      <th></th>\n",
       "      <th>Unnamed: 0</th>\n",
       "      <th>post</th>\n",
       "      <th>label</th>\n",
       "    </tr>\n",
       "  </thead>\n",
       "  <tbody>\n",
       "    <tr>\n",
       "      <th>0</th>\n",
       "      <td>0</td>\n",
       "      <td>What Huffington Post Gets Wrong about #WhyISta...</td>\n",
       "      <td>#WhyIStayed</td>\n",
       "    </tr>\n",
       "    <tr>\n",
       "      <th>1</th>\n",
       "      <td>1</td>\n",
       "      <td>None</td>\n",
       "      <td>#WhyIStayed</td>\n",
       "    </tr>\n",
       "    <tr>\n",
       "      <th>2</th>\n",
       "      <td>2</td>\n",
       "      <td>if u ignore me , i'll ignore u . if u don't st...</td>\n",
       "      <td>#WhyIStayed</td>\n",
       "    </tr>\n",
       "    <tr>\n",
       "      <th>3</th>\n",
       "      <td>3</td>\n",
       "      <td>In #domesticViolence #Shelters the topic of #W...</td>\n",
       "      <td>#WhyIStayed</td>\n",
       "    </tr>\n",
       "    <tr>\n",
       "      <th>4</th>\n",
       "      <td>4</td>\n",
       "      <td>None</td>\n",
       "      <td>#WhyIStayed</td>\n",
       "    </tr>\n",
       "  </tbody>\n",
       "</table>\n",
       "</div>"
      ],
      "text/plain": [
       "   Unnamed: 0                                               post        label\n",
       "0           0  What Huffington Post Gets Wrong about #WhyISta...  #WhyIStayed\n",
       "1           1                                               None  #WhyIStayed\n",
       "2           2  if u ignore me , i'll ignore u . if u don't st...  #WhyIStayed\n",
       "3           3  In #domesticViolence #Shelters the topic of #W...  #WhyIStayed\n",
       "4           4                                               None  #WhyIStayed"
      ]
     },
     "execution_count": 3,
     "metadata": {},
     "output_type": "execute_result"
    }
   ],
   "source": [
    "tweets.head()"
   ]
  },
  {
   "cell_type": "code",
   "execution_count": 4,
   "id": "77505495-4f66-4e62-9fd0-12ba7eed54b6",
   "metadata": {},
   "outputs": [],
   "source": [
    "tweets.drop(columns='Unnamed: 0', inplace=True)"
   ]
  },
  {
   "cell_type": "code",
   "execution_count": 5,
   "id": "81752e92-ec98-4ac5-9de0-5c2bc1b7b1d2",
   "metadata": {},
   "outputs": [
    {
     "data": {
      "text/html": [
       "<div>\n",
       "<style scoped>\n",
       "    .dataframe tbody tr th:only-of-type {\n",
       "        vertical-align: middle;\n",
       "    }\n",
       "\n",
       "    .dataframe tbody tr th {\n",
       "        vertical-align: top;\n",
       "    }\n",
       "\n",
       "    .dataframe thead th {\n",
       "        text-align: right;\n",
       "    }\n",
       "</style>\n",
       "<table border=\"1\" class=\"dataframe\">\n",
       "  <thead>\n",
       "    <tr style=\"text-align: right;\">\n",
       "      <th></th>\n",
       "      <th>post</th>\n",
       "      <th>label</th>\n",
       "    </tr>\n",
       "  </thead>\n",
       "  <tbody>\n",
       "    <tr>\n",
       "      <th>0</th>\n",
       "      <td>What Huffington Post Gets Wrong about #WhyISta...</td>\n",
       "      <td>#WhyIStayed</td>\n",
       "    </tr>\n",
       "    <tr>\n",
       "      <th>1</th>\n",
       "      <td>None</td>\n",
       "      <td>#WhyIStayed</td>\n",
       "    </tr>\n",
       "    <tr>\n",
       "      <th>2</th>\n",
       "      <td>if u ignore me , i'll ignore u . if u don't st...</td>\n",
       "      <td>#WhyIStayed</td>\n",
       "    </tr>\n",
       "    <tr>\n",
       "      <th>3</th>\n",
       "      <td>In #domesticViolence #Shelters the topic of #W...</td>\n",
       "      <td>#WhyIStayed</td>\n",
       "    </tr>\n",
       "    <tr>\n",
       "      <th>4</th>\n",
       "      <td>None</td>\n",
       "      <td>#WhyIStayed</td>\n",
       "    </tr>\n",
       "  </tbody>\n",
       "</table>\n",
       "</div>"
      ],
      "text/plain": [
       "                                                post        label\n",
       "0  What Huffington Post Gets Wrong about #WhyISta...  #WhyIStayed\n",
       "1                                               None  #WhyIStayed\n",
       "2  if u ignore me , i'll ignore u . if u don't st...  #WhyIStayed\n",
       "3  In #domesticViolence #Shelters the topic of #W...  #WhyIStayed\n",
       "4                                               None  #WhyIStayed"
      ]
     },
     "execution_count": 5,
     "metadata": {},
     "output_type": "execute_result"
    }
   ],
   "source": [
    "tweets.head()"
   ]
  },
  {
   "cell_type": "code",
   "execution_count": 6,
   "id": "80964b98-3c42-45aa-8ca4-719a836075d3",
   "metadata": {},
   "outputs": [
    {
     "data": {
      "text/plain": [
       "(30377, 2)"
      ]
     },
     "execution_count": 6,
     "metadata": {},
     "output_type": "execute_result"
    }
   ],
   "source": [
    "tweets.shape"
   ]
  },
  {
   "cell_type": "code",
   "execution_count": 7,
   "id": "4e1a758f-6d54-49e5-a9cd-5378520d8707",
   "metadata": {},
   "outputs": [
    {
     "data": {
      "text/plain": [
       "False"
      ]
     },
     "execution_count": 7,
     "metadata": {},
     "output_type": "execute_result"
    }
   ],
   "source": [
    "#check for empty rows\n",
    "tweets.post.isna().any()"
   ]
  },
  {
   "cell_type": "code",
   "execution_count": 8,
   "id": "dae8400e-c636-4a4d-96db-1e29a2381c01",
   "metadata": {},
   "outputs": [
    {
     "data": {
      "text/plain": [
       "post  label      \n",
       "None  #WhyIStayed    7120\n",
       "      #WhyILeft      2786\n",
       "dtype: int64"
      ]
     },
     "execution_count": 8,
     "metadata": {},
     "output_type": "execute_result"
    }
   ],
   "source": [
    "tweets[tweets.post=='None'].value_counts()"
   ]
  },
  {
   "cell_type": "code",
   "execution_count": 9,
   "id": "1695abef-d222-4d79-ac06-c197411a706e",
   "metadata": {},
   "outputs": [],
   "source": [
    "df=tweets[tweets.post!='None'].reset_index(drop=True)"
   ]
  },
  {
   "cell_type": "code",
   "execution_count": 10,
   "id": "2309ecba-f6f0-487e-bffe-ae85602df87f",
   "metadata": {
    "tags": []
   },
   "outputs": [
    {
     "data": {
      "text/html": [
       "<div>\n",
       "<style scoped>\n",
       "    .dataframe tbody tr th:only-of-type {\n",
       "        vertical-align: middle;\n",
       "    }\n",
       "\n",
       "    .dataframe tbody tr th {\n",
       "        vertical-align: top;\n",
       "    }\n",
       "\n",
       "    .dataframe thead th {\n",
       "        text-align: right;\n",
       "    }\n",
       "</style>\n",
       "<table border=\"1\" class=\"dataframe\">\n",
       "  <thead>\n",
       "    <tr style=\"text-align: right;\">\n",
       "      <th></th>\n",
       "      <th>post</th>\n",
       "      <th>label</th>\n",
       "    </tr>\n",
       "  </thead>\n",
       "  <tbody>\n",
       "    <tr>\n",
       "      <th>0</th>\n",
       "      <td>What Huffington Post Gets Wrong about #WhyISta...</td>\n",
       "      <td>#WhyIStayed</td>\n",
       "    </tr>\n",
       "    <tr>\n",
       "      <th>1</th>\n",
       "      <td>if u ignore me , i'll ignore u . if u don't st...</td>\n",
       "      <td>#WhyIStayed</td>\n",
       "    </tr>\n",
       "    <tr>\n",
       "      <th>2</th>\n",
       "      <td>In #domesticViolence #Shelters the topic of #W...</td>\n",
       "      <td>#WhyIStayed</td>\n",
       "    </tr>\n",
       "    <tr>\n",
       "      <th>3</th>\n",
       "      <td>7 painful yrs later I accepted that possessio...</td>\n",
       "      <td>#WhyILeft</td>\n",
       "    </tr>\n",
       "    <tr>\n",
       "      <th>4</th>\n",
       "      <td>#WhyIStayed because I do believe people can ch...</td>\n",
       "      <td>#WhyIStayed</td>\n",
       "    </tr>\n",
       "  </tbody>\n",
       "</table>\n",
       "</div>"
      ],
      "text/plain": [
       "                                                post        label\n",
       "0  What Huffington Post Gets Wrong about #WhyISta...  #WhyIStayed\n",
       "1  if u ignore me , i'll ignore u . if u don't st...  #WhyIStayed\n",
       "2  In #domesticViolence #Shelters the topic of #W...  #WhyIStayed\n",
       "3   7 painful yrs later I accepted that possessio...    #WhyILeft\n",
       "4  #WhyIStayed because I do believe people can ch...  #WhyIStayed"
      ]
     },
     "execution_count": 10,
     "metadata": {},
     "output_type": "execute_result"
    }
   ],
   "source": [
    "df.head()"
   ]
  },
  {
   "cell_type": "markdown",
   "id": "12ae57f1-2bc6-4781-b067-a8f279cf64e5",
   "metadata": {
    "tags": []
   },
   "source": [
    "## Flesch reading scores"
   ]
  },
  {
   "cell_type": "code",
   "execution_count": 11,
   "id": "583a1ac7-aea2-4da2-8c9d-488977943f87",
   "metadata": {},
   "outputs": [],
   "source": [
    "import textstat"
   ]
  },
  {
   "cell_type": "code",
   "execution_count": 12,
   "id": "766447ff-f87b-4378-86ce-bbaf3b1c9f2c",
   "metadata": {},
   "outputs": [],
   "source": [
    "df['reading_score']=df.post.apply(textstat.flesch_reading_ease)"
   ]
  },
  {
   "cell_type": "code",
   "execution_count": 13,
   "id": "d4857657-4e76-4fa5-896c-34e365625d31",
   "metadata": {},
   "outputs": [
    {
     "data": {
      "text/plain": [
       "0    28.50\n",
       "1    87.72\n",
       "2    35.27\n",
       "3    74.19\n",
       "4    80.58\n",
       "Name: reading_score, dtype: float64"
      ]
     },
     "execution_count": 13,
     "metadata": {},
     "output_type": "execute_result"
    }
   ],
   "source": [
    "df.reading_score.head()"
   ]
  },
  {
   "cell_type": "markdown",
   "id": "44408320-6349-403b-b2e5-66d2f5077b84",
   "metadata": {
    "tags": []
   },
   "source": [
    "## Emojis"
   ]
  },
  {
   "cell_type": "code",
   "execution_count": 14,
   "id": "3cce7a6e-b29b-4bce-a972-13788aa9406a",
   "metadata": {},
   "outputs": [],
   "source": [
    "#replace emojis\n",
    "import demoji"
   ]
  },
  {
   "cell_type": "code",
   "execution_count": 15,
   "id": "81cf9205-ea6f-4b4b-83c7-0933d0425b0c",
   "metadata": {},
   "outputs": [],
   "source": [
    "emojis=df.post.apply(demoji.findall)"
   ]
  },
  {
   "cell_type": "code",
   "execution_count": 16,
   "id": "36b8b7f9-1928-40f6-aad5-069b9298727e",
   "metadata": {},
   "outputs": [
    {
     "data": {
      "text/plain": [
       "171                               {'🙌': 'raising hands'}\n",
       "195                               {'👊': 'oncoming fist'}\n",
       "290                                   {'👍': 'thumbs up'}\n",
       "315                                   {'👍': 'thumbs up'}\n",
       "406    {'😱': 'face screaming in fear', '😷': 'face wit...\n",
       "Name: post, dtype: object"
      ]
     },
     "execution_count": 16,
     "metadata": {},
     "output_type": "execute_result"
    }
   ],
   "source": [
    "emojis[emojis!={}].head()"
   ]
  },
  {
   "cell_type": "code",
   "execution_count": 17,
   "id": "5df975f2-676f-49c8-8ca2-145555e0fc7a",
   "metadata": {},
   "outputs": [
    {
     "data": {
      "text/plain": [
       "'See.... 😕😐😒 \"@KicksAddiction: 💀💀💀💀RT @MayaAngelouFRO: I JUST DIED #WhyIStayed http://t.co/JUlUB15irS“\"'"
      ]
     },
     "execution_count": 17,
     "metadata": {},
     "output_type": "execute_result"
    }
   ],
   "source": [
    "df.post[17107]"
   ]
  },
  {
   "cell_type": "code",
   "execution_count": 18,
   "id": "ca307d54-afbf-438b-9f6c-814ecc5158c5",
   "metadata": {},
   "outputs": [],
   "source": [
    "def replace_emoji(text):\n",
    "    emojis=demoji.findall(text)\n",
    "    for i in range(len(emojis)):\n",
    "        text=text.replace(list(emojis.keys())[i], ' emoji'+list(emojis.values())[i].replace(' ', '')+' ')\n",
    "        \n",
    "    return text"
   ]
  },
  {
   "cell_type": "code",
   "execution_count": 19,
   "id": "64a971f5-2d9f-490d-b59d-140c77ba17ea",
   "metadata": {},
   "outputs": [],
   "source": [
    "df['processed_post']=df.post.apply(replace_emoji)"
   ]
  },
  {
   "cell_type": "code",
   "execution_count": 20,
   "id": "6908fcbb-2f56-43a0-b216-2905e2badc22",
   "metadata": {},
   "outputs": [
    {
     "data": {
      "text/plain": [
       "'See....  emojiconfusedface  emojineutralface  emojiunamusedface  \"@KicksAddiction:  emojiskull  emojiskull  emojiskull  emojiskull RT @MayaAngelouFRO: I JUST DIED #WhyIStayed http://t.co/JUlUB15irS“\"'"
      ]
     },
     "execution_count": 20,
     "metadata": {},
     "output_type": "execute_result"
    }
   ],
   "source": [
    "df.processed_post[17107]"
   ]
  },
  {
   "cell_type": "code",
   "execution_count": 21,
   "id": "7e55a286-a16a-4ad5-a62c-a20168d3eb6e",
   "metadata": {},
   "outputs": [],
   "source": [
    "df['emojis']=df.processed_post.apply(lambda x: x.count('emoji'))"
   ]
  },
  {
   "cell_type": "code",
   "execution_count": 22,
   "id": "18afa810-e762-4967-bc2a-0c6ab9571952",
   "metadata": {},
   "outputs": [
    {
     "data": {
      "text/plain": [
       "7"
      ]
     },
     "execution_count": 22,
     "metadata": {},
     "output_type": "execute_result"
    }
   ],
   "source": [
    "df.emojis[17107]"
   ]
  },
  {
   "cell_type": "code",
   "execution_count": 23,
   "id": "f871202a-791b-4c3d-b516-5066486849b7",
   "metadata": {},
   "outputs": [
    {
     "data": {
      "text/plain": [
       "0    0.989790\n",
       "1    0.006595\n",
       "2    0.002296\n",
       "3    0.000977\n",
       "4    0.000147\n",
       "5    0.000098\n",
       "6    0.000049\n",
       "7    0.000049\n",
       "Name: emojis, dtype: float64"
      ]
     },
     "execution_count": 23,
     "metadata": {},
     "output_type": "execute_result"
    }
   ],
   "source": [
    "df.emojis.value_counts(normalize=True)"
   ]
  },
  {
   "cell_type": "markdown",
   "id": "44db4d51-bce0-4935-b46d-bfccdc042b2b",
   "metadata": {
    "tags": []
   },
   "source": [
    "## Mentions and hashtags"
   ]
  },
  {
   "cell_type": "code",
   "execution_count": 24,
   "id": "746c5cdc-5ecb-46d8-94c5-d27e6f2a88aa",
   "metadata": {},
   "outputs": [],
   "source": [
    "import re"
   ]
  },
  {
   "cell_type": "code",
   "execution_count": 25,
   "id": "096b16a3-fae9-43ea-b80d-d42e91e978d1",
   "metadata": {},
   "outputs": [],
   "source": [
    "#preserve the number of mentions\n",
    "df['mentions']=df.processed_post.apply(lambda x: x.count('@'))"
   ]
  },
  {
   "cell_type": "code",
   "execution_count": 26,
   "id": "eb1376c6-b4a4-4164-b858-659789c2d01d",
   "metadata": {},
   "outputs": [
    {
     "data": {
      "text/plain": [
       "\"AMEN! RT @rascality: r @Sil_Lai: #WhyILeft B/C I didn't want my kids growing up thinking that violence was normal in relationships.\""
      ]
     },
     "execution_count": 26,
     "metadata": {},
     "output_type": "execute_result"
    }
   ],
   "source": [
    "df.processed_post[24]"
   ]
  },
  {
   "cell_type": "code",
   "execution_count": 27,
   "id": "0b26ce3f-c5e4-455c-900a-89fd88dfa0a1",
   "metadata": {},
   "outputs": [],
   "source": [
    "df.processed_post=df.processed_post.apply(lambda x: re.sub(r\"(?:\\@|#)\\S+\", \"\", x))"
   ]
  },
  {
   "cell_type": "code",
   "execution_count": 28,
   "id": "77ff6b9a-a573-47ab-a868-2cdfe057db8a",
   "metadata": {},
   "outputs": [
    {
     "data": {
      "text/plain": [
       "\"AMEN! RT  r   B/C I didn't want my kids growing up thinking that violence was normal in relationships.\""
      ]
     },
     "execution_count": 28,
     "metadata": {},
     "output_type": "execute_result"
    }
   ],
   "source": [
    "df.processed_post[24]"
   ]
  },
  {
   "cell_type": "markdown",
   "id": "17951ff8-8290-45f5-b8c6-d8ef95c1619d",
   "metadata": {},
   "source": [
    "## Number of capital letters"
   ]
  },
  {
   "cell_type": "code",
   "execution_count": 29,
   "id": "3b203dc1-a18a-4677-85c5-5c00859aa29b",
   "metadata": {},
   "outputs": [
    {
     "name": "stdout",
     "output_type": "stream",
     "text": [
      "661     ?\n",
      "Name: post, dtype: object\n",
      "1130    .\n",
      "5894    .\n",
      "6728    .\n",
      "Name: post, dtype: object\n",
      "Series([], Name: post, dtype: object)\n",
      "Series([], Name: post, dtype: object)\n",
      "7037    !\n",
      "Name: post, dtype: object\n",
      "8130         #wemustdobetter\n",
      "14587     #aliveandbreathing\n",
      "Name: post, dtype: object\n",
      "13462     .....\n",
      "Name: post, dtype: object\n",
      "Series([], Name: post, dtype: object)\n",
      "18644    \"\n",
      "Name: post, dtype: object\n"
     ]
    }
   ],
   "source": [
    "#drop rows with only symbols\n",
    "for post in df.processed_post:\n",
    "    text = ''.join(list(filter(str.isalpha,post)))\n",
    "    if len(text)==0:\n",
    "        print(df[df.processed_post==post].post)\n",
    "        df=df.drop(index=df[df.processed_post==post].index).reset_index(drop=True)"
   ]
  },
  {
   "cell_type": "code",
   "execution_count": 30,
   "id": "814a6b44-8042-4834-8894-055a91d31621",
   "metadata": {},
   "outputs": [
    {
     "data": {
      "text/plain": [
       "(20462, 6)"
      ]
     },
     "execution_count": 30,
     "metadata": {},
     "output_type": "execute_result"
    }
   ],
   "source": [
    "df.shape"
   ]
  },
  {
   "cell_type": "code",
   "execution_count": 31,
   "id": "941434d0-c1fb-4359-94bc-60ef87bfa109",
   "metadata": {},
   "outputs": [],
   "source": [
    "def num_caps(text):\n",
    "    text = ''.join(list(filter(str.isalpha,text)))\n",
    "    return sum([ch.isupper() for ch in text])/len(text)\n",
    "\n",
    "df['caps']=df.processed_post.apply(num_caps)"
   ]
  },
  {
   "cell_type": "code",
   "execution_count": 32,
   "id": "9512c2ac-b753-4228-ba77-56e31989ae0e",
   "metadata": {},
   "outputs": [
    {
     "data": {
      "text/plain": [
       "count    20462.000000\n",
       "mean         0.057817\n",
       "std          0.076445\n",
       "min          0.000000\n",
       "25%          0.021053\n",
       "50%          0.037210\n",
       "75%          0.064516\n",
       "max          1.000000\n",
       "Name: caps, dtype: float64"
      ]
     },
     "execution_count": 32,
     "metadata": {},
     "output_type": "execute_result"
    }
   ],
   "source": [
    "df.caps.describe()"
   ]
  },
  {
   "cell_type": "code",
   "execution_count": 33,
   "id": "be2db905-e447-4f58-95fe-435fad450503",
   "metadata": {},
   "outputs": [
    {
     "data": {
      "text/html": [
       "<div>\n",
       "<style scoped>\n",
       "    .dataframe tbody tr th:only-of-type {\n",
       "        vertical-align: middle;\n",
       "    }\n",
       "\n",
       "    .dataframe tbody tr th {\n",
       "        vertical-align: top;\n",
       "    }\n",
       "\n",
       "    .dataframe thead th {\n",
       "        text-align: right;\n",
       "    }\n",
       "</style>\n",
       "<table border=\"1\" class=\"dataframe\">\n",
       "  <thead>\n",
       "    <tr style=\"text-align: right;\">\n",
       "      <th></th>\n",
       "      <th>post</th>\n",
       "      <th>label</th>\n",
       "      <th>reading_score</th>\n",
       "      <th>processed_post</th>\n",
       "      <th>emojis</th>\n",
       "      <th>mentions</th>\n",
       "      <th>caps</th>\n",
       "    </tr>\n",
       "  </thead>\n",
       "  <tbody>\n",
       "    <tr>\n",
       "      <th>461</th>\n",
       "      <td>YES</td>\n",
       "      <td>#WhyILeft</td>\n",
       "      <td>121.22</td>\n",
       "      <td>YES</td>\n",
       "      <td>0</td>\n",
       "      <td>0</td>\n",
       "      <td>1.0</td>\n",
       "    </tr>\n",
       "    <tr>\n",
       "      <th>1335</th>\n",
       "      <td>I WOKE UP!!</td>\n",
       "      <td>#WhyILeft</td>\n",
       "      <td>119.19</td>\n",
       "      <td>I WOKE UP!!</td>\n",
       "      <td>0</td>\n",
       "      <td>0</td>\n",
       "      <td>1.0</td>\n",
       "    </tr>\n",
       "    <tr>\n",
       "      <th>2275</th>\n",
       "      <td>#whyistayed\\nTHE MONEEEEE…..!</td>\n",
       "      <td>#WhyIStayed</td>\n",
       "      <td>34.59</td>\n",
       "      <td>\\nTHE MONEEEEE…..!</td>\n",
       "      <td>0</td>\n",
       "      <td>0</td>\n",
       "      <td>1.0</td>\n",
       "    </tr>\n",
       "    <tr>\n",
       "      <th>2898</th>\n",
       "      <td>#WhyIStayed I STAYED I GOT BEAT,RAPED, AND MEN...</td>\n",
       "      <td>#WhyIStayed</td>\n",
       "      <td>54.22</td>\n",
       "      <td>I STAYED I GOT BEAT,RAPED, AND MENTALLY TORN ...</td>\n",
       "      <td>0</td>\n",
       "      <td>0</td>\n",
       "      <td>1.0</td>\n",
       "    </tr>\n",
       "    <tr>\n",
       "      <th>4232</th>\n",
       "      <td>RAN OUTTA FOOD</td>\n",
       "      <td>#WhyILeft</td>\n",
       "      <td>93.81</td>\n",
       "      <td>RAN OUTTA FOOD</td>\n",
       "      <td>0</td>\n",
       "      <td>0</td>\n",
       "      <td>1.0</td>\n",
       "    </tr>\n",
       "  </tbody>\n",
       "</table>\n",
       "</div>"
      ],
      "text/plain": [
       "                                                   post        label  \\\n",
       "461                                                YES     #WhyILeft   \n",
       "1335                                        I WOKE UP!!    #WhyILeft   \n",
       "2275                      #whyistayed\\nTHE MONEEEEE…..!  #WhyIStayed   \n",
       "2898  #WhyIStayed I STAYED I GOT BEAT,RAPED, AND MEN...  #WhyIStayed   \n",
       "4232                                     RAN OUTTA FOOD    #WhyILeft   \n",
       "\n",
       "      reading_score                                     processed_post  \\\n",
       "461          121.22                                               YES    \n",
       "1335         119.19                                        I WOKE UP!!   \n",
       "2275          34.59                                 \\nTHE MONEEEEE…..!   \n",
       "2898          54.22   I STAYED I GOT BEAT,RAPED, AND MENTALLY TORN ...   \n",
       "4232          93.81                                     RAN OUTTA FOOD   \n",
       "\n",
       "      emojis  mentions  caps  \n",
       "461        0         0   1.0  \n",
       "1335       0         0   1.0  \n",
       "2275       0         0   1.0  \n",
       "2898       0         0   1.0  \n",
       "4232       0         0   1.0  "
      ]
     },
     "execution_count": 33,
     "metadata": {},
     "output_type": "execute_result"
    }
   ],
   "source": [
    "df[df.caps==1.0].head()"
   ]
  },
  {
   "cell_type": "markdown",
   "id": "902d9122-5a9d-40b7-8c06-5c19cd8d8b69",
   "metadata": {},
   "source": [
    "## Drop duplicates (1)"
   ]
  },
  {
   "cell_type": "code",
   "execution_count": 34,
   "id": "c76fd4f4-bd00-4a53-8302-7add30b6c270",
   "metadata": {},
   "outputs": [
    {
     "data": {
      "text/plain": [
       "False    20214\n",
       "True       248\n",
       "Name: processed_post, dtype: int64"
      ]
     },
     "execution_count": 34,
     "metadata": {},
     "output_type": "execute_result"
    }
   ],
   "source": [
    "df.processed_post.duplicated().value_counts()"
   ]
  },
  {
   "cell_type": "code",
   "execution_count": 35,
   "id": "249e8bd7-eb4b-474b-81df-b9488e612c6c",
   "metadata": {},
   "outputs": [
    {
     "data": {
      "text/html": [
       "<div>\n",
       "<style scoped>\n",
       "    .dataframe tbody tr th:only-of-type {\n",
       "        vertical-align: middle;\n",
       "    }\n",
       "\n",
       "    .dataframe tbody tr th {\n",
       "        vertical-align: top;\n",
       "    }\n",
       "\n",
       "    .dataframe thead th {\n",
       "        text-align: right;\n",
       "    }\n",
       "</style>\n",
       "<table border=\"1\" class=\"dataframe\">\n",
       "  <thead>\n",
       "    <tr style=\"text-align: right;\">\n",
       "      <th></th>\n",
       "      <th>post</th>\n",
       "      <th>label</th>\n",
       "      <th>reading_score</th>\n",
       "      <th>processed_post</th>\n",
       "      <th>emojis</th>\n",
       "      <th>mentions</th>\n",
       "      <th>caps</th>\n",
       "    </tr>\n",
       "  </thead>\n",
       "  <tbody>\n",
       "    <tr>\n",
       "      <th>854</th>\n",
       "      <td>@doree_anne Check this out and please #RT: htt...</td>\n",
       "      <td>#WhyIStayed</td>\n",
       "      <td>31.04</td>\n",
       "      <td>Check this out and please  http://t.co/IC9kmd...</td>\n",
       "      <td>0</td>\n",
       "      <td>1</td>\n",
       "      <td>0.135135</td>\n",
       "    </tr>\n",
       "    <tr>\n",
       "      <th>1023</th>\n",
       "      <td>@Chickee Check this out and please #RT: http:/...</td>\n",
       "      <td>#WhyIStayed</td>\n",
       "      <td>14.12</td>\n",
       "      <td>Check this out and please  http://t.co/IC9kmd...</td>\n",
       "      <td>0</td>\n",
       "      <td>1</td>\n",
       "      <td>0.135135</td>\n",
       "    </tr>\n",
       "    <tr>\n",
       "      <th>1324</th>\n",
       "      <td>via: Girl's Gone Chi - #WhyIStayed and RAISING...</td>\n",
       "      <td>#WhyIStayed</td>\n",
       "      <td>43.39</td>\n",
       "      <td>via: Girl's Gone Chi -  and RAISING respectful...</td>\n",
       "      <td>0</td>\n",
       "      <td>0</td>\n",
       "      <td>0.245283</td>\n",
       "    </tr>\n",
       "    <tr>\n",
       "      <th>1399</th>\n",
       "      <td>@drrachael My interview with @RdLghtSprtsNtwk ...</td>\n",
       "      <td>#WhyIStayed</td>\n",
       "      <td>-8.39</td>\n",
       "      <td>My interview with  Jessica Lynn Solsona    \\n...</td>\n",
       "      <td>0</td>\n",
       "      <td>2</td>\n",
       "      <td>0.104167</td>\n",
       "    </tr>\n",
       "    <tr>\n",
       "      <th>2333</th>\n",
       "      <td>1 in 3 women &amp;amp; 1 in 7 men can answer #WhyI...</td>\n",
       "      <td>#WhyILeft</td>\n",
       "      <td>68.26</td>\n",
       "      <td>1 in 3 women &amp;amp; 1 in 7 men can answer  &amp;amp...</td>\n",
       "      <td>0</td>\n",
       "      <td>1</td>\n",
       "      <td>0.017544</td>\n",
       "    </tr>\n",
       "  </tbody>\n",
       "</table>\n",
       "</div>"
      ],
      "text/plain": [
       "                                                   post        label  \\\n",
       "854   @doree_anne Check this out and please #RT: htt...  #WhyIStayed   \n",
       "1023  @Chickee Check this out and please #RT: http:/...  #WhyIStayed   \n",
       "1324  via: Girl's Gone Chi - #WhyIStayed and RAISING...  #WhyIStayed   \n",
       "1399  @drrachael My interview with @RdLghtSprtsNtwk ...  #WhyIStayed   \n",
       "2333  1 in 3 women &amp; 1 in 7 men can answer #WhyI...    #WhyILeft   \n",
       "\n",
       "      reading_score                                     processed_post  \\\n",
       "854           31.04   Check this out and please  http://t.co/IC9kmd...   \n",
       "1023          14.12   Check this out and please  http://t.co/IC9kmd...   \n",
       "1324          43.39  via: Girl's Gone Chi -  and RAISING respectful...   \n",
       "1399          -8.39   My interview with  Jessica Lynn Solsona    \\n...   \n",
       "2333          68.26  1 in 3 women &amp; 1 in 7 men can answer  &amp...   \n",
       "\n",
       "      emojis  mentions      caps  \n",
       "854        0         1  0.135135  \n",
       "1023       0         1  0.135135  \n",
       "1324       0         0  0.245283  \n",
       "1399       0         2  0.104167  \n",
       "2333       0         1  0.017544  "
      ]
     },
     "execution_count": 35,
     "metadata": {},
     "output_type": "execute_result"
    }
   ],
   "source": [
    "df[df.processed_post.duplicated()].head()"
   ]
  },
  {
   "cell_type": "code",
   "execution_count": 36,
   "id": "7f25079e-783e-498b-84c0-22ada5cae3c8",
   "metadata": {},
   "outputs": [],
   "source": [
    "df=df.drop_duplicates(subset=['processed_post'])\n",
    "df=df.reset_index(drop=True)"
   ]
  },
  {
   "cell_type": "code",
   "execution_count": 37,
   "id": "98d5ac0b-fc0b-4f9f-a722-5b597e4a4161",
   "metadata": {},
   "outputs": [
    {
     "data": {
      "text/plain": [
       "(20214, 7)"
      ]
     },
     "execution_count": 37,
     "metadata": {},
     "output_type": "execute_result"
    }
   ],
   "source": [
    "df.shape"
   ]
  },
  {
   "cell_type": "markdown",
   "id": "5c1a8807-b34b-4528-87e6-3af79ec996b2",
   "metadata": {},
   "source": [
    "## Tokenization"
   ]
  },
  {
   "cell_type": "code",
   "execution_count": 38,
   "id": "944e50d5-0b84-45a8-9f2b-29b826d89503",
   "metadata": {},
   "outputs": [],
   "source": [
    "from urllib.parse import urlparse\n",
    "import re\n",
    "from nltk.corpus import stopwords\n",
    "from nltk.tokenize import word_tokenize\n",
    "import string\n",
    "from nltk.stem import WordNetLemmatizer\n",
    "\n",
    "#create a function to preprocess text\n",
    "def preprocessing(text, option='none'):\n",
    "    \n",
    "    #remove square brackets first before standardizing url so we avoid the error 'Invalid IPv6 URL'\n",
    "    s=re.sub(r'[[\\]]', ' ', text)\n",
    "    \n",
    "    #standardize urls\n",
    "    urlscan=re.findall(r'(https?://[^\\s]+)', s)\n",
    "    if urlscan:\n",
    "        for i in range(len(urlscan)):\n",
    "            url=urlparse(urlscan[i]).netloc\n",
    "            s=s.replace(urlscan[i], 'url'+url.split('.')[1])\n",
    "    \n",
    "    #convert to lowercase\n",
    "    s=s.lower()\n",
    "    \n",
    "    #remove numbers\n",
    "    s=re.sub(r'\\d+', ' ', s)\n",
    "\n",
    "    #remove punctuation\n",
    "    s=s.translate(str.maketrans(string.punctuation, ' '*len(string.punctuation)))\n",
    "\n",
    "    if option=='char':\n",
    "        return len(s) #preserve character count\n",
    "    \n",
    "    #remove stop words\n",
    "    tokens=word_tokenize(s)\n",
    "    \n",
    "    if option=='word':\n",
    "        return len(tokens) #preserve word count\n",
    "    \n",
    "    if option=='none':\n",
    "        sw=stopwords.words('english')+['ive', 'since', 'cant', 'he', 'thing', 'ago', 'also', 'dont', \\\n",
    "                                   'hes', 'shes', 'u', 'going', 'like', 'one', 'two', 'got', 'get', 'whyileft', \\\n",
    "                                       'whyistayed', 'ht', 'think', 'said', 'see', 'saw', 'felt', 'feel', 'else', \\\n",
    "                                      'shld', 'should', 'would', 'could', 'thought', 'go', 'ok', 'stuff', 'lt', 'rt', \\\n",
    "                                      'still', 'make', 'made', 'find', 'found', 'tell', 'told'] #https://www.merriam-webster.com/words-at-play/what-does-ht-mean-on-twitter\n",
    "        sw.remove('again')\n",
    "        result=[word for word in tokens if word not in sw]\n",
    "    \n",
    "        #lemmatization\n",
    "        lem=WordNetLemmatizer()\n",
    "        s=' '.join([lem.lemmatize(word) for word in result])\n",
    "        \n",
    "        return s"
   ]
  },
  {
   "cell_type": "code",
   "execution_count": 39,
   "id": "bee7e73d-616d-43da-aee1-15c988e3fbc3",
   "metadata": {},
   "outputs": [],
   "source": [
    "df['tokens']=df.processed_post.apply(preprocessing)"
   ]
  },
  {
   "cell_type": "code",
   "execution_count": 40,
   "id": "e3a349a2-8719-4512-ade5-c9af7f20ce48",
   "metadata": {},
   "outputs": [
    {
     "data": {
      "text/html": [
       "<div>\n",
       "<style scoped>\n",
       "    .dataframe tbody tr th:only-of-type {\n",
       "        vertical-align: middle;\n",
       "    }\n",
       "\n",
       "    .dataframe tbody tr th {\n",
       "        vertical-align: top;\n",
       "    }\n",
       "\n",
       "    .dataframe thead th {\n",
       "        text-align: right;\n",
       "    }\n",
       "</style>\n",
       "<table border=\"1\" class=\"dataframe\">\n",
       "  <thead>\n",
       "    <tr style=\"text-align: right;\">\n",
       "      <th></th>\n",
       "      <th>post</th>\n",
       "      <th>label</th>\n",
       "      <th>reading_score</th>\n",
       "      <th>processed_post</th>\n",
       "      <th>emojis</th>\n",
       "      <th>mentions</th>\n",
       "      <th>caps</th>\n",
       "      <th>tokens</th>\n",
       "    </tr>\n",
       "  </thead>\n",
       "  <tbody>\n",
       "    <tr>\n",
       "      <th>268</th>\n",
       "      <td>#WhyIStayed I thought she was the only one for me</td>\n",
       "      <td>#WhyIStayed</td>\n",
       "      <td>86.71</td>\n",
       "      <td>I thought she was the only one for me</td>\n",
       "      <td>0</td>\n",
       "      <td>0</td>\n",
       "      <td>0.034483</td>\n",
       "      <td></td>\n",
       "    </tr>\n",
       "    <tr>\n",
       "      <th>632</th>\n",
       "      <td>@Keelodre but only a few of #whyileft</td>\n",
       "      <td>#WhyILeft</td>\n",
       "      <td>81.29</td>\n",
       "      <td>but only a few of</td>\n",
       "      <td>0</td>\n",
       "      <td>1</td>\n",
       "      <td>0.000000</td>\n",
       "      <td></td>\n",
       "    </tr>\n",
       "    <tr>\n",
       "      <th>635</th>\n",
       "      <td>It does.</td>\n",
       "      <td>#WhyILeft</td>\n",
       "      <td>120.21</td>\n",
       "      <td>It does.</td>\n",
       "      <td>0</td>\n",
       "      <td>0</td>\n",
       "      <td>0.166667</td>\n",
       "      <td></td>\n",
       "    </tr>\n",
       "    <tr>\n",
       "      <th>733</th>\n",
       "      <td>I thought he was all I had #whyIstayed</td>\n",
       "      <td>#WhyIStayed</td>\n",
       "      <td>88.74</td>\n",
       "      <td>I thought he was all I had</td>\n",
       "      <td>0</td>\n",
       "      <td>0</td>\n",
       "      <td>0.100000</td>\n",
       "      <td></td>\n",
       "    </tr>\n",
       "    <tr>\n",
       "      <th>763</th>\n",
       "      <td>Because I had to!</td>\n",
       "      <td>#WhyILeft</td>\n",
       "      <td>92.80</td>\n",
       "      <td>Because I had to!</td>\n",
       "      <td>0</td>\n",
       "      <td>0</td>\n",
       "      <td>0.153846</td>\n",
       "      <td></td>\n",
       "    </tr>\n",
       "  </tbody>\n",
       "</table>\n",
       "</div>"
      ],
      "text/plain": [
       "                                                  post        label  \\\n",
       "268  #WhyIStayed I thought she was the only one for me  #WhyIStayed   \n",
       "632              @Keelodre but only a few of #whyileft    #WhyILeft   \n",
       "635                                           It does.    #WhyILeft   \n",
       "733             I thought he was all I had #whyIstayed  #WhyIStayed   \n",
       "763                                  Because I had to!    #WhyILeft   \n",
       "\n",
       "     reading_score                          processed_post  emojis  mentions  \\\n",
       "268          86.71   I thought she was the only one for me       0         0   \n",
       "632          81.29                      but only a few of        0         1   \n",
       "635         120.21                                It does.       0         0   \n",
       "733          88.74             I thought he was all I had        0         0   \n",
       "763          92.80                       Because I had to!       0         0   \n",
       "\n",
       "         caps tokens  \n",
       "268  0.034483         \n",
       "632  0.000000         \n",
       "635  0.166667         \n",
       "733  0.100000         \n",
       "763  0.153846         "
      ]
     },
     "execution_count": 40,
     "metadata": {},
     "output_type": "execute_result"
    }
   ],
   "source": [
    "df[df.tokens==''].head()"
   ]
  },
  {
   "cell_type": "code",
   "execution_count": 41,
   "id": "5d186ff3-7228-4620-af59-222a81053224",
   "metadata": {},
   "outputs": [],
   "source": [
    "df=df[df.tokens!='']\n",
    "df=df.reset_index(drop=True)"
   ]
  },
  {
   "cell_type": "code",
   "execution_count": 42,
   "id": "a1fdf907-ced5-455b-9d92-a5283dfc7714",
   "metadata": {},
   "outputs": [],
   "source": [
    "df['num_tokens']=df.tokens.str.split(' ').apply(len)"
   ]
  },
  {
   "cell_type": "code",
   "execution_count": 43,
   "id": "2666ed12-1c2a-48d3-88c9-0a1e95628532",
   "metadata": {},
   "outputs": [
    {
     "data": {
      "text/html": [
       "<div>\n",
       "<style scoped>\n",
       "    .dataframe tbody tr th:only-of-type {\n",
       "        vertical-align: middle;\n",
       "    }\n",
       "\n",
       "    .dataframe tbody tr th {\n",
       "        vertical-align: top;\n",
       "    }\n",
       "\n",
       "    .dataframe thead th {\n",
       "        text-align: right;\n",
       "    }\n",
       "</style>\n",
       "<table border=\"1\" class=\"dataframe\">\n",
       "  <thead>\n",
       "    <tr style=\"text-align: right;\">\n",
       "      <th></th>\n",
       "      <th>post</th>\n",
       "      <th>label</th>\n",
       "      <th>reading_score</th>\n",
       "      <th>processed_post</th>\n",
       "      <th>emojis</th>\n",
       "      <th>mentions</th>\n",
       "      <th>caps</th>\n",
       "      <th>tokens</th>\n",
       "      <th>num_tokens</th>\n",
       "    </tr>\n",
       "  </thead>\n",
       "  <tbody>\n",
       "  </tbody>\n",
       "</table>\n",
       "</div>"
      ],
      "text/plain": [
       "Empty DataFrame\n",
       "Columns: [post, label, reading_score, processed_post, emojis, mentions, caps, tokens, num_tokens]\n",
       "Index: []"
      ]
     },
     "execution_count": 43,
     "metadata": {},
     "output_type": "execute_result"
    }
   ],
   "source": [
    "df[df.num_tokens==0] #double check for empty tokens"
   ]
  },
  {
   "cell_type": "code",
   "execution_count": 44,
   "id": "8177591c-ff49-4e30-a178-98c833719286",
   "metadata": {},
   "outputs": [
    {
     "data": {
      "text/plain": [
       "(20131, 9)"
      ]
     },
     "execution_count": 44,
     "metadata": {},
     "output_type": "execute_result"
    }
   ],
   "source": [
    "df.shape"
   ]
  },
  {
   "cell_type": "markdown",
   "id": "c9dbf377-b211-4870-8369-697a94e68ee2",
   "metadata": {},
   "source": [
    "## Drop duplicates (2)"
   ]
  },
  {
   "cell_type": "markdown",
   "id": "f24f3a54-d71f-4858-8d9a-56ced59488c5",
   "metadata": {},
   "source": [
    "Duplicates are often of urls - if we run the model without replacing them, we end up with the tokens *steroid*, *laden*, and *glorifying* being in the top 10 most predictive words. In order to avoid this, we find all duplicated posts containing urls.\n",
    "\n",
    "We will use the token *steroid* to check if the algorithm worked."
   ]
  },
  {
   "cell_type": "code",
   "execution_count": 45,
   "id": "8a73dcc8-8662-4465-8a8b-c8957f6c289f",
   "metadata": {},
   "outputs": [
    {
     "data": {
      "text/plain": [
       "4194     @NPRMichel Why This Abuse Victim Wants The Wor...\n",
       "4205     .@nprnews Why This Abuse Victim Wants The Worl...\n",
       "4674     .@nprmichel #whyIleft\\n This Abuse Victim Want...\n",
       "6426     Why This Abuse Victim Wants The World To Stop ...\n",
       "7168     .@SenGillibrand @huffpost50 Why This Abuse Vic...\n",
       "12557    Why This Abuse Victim Wants The World To Stop ...\n",
       "Name: post, dtype: object"
      ]
     },
     "execution_count": 45,
     "metadata": {},
     "output_type": "execute_result"
    }
   ],
   "source": [
    "df[df.tokens.str.contains('steroid')].post"
   ]
  },
  {
   "cell_type": "code",
   "execution_count": 46,
   "id": "619601c6-be8c-4aa0-a0bd-96045b5f5121",
   "metadata": {},
   "outputs": [],
   "source": [
    "url_df=df[df.tokens.str.contains('url')].reset_index()"
   ]
  },
  {
   "cell_type": "code",
   "execution_count": 47,
   "id": "a46d78c1-b64b-4c81-aa6d-f797fbc05c13",
   "metadata": {},
   "outputs": [
    {
     "data": {
      "text/html": [
       "<div>\n",
       "<style scoped>\n",
       "    .dataframe tbody tr th:only-of-type {\n",
       "        vertical-align: middle;\n",
       "    }\n",
       "\n",
       "    .dataframe tbody tr th {\n",
       "        vertical-align: top;\n",
       "    }\n",
       "\n",
       "    .dataframe thead th {\n",
       "        text-align: right;\n",
       "    }\n",
       "</style>\n",
       "<table border=\"1\" class=\"dataframe\">\n",
       "  <thead>\n",
       "    <tr style=\"text-align: right;\">\n",
       "      <th></th>\n",
       "      <th>index</th>\n",
       "      <th>post</th>\n",
       "      <th>label</th>\n",
       "      <th>reading_score</th>\n",
       "      <th>processed_post</th>\n",
       "      <th>emojis</th>\n",
       "      <th>mentions</th>\n",
       "      <th>caps</th>\n",
       "      <th>tokens</th>\n",
       "      <th>num_tokens</th>\n",
       "    </tr>\n",
       "  </thead>\n",
       "  <tbody>\n",
       "    <tr>\n",
       "      <th>0</th>\n",
       "      <td>0</td>\n",
       "      <td>What Huffington Post Gets Wrong about #WhyISta...</td>\n",
       "      <td>#WhyIStayed</td>\n",
       "      <td>28.50</td>\n",
       "      <td>What Huffington Post Gets Wrong about  http://...</td>\n",
       "      <td>0</td>\n",
       "      <td>0</td>\n",
       "      <td>0.166667</td>\n",
       "      <td>huffington post get wrong urlco</td>\n",
       "      <td>5</td>\n",
       "    </tr>\n",
       "    <tr>\n",
       "      <th>1</th>\n",
       "      <td>2</td>\n",
       "      <td>In #domesticViolence #Shelters the topic of #W...</td>\n",
       "      <td>#WhyIStayed</td>\n",
       "      <td>35.27</td>\n",
       "      <td>In   the topic of  is core 2many discussions H...</td>\n",
       "      <td>0</td>\n",
       "      <td>0</td>\n",
       "      <td>0.128571</td>\n",
       "      <td>topic core many discussion r reason urlco</td>\n",
       "      <td>7</td>\n",
       "    </tr>\n",
       "    <tr>\n",
       "      <th>2</th>\n",
       "      <td>7</td>\n",
       "      <td>Watch \"Portrait of Abuse: An American Epidemic...</td>\n",
       "      <td>#WhyIStayed</td>\n",
       "      <td>-1.80</td>\n",
       "      <td>Watch \"Portrait of Abuse: An American Epidemic...</td>\n",
       "      <td>0</td>\n",
       "      <td>0</td>\n",
       "      <td>0.203704</td>\n",
       "      <td>watch portrait abuse american epidemic urlco</td>\n",
       "      <td>6</td>\n",
       "    </tr>\n",
       "    <tr>\n",
       "      <th>3</th>\n",
       "      <td>11</td>\n",
       "      <td>Why I stayed... http://t.co/azQkDmt3qZ #WhyISt...</td>\n",
       "      <td>#WhyIStayed</td>\n",
       "      <td>51.51</td>\n",
       "      <td>Why I stayed... http://t.co/azQkDmt3qZ</td>\n",
       "      <td>0</td>\n",
       "      <td>0</td>\n",
       "      <td>0.192308</td>\n",
       "      <td>stayed urlco</td>\n",
       "      <td>2</td>\n",
       "    </tr>\n",
       "    <tr>\n",
       "      <th>4</th>\n",
       "      <td>30</td>\n",
       "      <td>I think that #independence is #WhyIStayed away...</td>\n",
       "      <td>#WhyIStayed</td>\n",
       "      <td>37.98</td>\n",
       "      <td>I think that  is  away from    is another reas...</td>\n",
       "      <td>0</td>\n",
       "      <td>0</td>\n",
       "      <td>0.160000</td>\n",
       "      <td>away another reason urlco</td>\n",
       "      <td>4</td>\n",
       "    </tr>\n",
       "  </tbody>\n",
       "</table>\n",
       "</div>"
      ],
      "text/plain": [
       "   index                                               post        label  \\\n",
       "0      0  What Huffington Post Gets Wrong about #WhyISta...  #WhyIStayed   \n",
       "1      2  In #domesticViolence #Shelters the topic of #W...  #WhyIStayed   \n",
       "2      7  Watch \"Portrait of Abuse: An American Epidemic...  #WhyIStayed   \n",
       "3     11  Why I stayed... http://t.co/azQkDmt3qZ #WhyISt...  #WhyIStayed   \n",
       "4     30  I think that #independence is #WhyIStayed away...  #WhyIStayed   \n",
       "\n",
       "   reading_score                                     processed_post  emojis  \\\n",
       "0          28.50  What Huffington Post Gets Wrong about  http://...       0   \n",
       "1          35.27  In   the topic of  is core 2many discussions H...       0   \n",
       "2          -1.80  Watch \"Portrait of Abuse: An American Epidemic...       0   \n",
       "3          51.51           Why I stayed... http://t.co/azQkDmt3qZ         0   \n",
       "4          37.98  I think that  is  away from    is another reas...       0   \n",
       "\n",
       "   mentions      caps                                        tokens  \\\n",
       "0         0  0.166667               huffington post get wrong urlco   \n",
       "1         0  0.128571     topic core many discussion r reason urlco   \n",
       "2         0  0.203704  watch portrait abuse american epidemic urlco   \n",
       "3         0  0.192308                                  stayed urlco   \n",
       "4         0  0.160000                     away another reason urlco   \n",
       "\n",
       "   num_tokens  \n",
       "0           5  \n",
       "1           7  \n",
       "2           6  \n",
       "3           2  \n",
       "4           4  "
      ]
     },
     "execution_count": 47,
     "metadata": {},
     "output_type": "execute_result"
    }
   ],
   "source": [
    "url_df.head()"
   ]
  },
  {
   "cell_type": "code",
   "execution_count": 48,
   "id": "dedd2c4a-06ff-4c85-beec-1041b1ac765d",
   "metadata": {},
   "outputs": [
    {
     "data": {
      "text/plain": [
       "(2580, 10)"
      ]
     },
     "execution_count": 48,
     "metadata": {},
     "output_type": "execute_result"
    }
   ],
   "source": [
    "url_df.shape"
   ]
  },
  {
   "cell_type": "code",
   "execution_count": 49,
   "id": "d8f88156-fffc-4ca4-93dd-a705595143dc",
   "metadata": {},
   "outputs": [],
   "source": [
    "from difflib import get_close_matches\n",
    "\n",
    "def drop_retweets(df=df):\n",
    "    posts=[]\n",
    "    indices=[]\n",
    "    for i in range(df.index[0], df.index[-1]+1):\n",
    "        if i not in indices:\n",
    "            post=df.processed_post[i]\n",
    "            posts_to_drop=get_close_matches(post, df[df.processed_post!=post].processed_post, n=1000, cutoff=0.8) \n",
    "            #df.processed_post!=post is necessary to contain the original post we are checking with\n",
    "            \n",
    "            if posts_to_drop!=[]:\n",
    "                indices_to_drop=[df[df.processed_post==p].index[0] for p in posts_to_drop]\n",
    "                indices+=indices_to_drop\n",
    "    return indices"
   ]
  },
  {
   "cell_type": "code",
   "execution_count": 50,
   "id": "affb721b-60d0-46cd-8f7a-a12dc358d51b",
   "metadata": {},
   "outputs": [],
   "source": [
    "dup_indices=drop_retweets(df=url_df)"
   ]
  },
  {
   "cell_type": "code",
   "execution_count": 51,
   "id": "ef36f50a-39d6-492c-b6e2-49f754859cc0",
   "metadata": {},
   "outputs": [
    {
     "data": {
      "text/plain": [
       "700"
      ]
     },
     "execution_count": 51,
     "metadata": {},
     "output_type": "execute_result"
    }
   ],
   "source": [
    "len(dup_indices)"
   ]
  },
  {
   "cell_type": "markdown",
   "id": "d655c7c1-cbc8-49a7-8bb2-4b60bc95576f",
   "metadata": {},
   "source": [
    "There are 2580 posts containing urls and 700 of them are redundant."
   ]
  },
  {
   "cell_type": "code",
   "execution_count": 52,
   "id": "f5c4ddea-7348-4b17-b568-01f29e2c75bb",
   "metadata": {},
   "outputs": [
    {
     "data": {
      "text/plain": [
       "1046    Watch \"Portrait of Abuse: An American Epidemic...\n",
       "116     Watch \"Portrait of Abuse: An American Epidemic...\n",
       "231     Watch \"Portrait of Abuse: An American Epidemic...\n",
       "2554    Watch \"Portrait of Abuse: An American Epidemic...\n",
       "233     Watch \"Portrait of Abuse: An American Epidemic...\n",
       "                              ...                        \n",
       "2299    #whyistayed should also be #whymenabuseandhurt...\n",
       "2375    How #WhyIStayed focuses on the victim's behavi...\n",
       "2381    National Book Award Finalist @TouchingSnow by ...\n",
       "419     National Book Award Finalist @TouchingSnow by ...\n",
       "2389    #WhyIStayed: 'Leaving was a process, not an ev...\n",
       "Name: post, Length: 700, dtype: object"
      ]
     },
     "execution_count": 52,
     "metadata": {},
     "output_type": "execute_result"
    }
   ],
   "source": [
    "url_df['post'][dup_indices]"
   ]
  },
  {
   "cell_type": "code",
   "execution_count": 53,
   "id": "c0384330-994d-4f64-87d2-73d5a979be03",
   "metadata": {},
   "outputs": [],
   "source": [
    "df.drop(index=url_df['index'][dup_indices], inplace=True)\n",
    "df=df.reset_index(drop=True)"
   ]
  },
  {
   "cell_type": "code",
   "execution_count": 54,
   "id": "424c1a48-d882-476d-ab91-ca55adefc736",
   "metadata": {},
   "outputs": [
    {
     "data": {
      "text/plain": [
       "4120    @NPRMichel Why This Abuse Victim Wants The Wor...\n",
       "Name: post, dtype: object"
      ]
     },
     "execution_count": 54,
     "metadata": {},
     "output_type": "execute_result"
    }
   ],
   "source": [
    "df[df.tokens.str.contains('steroid')].post # >:D yay"
   ]
  },
  {
   "cell_type": "code",
   "execution_count": 55,
   "id": "7565f0b7-4b9d-4586-94f9-6fd15681f9fd",
   "metadata": {},
   "outputs": [
    {
     "data": {
      "text/plain": [
       "(19552, 9)"
      ]
     },
     "execution_count": 55,
     "metadata": {},
     "output_type": "execute_result"
    }
   ],
   "source": [
    "df.shape"
   ]
  },
  {
   "cell_type": "markdown",
   "id": "2e7b77e1-f696-440e-97c4-1c8c719a90d5",
   "metadata": {},
   "source": [
    "## Character and word counts"
   ]
  },
  {
   "cell_type": "code",
   "execution_count": 56,
   "id": "7ed9d730-5a3c-40d9-8585-e7e301b0a574",
   "metadata": {},
   "outputs": [],
   "source": [
    "#preserve the character and word counts of posts\n",
    "df['chars']=df.processed_post.apply(preprocessing, option='char')\n",
    "df['words']=df.processed_post.apply(preprocessing, option='word')"
   ]
  },
  {
   "cell_type": "code",
   "execution_count": 57,
   "id": "5d40ef30-dbac-4bd1-8bbb-b110bc151381",
   "metadata": {},
   "outputs": [
    {
     "data": {
      "text/html": [
       "<div>\n",
       "<style scoped>\n",
       "    .dataframe tbody tr th:only-of-type {\n",
       "        vertical-align: middle;\n",
       "    }\n",
       "\n",
       "    .dataframe tbody tr th {\n",
       "        vertical-align: top;\n",
       "    }\n",
       "\n",
       "    .dataframe thead th {\n",
       "        text-align: right;\n",
       "    }\n",
       "</style>\n",
       "<table border=\"1\" class=\"dataframe\">\n",
       "  <thead>\n",
       "    <tr style=\"text-align: right;\">\n",
       "      <th></th>\n",
       "      <th>post</th>\n",
       "      <th>label</th>\n",
       "      <th>reading_score</th>\n",
       "      <th>processed_post</th>\n",
       "      <th>emojis</th>\n",
       "      <th>mentions</th>\n",
       "      <th>caps</th>\n",
       "      <th>tokens</th>\n",
       "      <th>num_tokens</th>\n",
       "      <th>chars</th>\n",
       "      <th>words</th>\n",
       "    </tr>\n",
       "  </thead>\n",
       "  <tbody>\n",
       "    <tr>\n",
       "      <th>0</th>\n",
       "      <td>What Huffington Post Gets Wrong about #WhyISta...</td>\n",
       "      <td>#WhyIStayed</td>\n",
       "      <td>28.50</td>\n",
       "      <td>What Huffington Post Gets Wrong about  http://...</td>\n",
       "      <td>0</td>\n",
       "      <td>0</td>\n",
       "      <td>0.166667</td>\n",
       "      <td>huffington post get wrong urlco</td>\n",
       "      <td>5</td>\n",
       "      <td>45</td>\n",
       "      <td>7</td>\n",
       "    </tr>\n",
       "    <tr>\n",
       "      <th>1</th>\n",
       "      <td>if u ignore me , i'll ignore u . if u don't st...</td>\n",
       "      <td>#WhyIStayed</td>\n",
       "      <td>87.72</td>\n",
       "      <td>if u ignore me , i'll ignore u . if u don't st...</td>\n",
       "      <td>0</td>\n",
       "      <td>0</td>\n",
       "      <td>0.000000</td>\n",
       "      <td>ignore ignore start conversation talk put effo...</td>\n",
       "      <td>8</td>\n",
       "      <td>128</td>\n",
       "      <td>30</td>\n",
       "    </tr>\n",
       "    <tr>\n",
       "      <th>2</th>\n",
       "      <td>In #domesticViolence #Shelters the topic of #W...</td>\n",
       "      <td>#WhyIStayed</td>\n",
       "      <td>35.27</td>\n",
       "      <td>In   the topic of  is core 2many discussions H...</td>\n",
       "      <td>0</td>\n",
       "      <td>0</td>\n",
       "      <td>0.128571</td>\n",
       "      <td>topic core many discussion r reason urlco</td>\n",
       "      <td>7</td>\n",
       "      <td>79</td>\n",
       "      <td>15</td>\n",
       "    </tr>\n",
       "    <tr>\n",
       "      <th>3</th>\n",
       "      <td>7 painful yrs later I accepted that possessio...</td>\n",
       "      <td>#WhyILeft</td>\n",
       "      <td>74.19</td>\n",
       "      <td>7 painful yrs later I accepted that possessio...</td>\n",
       "      <td>0</td>\n",
       "      <td>0</td>\n",
       "      <td>0.017241</td>\n",
       "      <td>painful yr later accepted possession love</td>\n",
       "      <td>6</td>\n",
       "      <td>74</td>\n",
       "      <td>13</td>\n",
       "    </tr>\n",
       "    <tr>\n",
       "      <th>4</th>\n",
       "      <td>#WhyIStayed because I do believe people can ch...</td>\n",
       "      <td>#WhyIStayed</td>\n",
       "      <td>80.58</td>\n",
       "      <td>because I do believe people can change with t...</td>\n",
       "      <td>0</td>\n",
       "      <td>0</td>\n",
       "      <td>0.028571</td>\n",
       "      <td>believe people change right help abusive relat...</td>\n",
       "      <td>11</td>\n",
       "      <td>129</td>\n",
       "      <td>22</td>\n",
       "    </tr>\n",
       "  </tbody>\n",
       "</table>\n",
       "</div>"
      ],
      "text/plain": [
       "                                                post        label  \\\n",
       "0  What Huffington Post Gets Wrong about #WhyISta...  #WhyIStayed   \n",
       "1  if u ignore me , i'll ignore u . if u don't st...  #WhyIStayed   \n",
       "2  In #domesticViolence #Shelters the topic of #W...  #WhyIStayed   \n",
       "3   7 painful yrs later I accepted that possessio...    #WhyILeft   \n",
       "4  #WhyIStayed because I do believe people can ch...  #WhyIStayed   \n",
       "\n",
       "   reading_score                                     processed_post  emojis  \\\n",
       "0          28.50  What Huffington Post Gets Wrong about  http://...       0   \n",
       "1          87.72  if u ignore me , i'll ignore u . if u don't st...       0   \n",
       "2          35.27  In   the topic of  is core 2many discussions H...       0   \n",
       "3          74.19   7 painful yrs later I accepted that possessio...       0   \n",
       "4          80.58   because I do believe people can change with t...       0   \n",
       "\n",
       "   mentions      caps                                             tokens  \\\n",
       "0         0  0.166667                    huffington post get wrong urlco   \n",
       "1         0  0.000000  ignore ignore start conversation talk put effo...   \n",
       "2         0  0.128571          topic core many discussion r reason urlco   \n",
       "3         0  0.017241          painful yr later accepted possession love   \n",
       "4         0  0.028571  believe people change right help abusive relat...   \n",
       "\n",
       "   num_tokens  chars  words  \n",
       "0           5     45      7  \n",
       "1           8    128     30  \n",
       "2           7     79     15  \n",
       "3           6     74     13  \n",
       "4          11    129     22  "
      ]
     },
     "execution_count": 57,
     "metadata": {},
     "output_type": "execute_result"
    }
   ],
   "source": [
    "df.head()"
   ]
  },
  {
   "cell_type": "markdown",
   "id": "2d6b3bed-28ef-474a-a9c0-c679b168bfa8",
   "metadata": {},
   "source": [
    "## Sentiment Features"
   ]
  },
  {
   "cell_type": "code",
   "execution_count": 58,
   "id": "b04bbce7-9702-4f4f-9105-a707e82bd187",
   "metadata": {},
   "outputs": [
    {
     "data": {
      "text/html": [
       "<div>\n",
       "<style scoped>\n",
       "    .dataframe tbody tr th:only-of-type {\n",
       "        vertical-align: middle;\n",
       "    }\n",
       "\n",
       "    .dataframe tbody tr th {\n",
       "        vertical-align: top;\n",
       "    }\n",
       "\n",
       "    .dataframe thead th {\n",
       "        text-align: right;\n",
       "    }\n",
       "</style>\n",
       "<table border=\"1\" class=\"dataframe\">\n",
       "  <thead>\n",
       "    <tr style=\"text-align: right;\">\n",
       "      <th></th>\n",
       "      <th>disgust</th>\n",
       "      <th>surprise</th>\n",
       "      <th>neutral</th>\n",
       "      <th>anger</th>\n",
       "      <th>sad</th>\n",
       "      <th>happy</th>\n",
       "      <th>fear</th>\n",
       "    </tr>\n",
       "    <tr>\n",
       "      <th>word</th>\n",
       "      <th></th>\n",
       "      <th></th>\n",
       "      <th></th>\n",
       "      <th></th>\n",
       "      <th></th>\n",
       "      <th></th>\n",
       "      <th></th>\n",
       "    </tr>\n",
       "  </thead>\n",
       "  <tbody>\n",
       "    <tr>\n",
       "      <th>ability</th>\n",
       "      <td>0.004464</td>\n",
       "      <td>0.047832</td>\n",
       "      <td>0.000638</td>\n",
       "      <td>0.023597</td>\n",
       "      <td>0.013393</td>\n",
       "      <td>0.015944</td>\n",
       "      <td>0.040179</td>\n",
       "    </tr>\n",
       "    <tr>\n",
       "      <th>able</th>\n",
       "      <td>0.000017</td>\n",
       "      <td>0.000182</td>\n",
       "      <td>0.000409</td>\n",
       "      <td>0.000176</td>\n",
       "      <td>0.000219</td>\n",
       "      <td>0.000244</td>\n",
       "      <td>0.000186</td>\n",
       "    </tr>\n",
       "    <tr>\n",
       "      <th>abuse</th>\n",
       "      <td>0.000532</td>\n",
       "      <td>0.000177</td>\n",
       "      <td>0.000177</td>\n",
       "      <td>0.137363</td>\n",
       "      <td>0.001241</td>\n",
       "      <td>0.001595</td>\n",
       "      <td>0.002659</td>\n",
       "    </tr>\n",
       "    <tr>\n",
       "      <th>academy</th>\n",
       "      <td>0.007143</td>\n",
       "      <td>0.021429</td>\n",
       "      <td>0.007143</td>\n",
       "      <td>0.007143</td>\n",
       "      <td>0.007143</td>\n",
       "      <td>0.092857</td>\n",
       "      <td>0.035714</td>\n",
       "    </tr>\n",
       "    <tr>\n",
       "      <th>accept</th>\n",
       "      <td>0.008271</td>\n",
       "      <td>0.006767</td>\n",
       "      <td>0.000752</td>\n",
       "      <td>0.048872</td>\n",
       "      <td>0.018797</td>\n",
       "      <td>0.024812</td>\n",
       "      <td>0.038346</td>\n",
       "    </tr>\n",
       "  </tbody>\n",
       "</table>\n",
       "</div>"
      ],
      "text/plain": [
       "          disgust  surprise   neutral     anger       sad     happy      fear\n",
       "word                                                                         \n",
       "ability  0.004464  0.047832  0.000638  0.023597  0.013393  0.015944  0.040179\n",
       "able     0.000017  0.000182  0.000409  0.000176  0.000219  0.000244  0.000186\n",
       "abuse    0.000532  0.000177  0.000177  0.137363  0.001241  0.001595  0.002659\n",
       "academy  0.007143  0.021429  0.007143  0.007143  0.007143  0.092857  0.035714\n",
       "accept   0.008271  0.006767  0.000752  0.048872  0.018797  0.024812  0.038346"
      ]
     },
     "execution_count": 58,
     "metadata": {},
     "output_type": "execute_result"
    }
   ],
   "source": [
    "#import emotions sensor data set for sentiment analysis\n",
    "emotions=pd.DataFrame(pd.read_csv('Andbrain_DataSet.csv')).set_index('word',drop=True)\n",
    "emotions.index=emotions.index.str.replace(' ', '')\n",
    "emotions.head()"
   ]
  },
  {
   "cell_type": "code",
   "execution_count": 59,
   "id": "b73f99fb-ecaf-4428-bb7f-d30ca80302d0",
   "metadata": {
    "tags": []
   },
   "outputs": [],
   "source": [
    "#define function for sentiment analysis\n",
    "def sentiment(text, emotions_df=emotions, output='stats'):\n",
    "    accessible_words=[word for word in word_tokenize(text) if word in emotions_df.index]\n",
    "    word_stats=emotions_df.loc[accessible_words]\n",
    "    if output=='stats':\n",
    "        return word_stats.mean() \n",
    "    \n",
    "    if accessible_words!=[]:\n",
    "        emotion=word_stats.sum().idxmax()\n",
    "        \n",
    "        if output=='emotion':\n",
    "            return emotion\n",
    "    \n",
    "        if output=='words':\n",
    "            words=word_stats.sort_values(by=emotion, ascending=False).index.tolist()\n",
    "            return words \n",
    "    else:\n",
    "        return None\n",
    "\n"
   ]
  },
  {
   "cell_type": "code",
   "execution_count": 60,
   "id": "b3bc28a4-e917-41f0-9bf8-b0ed271c37d0",
   "metadata": {},
   "outputs": [],
   "source": [
    "df['top_sentiment']=df.tokens.apply(sentiment, output='emotion')\n",
    "sentiment_order=['anger', 'disgust', 'fear', 'happy', 'neutral', 'sad', 'surprise']\n",
    "df['top_sentiment']=pd.Categorical(df['top_sentiment'], sentiment_order)"
   ]
  },
  {
   "cell_type": "code",
   "execution_count": 61,
   "id": "50735493-3cbc-434b-9721-cc062b0a7e54",
   "metadata": {},
   "outputs": [],
   "source": [
    "df['top_sentiment_words']=df.tokens.apply(sentiment, output='words')"
   ]
  },
  {
   "cell_type": "code",
   "execution_count": 62,
   "id": "aa452d44-4e84-4b1d-a162-ae3b6ddedb28",
   "metadata": {},
   "outputs": [],
   "source": [
    "df=df.join(df.tokens.apply(sentiment))"
   ]
  },
  {
   "cell_type": "code",
   "execution_count": 63,
   "id": "17e0ec3e-1a30-4df5-8154-f6cff46cad2c",
   "metadata": {},
   "outputs": [],
   "source": [
    "df['labels_num']=df['label'].map({'#WhyILeft':0, '#WhyIStayed':1})"
   ]
  },
  {
   "cell_type": "code",
   "execution_count": 64,
   "id": "1815b2f5-a658-475c-802b-ee978c4f8ce3",
   "metadata": {},
   "outputs": [
    {
     "data": {
      "text/html": [
       "<div>\n",
       "<style scoped>\n",
       "    .dataframe tbody tr th:only-of-type {\n",
       "        vertical-align: middle;\n",
       "    }\n",
       "\n",
       "    .dataframe tbody tr th {\n",
       "        vertical-align: top;\n",
       "    }\n",
       "\n",
       "    .dataframe thead th {\n",
       "        text-align: right;\n",
       "    }\n",
       "</style>\n",
       "<table border=\"1\" class=\"dataframe\">\n",
       "  <thead>\n",
       "    <tr style=\"text-align: right;\">\n",
       "      <th></th>\n",
       "      <th>post</th>\n",
       "      <th>label</th>\n",
       "      <th>reading_score</th>\n",
       "      <th>processed_post</th>\n",
       "      <th>emojis</th>\n",
       "      <th>mentions</th>\n",
       "      <th>caps</th>\n",
       "      <th>tokens</th>\n",
       "      <th>num_tokens</th>\n",
       "      <th>chars</th>\n",
       "      <th>...</th>\n",
       "      <th>top_sentiment</th>\n",
       "      <th>top_sentiment_words</th>\n",
       "      <th>disgust</th>\n",
       "      <th>surprise</th>\n",
       "      <th>neutral</th>\n",
       "      <th>anger</th>\n",
       "      <th>sad</th>\n",
       "      <th>happy</th>\n",
       "      <th>fear</th>\n",
       "      <th>labels_num</th>\n",
       "    </tr>\n",
       "  </thead>\n",
       "  <tbody>\n",
       "    <tr>\n",
       "      <th>0</th>\n",
       "      <td>What Huffington Post Gets Wrong about #WhyISta...</td>\n",
       "      <td>#WhyIStayed</td>\n",
       "      <td>28.50</td>\n",
       "      <td>What Huffington Post Gets Wrong about  http://...</td>\n",
       "      <td>0</td>\n",
       "      <td>0</td>\n",
       "      <td>0.166667</td>\n",
       "      <td>huffington post get wrong urlco</td>\n",
       "      <td>5</td>\n",
       "      <td>45</td>\n",
       "      <td>...</td>\n",
       "      <td>anger</td>\n",
       "      <td>[wrong]</td>\n",
       "      <td>0.001244</td>\n",
       "      <td>0.004231</td>\n",
       "      <td>0.000083</td>\n",
       "      <td>0.116725</td>\n",
       "      <td>0.009209</td>\n",
       "      <td>0.002904</td>\n",
       "      <td>0.008877</td>\n",
       "      <td>1</td>\n",
       "    </tr>\n",
       "    <tr>\n",
       "      <th>1</th>\n",
       "      <td>if u ignore me , i'll ignore u . if u don't st...</td>\n",
       "      <td>#WhyIStayed</td>\n",
       "      <td>87.72</td>\n",
       "      <td>if u ignore me , i'll ignore u . if u don't st...</td>\n",
       "      <td>0</td>\n",
       "      <td>0</td>\n",
       "      <td>0.000000</td>\n",
       "      <td>ignore ignore start conversation talk put effo...</td>\n",
       "      <td>8</td>\n",
       "      <td>128</td>\n",
       "      <td>...</td>\n",
       "      <td>NaN</td>\n",
       "      <td>None</td>\n",
       "      <td>NaN</td>\n",
       "      <td>NaN</td>\n",
       "      <td>NaN</td>\n",
       "      <td>NaN</td>\n",
       "      <td>NaN</td>\n",
       "      <td>NaN</td>\n",
       "      <td>NaN</td>\n",
       "      <td>1</td>\n",
       "    </tr>\n",
       "    <tr>\n",
       "      <th>2</th>\n",
       "      <td>In #domesticViolence #Shelters the topic of #W...</td>\n",
       "      <td>#WhyIStayed</td>\n",
       "      <td>35.27</td>\n",
       "      <td>In   the topic of  is core 2many discussions H...</td>\n",
       "      <td>0</td>\n",
       "      <td>0</td>\n",
       "      <td>0.128571</td>\n",
       "      <td>topic core many discussion r reason urlco</td>\n",
       "      <td>7</td>\n",
       "      <td>79</td>\n",
       "      <td>...</td>\n",
       "      <td>NaN</td>\n",
       "      <td>None</td>\n",
       "      <td>NaN</td>\n",
       "      <td>NaN</td>\n",
       "      <td>NaN</td>\n",
       "      <td>NaN</td>\n",
       "      <td>NaN</td>\n",
       "      <td>NaN</td>\n",
       "      <td>NaN</td>\n",
       "      <td>1</td>\n",
       "    </tr>\n",
       "    <tr>\n",
       "      <th>3</th>\n",
       "      <td>7 painful yrs later I accepted that possessio...</td>\n",
       "      <td>#WhyILeft</td>\n",
       "      <td>74.19</td>\n",
       "      <td>7 painful yrs later I accepted that possessio...</td>\n",
       "      <td>0</td>\n",
       "      <td>0</td>\n",
       "      <td>0.017241</td>\n",
       "      <td>painful yr later accepted possession love</td>\n",
       "      <td>6</td>\n",
       "      <td>74</td>\n",
       "      <td>...</td>\n",
       "      <td>happy</td>\n",
       "      <td>[love]</td>\n",
       "      <td>0.000800</td>\n",
       "      <td>0.023866</td>\n",
       "      <td>0.000042</td>\n",
       "      <td>0.014353</td>\n",
       "      <td>0.015868</td>\n",
       "      <td>0.073028</td>\n",
       "      <td>0.015111</td>\n",
       "      <td>0</td>\n",
       "    </tr>\n",
       "    <tr>\n",
       "      <th>4</th>\n",
       "      <td>#WhyIStayed because I do believe people can ch...</td>\n",
       "      <td>#WhyIStayed</td>\n",
       "      <td>80.58</td>\n",
       "      <td>because I do believe people can change with t...</td>\n",
       "      <td>0</td>\n",
       "      <td>0</td>\n",
       "      <td>0.028571</td>\n",
       "      <td>believe people change right help abusive relat...</td>\n",
       "      <td>11</td>\n",
       "      <td>129</td>\n",
       "      <td>...</td>\n",
       "      <td>happy</td>\n",
       "      <td>[believe, relationship]</td>\n",
       "      <td>0.003935</td>\n",
       "      <td>0.018314</td>\n",
       "      <td>0.000270</td>\n",
       "      <td>0.021816</td>\n",
       "      <td>0.029766</td>\n",
       "      <td>0.036671</td>\n",
       "      <td>0.033434</td>\n",
       "      <td>1</td>\n",
       "    </tr>\n",
       "  </tbody>\n",
       "</table>\n",
       "<p>5 rows × 21 columns</p>\n",
       "</div>"
      ],
      "text/plain": [
       "                                                post        label  \\\n",
       "0  What Huffington Post Gets Wrong about #WhyISta...  #WhyIStayed   \n",
       "1  if u ignore me , i'll ignore u . if u don't st...  #WhyIStayed   \n",
       "2  In #domesticViolence #Shelters the topic of #W...  #WhyIStayed   \n",
       "3   7 painful yrs later I accepted that possessio...    #WhyILeft   \n",
       "4  #WhyIStayed because I do believe people can ch...  #WhyIStayed   \n",
       "\n",
       "   reading_score                                     processed_post  emojis  \\\n",
       "0          28.50  What Huffington Post Gets Wrong about  http://...       0   \n",
       "1          87.72  if u ignore me , i'll ignore u . if u don't st...       0   \n",
       "2          35.27  In   the topic of  is core 2many discussions H...       0   \n",
       "3          74.19   7 painful yrs later I accepted that possessio...       0   \n",
       "4          80.58   because I do believe people can change with t...       0   \n",
       "\n",
       "   mentions      caps                                             tokens  \\\n",
       "0         0  0.166667                    huffington post get wrong urlco   \n",
       "1         0  0.000000  ignore ignore start conversation talk put effo...   \n",
       "2         0  0.128571          topic core many discussion r reason urlco   \n",
       "3         0  0.017241          painful yr later accepted possession love   \n",
       "4         0  0.028571  believe people change right help abusive relat...   \n",
       "\n",
       "   num_tokens  chars  ...  top_sentiment      top_sentiment_words   disgust  \\\n",
       "0           5     45  ...          anger                  [wrong]  0.001244   \n",
       "1           8    128  ...            NaN                     None       NaN   \n",
       "2           7     79  ...            NaN                     None       NaN   \n",
       "3           6     74  ...          happy                   [love]  0.000800   \n",
       "4          11    129  ...          happy  [believe, relationship]  0.003935   \n",
       "\n",
       "   surprise   neutral     anger       sad     happy      fear  labels_num  \n",
       "0  0.004231  0.000083  0.116725  0.009209  0.002904  0.008877           1  \n",
       "1       NaN       NaN       NaN       NaN       NaN       NaN           1  \n",
       "2       NaN       NaN       NaN       NaN       NaN       NaN           1  \n",
       "3  0.023866  0.000042  0.014353  0.015868  0.073028  0.015111           0  \n",
       "4  0.018314  0.000270  0.021816  0.029766  0.036671  0.033434           1  \n",
       "\n",
       "[5 rows x 21 columns]"
      ]
     },
     "execution_count": 64,
     "metadata": {},
     "output_type": "execute_result"
    }
   ],
   "source": [
    "df.head()"
   ]
  },
  {
   "cell_type": "code",
   "execution_count": 65,
   "id": "5eca2e16-3979-4d14-a3ba-297392c96a22",
   "metadata": {},
   "outputs": [
    {
     "data": {
      "text/plain": [
       "(19552, 21)"
      ]
     },
     "execution_count": 65,
     "metadata": {},
     "output_type": "execute_result"
    }
   ],
   "source": [
    "df.shape"
   ]
  },
  {
   "cell_type": "markdown",
   "id": "9a425959-22b1-4759-855c-fc057bfa3cf6",
   "metadata": {},
   "source": [
    "# Data Visualization"
   ]
  },
  {
   "cell_type": "code",
   "execution_count": 66,
   "id": "d8ff0be2-2e02-47de-86ab-00717f737cc0",
   "metadata": {},
   "outputs": [],
   "source": [
    "import seaborn as sns"
   ]
  },
  {
   "cell_type": "markdown",
   "id": "79d784a2-7f47-4203-8c4f-81be4928c58a",
   "metadata": {
    "tags": []
   },
   "source": [
    "## Reading scores"
   ]
  },
  {
   "cell_type": "code",
   "execution_count": 67,
   "id": "9fe33020-b9ee-4e69-aa00-ff9449bc1773",
   "metadata": {},
   "outputs": [
    {
     "data": {
      "text/html": [
       "<div>\n",
       "<style scoped>\n",
       "    .dataframe tbody tr th:only-of-type {\n",
       "        vertical-align: middle;\n",
       "    }\n",
       "\n",
       "    .dataframe tbody tr th {\n",
       "        vertical-align: top;\n",
       "    }\n",
       "\n",
       "    .dataframe thead th {\n",
       "        text-align: right;\n",
       "    }\n",
       "</style>\n",
       "<table border=\"1\" class=\"dataframe\">\n",
       "  <thead>\n",
       "    <tr style=\"text-align: right;\">\n",
       "      <th></th>\n",
       "      <th>count</th>\n",
       "      <th>mean</th>\n",
       "      <th>std</th>\n",
       "      <th>min</th>\n",
       "      <th>25%</th>\n",
       "      <th>50%</th>\n",
       "      <th>75%</th>\n",
       "      <th>max</th>\n",
       "    </tr>\n",
       "    <tr>\n",
       "      <th>label</th>\n",
       "      <th></th>\n",
       "      <th></th>\n",
       "      <th></th>\n",
       "      <th></th>\n",
       "      <th></th>\n",
       "      <th></th>\n",
       "      <th></th>\n",
       "      <th></th>\n",
       "    </tr>\n",
       "  </thead>\n",
       "  <tbody>\n",
       "    <tr>\n",
       "      <th>#WhyILeft</th>\n",
       "      <td>5821.0</td>\n",
       "      <td>77.503724</td>\n",
       "      <td>20.764684</td>\n",
       "      <td>-132.59</td>\n",
       "      <td>67.08</td>\n",
       "      <td>80.28</td>\n",
       "      <td>90.6</td>\n",
       "      <td>206.84</td>\n",
       "    </tr>\n",
       "    <tr>\n",
       "      <th>#WhyIStayed</th>\n",
       "      <td>13731.0</td>\n",
       "      <td>66.811373</td>\n",
       "      <td>22.523308</td>\n",
       "      <td>-179.96</td>\n",
       "      <td>56.93</td>\n",
       "      <td>70.80</td>\n",
       "      <td>81.8</td>\n",
       "      <td>109.00</td>\n",
       "    </tr>\n",
       "  </tbody>\n",
       "</table>\n",
       "</div>"
      ],
      "text/plain": [
       "               count       mean        std     min    25%    50%   75%     max\n",
       "label                                                                         \n",
       "#WhyILeft     5821.0  77.503724  20.764684 -132.59  67.08  80.28  90.6  206.84\n",
       "#WhyIStayed  13731.0  66.811373  22.523308 -179.96  56.93  70.80  81.8  109.00"
      ]
     },
     "execution_count": 67,
     "metadata": {},
     "output_type": "execute_result"
    }
   ],
   "source": [
    "df.groupby(by=['label'])['reading_score'].describe()"
   ]
  },
  {
   "cell_type": "code",
   "execution_count": 68,
   "id": "ebc38c30-02a9-4a8b-b3fc-26a055009653",
   "metadata": {},
   "outputs": [
    {
     "data": {
      "image/png": "[encoded data removed]",
      "text/plain": [
       "<Figure size 360x360 with 1 Axes>"
      ]
     },
     "metadata": {
      "needs_background": "light"
     },
     "output_type": "display_data"
    }
   ],
   "source": [
    "sns.set(rc={'figure.figsize':(6,4)})\n",
    "ax1=sns.catplot(x='label', y='reading_score', data=df, kind='box', showfliers = False)\n",
    "ax1.set(xlabel='Type', ylabel='Flesch Score of Posts', title='Flesch Reading Ease Score for Posts per Type of Submission');"
   ]
  },
  {
   "cell_type": "code",
   "execution_count": 69,
   "id": "ee35caf3-ef81-46ac-8757-182347de286f",
   "metadata": {},
   "outputs": [
    {
     "data": {
      "text/html": [
       "<div>\n",
       "<style scoped>\n",
       "    .dataframe tbody tr th:only-of-type {\n",
       "        vertical-align: middle;\n",
       "    }\n",
       "\n",
       "    .dataframe tbody tr th {\n",
       "        vertical-align: top;\n",
       "    }\n",
       "\n",
       "    .dataframe thead th {\n",
       "        text-align: right;\n",
       "    }\n",
       "</style>\n",
       "<table border=\"1\" class=\"dataframe\">\n",
       "  <thead>\n",
       "    <tr style=\"text-align: right;\">\n",
       "      <th></th>\n",
       "      <th>post</th>\n",
       "      <th>label</th>\n",
       "    </tr>\n",
       "  </thead>\n",
       "  <tbody>\n",
       "    <tr>\n",
       "      <th>3059</th>\n",
       "      <td>\"@SolarSailorElan: rT.“@emmanuel_maciel: @Sola...</td>\n",
       "      <td>#WhyIStayed</td>\n",
       "    </tr>\n",
       "    <tr>\n",
       "      <th>6367</th>\n",
       "      <td>http://t.co/zItVmy1wfS</td>\n",
       "      <td>#WhyILeft</td>\n",
       "    </tr>\n",
       "    <tr>\n",
       "      <th>6384</th>\n",
       "      <td>http://t.co/ZksrxQE3Gy</td>\n",
       "      <td>#WhyILeft</td>\n",
       "    </tr>\n",
       "    <tr>\n",
       "      <th>13641</th>\n",
       "      <td>#WhyIStayed should also consider #whywhyistaye...</td>\n",
       "      <td>#WhyIStayed</td>\n",
       "    </tr>\n",
       "    <tr>\n",
       "      <th>18091</th>\n",
       "      <td>http://t.co/XCphtwXHWD\\n\\nSpeechless. #WhyIStayed</td>\n",
       "      <td>#WhyIStayed</td>\n",
       "    </tr>\n",
       "  </tbody>\n",
       "</table>\n",
       "</div>"
      ],
      "text/plain": [
       "                                                    post        label\n",
       "3059   \"@SolarSailorElan: rT.“@emmanuel_maciel: @Sola...  #WhyIStayed\n",
       "6367                              http://t.co/zItVmy1wfS    #WhyILeft\n",
       "6384                             http://t.co/ZksrxQE3Gy     #WhyILeft\n",
       "13641  #WhyIStayed should also consider #whywhyistaye...  #WhyIStayed\n",
       "18091  http://t.co/XCphtwXHWD\\n\\nSpeechless. #WhyIStayed  #WhyIStayed"
      ]
     },
     "execution_count": 69,
     "metadata": {},
     "output_type": "execute_result"
    }
   ],
   "source": [
    "df[df.reading_score<-100][['post', 'label']]"
   ]
  },
  {
   "cell_type": "code",
   "execution_count": 70,
   "id": "90c59e50-a4b6-46af-a5c8-654d185cfb63",
   "metadata": {},
   "outputs": [
    {
     "data": {
      "text/plain": [
       "Ttest_indResult(statistic=-31.054139086165794, pvalue=1.0299781489551398e-206)"
      ]
     },
     "execution_count": 70,
     "metadata": {},
     "output_type": "execute_result"
    }
   ],
   "source": [
    "from scipy.stats import ttest_ind\n",
    "ttest_ind(df[df.label=='#WhyIStayed'].reading_score, df[df.label=='#WhyILeft'].reading_score)"
   ]
  },
  {
   "cell_type": "markdown",
   "id": "2e13ceb6-120f-4868-add4-76008f8c3933",
   "metadata": {},
   "source": [
    "#WhyIStayed posts have a score 10 points less than #WhyILeft posts. #WhyILeft posts have a significantly higher readability."
   ]
  },
  {
   "cell_type": "markdown",
   "id": "1112dae3-d46a-450d-9613-7ade04d0d176",
   "metadata": {},
   "source": [
    "## Capitalization"
   ]
  },
  {
   "cell_type": "code",
   "execution_count": 71,
   "id": "101afbf9-bd31-4113-912b-e6f10cde387b",
   "metadata": {},
   "outputs": [
    {
     "data": {
      "text/plain": [
       "count    19552.000000\n",
       "mean         0.053533\n",
       "std          0.071939\n",
       "min          0.000000\n",
       "25%          0.020619\n",
       "50%          0.035714\n",
       "75%          0.060241\n",
       "max          1.000000\n",
       "Name: caps, dtype: float64"
      ]
     },
     "execution_count": 71,
     "metadata": {},
     "output_type": "execute_result"
    }
   ],
   "source": [
    "df.caps.describe()"
   ]
  },
  {
   "cell_type": "code",
   "execution_count": 72,
   "id": "671280d0-5f44-4b4a-9d39-5419457a548f",
   "metadata": {},
   "outputs": [
    {
     "data": {
      "text/html": [
       "<div>\n",
       "<style scoped>\n",
       "    .dataframe tbody tr th:only-of-type {\n",
       "        vertical-align: middle;\n",
       "    }\n",
       "\n",
       "    .dataframe tbody tr th {\n",
       "        vertical-align: top;\n",
       "    }\n",
       "\n",
       "    .dataframe thead th {\n",
       "        text-align: right;\n",
       "    }\n",
       "</style>\n",
       "<table border=\"1\" class=\"dataframe\">\n",
       "  <thead>\n",
       "    <tr style=\"text-align: right;\">\n",
       "      <th></th>\n",
       "      <th>count</th>\n",
       "      <th>mean</th>\n",
       "      <th>std</th>\n",
       "      <th>min</th>\n",
       "      <th>25%</th>\n",
       "      <th>50%</th>\n",
       "      <th>75%</th>\n",
       "      <th>max</th>\n",
       "    </tr>\n",
       "    <tr>\n",
       "      <th>label</th>\n",
       "      <th></th>\n",
       "      <th></th>\n",
       "      <th></th>\n",
       "      <th></th>\n",
       "      <th></th>\n",
       "      <th></th>\n",
       "      <th></th>\n",
       "      <th></th>\n",
       "    </tr>\n",
       "  </thead>\n",
       "  <tbody>\n",
       "    <tr>\n",
       "      <th>#WhyILeft</th>\n",
       "      <td>5821.0</td>\n",
       "      <td>0.049857</td>\n",
       "      <td>0.070071</td>\n",
       "      <td>0.0</td>\n",
       "      <td>0.020000</td>\n",
       "      <td>0.034483</td>\n",
       "      <td>0.056604</td>\n",
       "      <td>1.0</td>\n",
       "    </tr>\n",
       "    <tr>\n",
       "      <th>#WhyIStayed</th>\n",
       "      <td>13731.0</td>\n",
       "      <td>0.055091</td>\n",
       "      <td>0.072662</td>\n",
       "      <td>0.0</td>\n",
       "      <td>0.020833</td>\n",
       "      <td>0.037037</td>\n",
       "      <td>0.061728</td>\n",
       "      <td>1.0</td>\n",
       "    </tr>\n",
       "  </tbody>\n",
       "</table>\n",
       "</div>"
      ],
      "text/plain": [
       "               count      mean       std  min       25%       50%       75%  \\\n",
       "label                                                                         \n",
       "#WhyILeft     5821.0  0.049857  0.070071  0.0  0.020000  0.034483  0.056604   \n",
       "#WhyIStayed  13731.0  0.055091  0.072662  0.0  0.020833  0.037037  0.061728   \n",
       "\n",
       "             max  \n",
       "label             \n",
       "#WhyILeft    1.0  \n",
       "#WhyIStayed  1.0  "
      ]
     },
     "execution_count": 72,
     "metadata": {},
     "output_type": "execute_result"
    }
   ],
   "source": [
    "df.groupby(by=['label']).caps.describe()"
   ]
  },
  {
   "cell_type": "code",
   "execution_count": 73,
   "id": "89607f58-7074-4937-b212-fee1cca992c2",
   "metadata": {},
   "outputs": [
    {
     "data": {
      "text/plain": [
       "Ttest_indResult(statistic=4.654181694850354, pvalue=3.2740418685011523e-06)"
      ]
     },
     "execution_count": 73,
     "metadata": {},
     "output_type": "execute_result"
    }
   ],
   "source": [
    "ttest_ind(df[df.label=='#WhyIStayed'].caps, df[df.label=='#WhyILeft'].caps)"
   ]
  },
  {
   "cell_type": "code",
   "execution_count": 74,
   "id": "9b98574d-7c96-43e3-8f7f-7ac7dc17d85f",
   "metadata": {},
   "outputs": [
    {
     "data": {
      "image/png": "[encoded data removed]",
      "text/plain": [
       "<Figure size 500x500 with 1 Axes>"
      ]
     },
     "metadata": {},
     "output_type": "display_data"
    }
   ],
   "source": [
    "sns.set(rc={'figure.figsize':(6,4)})\n",
    "ax1=sns.catplot(x='label', y='caps', data=df, kind='box', showfliers = False)\n",
    "ax1.set(xlabel='Type', ylabel='Frequency of Capital Letters', title='Percentage of Capitalization per Type of Submission');"
   ]
  },
  {
   "cell_type": "markdown",
   "id": "234b636b-aa37-45fe-a9c6-8f841ac506c5",
   "metadata": {},
   "source": [
    "#WhyIStayed posts contain more capital letters."
   ]
  },
  {
   "cell_type": "code",
   "execution_count": 75,
   "id": "558e91f0-9619-4ae7-a07b-cb697694231c",
   "metadata": {
    "tags": []
   },
   "outputs": [
    {
     "data": {
      "text/html": [
       "<div>\n",
       "<style scoped>\n",
       "    .dataframe tbody tr th:only-of-type {\n",
       "        vertical-align: middle;\n",
       "    }\n",
       "\n",
       "    .dataframe tbody tr th {\n",
       "        vertical-align: top;\n",
       "    }\n",
       "\n",
       "    .dataframe thead th {\n",
       "        text-align: right;\n",
       "    }\n",
       "</style>\n",
       "<table border=\"1\" class=\"dataframe\">\n",
       "  <thead>\n",
       "    <tr style=\"text-align: right;\">\n",
       "      <th></th>\n",
       "      <th>post</th>\n",
       "      <th>label</th>\n",
       "      <th>reading_score</th>\n",
       "      <th>processed_post</th>\n",
       "      <th>emojis</th>\n",
       "      <th>mentions</th>\n",
       "      <th>caps</th>\n",
       "      <th>tokens</th>\n",
       "      <th>num_tokens</th>\n",
       "      <th>chars</th>\n",
       "      <th>...</th>\n",
       "      <th>top_sentiment</th>\n",
       "      <th>top_sentiment_words</th>\n",
       "      <th>disgust</th>\n",
       "      <th>surprise</th>\n",
       "      <th>neutral</th>\n",
       "      <th>anger</th>\n",
       "      <th>sad</th>\n",
       "      <th>happy</th>\n",
       "      <th>fear</th>\n",
       "      <th>labels_num</th>\n",
       "    </tr>\n",
       "  </thead>\n",
       "  <tbody>\n",
       "    <tr>\n",
       "      <th>459</th>\n",
       "      <td>YES</td>\n",
       "      <td>#WhyILeft</td>\n",
       "      <td>121.22</td>\n",
       "      <td>YES</td>\n",
       "      <td>0</td>\n",
       "      <td>0</td>\n",
       "      <td>1.0</td>\n",
       "      <td>yes</td>\n",
       "      <td>1</td>\n",
       "      <td>5</td>\n",
       "      <td>...</td>\n",
       "      <td>NaN</td>\n",
       "      <td>None</td>\n",
       "      <td>NaN</td>\n",
       "      <td>NaN</td>\n",
       "      <td>NaN</td>\n",
       "      <td>NaN</td>\n",
       "      <td>NaN</td>\n",
       "      <td>NaN</td>\n",
       "      <td>NaN</td>\n",
       "      <td>0</td>\n",
       "    </tr>\n",
       "    <tr>\n",
       "      <th>1307</th>\n",
       "      <td>I WOKE UP!!</td>\n",
       "      <td>#WhyILeft</td>\n",
       "      <td>119.19</td>\n",
       "      <td>I WOKE UP!!</td>\n",
       "      <td>0</td>\n",
       "      <td>0</td>\n",
       "      <td>1.0</td>\n",
       "      <td>woke</td>\n",
       "      <td>1</td>\n",
       "      <td>13</td>\n",
       "      <td>...</td>\n",
       "      <td>NaN</td>\n",
       "      <td>None</td>\n",
       "      <td>NaN</td>\n",
       "      <td>NaN</td>\n",
       "      <td>NaN</td>\n",
       "      <td>NaN</td>\n",
       "      <td>NaN</td>\n",
       "      <td>NaN</td>\n",
       "      <td>NaN</td>\n",
       "      <td>0</td>\n",
       "    </tr>\n",
       "    <tr>\n",
       "      <th>2228</th>\n",
       "      <td>#whyistayed\\nTHE MONEEEEE…..!</td>\n",
       "      <td>#WhyIStayed</td>\n",
       "      <td>34.59</td>\n",
       "      <td>\\nTHE MONEEEEE…..!</td>\n",
       "      <td>0</td>\n",
       "      <td>0</td>\n",
       "      <td>1.0</td>\n",
       "      <td>moneeeee…</td>\n",
       "      <td>1</td>\n",
       "      <td>17</td>\n",
       "      <td>...</td>\n",
       "      <td>NaN</td>\n",
       "      <td>None</td>\n",
       "      <td>NaN</td>\n",
       "      <td>NaN</td>\n",
       "      <td>NaN</td>\n",
       "      <td>NaN</td>\n",
       "      <td>NaN</td>\n",
       "      <td>NaN</td>\n",
       "      <td>NaN</td>\n",
       "      <td>1</td>\n",
       "    </tr>\n",
       "    <tr>\n",
       "      <th>2831</th>\n",
       "      <td>#WhyIStayed I STAYED I GOT BEAT,RAPED, AND MEN...</td>\n",
       "      <td>#WhyIStayed</td>\n",
       "      <td>54.22</td>\n",
       "      <td>I STAYED I GOT BEAT,RAPED, AND MENTALLY TORN ...</td>\n",
       "      <td>0</td>\n",
       "      <td>0</td>\n",
       "      <td>1.0</td>\n",
       "      <td>stayed beat raped mentally torn apart mentally...</td>\n",
       "      <td>10</td>\n",
       "      <td>96</td>\n",
       "      <td>...</td>\n",
       "      <td>surprise</td>\n",
       "      <td>[beat]</td>\n",
       "      <td>0.004088</td>\n",
       "      <td>0.121127</td>\n",
       "      <td>0.000215</td>\n",
       "      <td>0.004518</td>\n",
       "      <td>0.005809</td>\n",
       "      <td>0.004518</td>\n",
       "      <td>0.003657</td>\n",
       "      <td>1</td>\n",
       "    </tr>\n",
       "    <tr>\n",
       "      <th>4119</th>\n",
       "      <td>RAN OUTTA FOOD</td>\n",
       "      <td>#WhyILeft</td>\n",
       "      <td>93.81</td>\n",
       "      <td>RAN OUTTA FOOD</td>\n",
       "      <td>0</td>\n",
       "      <td>0</td>\n",
       "      <td>1.0</td>\n",
       "      <td>ran outta food</td>\n",
       "      <td>3</td>\n",
       "      <td>15</td>\n",
       "      <td>...</td>\n",
       "      <td>NaN</td>\n",
       "      <td>None</td>\n",
       "      <td>NaN</td>\n",
       "      <td>NaN</td>\n",
       "      <td>NaN</td>\n",
       "      <td>NaN</td>\n",
       "      <td>NaN</td>\n",
       "      <td>NaN</td>\n",
       "      <td>NaN</td>\n",
       "      <td>0</td>\n",
       "    </tr>\n",
       "  </tbody>\n",
       "</table>\n",
       "<p>5 rows × 21 columns</p>\n",
       "</div>"
      ],
      "text/plain": [
       "                                                   post        label  \\\n",
       "459                                                YES     #WhyILeft   \n",
       "1307                                        I WOKE UP!!    #WhyILeft   \n",
       "2228                      #whyistayed\\nTHE MONEEEEE…..!  #WhyIStayed   \n",
       "2831  #WhyIStayed I STAYED I GOT BEAT,RAPED, AND MEN...  #WhyIStayed   \n",
       "4119                                     RAN OUTTA FOOD    #WhyILeft   \n",
       "\n",
       "      reading_score                                     processed_post  \\\n",
       "459          121.22                                               YES    \n",
       "1307         119.19                                        I WOKE UP!!   \n",
       "2228          34.59                                 \\nTHE MONEEEEE…..!   \n",
       "2831          54.22   I STAYED I GOT BEAT,RAPED, AND MENTALLY TORN ...   \n",
       "4119          93.81                                     RAN OUTTA FOOD   \n",
       "\n",
       "      emojis  mentions  caps  \\\n",
       "459        0         0   1.0   \n",
       "1307       0         0   1.0   \n",
       "2228       0         0   1.0   \n",
       "2831       0         0   1.0   \n",
       "4119       0         0   1.0   \n",
       "\n",
       "                                                 tokens  num_tokens  chars  \\\n",
       "459                                                 yes           1      5   \n",
       "1307                                               woke           1     13   \n",
       "2228                                          moneeeee…           1     17   \n",
       "2831  stayed beat raped mentally torn apart mentally...          10     96   \n",
       "4119                                     ran outta food           3     15   \n",
       "\n",
       "      ...  top_sentiment top_sentiment_words   disgust  surprise   neutral  \\\n",
       "459   ...            NaN                None       NaN       NaN       NaN   \n",
       "1307  ...            NaN                None       NaN       NaN       NaN   \n",
       "2228  ...            NaN                None       NaN       NaN       NaN   \n",
       "2831  ...       surprise              [beat]  0.004088  0.121127  0.000215   \n",
       "4119  ...            NaN                None       NaN       NaN       NaN   \n",
       "\n",
       "         anger       sad     happy      fear  labels_num  \n",
       "459        NaN       NaN       NaN       NaN           0  \n",
       "1307       NaN       NaN       NaN       NaN           0  \n",
       "2228       NaN       NaN       NaN       NaN           1  \n",
       "2831  0.004518  0.005809  0.004518  0.003657           1  \n",
       "4119       NaN       NaN       NaN       NaN           0  \n",
       "\n",
       "[5 rows x 21 columns]"
      ]
     },
     "execution_count": 75,
     "metadata": {},
     "output_type": "execute_result"
    }
   ],
   "source": [
    "df[df.caps>0.95].head()"
   ]
  },
  {
   "cell_type": "markdown",
   "id": "f798e94d-1b5c-4176-9d26-8321630eb968",
   "metadata": {},
   "source": [
    "## Mentions"
   ]
  },
  {
   "cell_type": "code",
   "execution_count": 76,
   "id": "e7ab6490-571c-46b3-b062-b532ce37f8a8",
   "metadata": {},
   "outputs": [
    {
     "data": {
      "text/plain": [
       "label        mentions\n",
       "#WhyILeft    0           0.930253\n",
       "             1           0.054630\n",
       "             2           0.011510\n",
       "             3           0.002405\n",
       "             4           0.000687\n",
       "             5           0.000344\n",
       "             6           0.000172\n",
       "#WhyIStayed  0           0.863812\n",
       "             1           0.106183\n",
       "             2           0.022140\n",
       "             3           0.005171\n",
       "             4           0.001311\n",
       "             5           0.000801\n",
       "             6           0.000291\n",
       "             7           0.000218\n",
       "             11          0.000073\n",
       "Name: mentions, dtype: float64"
      ]
     },
     "execution_count": 76,
     "metadata": {},
     "output_type": "execute_result"
    }
   ],
   "source": [
    "df.groupby(by='label').mentions.value_counts(normalize=True)"
   ]
  },
  {
   "cell_type": "code",
   "execution_count": 77,
   "id": "bb87e3f2-0b5a-444e-9847-2b425b260bc6",
   "metadata": {},
   "outputs": [],
   "source": [
    "from scipy.stats import chi2_contingency\n",
    "from tabulate import tabulate"
   ]
  },
  {
   "cell_type": "code",
   "execution_count": 78,
   "id": "f43fec30-2cb4-43da-81f4-53d4266684e1",
   "metadata": {},
   "outputs": [],
   "source": [
    "def chi2(col, alpha=0.05):\n",
    "    print('0.0: #WhyILeft, 1.0: #WhyIStayed')\n",
    "    table=pd.crosstab(df[col], df['labels_num'])\n",
    "    print(table.to_markdown())\n",
    "    Xsq=chi2_contingency(table)\n",
    "    print('H_0: There is no difference between levels of '+str(col)+' based on the labeled hashtag.')\n",
    "    print('H_1: There is a difference between levels of '+str(col)+' based on the labeled hashtag.')\n",
    "    print('Chi-square value:', Xsq[0], 'p-value:', Xsq[1], 'dof:', Xsq[2],'\\n')\n",
    "    if Xsq[1]<alpha:\n",
    "        print('We reject the null hypothesis. \\n')\n",
    "    else: \n",
    "        print('We cannot reject the null hypothesis. \\n')"
   ]
  },
  {
   "cell_type": "code",
   "execution_count": 79,
   "id": "eb64aa44-a891-44aa-b909-c390b9c99e19",
   "metadata": {},
   "outputs": [
    {
     "name": "stdout",
     "output_type": "stream",
     "text": [
      "0.0: #WhyILeft, 1.0: #WhyIStayed\n",
      "|   mentions |    0 |     1 |\n",
      "|-----------:|-----:|------:|\n",
      "|          0 | 5415 | 11861 |\n",
      "|          1 |  318 |  1458 |\n",
      "|          2 |   67 |   304 |\n",
      "|          3 |   14 |    71 |\n",
      "|          4 |    4 |    18 |\n",
      "|          5 |    2 |    11 |\n",
      "|          6 |    1 |     4 |\n",
      "|          7 |    0 |     3 |\n",
      "|         11 |    0 |     1 |\n",
      "H_0: There is no difference between levels of mentions based on the labeled hashtag.\n",
      "H_1: There is a difference between levels of mentions based on the labeled hashtag.\n",
      "Chi-square value: 176.19344079796232 p-value: 6.481562087692364e-34 dof: 8 \n",
      "\n",
      "We reject the null hypothesis. \n",
      "\n"
     ]
    }
   ],
   "source": [
    "chi2(col='mentions')"
   ]
  },
  {
   "cell_type": "markdown",
   "id": "60f4e70b-ef9c-43ae-ad89-6bfebb285240",
   "metadata": {},
   "source": [
    "## URLs"
   ]
  },
  {
   "cell_type": "code",
   "execution_count": 80,
   "id": "04e5dab9-d2f9-4d34-8880-a790822b1353",
   "metadata": {},
   "outputs": [],
   "source": [
    "df['urls']=df.tokens.apply(lambda x: x.count('url'))"
   ]
  },
  {
   "cell_type": "code",
   "execution_count": 81,
   "id": "385ced9a-c24e-4ab5-9870-e2d68f6ce199",
   "metadata": {},
   "outputs": [
    {
     "data": {
      "text/plain": [
       "label        urls\n",
       "#WhyILeft    0       0.942965\n",
       "             1       0.052912\n",
       "             2       0.004123\n",
       "#WhyIStayed  0       0.878450\n",
       "             1       0.113976\n",
       "             2       0.007356\n",
       "             3       0.000146\n",
       "             4       0.000073\n",
       "Name: urls, dtype: float64"
      ]
     },
     "execution_count": 81,
     "metadata": {},
     "output_type": "execute_result"
    }
   ],
   "source": [
    "df.groupby(by='label').urls.value_counts(normalize=True)"
   ]
  },
  {
   "cell_type": "code",
   "execution_count": 82,
   "id": "c1747ec3-7e59-4d5d-a10a-762069b3727c",
   "metadata": {},
   "outputs": [
    {
     "name": "stdout",
     "output_type": "stream",
     "text": [
      "0.0: #WhyILeft, 1.0: #WhyIStayed\n",
      "|   urls |    0 |     1 |\n",
      "|-------:|-----:|------:|\n",
      "|      0 | 5489 | 12062 |\n",
      "|      1 |  308 |  1565 |\n",
      "|      2 |   24 |   101 |\n",
      "|      3 |    0 |     2 |\n",
      "|      4 |    0 |     1 |\n",
      "H_0: There is no difference between levels of urls based on the labeled hashtag.\n",
      "H_1: There is a difference between levels of urls based on the labeled hashtag.\n",
      "Chi-square value: 186.03021981718524 p-value: 3.7778846297884304e-39 dof: 4 \n",
      "\n",
      "We reject the null hypothesis. \n",
      "\n"
     ]
    }
   ],
   "source": [
    "chi2(col='urls')"
   ]
  },
  {
   "cell_type": "markdown",
   "id": "ba9f5378-b3ca-4b47-a519-03ff2e3a0b20",
   "metadata": {
    "tags": []
   },
   "source": [
    "## Word Length"
   ]
  },
  {
   "cell_type": "code",
   "execution_count": 83,
   "id": "c488e748-2d3d-4395-9c8e-2e6a173bcb7d",
   "metadata": {},
   "outputs": [
    {
     "data": {
      "text/plain": [
       "count    19552.000000\n",
       "mean        16.020254\n",
       "std          6.930676\n",
       "min          1.000000\n",
       "25%         10.000000\n",
       "50%         16.000000\n",
       "75%         22.000000\n",
       "max         34.000000\n",
       "Name: words, dtype: float64"
      ]
     },
     "execution_count": 83,
     "metadata": {},
     "output_type": "execute_result"
    }
   ],
   "source": [
    "df.words.describe()"
   ]
  },
  {
   "cell_type": "code",
   "execution_count": 84,
   "id": "6d7ecddb-cf75-48c9-b6b1-2809571c2ea8",
   "metadata": {},
   "outputs": [
    {
     "data": {
      "image/png": "[encoded data removed]",
      "text/plain": [
       "<Figure size 1000x200 with 1 Axes>"
      ]
     },
     "metadata": {},
     "output_type": "display_data"
    }
   ],
   "source": [
    "sns.set(rc={'figure.figsize':(10,2)})\n",
    "b=sns.boxplot(x='words', data=df, showmeans=True, color='mediumslateblue', medianprops={'color':'lavenderblush'}, meanprops={'marker':'.','markerfacecolor':'lavender','markeredgecolor':'black'})\n",
    "b.set(xlabel='Number of Words Per Post', title='Words per Post in '+str(len(df.post))+' Twitter Posts');"
   ]
  },
  {
   "cell_type": "code",
   "execution_count": 85,
   "id": "dd194379-8775-4e31-b79a-8f60048899bb",
   "metadata": {},
   "outputs": [
    {
     "data": {
      "text/plain": [
       "count    19552.000000\n",
       "mean         5.254220\n",
       "std          0.843308\n",
       "min          3.000000\n",
       "25%          4.740741\n",
       "50%          5.117647\n",
       "75%          5.600000\n",
       "max         30.000000\n",
       "Name: avg_word_length, dtype: float64"
      ]
     },
     "execution_count": 85,
     "metadata": {},
     "output_type": "execute_result"
    }
   ],
   "source": [
    "df['avg_word_length']=df.chars/df.words\n",
    "df.avg_word_length.describe()"
   ]
  },
  {
   "cell_type": "code",
   "execution_count": 86,
   "id": "1f5051dd-dc9f-41b3-9c07-361e0e94db8b",
   "metadata": {},
   "outputs": [
    {
     "data": {
      "image/png": "[encoded data removed]",
      "text/plain": [
       "<Figure size 1000x200 with 1 Axes>"
      ]
     },
     "metadata": {},
     "output_type": "display_data"
    }
   ],
   "source": [
    "sns.set(rc={'figure.figsize':(10,2)})\n",
    "b=sns.boxplot(x='avg_word_length', data=df, showfliers = False, showmeans=True, color='mediumslateblue', medianprops={'color':'lavenderblush'}, meanprops={'marker':'.','markerfacecolor':'lavender','markeredgecolor':'black'})\n",
    "b.set(xlabel='Average Word Length Per Post', title='Average Word Length per Post in '+str(len(df.post))+' Twitter Posts');"
   ]
  },
  {
   "cell_type": "markdown",
   "id": "f54bce26-03cb-4449-b3df-3914ac4d292e",
   "metadata": {},
   "source": [
    "## Number of Words"
   ]
  },
  {
   "cell_type": "code",
   "execution_count": 87,
   "id": "d4e4a204-9f67-43c6-824a-d177ef264a4f",
   "metadata": {},
   "outputs": [
    {
     "data": {
      "image/png": "[encoded data removed]",
      "text/plain": [
       "<Figure size 600x400 with 1 Axes>"
      ]
     },
     "metadata": {},
     "output_type": "display_data"
    }
   ],
   "source": [
    "sns.set(rc={'figure.figsize':(6,4)})\n",
    "b=sns.histplot(x=df[df.label=='#WhyIStayed']['words'], bins=30)\n",
    "b.set(xlim=(0, 30), xlabel='Number of Words', ylabel='Count', title='Number of Words in #WhyIStayed Posts');"
   ]
  },
  {
   "cell_type": "code",
   "execution_count": 88,
   "id": "b235b7f4-036d-4480-b80d-318b8a5ee316",
   "metadata": {},
   "outputs": [
    {
     "data": {
      "image/png": "[encoded data removed]",
      "text/plain": [
       "<Figure size 600x400 with 1 Axes>"
      ]
     },
     "metadata": {},
     "output_type": "display_data"
    }
   ],
   "source": [
    "sns.set(rc={'figure.figsize':(6,4)})\n",
    "b=sns.histplot(x=df[df.label=='#WhyILeft']['words'], bins=30)\n",
    "b.set(xlim=(0, 30), xlabel='Number of Words', ylabel='Count', title='Number of Words in #WhyILeft Posts');"
   ]
  },
  {
   "cell_type": "code",
   "execution_count": 89,
   "id": "20f3de0b-c6e0-45da-abb1-6ed99df85307",
   "metadata": {},
   "outputs": [
    {
     "data": {
      "image/png": "[encoded data removed]",
      "text/plain": [
       "<Figure size 500x500 with 1 Axes>"
      ]
     },
     "metadata": {},
     "output_type": "display_data"
    }
   ],
   "source": [
    "sns.set(rc={'figure.figsize':(6,4)})\n",
    "ax1=sns.catplot(x='label', y='words', data=df, kind='box', showfliers = False)\n",
    "ax1.set(xlabel='Type', ylabel='Number of Words', title='Number of Words per Type of Submission');"
   ]
  },
  {
   "cell_type": "code",
   "execution_count": 90,
   "id": "3460bd25-a88c-44ad-9fb3-c55f6a38c84b",
   "metadata": {},
   "outputs": [
    {
     "data": {
      "text/html": [
       "<div>\n",
       "<style scoped>\n",
       "    .dataframe tbody tr th:only-of-type {\n",
       "        vertical-align: middle;\n",
       "    }\n",
       "\n",
       "    .dataframe tbody tr th {\n",
       "        vertical-align: top;\n",
       "    }\n",
       "\n",
       "    .dataframe thead th {\n",
       "        text-align: right;\n",
       "    }\n",
       "</style>\n",
       "<table border=\"1\" class=\"dataframe\">\n",
       "  <thead>\n",
       "    <tr style=\"text-align: right;\">\n",
       "      <th></th>\n",
       "      <th>count</th>\n",
       "      <th>mean</th>\n",
       "      <th>std</th>\n",
       "      <th>min</th>\n",
       "      <th>25%</th>\n",
       "      <th>50%</th>\n",
       "      <th>75%</th>\n",
       "      <th>max</th>\n",
       "    </tr>\n",
       "    <tr>\n",
       "      <th>label</th>\n",
       "      <th></th>\n",
       "      <th></th>\n",
       "      <th></th>\n",
       "      <th></th>\n",
       "      <th></th>\n",
       "      <th></th>\n",
       "      <th></th>\n",
       "      <th></th>\n",
       "    </tr>\n",
       "  </thead>\n",
       "  <tbody>\n",
       "    <tr>\n",
       "      <th>#WhyILeft</th>\n",
       "      <td>5821.0</td>\n",
       "      <td>14.407490</td>\n",
       "      <td>7.15469</td>\n",
       "      <td>1.0</td>\n",
       "      <td>8.0</td>\n",
       "      <td>13.0</td>\n",
       "      <td>20.0</td>\n",
       "      <td>33.0</td>\n",
       "    </tr>\n",
       "    <tr>\n",
       "      <th>#WhyIStayed</th>\n",
       "      <td>13731.0</td>\n",
       "      <td>16.703955</td>\n",
       "      <td>6.71789</td>\n",
       "      <td>1.0</td>\n",
       "      <td>11.0</td>\n",
       "      <td>17.0</td>\n",
       "      <td>22.0</td>\n",
       "      <td>34.0</td>\n",
       "    </tr>\n",
       "  </tbody>\n",
       "</table>\n",
       "</div>"
      ],
      "text/plain": [
       "               count       mean      std  min   25%   50%   75%   max\n",
       "label                                                                \n",
       "#WhyILeft     5821.0  14.407490  7.15469  1.0   8.0  13.0  20.0  33.0\n",
       "#WhyIStayed  13731.0  16.703955  6.71789  1.0  11.0  17.0  22.0  34.0"
      ]
     },
     "execution_count": 90,
     "metadata": {},
     "output_type": "execute_result"
    }
   ],
   "source": [
    "df.groupby(by=['label']).words.describe()"
   ]
  },
  {
   "cell_type": "code",
   "execution_count": 91,
   "id": "bce44152-229a-4943-a1a9-7e8c02d54fee",
   "metadata": {},
   "outputs": [
    {
     "data": {
      "text/plain": [
       "Ttest_indResult(statistic=21.432379550969372, pvalue=9.612443219457559e-101)"
      ]
     },
     "execution_count": 91,
     "metadata": {},
     "output_type": "execute_result"
    }
   ],
   "source": [
    "ttest_ind(df[df.label=='#WhyIStayed'].words, df[df.label=='#WhyILeft'].words)"
   ]
  },
  {
   "cell_type": "markdown",
   "id": "5115391f-a7f3-4788-8afd-067a4ee28fce",
   "metadata": {},
   "source": [
    "#WhyIStayed posts contain more words."
   ]
  },
  {
   "cell_type": "markdown",
   "id": "7e387bdf-f12b-4fe1-b9bf-b187fe81ee7c",
   "metadata": {},
   "source": [
    "## Number of Tokens"
   ]
  },
  {
   "cell_type": "code",
   "execution_count": 92,
   "id": "2beeb9a9-dddc-421c-aadf-e0fd9327edd0",
   "metadata": {
    "tags": []
   },
   "outputs": [
    {
     "data": {
      "image/png": "[encoded data removed]",
      "text/plain": [
       "<Figure size 600x400 with 1 Axes>"
      ]
     },
     "metadata": {},
     "output_type": "display_data"
    }
   ],
   "source": [
    "sns.set(rc={'figure.figsize':(6,4)})\n",
    "b=sns.histplot(x=df[df.label=='#WhyIStayed']['tokens'].str.split(' ').apply(len), bins=20)\n",
    "b.set(xlim=(0, 20), xlabel='Number of Tokens', ylabel='Count', title='Number of Tokens in #WhyIStayed Posts');"
   ]
  },
  {
   "cell_type": "code",
   "execution_count": 93,
   "id": "530a7264-e1aa-4578-9c1c-abc6d4f94634",
   "metadata": {},
   "outputs": [
    {
     "data": {
      "image/png": "[encoded data removed]",
      "text/plain": [
       "<Figure size 600x400 with 1 Axes>"
      ]
     },
     "metadata": {},
     "output_type": "display_data"
    }
   ],
   "source": [
    "sns.set(rc={'figure.figsize':(6,4)})\n",
    "b=sns.histplot(x=df[df.label=='#WhyILeft']['tokens'].str.split(' ').apply(len), bins=20)\n",
    "b.set(xlim=(0, 20), xlabel='Number of Tokens', ylabel='Count', title='Number of Tokens in #WhyILeft Posts');"
   ]
  },
  {
   "cell_type": "code",
   "execution_count": 94,
   "id": "fb528ab7-0e2f-428f-bc12-4d3fedd74f76",
   "metadata": {},
   "outputs": [
    {
     "data": {
      "text/plain": [
       "0         5\n",
       "1         8\n",
       "2         7\n",
       "3         6\n",
       "4        11\n",
       "         ..\n",
       "19547     3\n",
       "19548     4\n",
       "19549     2\n",
       "19550    15\n",
       "19551    11\n",
       "Name: tokens, Length: 19552, dtype: int64"
      ]
     },
     "execution_count": 94,
     "metadata": {},
     "output_type": "execute_result"
    }
   ],
   "source": [
    "df.tokens.str.split(' ').apply(len)"
   ]
  },
  {
   "cell_type": "code",
   "execution_count": 95,
   "id": "979d7f9d-aeea-4da0-b796-7eaa263675e2",
   "metadata": {},
   "outputs": [
    {
     "data": {
      "image/png": "[encoded data removed]",
      "text/plain": [
       "<Figure size 500x500 with 1 Axes>"
      ]
     },
     "metadata": {},
     "output_type": "display_data"
    }
   ],
   "source": [
    "sns.set(rc={'figure.figsize':(6,4)})\n",
    "ax1=sns.catplot(x='label', y='num_tokens', data=df, kind='box', showfliers = False)\n",
    "ax1.set(xlabel='Type', ylabel='Number of Tokens', title='Number of Tokens per Type of Submission');"
   ]
  },
  {
   "cell_type": "code",
   "execution_count": 96,
   "id": "2e2c410a-2062-4c6a-a052-76a22926f265",
   "metadata": {},
   "outputs": [
    {
     "data": {
      "text/plain": [
       "Ttest_indResult(statistic=13.476351489163509, pvalue=3.292337059364673e-41)"
      ]
     },
     "execution_count": 96,
     "metadata": {},
     "output_type": "execute_result"
    }
   ],
   "source": [
    "ttest_ind(df[df.label=='#WhyIStayed'].num_tokens, df[df.label=='#WhyILeft'].num_tokens)"
   ]
  },
  {
   "cell_type": "markdown",
   "id": "12a3c9d5-537e-4811-a8cd-b06d4b42302f",
   "metadata": {
    "tags": []
   },
   "source": [
    "#WhyIStayed posts have more tokens."
   ]
  },
  {
   "cell_type": "markdown",
   "id": "b37ee361-b0f4-4927-92fd-80a18f4a5148",
   "metadata": {
    "tags": []
   },
   "source": [
    "## Emojis"
   ]
  },
  {
   "cell_type": "code",
   "execution_count": 97,
   "id": "0cd86d84",
   "metadata": {},
   "outputs": [
    {
     "data": {
      "text/plain": [
       "label        emojis\n",
       "#WhyILeft    0         0.988318\n",
       "             1         0.008933\n",
       "             2         0.001718\n",
       "             3         0.000859\n",
       "             4         0.000172\n",
       "#WhyIStayed  0         0.990023\n",
       "             1         0.005972\n",
       "             2         0.002549\n",
       "             3         0.001020\n",
       "             4         0.000146\n",
       "             5         0.000146\n",
       "             6         0.000073\n",
       "             7         0.000073\n",
       "Name: emojis, dtype: float64"
      ]
     },
     "execution_count": 97,
     "metadata": {},
     "output_type": "execute_result"
    }
   ],
   "source": [
    "df.groupby(by='label').emojis.value_counts(normalize=True)"
   ]
  },
  {
   "cell_type": "code",
   "execution_count": 98,
   "id": "f5cf88b5-77a1-42f1-af59-0b96e1d2fb3c",
   "metadata": {},
   "outputs": [
    {
     "data": {
      "text/plain": [
       "0    13594\n",
       "1       82\n",
       "2       35\n",
       "3       14\n",
       "4        2\n",
       "5        2\n",
       "6        1\n",
       "7        1\n",
       "Name: emojis, dtype: int64"
      ]
     },
     "execution_count": 98,
     "metadata": {},
     "output_type": "execute_result"
    }
   ],
   "source": [
    "df[df.label=='#WhyIStayed'].emojis.value_counts()"
   ]
  },
  {
   "cell_type": "code",
   "execution_count": 99,
   "id": "1eb97b46-9cdd-4c75-84c5-8363ea93a9cb",
   "metadata": {
    "scrolled": true
   },
   "outputs": [
    {
     "data": {
      "text/plain": [
       "0    5753\n",
       "1      52\n",
       "2      10\n",
       "3       5\n",
       "4       1\n",
       "Name: emojis, dtype: int64"
      ]
     },
     "execution_count": 99,
     "metadata": {},
     "output_type": "execute_result"
    }
   ],
   "source": [
    "df[df.label=='#WhyILeft'].emojis.value_counts()"
   ]
  },
  {
   "cell_type": "code",
   "execution_count": 100,
   "id": "d89e6c05",
   "metadata": {},
   "outputs": [
    {
     "name": "stdout",
     "output_type": "stream",
     "text": [
      "0.0: #WhyILeft, 1.0: #WhyIStayed\n",
      "|   emojis |    0 |     1 |\n",
      "|---------:|-----:|------:|\n",
      "|        0 | 5753 | 13594 |\n",
      "|        1 |   52 |    82 |\n",
      "|        2 |   10 |    35 |\n",
      "|        3 |    5 |    14 |\n",
      "|        4 |    1 |     2 |\n",
      "|        5 |    0 |     2 |\n",
      "|        6 |    0 |     1 |\n",
      "|        7 |    0 |     1 |\n",
      "H_0: There is no difference between levels of emojis based on the labeled hashtag.\n",
      "H_1: There is a difference between levels of emojis based on the labeled hashtag.\n",
      "Chi-square value: 8.291851093132312 p-value: 0.3075636435935379 dof: 7 \n",
      "\n",
      "We cannot reject the null hypothesis. \n",
      "\n"
     ]
    }
   ],
   "source": [
    "chi2(col='emojis')"
   ]
  },
  {
   "cell_type": "markdown",
   "id": "2fdf24a1-d135-4fe1-bf1a-b7c0dc2bf02f",
   "metadata": {},
   "source": [
    "## Sentiments"
   ]
  },
  {
   "cell_type": "code",
   "execution_count": 101,
   "id": "e2c71c60-5f22-41f1-898a-c6b0d878c31c",
   "metadata": {},
   "outputs": [
    {
     "data": {
      "text/plain": [
       "anger       0.032899\n",
       "disgust     0.004988\n",
       "fear        0.024341\n",
       "happy       0.030826\n",
       "neutral     0.002911\n",
       "sad         0.021010\n",
       "surprise    0.021336\n",
       "dtype: float64"
      ]
     },
     "execution_count": 101,
     "metadata": {},
     "output_type": "execute_result"
    }
   ],
   "source": [
    "df[sentiment_order].mean()"
   ]
  },
  {
   "cell_type": "code",
   "execution_count": 102,
   "id": "e075eaa1-3ca7-4a28-a7a7-f52b45d85bc3",
   "metadata": {},
   "outputs": [
    {
     "data": {
      "text/plain": [
       "14616"
      ]
     },
     "execution_count": 102,
     "metadata": {},
     "output_type": "execute_result"
    }
   ],
   "source": [
    "df.top_sentiment.notna().sum()"
   ]
  },
  {
   "cell_type": "code",
   "execution_count": 103,
   "id": "d03eb1de-d429-4803-a076-a50b19768e69",
   "metadata": {},
   "outputs": [
    {
     "data": {
      "image/png": "[encoded data removed]",
      "text/plain": [
       "<Figure size 600x400 with 1 Axes>"
      ]
     },
     "metadata": {},
     "output_type": "display_data"
    }
   ],
   "source": [
    "sns.set(rc={'figure.figsize':(6,4)})\n",
    "b=sns.barplot(x=sentiment_order, y=df[sentiment_order].mean())\n",
    "b.set(xlabel='Post Sentiment', ylabel='Score', title='Average Sentiment of '+str(df.top_sentiment.notna().sum())+' Posts');"
   ]
  },
  {
   "cell_type": "code",
   "execution_count": 104,
   "id": "89ac8337-8f36-4814-8c5c-67f10830df9e",
   "metadata": {},
   "outputs": [
    {
     "data": {
      "text/plain": [
       "label\n",
       "#WhyILeft       4304\n",
       "#WhyIStayed    10312\n",
       "Name: top_sentiment, dtype: int64"
      ]
     },
     "execution_count": 104,
     "metadata": {},
     "output_type": "execute_result"
    }
   ],
   "source": [
    "df.groupby('label').top_sentiment.count()"
   ]
  },
  {
   "cell_type": "code",
   "execution_count": 105,
   "id": "f7f20385-0feb-459a-a60d-470ce0392ac1",
   "metadata": {},
   "outputs": [],
   "source": [
    "sentiment_df=df.groupby('label')[sentiment_order].mean().transpose().reset_index()\n",
    "sentiment_df=sentiment_df.rename(columns={'index':'sentiment'})\n",
    "sentiment_df=pd.melt(sentiment_df, id_vars='sentiment')"
   ]
  },
  {
   "cell_type": "code",
   "execution_count": 106,
   "id": "6f48668b-ef0d-4fb3-8e5b-b0744e5b9f6b",
   "metadata": {},
   "outputs": [
    {
     "data": {
      "text/html": [
       "<div>\n",
       "<style scoped>\n",
       "    .dataframe tbody tr th:only-of-type {\n",
       "        vertical-align: middle;\n",
       "    }\n",
       "\n",
       "    .dataframe tbody tr th {\n",
       "        vertical-align: top;\n",
       "    }\n",
       "\n",
       "    .dataframe thead th {\n",
       "        text-align: right;\n",
       "    }\n",
       "</style>\n",
       "<table border=\"1\" class=\"dataframe\">\n",
       "  <thead>\n",
       "    <tr style=\"text-align: right;\">\n",
       "      <th></th>\n",
       "      <th>sentiment</th>\n",
       "      <th>label</th>\n",
       "      <th>value</th>\n",
       "    </tr>\n",
       "  </thead>\n",
       "  <tbody>\n",
       "    <tr>\n",
       "      <th>0</th>\n",
       "      <td>anger</td>\n",
       "      <td>#WhyILeft</td>\n",
       "      <td>0.029438</td>\n",
       "    </tr>\n",
       "    <tr>\n",
       "      <th>1</th>\n",
       "      <td>disgust</td>\n",
       "      <td>#WhyILeft</td>\n",
       "      <td>0.004647</td>\n",
       "    </tr>\n",
       "    <tr>\n",
       "      <th>2</th>\n",
       "      <td>fear</td>\n",
       "      <td>#WhyILeft</td>\n",
       "      <td>0.025338</td>\n",
       "    </tr>\n",
       "    <tr>\n",
       "      <th>3</th>\n",
       "      <td>happy</td>\n",
       "      <td>#WhyILeft</td>\n",
       "      <td>0.033018</td>\n",
       "    </tr>\n",
       "    <tr>\n",
       "      <th>4</th>\n",
       "      <td>neutral</td>\n",
       "      <td>#WhyILeft</td>\n",
       "      <td>0.003405</td>\n",
       "    </tr>\n",
       "    <tr>\n",
       "      <th>5</th>\n",
       "      <td>sad</td>\n",
       "      <td>#WhyILeft</td>\n",
       "      <td>0.021106</td>\n",
       "    </tr>\n",
       "    <tr>\n",
       "      <th>6</th>\n",
       "      <td>surprise</td>\n",
       "      <td>#WhyILeft</td>\n",
       "      <td>0.021497</td>\n",
       "    </tr>\n",
       "    <tr>\n",
       "      <th>7</th>\n",
       "      <td>anger</td>\n",
       "      <td>#WhyIStayed</td>\n",
       "      <td>0.034343</td>\n",
       "    </tr>\n",
       "    <tr>\n",
       "      <th>8</th>\n",
       "      <td>disgust</td>\n",
       "      <td>#WhyIStayed</td>\n",
       "      <td>0.005130</td>\n",
       "    </tr>\n",
       "    <tr>\n",
       "      <th>9</th>\n",
       "      <td>fear</td>\n",
       "      <td>#WhyIStayed</td>\n",
       "      <td>0.023925</td>\n",
       "    </tr>\n",
       "    <tr>\n",
       "      <th>10</th>\n",
       "      <td>happy</td>\n",
       "      <td>#WhyIStayed</td>\n",
       "      <td>0.029912</td>\n",
       "    </tr>\n",
       "    <tr>\n",
       "      <th>11</th>\n",
       "      <td>neutral</td>\n",
       "      <td>#WhyIStayed</td>\n",
       "      <td>0.002705</td>\n",
       "    </tr>\n",
       "    <tr>\n",
       "      <th>12</th>\n",
       "      <td>sad</td>\n",
       "      <td>#WhyIStayed</td>\n",
       "      <td>0.020970</td>\n",
       "    </tr>\n",
       "    <tr>\n",
       "      <th>13</th>\n",
       "      <td>surprise</td>\n",
       "      <td>#WhyIStayed</td>\n",
       "      <td>0.021269</td>\n",
       "    </tr>\n",
       "  </tbody>\n",
       "</table>\n",
       "</div>"
      ],
      "text/plain": [
       "   sentiment        label     value\n",
       "0      anger    #WhyILeft  0.029438\n",
       "1    disgust    #WhyILeft  0.004647\n",
       "2       fear    #WhyILeft  0.025338\n",
       "3      happy    #WhyILeft  0.033018\n",
       "4    neutral    #WhyILeft  0.003405\n",
       "5        sad    #WhyILeft  0.021106\n",
       "6   surprise    #WhyILeft  0.021497\n",
       "7      anger  #WhyIStayed  0.034343\n",
       "8    disgust  #WhyIStayed  0.005130\n",
       "9       fear  #WhyIStayed  0.023925\n",
       "10     happy  #WhyIStayed  0.029912\n",
       "11   neutral  #WhyIStayed  0.002705\n",
       "12       sad  #WhyIStayed  0.020970\n",
       "13  surprise  #WhyIStayed  0.021269"
      ]
     },
     "execution_count": 106,
     "metadata": {},
     "output_type": "execute_result"
    }
   ],
   "source": [
    "sentiment_df"
   ]
  },
  {
   "cell_type": "code",
   "execution_count": 107,
   "id": "a972adac-0ecf-4361-a439-08e140940d6c",
   "metadata": {
    "tags": []
   },
   "outputs": [
    {
     "data": {
      "image/png": "[encoded data removed]",
      "text/plain": [
       "<Figure size 800x600 with 2 Axes>"
      ]
     },
     "metadata": {},
     "output_type": "display_data"
    }
   ],
   "source": [
    "sns.set(rc={'figure.figsize':(8,6)})\n",
    "h=sns.histplot(x='sentiment', y='label', data=sentiment_df, weights='value', cbar=True)\n",
    "h.set(xlabel='Sentiment', ylabel='Type', title='Sentiments of 4423 #WhyILeft and 10885 #WhyIStayed Posts');"
   ]
  },
  {
   "cell_type": "code",
   "execution_count": 108,
   "id": "9ed1e6c5",
   "metadata": {},
   "outputs": [
    {
     "data": {
      "text/html": [
       "<div>\n",
       "<style scoped>\n",
       "    .dataframe tbody tr th:only-of-type {\n",
       "        vertical-align: middle;\n",
       "    }\n",
       "\n",
       "    .dataframe tbody tr th {\n",
       "        vertical-align: top;\n",
       "    }\n",
       "\n",
       "    .dataframe thead th {\n",
       "        text-align: right;\n",
       "    }\n",
       "</style>\n",
       "<table border=\"1\" class=\"dataframe\">\n",
       "  <thead>\n",
       "    <tr style=\"text-align: right;\">\n",
       "      <th></th>\n",
       "      <th>anger</th>\n",
       "      <th>disgust</th>\n",
       "      <th>fear</th>\n",
       "      <th>happy</th>\n",
       "      <th>neutral</th>\n",
       "      <th>sad</th>\n",
       "      <th>surprise</th>\n",
       "    </tr>\n",
       "    <tr>\n",
       "      <th>label</th>\n",
       "      <th></th>\n",
       "      <th></th>\n",
       "      <th></th>\n",
       "      <th></th>\n",
       "      <th></th>\n",
       "      <th></th>\n",
       "      <th></th>\n",
       "    </tr>\n",
       "  </thead>\n",
       "  <tbody>\n",
       "    <tr>\n",
       "      <th>#WhyILeft</th>\n",
       "      <td>0.212629</td>\n",
       "      <td>0.033565</td>\n",
       "      <td>0.183012</td>\n",
       "      <td>0.238487</td>\n",
       "      <td>0.024592</td>\n",
       "      <td>0.152443</td>\n",
       "      <td>0.155271</td>\n",
       "    </tr>\n",
       "    <tr>\n",
       "      <th>#WhyIStayed</th>\n",
       "      <td>0.248404</td>\n",
       "      <td>0.037107</td>\n",
       "      <td>0.173053</td>\n",
       "      <td>0.216352</td>\n",
       "      <td>0.019565</td>\n",
       "      <td>0.151678</td>\n",
       "      <td>0.153841</td>\n",
       "    </tr>\n",
       "  </tbody>\n",
       "</table>\n",
       "</div>"
      ],
      "text/plain": [
       "                anger   disgust      fear     happy   neutral       sad  \\\n",
       "label                                                                     \n",
       "#WhyILeft    0.212629  0.033565  0.183012  0.238487  0.024592  0.152443   \n",
       "#WhyIStayed  0.248404  0.037107  0.173053  0.216352  0.019565  0.151678   \n",
       "\n",
       "             surprise  \n",
       "label                  \n",
       "#WhyILeft    0.155271  \n",
       "#WhyIStayed  0.153841  "
      ]
     },
     "execution_count": 108,
     "metadata": {},
     "output_type": "execute_result"
    }
   ],
   "source": [
    "sentiments=pd.DataFrame(df.groupby('label')[sentiment_order].sum())\n",
    "sentiments=sentiments.div(sentiments.sum(axis=1), axis=0) #percent stacked\n",
    "sentiments.head()"
   ]
  },
  {
   "cell_type": "code",
   "execution_count": 109,
   "id": "ff30aa55-141a-48a0-aa11-f826ac2ca4c2",
   "metadata": {},
   "outputs": [
    {
     "data": {
      "image/png": "[encoded data removed]",
      "text/plain": [
       "<Figure size 800x600 with 1 Axes>"
      ]
     },
     "metadata": {},
     "output_type": "display_data"
    }
   ],
   "source": [
    "ax=sentiments.plot(kind='bar', stacked=True, legend='reverse')\n",
    "ax.set(xlabel='Type of Tweet', title='Sentiment According to Type of Tweet')\n",
    "plt.legend(bbox_to_anchor=(1.05,1))\n",
    "plt.xticks(rotation=0);"
   ]
  },
  {
   "cell_type": "markdown",
   "id": "50acf042-ff60-4442-b42a-95f8d09a3851",
   "metadata": {},
   "source": [
    "### Happy"
   ]
  },
  {
   "cell_type": "code",
   "execution_count": 110,
   "id": "286a6b63",
   "metadata": {
    "scrolled": false
   },
   "outputs": [
    {
     "data": {
      "text/plain": [
       "3                             [love]\n",
       "14                            [love]\n",
       "15                          [better]\n",
       "21                            [love]\n",
       "22          [better, better, wanted]\n",
       "                    ...             \n",
       "19454                         [love]\n",
       "19486    [powerful, taken, together]\n",
       "19499        [taken, daughter, knew]\n",
       "19539                       [better]\n",
       "19543                [worth, wanted]\n",
       "Name: top_sentiment_words, Length: 1724, dtype: object"
      ]
     },
     "execution_count": 110,
     "metadata": {},
     "output_type": "execute_result"
    }
   ],
   "source": [
    "df[(df.top_sentiment=='happy')&(df.label=='#WhyILeft')].top_sentiment_words"
   ]
  },
  {
   "cell_type": "code",
   "execution_count": 111,
   "id": "e1804260",
   "metadata": {},
   "outputs": [],
   "source": [
    "happy_words_left=[word for lst in df[(df.top_sentiment=='happy')&(df.label=='#WhyILeft')].top_sentiment_words for word in lst]"
   ]
  },
  {
   "cell_type": "code",
   "execution_count": 112,
   "id": "aa711c35-eec9-4b2d-a31a-2188e2966d18",
   "metadata": {
    "scrolled": true
   },
   "outputs": [
    {
     "data": {
      "text/plain": [
       "[('love', 479),\n",
       " ('better', 390),\n",
       " ('worth', 143),\n",
       " ('knew', 120),\n",
       " ('god', 94),\n",
       " ('daughter', 90),\n",
       " ('wanted', 83),\n",
       " ('never', 67),\n",
       " ('happy', 64),\n",
       " ('good', 63)]"
      ]
     },
     "execution_count": 112,
     "metadata": {},
     "output_type": "execute_result"
    }
   ],
   "source": [
    "from collections import Counter\n",
    "Counter(happy_words_left).most_common(10)"
   ]
  },
  {
   "cell_type": "code",
   "execution_count": 113,
   "id": "427b54c3-ccd2-4201-bc36-85a3896a071f",
   "metadata": {},
   "outputs": [
    {
     "data": {
      "text/plain": [
       "'@AC360 I loved him, but I learned to love myself enough to stop allowing him to treat me that way #WhyILeft'"
      ]
     },
     "execution_count": 113,
     "metadata": {},
     "output_type": "execute_result"
    }
   ],
   "source": [
    "df.post[21] #love"
   ]
  },
  {
   "cell_type": "code",
   "execution_count": 114,
   "id": "dca18876-7ca9-4cb5-bc14-f7074762eec8",
   "metadata": {},
   "outputs": [
    {
     "data": {
      "text/plain": [
       "'I wanted a better life for my son of happiness, no fighting, and to prove I am better then that #whyileft'"
      ]
     },
     "execution_count": 114,
     "metadata": {},
     "output_type": "execute_result"
    }
   ],
   "source": [
    "df.post[22] #better #better #wanted"
   ]
  },
  {
   "cell_type": "code",
   "execution_count": 115,
   "id": "09a79fea-2171-468f-a9cd-962e8331def1",
   "metadata": {},
   "outputs": [
    {
     "data": {
      "text/plain": [
       "'To give my son the fair opportunity to learn to respect women, mothers, and me. And because I love him. #WhyILeft http://t.co/t3LRhoNkVl'"
      ]
     },
     "execution_count": 115,
     "metadata": {},
     "output_type": "execute_result"
    }
   ],
   "source": [
    "df.post[41] #respect #love #opportunity #fair"
   ]
  },
  {
   "cell_type": "code",
   "execution_count": 116,
   "id": "d002a7e0-7ea8-4815-8ea8-c472cb644ee7",
   "metadata": {},
   "outputs": [
    {
     "data": {
      "text/plain": [
       "' because I gained the courage to love myself. #Enddomesticviolence'"
      ]
     },
     "execution_count": 116,
     "metadata": {},
     "output_type": "execute_result"
    }
   ],
   "source": [
    "df.post[56] #love"
   ]
  },
  {
   "cell_type": "code",
   "execution_count": 117,
   "id": "646914d3-8c99-41f8-8117-4f6d3105cb1e",
   "metadata": {},
   "outputs": [
    {
     "data": {
      "text/plain": [
       "'#whyileft good friends helped me finally see that I deserve better'"
      ]
     },
     "execution_count": 117,
     "metadata": {},
     "output_type": "execute_result"
    }
   ],
   "source": [
    "df.post[85] #better #good"
   ]
  },
  {
   "cell_type": "code",
   "execution_count": 118,
   "id": "92cc71df-09ff-4e35-a1f4-3b5641ad83d3",
   "metadata": {},
   "outputs": [
    {
     "data": {
      "text/plain": [
       "' Risking having nothing and surviving was better than dying.'"
      ]
     },
     "execution_count": 118,
     "metadata": {},
     "output_type": "execute_result"
    }
   ],
   "source": [
    "df.post[144] #better"
   ]
  },
  {
   "cell_type": "code",
   "execution_count": 119,
   "id": "df7fc85e-bcb6-4c60-9e53-02e8abdbce9e",
   "metadata": {},
   "outputs": [
    {
     "data": {
      "text/plain": [
       "[('love', 925),\n",
       " ('better', 477),\n",
       " ('believe', 360),\n",
       " ('good', 271),\n",
       " ('relationship', 144),\n",
       " ('need', 128),\n",
       " ('marriage', 126),\n",
       " ('never', 122),\n",
       " ('worth', 100),\n",
       " ('wanted', 93)]"
      ]
     },
     "execution_count": 119,
     "metadata": {},
     "output_type": "execute_result"
    }
   ],
   "source": [
    "happy_words_stayed=[word for lst in df[(df.top_sentiment=='happy')&(df.label=='#WhyIStayed')].top_sentiment_words for word in lst]\n",
    "Counter(happy_words_stayed).most_common(10)"
   ]
  },
  {
   "cell_type": "code",
   "execution_count": 120,
   "id": "be3315f9-1ab8-4a59-82f8-9b475a2fb862",
   "metadata": {},
   "outputs": [
    {
     "data": {
      "text/plain": [
       "'Because it was \"true love\" if it hurt, and the way I was treated was \"my fault\" #WhyIStayed'"
      ]
     },
     "execution_count": 120,
     "metadata": {},
     "output_type": "execute_result"
    }
   ],
   "source": [
    "df.post[23] #love #true"
   ]
  },
  {
   "cell_type": "code",
   "execution_count": 121,
   "id": "08f7540f-d772-4148-b549-92b31571f253",
   "metadata": {},
   "outputs": [
    {
     "data": {
      "text/plain": [
       "\"Because, despite what you wish were true, you love the person who hurts you. The love doesn't just go away. #WhyIStayed\""
      ]
     },
     "execution_count": 121,
     "metadata": {},
     "output_type": "execute_result"
    }
   ],
   "source": [
    "df.post[91] #love #love #true #wish #despite"
   ]
  },
  {
   "cell_type": "code",
   "execution_count": 122,
   "id": "a8d62410-120b-4957-b93a-0ef46f8ec8b6",
   "metadata": {},
   "outputs": [
    {
     "data": {
      "text/plain": [
       "'#WhyIStayed   he made me believe I was the only one who could help him \"get better\". I thought he should be there 4 our daughter.'"
      ]
     },
     "execution_count": 122,
     "metadata": {},
     "output_type": "execute_result"
    }
   ],
   "source": [
    "df.post[65] #better #believe #daughter"
   ]
  },
  {
   "cell_type": "code",
   "execution_count": 123,
   "id": "2ceca5e3-72de-4571-a60c-80bf77e2f219",
   "metadata": {},
   "outputs": [
    {
     "data": {
      "text/plain": [
       "\"#WhyIStayed I didn't think I deserved any better.\""
      ]
     },
     "execution_count": 123,
     "metadata": {},
     "output_type": "execute_result"
    }
   ],
   "source": [
    "df.post[88] #better"
   ]
  },
  {
   "cell_type": "code",
   "execution_count": 124,
   "id": "a9c7cc4e-a7a2-426f-9ce5-08af8abcf87d",
   "metadata": {},
   "outputs": [
    {
     "data": {
      "text/plain": [
       "'#WhyIStayed   he made me believe I was the only one who could help him \"get better\". I thought he should be there 4 our daughter.'"
      ]
     },
     "execution_count": 124,
     "metadata": {},
     "output_type": "execute_result"
    }
   ],
   "source": [
    "df.post[65] #better #believe #daughter"
   ]
  },
  {
   "cell_type": "markdown",
   "id": "29494e35-32f8-4bba-b842-be1305a75fb1",
   "metadata": {},
   "source": [
    "#WhyILeft posts had a higher percentage of the happy sentiment. The word *love*, the most common word in both types of happy posts, is directed towards the self in #WhyILeft, but is directed towards the abuser in #WhyIStayed. *Better* is the second common word and is used in a hopeful manner towards the future in #WhyILeft (while *believe* is also used as a sign of hope in #WhyIStayed) In contrast, it is often used as a personal adjective in #WhyIStayed. *Daughter* was a factor in why people left abusive relationships, but *marriage* was also an indication of why people stay. "
   ]
  },
  {
   "cell_type": "markdown",
   "id": "201b3765-63ac-46ef-81c1-bce55aca75c7",
   "metadata": {},
   "source": [
    "### Anger"
   ]
  },
  {
   "cell_type": "code",
   "execution_count": 125,
   "id": "f78ef952-9702-44ed-8f15-6e1ae189fbbc",
   "metadata": {},
   "outputs": [
    {
     "data": {
      "text/plain": [
       "[('abuse', 357),\n",
       " ('leave', 144),\n",
       " ('knew', 119),\n",
       " ('wanted', 107),\n",
       " ('wrong', 81),\n",
       " ('never', 63),\n",
       " ('daughter', 58),\n",
       " ('bad', 56),\n",
       " ('tried', 54),\n",
       " ('became', 48)]"
      ]
     },
     "execution_count": 125,
     "metadata": {},
     "output_type": "execute_result"
    }
   ],
   "source": [
    "angry_words_left=[word for lst in df[(df.top_sentiment=='anger')&(df.label=='#WhyILeft')].top_sentiment_words for word in lst]\n",
    "Counter(angry_words_left).most_common(10)"
   ]
  },
  {
   "cell_type": "code",
   "execution_count": 126,
   "id": "724b72bb-a483-4db6-81e3-3536908f5340",
   "metadata": {},
   "outputs": [
    {
     "data": {
      "text/html": [
       "<div>\n",
       "<style scoped>\n",
       "    .dataframe tbody tr th:only-of-type {\n",
       "        vertical-align: middle;\n",
       "    }\n",
       "\n",
       "    .dataframe tbody tr th {\n",
       "        vertical-align: top;\n",
       "    }\n",
       "\n",
       "    .dataframe thead th {\n",
       "        text-align: right;\n",
       "    }\n",
       "</style>\n",
       "<table border=\"1\" class=\"dataframe\">\n",
       "  <thead>\n",
       "    <tr style=\"text-align: right;\">\n",
       "      <th></th>\n",
       "      <th>post</th>\n",
       "      <th>top_sentiment_words</th>\n",
       "    </tr>\n",
       "  </thead>\n",
       "  <tbody>\n",
       "    <tr>\n",
       "      <th>420</th>\n",
       "      <td>I realized I was wrong. #WhyILeft</td>\n",
       "      <td>[wrong]</td>\n",
       "    </tr>\n",
       "    <tr>\n",
       "      <th>1393</th>\n",
       "      <td>Someone proved him wrong 😉✌️✌️</td>\n",
       "      <td>[wrong]</td>\n",
       "    </tr>\n",
       "    <tr>\n",
       "      <th>1443</th>\n",
       "      <td>I knew he was wrong.</td>\n",
       "      <td>[wrong, knew]</td>\n",
       "    </tr>\n",
       "    <tr>\n",
       "      <th>1553</th>\n",
       "      <td>#whyileft I knew by staying I was sending my d...</td>\n",
       "      <td>[wrong, knew, daughter]</td>\n",
       "    </tr>\n",
       "    <tr>\n",
       "      <th>1594</th>\n",
       "      <td>#whyIleft!!!!! Keep the conversation going!!!!...</td>\n",
       "      <td>[abuse, wrong, keep]</td>\n",
       "    </tr>\n",
       "    <tr>\n",
       "      <th>1942</th>\n",
       "      <td>Only took once had a lil girl to teach that ev...</td>\n",
       "      <td>[wrong, together, good, love]</td>\n",
       "    </tr>\n",
       "    <tr>\n",
       "      <th>2226</th>\n",
       "      <td>- I realized he was wrong.</td>\n",
       "      <td>[wrong]</td>\n",
       "    </tr>\n",
       "    <tr>\n",
       "      <th>2290</th>\n",
       "      <td>Because he was wrong.I was stronger than I rea...</td>\n",
       "      <td>[wrong, daughter]</td>\n",
       "    </tr>\n",
       "    <tr>\n",
       "      <th>2418</th>\n",
       "      <td>Because I realized there was something wrong ...</td>\n",
       "      <td>[wrong]</td>\n",
       "    </tr>\n",
       "    <tr>\n",
       "      <th>2824</th>\n",
       "      <td>I knew I had to give myself the chance to pro...</td>\n",
       "      <td>[wrong, knew]</td>\n",
       "    </tr>\n",
       "    <tr>\n",
       "      <th>2875</th>\n",
       "      <td>I lived in fear of saying the wrong thing, was...</td>\n",
       "      <td>[wrong, saying, good, fear]</td>\n",
       "    </tr>\n",
       "    <tr>\n",
       "      <th>2949</th>\n",
       "      <td>I realized I was wrong.</td>\n",
       "      <td>[wrong]</td>\n",
       "    </tr>\n",
       "    <tr>\n",
       "      <th>3437</th>\n",
       "      <td>I told my friends, and the expressions on thei...</td>\n",
       "      <td>[wrong, expression, face]</td>\n",
       "    </tr>\n",
       "    <tr>\n",
       "      <th>3876</th>\n",
       "      <td>He said I would always be fat and nobody would...</td>\n",
       "      <td>[wrong, fat]</td>\n",
       "    </tr>\n",
       "    <tr>\n",
       "      <th>4285</th>\n",
       "      <td>He was wrong</td>\n",
       "      <td>[wrong]</td>\n",
       "    </tr>\n",
       "    <tr>\n",
       "      <th>4784</th>\n",
       "      <td>, I found out I was wrong</td>\n",
       "      <td>[wrong]</td>\n",
       "    </tr>\n",
       "    <tr>\n",
       "      <th>4853</th>\n",
       "      <td>Went to uni, met new ppl, heard new views, kn...</td>\n",
       "      <td>[abuse, wrong, heard, knew, met]</td>\n",
       "    </tr>\n",
       "    <tr>\n",
       "      <th>5118</th>\n",
       "      <td>I smartened up &amp;amp; realized I was wrong</td>\n",
       "      <td>[wrong]</td>\n",
       "    </tr>\n",
       "    <tr>\n",
       "      <th>5195</th>\n",
       "      <td>As for #whyIleft? The voice saying this was wr...</td>\n",
       "      <td>[wrong, saying, fear]</td>\n",
       "    </tr>\n",
       "    <tr>\n",
       "      <th>5216</th>\n",
       "      <td>I was wrong, &amp;amp; deserve better</td>\n",
       "      <td>[wrong, better]</td>\n",
       "    </tr>\n",
       "  </tbody>\n",
       "</table>\n",
       "</div>"
      ],
      "text/plain": [
       "                                                   post  \\\n",
       "420                   I realized I was wrong. #WhyILeft   \n",
       "1393                     Someone proved him wrong 😉✌️✌️   \n",
       "1443                              I knew he was wrong.    \n",
       "1553  #whyileft I knew by staying I was sending my d...   \n",
       "1594  #whyIleft!!!!! Keep the conversation going!!!!...   \n",
       "1942  Only took once had a lil girl to teach that ev...   \n",
       "2226                         - I realized he was wrong.   \n",
       "2290  Because he was wrong.I was stronger than I rea...   \n",
       "2418   Because I realized there was something wrong ...   \n",
       "2824   I knew I had to give myself the chance to pro...   \n",
       "2875  I lived in fear of saying the wrong thing, was...   \n",
       "2949                            I realized I was wrong.   \n",
       "3437  I told my friends, and the expressions on thei...   \n",
       "3876  He said I would always be fat and nobody would...   \n",
       "4285                                       He was wrong   \n",
       "4784                         , I found out I was wrong    \n",
       "4853   Went to uni, met new ppl, heard new views, kn...   \n",
       "5118          I smartened up &amp; realized I was wrong   \n",
       "5195  As for #whyIleft? The voice saying this was wr...   \n",
       "5216                  I was wrong, &amp; deserve better   \n",
       "\n",
       "                   top_sentiment_words  \n",
       "420                            [wrong]  \n",
       "1393                           [wrong]  \n",
       "1443                     [wrong, knew]  \n",
       "1553           [wrong, knew, daughter]  \n",
       "1594              [abuse, wrong, keep]  \n",
       "1942     [wrong, together, good, love]  \n",
       "2226                           [wrong]  \n",
       "2290                 [wrong, daughter]  \n",
       "2418                           [wrong]  \n",
       "2824                     [wrong, knew]  \n",
       "2875       [wrong, saying, good, fear]  \n",
       "2949                           [wrong]  \n",
       "3437         [wrong, expression, face]  \n",
       "3876                      [wrong, fat]  \n",
       "4285                           [wrong]  \n",
       "4784                           [wrong]  \n",
       "4853  [abuse, wrong, heard, knew, met]  \n",
       "5118                           [wrong]  \n",
       "5195             [wrong, saying, fear]  \n",
       "5216                   [wrong, better]  "
      ]
     },
     "execution_count": 126,
     "metadata": {},
     "output_type": "execute_result"
    }
   ],
   "source": [
    "df[(df.top_sentiment=='anger') & (df.post.str.contains('wrong')) & (df.label=='#WhyILeft')][['post', 'top_sentiment_words']].head(20)"
   ]
  },
  {
   "cell_type": "code",
   "execution_count": 127,
   "id": "b5974952-04cf-4641-aeb1-2b1b1b66523a",
   "metadata": {},
   "outputs": [
    {
     "data": {
      "text/plain": [
       "\"#WhyILeft , I became brave for my daughters, so they knew it wasn't okay to live with abuse.\""
      ]
     },
     "execution_count": 127,
     "metadata": {},
     "output_type": "execute_result"
    }
   ],
   "source": [
    "df.post[226] #abuse #became #knew #daughter"
   ]
  },
  {
   "cell_type": "code",
   "execution_count": 128,
   "id": "e617e8c5-7ca2-4227-bbea-d647e2daad2b",
   "metadata": {},
   "outputs": [
    {
     "data": {
      "text/plain": [
       "'I was finally able to realize that abuse comes in many different forms. #whyileft'"
      ]
     },
     "execution_count": 128,
     "metadata": {},
     "output_type": "execute_result"
    }
   ],
   "source": [
    "df.post[241] #abuse #able"
   ]
  },
  {
   "cell_type": "code",
   "execution_count": 129,
   "id": "a6969eda-ebe5-4b7f-81b6-637c5773e188",
   "metadata": {},
   "outputs": [
    {
     "data": {
      "text/plain": [
       "'No surprise that Oct. is #BullyingPreventionMonth &amp; National #domesticviolence awareness month. Abusive spouse is often a bully. #WhyIStayed'"
      ]
     },
     "execution_count": 129,
     "metadata": {},
     "output_type": "execute_result"
    }
   ],
   "source": [
    "df.post[1029] #leave"
   ]
  },
  {
   "cell_type": "code",
   "execution_count": 130,
   "id": "47f37f5c-c889-46e9-8634-007c355bb652",
   "metadata": {},
   "outputs": [
    {
     "data": {
      "text/plain": [
       "'Back when I was in an abusive relationship it felt like he was all I had even though he controlled everything. that is #WhyIStayed with him.'"
      ]
     },
     "execution_count": 130,
     "metadata": {},
     "output_type": "execute_result"
    }
   ],
   "source": [
    "df.post[3444] #wrong"
   ]
  },
  {
   "cell_type": "code",
   "execution_count": 131,
   "id": "0054ed60-f703-44b3-b663-b6308970defe",
   "metadata": {},
   "outputs": [
    {
     "data": {
      "text/plain": [
       "' we got home one day to a shotgun and note \"You\\'re lucky you weren\\'t home\"'"
      ]
     },
     "execution_count": 131,
     "metadata": {},
     "output_type": "execute_result"
    }
   ],
   "source": [
    "df.post[5203] #wrong"
   ]
  },
  {
   "cell_type": "code",
   "execution_count": 132,
   "id": "dfec7f54-30a4-4b9f-81ea-76309c41f6a0",
   "metadata": {},
   "outputs": [
    {
     "data": {
      "text/plain": [
       "[('abuse', 1243),\n",
       " ('leave', 727),\n",
       " ('bad', 210),\n",
       " ('wrong', 197),\n",
       " ('knew', 182),\n",
       " ('wanted', 176),\n",
       " ('tried', 172),\n",
       " ('never', 170),\n",
       " ('love', 131),\n",
       " ('hit', 114)]"
      ]
     },
     "execution_count": 132,
     "metadata": {},
     "output_type": "execute_result"
    }
   ],
   "source": [
    "angry_words_stayed=[word for lst in df[(df.top_sentiment=='anger')&(df.label=='#WhyIStayed')].top_sentiment_words for word in lst]\n",
    "Counter(angry_words_stayed).most_common(10)"
   ]
  },
  {
   "cell_type": "code",
   "execution_count": 133,
   "id": "6c31204f-c751-4faf-be0e-e74ff90eb73a",
   "metadata": {},
   "outputs": [
    {
     "data": {
      "text/plain": [
       "'A1: Fear of Retaliation. Often abuse escalates when the victim tries to leave #TEARtalk #WhyIStayed'"
      ]
     },
     "execution_count": 133,
     "metadata": {},
     "output_type": "execute_result"
    }
   ],
   "source": [
    "df.post[42] #abuse #leave #fear"
   ]
  },
  {
   "cell_type": "code",
   "execution_count": 134,
   "id": "1451682a-6119-40ab-81e3-875a0520f76f",
   "metadata": {},
   "outputs": [
    {
     "data": {
      "text/plain": [
       "\"#WhyIStayed occurred between the ages of 9-17. Where was I supposed to go? It was the 80s, there were few resources. I wouldn't leave my bro\""
      ]
     },
     "execution_count": 134,
     "metadata": {},
     "output_type": "execute_result"
    }
   ],
   "source": [
    "df.post[163] #leave #age"
   ]
  },
  {
   "cell_type": "code",
   "execution_count": 135,
   "id": "5c76c65f-1e7f-432f-b969-c34b63a6bd96",
   "metadata": {},
   "outputs": [
    {
     "data": {
      "text/plain": [
       "\"#WhyIStayed I was 13. How was I supposed to know what he did to me was wrong? I certainly wasn't told in school.\""
      ]
     },
     "execution_count": 135,
     "metadata": {},
     "output_type": "execute_result"
    }
   ],
   "source": [
    "df.post[230] #wrong #certainly"
   ]
  },
  {
   "cell_type": "code",
   "execution_count": 136,
   "id": "62efb6e2-e3b3-46e5-ae04-76dd8eb5cb99",
   "metadata": {},
   "outputs": [
    {
     "data": {
      "text/plain": [
       "\"Ricky Williams smoked like Willie Nelson... wasnt suspended indefinitly tho'... #WhyIStayed\""
      ]
     },
     "execution_count": 136,
     "metadata": {},
     "output_type": "execute_result"
    }
   ],
   "source": [
    "df.post[679] #wrong #love"
   ]
  },
  {
   "cell_type": "code",
   "execution_count": 137,
   "id": "c7a84d38-1cc6-4145-a2da-5bb489757b18",
   "metadata": {
    "tags": []
   },
   "outputs": [
    {
     "data": {
      "text/plain": [
       "'Because what if no one else wanted me. #WhyIStayed'"
      ]
     },
     "execution_count": 137,
     "metadata": {},
     "output_type": "execute_result"
    }
   ],
   "source": [
    "df.post[37] #wanted"
   ]
  },
  {
   "cell_type": "markdown",
   "id": "2fb66789-740c-45a5-9180-4a0abc62c262",
   "metadata": {},
   "source": [
    "#WhyIStayed posts had a higher percentage of the angry sentiment (they often contained reminiscent posts of people explaining why they stayed, years after the abuse). *Abuse* and *leave* were the most common words in both types of \"angry\" posts. #WhyILeft posts denote a change in perspective in viewing abuse, while #WhyIStayed posts denote a lack of inner awareness and/or outer validation. The word *wrong* in #WhyILeft posts was used as a direct identifier of a situation, but in #WhyIStayed posts, it suggests an absence of this identification."
   ]
  },
  {
   "cell_type": "code",
   "execution_count": 138,
   "id": "539f9e5b",
   "metadata": {},
   "outputs": [],
   "source": [
    "df.to_excel(\"Final_twitter.xlsx\") #save data for future modeling"
   ]
  },
  {
   "cell_type": "code",
   "execution_count": 139,
   "id": "3db69ebe",
   "metadata": {},
   "outputs": [
    {
     "data": {
      "text/plain": [
       "(19552, 23)"
      ]
     },
     "execution_count": 139,
     "metadata": {},
     "output_type": "execute_result"
    }
   ],
   "source": [
    "df.shape"
   ]
  }
 ],
 "metadata": {
  "kernelspec": {
   "display_name": "Python 3 (ipykernel)",
   "language": "python",
   "name": "python3"
  },
  "language_info": {
   "codemirror_mode": {
    "name": "ipython",
    "version": 3
   },
   "file_extension": ".py",
   "mimetype": "text/x-python",
   "name": "python",
   "nbconvert_exporter": "python",
   "pygments_lexer": "ipython3",
   "version": "3.9.13"
  },
  "toc": {
   "base_numbering": 1,
   "nav_menu": {},
   "number_sections": true,
   "sideBar": true,
   "skip_h1_title": false,
   "title_cell": "Table of Contents",
   "title_sidebar": "Contents",
   "toc_cell": false,
   "toc_position": {},
   "toc_section_display": true,
   "toc_window_display": true
  }
 },
 "nbformat": 4,
 "nbformat_minor": 5
}
