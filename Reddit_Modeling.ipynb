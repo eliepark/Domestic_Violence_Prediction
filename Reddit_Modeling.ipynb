{
 "cells": [
  {
   "cell_type": "code",
   "execution_count": 1,
   "id": "0debddfb-19f1-481f-bab1-c2ded6b03f6b",
   "metadata": {},
   "outputs": [],
   "source": [
    "import pandas as pd\n",
    "import numpy as np\n",
    "import matplotlib.pyplot as plt\n",
    "import seaborn as sns\n",
    "from nltk.tokenize import word_tokenize"
   ]
  },
  {
   "cell_type": "code",
   "execution_count": 2,
   "id": "14012a01-4f6c-4db3-a47f-498dcbbcbbb0",
   "metadata": {},
   "outputs": [],
   "source": [
    "df=pd.read_csv('Final_reddit.csv')"
   ]
  },
  {
   "cell_type": "code",
   "execution_count": 3,
   "id": "e8f7f888-40c5-4a3c-a2f6-602e0ea64792",
   "metadata": {},
   "outputs": [],
   "source": [
    "df.drop(columns='Unnamed: 0', inplace=True)"
   ]
  },
  {
   "cell_type": "code",
   "execution_count": 4,
   "id": "789a28ec-c508-49e6-a745-dc801ccf2e38",
   "metadata": {},
   "outputs": [
    {
     "data": {
      "text/html": [
       "<div>\n",
       "<style scoped>\n",
       "    .dataframe tbody tr th:only-of-type {\n",
       "        vertical-align: middle;\n",
       "    }\n",
       "\n",
       "    .dataframe tbody tr th {\n",
       "        vertical-align: top;\n",
       "    }\n",
       "\n",
       "    .dataframe thead th {\n",
       "        text-align: right;\n",
       "    }\n",
       "</style>\n",
       "<table border=\"1\" class=\"dataframe\">\n",
       "  <thead>\n",
       "    <tr style=\"text-align: right;\">\n",
       "      <th></th>\n",
       "      <th>ID</th>\n",
       "      <th>comments</th>\n",
       "      <th>posts</th>\n",
       "      <th>roles</th>\n",
       "      <th>predicates</th>\n",
       "      <th>labels</th>\n",
       "      <th>flesch_score_posts</th>\n",
       "      <th>processed_comments</th>\n",
       "      <th>flesch_score_comments</th>\n",
       "      <th>post_caps</th>\n",
       "      <th>...</th>\n",
       "      <th>disgust_comments</th>\n",
       "      <th>surprise_comments</th>\n",
       "      <th>neutral_comments</th>\n",
       "      <th>anger_comments</th>\n",
       "      <th>sad_comments</th>\n",
       "      <th>happy_comments</th>\n",
       "      <th>fear_comments</th>\n",
       "      <th>comments_count</th>\n",
       "      <th>post_avg_word_length</th>\n",
       "      <th>comments_avg_word_length</th>\n",
       "    </tr>\n",
       "  </thead>\n",
       "  <tbody>\n",
       "    <tr>\n",
       "      <th>0</th>\n",
       "      <td>hgz26</td>\n",
       "      <td>[\"If the cops won't do anything about it... ma...</td>\n",
       "      <td>My father abuses me and I cant do anything abo...</td>\n",
       "      <td>['am-adv', 'am-adv', 'am-adv', 'am-adv', 'am-d...</td>\n",
       "      <td>[('do', '02'), ('know', '01'), ('make', '01'),...</td>\n",
       "      <td>abuse</td>\n",
       "      <td>84.81</td>\n",
       "      <td>cop anything aspca bother cop straight social ...</td>\n",
       "      <td>83.76</td>\n",
       "      <td>0.020972</td>\n",
       "      <td>...</td>\n",
       "      <td>0.006387</td>\n",
       "      <td>0.024705</td>\n",
       "      <td>0.003556</td>\n",
       "      <td>0.029930</td>\n",
       "      <td>0.020565</td>\n",
       "      <td>0.021733</td>\n",
       "      <td>0.028812</td>\n",
       "      <td>29</td>\n",
       "      <td>5.106061</td>\n",
       "      <td>5.234305</td>\n",
       "    </tr>\n",
       "    <tr>\n",
       "      <th>1</th>\n",
       "      <td>2vpmnh</td>\n",
       "      <td>[\"I re-read your post and realized it's past t...</td>\n",
       "      <td>[Help]Finger Prick I know how dumb it sounds o...</td>\n",
       "      <td>['am-adv', 'am-adv', 'am-dis', 'am-mnr', 'am-m...</td>\n",
       "      <td>[('!think', '01'), ('be', '01'), ('have', '03'...</td>\n",
       "      <td>non_abuse</td>\n",
       "      <td>85.42</td>\n",
       "      <td>read post realized past time already hope ever...</td>\n",
       "      <td>72.56</td>\n",
       "      <td>0.041131</td>\n",
       "      <td>...</td>\n",
       "      <td>0.006047</td>\n",
       "      <td>0.020780</td>\n",
       "      <td>0.002419</td>\n",
       "      <td>0.015285</td>\n",
       "      <td>0.026523</td>\n",
       "      <td>0.027244</td>\n",
       "      <td>0.030113</td>\n",
       "      <td>4</td>\n",
       "      <td>5.112245</td>\n",
       "      <td>5.215625</td>\n",
       "    </tr>\n",
       "    <tr>\n",
       "      <th>2</th>\n",
       "      <td>2urnes</td>\n",
       "      <td>[\"Dealing with seniors? What exactly does that...</td>\n",
       "      <td>Going to college stress. I've had two panic at...</td>\n",
       "      <td>['am-mnr', 'emotion or sensation', 'end point,...</td>\n",
       "      <td>[('do', '02'), ('feel', '01'), ('go', '01'), (...</td>\n",
       "      <td>non_abuse</td>\n",
       "      <td>80.78</td>\n",
       "      <td>dealing senior exactly mean college typical hi...</td>\n",
       "      <td>86.20</td>\n",
       "      <td>0.030457</td>\n",
       "      <td>...</td>\n",
       "      <td>0.005086</td>\n",
       "      <td>0.017478</td>\n",
       "      <td>0.001507</td>\n",
       "      <td>0.010174</td>\n",
       "      <td>0.018588</td>\n",
       "      <td>0.027902</td>\n",
       "      <td>0.011612</td>\n",
       "      <td>2</td>\n",
       "      <td>5.555556</td>\n",
       "      <td>5.172662</td>\n",
       "    </tr>\n",
       "    <tr>\n",
       "      <th>3</th>\n",
       "      <td>2l78vr</td>\n",
       "      <td>['Yeah I am the same I get terrible anxiety, t...</td>\n",
       "      <td>Just started my Sertraline medication today. I...</td>\n",
       "      <td>['am-adv', 'am-adv', 'am-dis', 'am-mnr', 'am-m...</td>\n",
       "      <td>[('change', '01'), ('start', '01'), ('change',...</td>\n",
       "      <td>non_abuse</td>\n",
       "      <td>70.13</td>\n",
       "      <td>yeah terrible anxiety terrified people judging...</td>\n",
       "      <td>76.22</td>\n",
       "      <td>0.039604</td>\n",
       "      <td>...</td>\n",
       "      <td>0.001349</td>\n",
       "      <td>0.026620</td>\n",
       "      <td>0.000961</td>\n",
       "      <td>0.052914</td>\n",
       "      <td>0.020810</td>\n",
       "      <td>0.022443</td>\n",
       "      <td>0.022567</td>\n",
       "      <td>2</td>\n",
       "      <td>5.283784</td>\n",
       "      <td>5.166667</td>\n",
       "    </tr>\n",
       "    <tr>\n",
       "      <th>4</th>\n",
       "      <td>136f5k</td>\n",
       "      <td>[\"So what I am getting is you're suffering fro...</td>\n",
       "      <td>hear me, i cry again and again, and maybe i am...</td>\n",
       "      <td>['am-adv', 'am-adv', 'am-adv', 'am-adv', 'am-a...</td>\n",
       "      <td>[('!be', '01'), ('be', '01'), ('do', '02'), ('...</td>\n",
       "      <td>abuse</td>\n",
       "      <td>78.93</td>\n",
       "      <td>getting suffering anxiety depression presumabl...</td>\n",
       "      <td>76.25</td>\n",
       "      <td>0.000000</td>\n",
       "      <td>...</td>\n",
       "      <td>0.003951</td>\n",
       "      <td>0.009974</td>\n",
       "      <td>0.000497</td>\n",
       "      <td>0.039433</td>\n",
       "      <td>0.016787</td>\n",
       "      <td>0.020754</td>\n",
       "      <td>0.018082</td>\n",
       "      <td>2</td>\n",
       "      <td>4.715328</td>\n",
       "      <td>5.198413</td>\n",
       "    </tr>\n",
       "  </tbody>\n",
       "</table>\n",
       "<p>5 rows × 41 columns</p>\n",
       "</div>"
      ],
      "text/plain": [
       "       ID                                           comments  \\\n",
       "0   hgz26  [\"If the cops won't do anything about it... ma...   \n",
       "1  2vpmnh  [\"I re-read your post and realized it's past t...   \n",
       "2  2urnes  [\"Dealing with seniors? What exactly does that...   \n",
       "3  2l78vr  ['Yeah I am the same I get terrible anxiety, t...   \n",
       "4  136f5k  [\"So what I am getting is you're suffering fro...   \n",
       "\n",
       "                                               posts  \\\n",
       "0  My father abuses me and I cant do anything abo...   \n",
       "1  [Help]Finger Prick I know how dumb it sounds o...   \n",
       "2  Going to college stress. I've had two panic at...   \n",
       "3  Just started my Sertraline medication today. I...   \n",
       "4  hear me, i cry again and again, and maybe i am...   \n",
       "\n",
       "                                               roles  \\\n",
       "0  ['am-adv', 'am-adv', 'am-adv', 'am-adv', 'am-d...   \n",
       "1  ['am-adv', 'am-adv', 'am-dis', 'am-mnr', 'am-m...   \n",
       "2  ['am-mnr', 'emotion or sensation', 'end point,...   \n",
       "3  ['am-adv', 'am-adv', 'am-dis', 'am-mnr', 'am-m...   \n",
       "4  ['am-adv', 'am-adv', 'am-adv', 'am-adv', 'am-a...   \n",
       "\n",
       "                                          predicates     labels  \\\n",
       "0  [('do', '02'), ('know', '01'), ('make', '01'),...      abuse   \n",
       "1  [('!think', '01'), ('be', '01'), ('have', '03'...  non_abuse   \n",
       "2  [('do', '02'), ('feel', '01'), ('go', '01'), (...  non_abuse   \n",
       "3  [('change', '01'), ('start', '01'), ('change',...  non_abuse   \n",
       "4  [('!be', '01'), ('be', '01'), ('do', '02'), ('...      abuse   \n",
       "\n",
       "   flesch_score_posts                                 processed_comments  \\\n",
       "0               84.81  cop anything aspca bother cop straight social ...   \n",
       "1               85.42  read post realized past time already hope ever...   \n",
       "2               80.78  dealing senior exactly mean college typical hi...   \n",
       "3               70.13  yeah terrible anxiety terrified people judging...   \n",
       "4               78.93  getting suffering anxiety depression presumabl...   \n",
       "\n",
       "   flesch_score_comments  post_caps  ...  disgust_comments surprise_comments  \\\n",
       "0                  83.76   0.020972  ...          0.006387          0.024705   \n",
       "1                  72.56   0.041131  ...          0.006047          0.020780   \n",
       "2                  86.20   0.030457  ...          0.005086          0.017478   \n",
       "3                  76.22   0.039604  ...          0.001349          0.026620   \n",
       "4                  76.25   0.000000  ...          0.003951          0.009974   \n",
       "\n",
       "   neutral_comments  anger_comments  sad_comments  happy_comments  \\\n",
       "0          0.003556        0.029930      0.020565        0.021733   \n",
       "1          0.002419        0.015285      0.026523        0.027244   \n",
       "2          0.001507        0.010174      0.018588        0.027902   \n",
       "3          0.000961        0.052914      0.020810        0.022443   \n",
       "4          0.000497        0.039433      0.016787        0.020754   \n",
       "\n",
       "  fear_comments comments_count post_avg_word_length  comments_avg_word_length  \n",
       "0      0.028812             29             5.106061                  5.234305  \n",
       "1      0.030113              4             5.112245                  5.215625  \n",
       "2      0.011612              2             5.555556                  5.172662  \n",
       "3      0.022567              2             5.283784                  5.166667  \n",
       "4      0.018082              2             4.715328                  5.198413  \n",
       "\n",
       "[5 rows x 41 columns]"
      ]
     },
     "execution_count": 4,
     "metadata": {},
     "output_type": "execute_result"
    }
   ],
   "source": [
    "df.head()"
   ]
  },
  {
   "cell_type": "code",
   "execution_count": 5,
   "id": "c12dcea5-0448-48e3-88ff-ad20829c3d8a",
   "metadata": {},
   "outputs": [],
   "source": [
    "models=pd.DataFrame(index=['Naive Bayes Classifier', 'Random Forest Classifier', 'Logistic Regression'],\\\n",
    "                    columns=['Best min_df for CountVectorizer', 'Best Parameters', 'ROC AUC Score'])"
   ]
  },
  {
   "cell_type": "markdown",
   "id": "f885e04d-c3f1-44d4-a881-008a2cc6312e",
   "metadata": {
    "tags": []
   },
   "source": [
    "# Modeling"
   ]
  },
  {
   "cell_type": "markdown",
   "id": "99a68c66-2fa2-40e9-b012-6f3bee47f8bf",
   "metadata": {
    "tags": []
   },
   "source": [
    "## Naive Bayes Classifier"
   ]
  },
  {
   "cell_type": "code",
   "execution_count": 6,
   "id": "24880927-a67a-41da-9d9b-f893ff34d605",
   "metadata": {},
   "outputs": [],
   "source": [
    "from sklearn.feature_extraction.text import CountVectorizer\n",
    "from sklearn.model_selection import train_test_split\n",
    "from sklearn.naive_bayes import MultinomialNB\n",
    "from sklearn.ensemble import RandomForestClassifier\n",
    "from sklearn.linear_model import LogisticRegression\n",
    "from sklearn.metrics import roc_auc_score, roc_curve"
   ]
  },
  {
   "cell_type": "code",
   "execution_count": 7,
   "id": "8abc3cea-2d71-4917-8936-92dca2ff4563",
   "metadata": {},
   "outputs": [],
   "source": [
    "def pick_min_df(X, y, min_df_range=20, prefix='post', clf='nb'):\n",
    "    X_train, X_test, y_train, y_test=train_test_split(X, y, test_size=0.2, random_state=123)\n",
    "    pick_df=pd.DataFrame({}, columns=[prefix+'_test_accuracy'])\n",
    "    for i in range(min_df_range):\n",
    "        vect=CountVectorizer(min_df=i)\n",
    "        #dtm: document-term matrix\n",
    "        X_train_dtm=vect.fit_transform(X_train)\n",
    "        X_test_dtm=vect.transform(X_test)\n",
    "        if clf=='nb':\n",
    "            clf=MultinomialNB()\n",
    "        elif clf=='rfc':\n",
    "            clf=RandomForestClassifier(random_state=123)\n",
    "        elif clf=='lr':\n",
    "            clf=LogisticRegression(random_state=123)\n",
    "        clf.fit(X_train_dtm, y_train)\n",
    "        y_pred=clf.predict(X_test_dtm)\n",
    "        y_pred_prob=clf.predict_proba(X_test_dtm)[:,1]\n",
    "        pick_df=pd.concat([pick_df, pd.DataFrame({prefix+'_test_accuracy':[roc_auc_score(y_test, y_pred_prob)]})])\n",
    "    pick_df=pick_df.reset_index(drop=True)\n",
    "    \n",
    "    return pick_df[pick_df[prefix+'_test_accuracy']==max(pick_df[prefix+'_test_accuracy'])]\n"
   ]
  },
  {
   "cell_type": "code",
   "execution_count": 8,
   "id": "0e4f2333-cfce-4ca3-b105-f451df5c7666",
   "metadata": {},
   "outputs": [
    {
     "data": {
      "text/html": [
       "<div>\n",
       "<style scoped>\n",
       "    .dataframe tbody tr th:only-of-type {\n",
       "        vertical-align: middle;\n",
       "    }\n",
       "\n",
       "    .dataframe tbody tr th {\n",
       "        vertical-align: top;\n",
       "    }\n",
       "\n",
       "    .dataframe thead th {\n",
       "        text-align: right;\n",
       "    }\n",
       "</style>\n",
       "<table border=\"1\" class=\"dataframe\">\n",
       "  <thead>\n",
       "    <tr style=\"text-align: right;\">\n",
       "      <th></th>\n",
       "      <th>post_and_comments_test_accuracy</th>\n",
       "    </tr>\n",
       "  </thead>\n",
       "  <tbody>\n",
       "    <tr>\n",
       "      <th>0</th>\n",
       "      <td>0.986527</td>\n",
       "    </tr>\n",
       "    <tr>\n",
       "      <th>1</th>\n",
       "      <td>0.986527</td>\n",
       "    </tr>\n",
       "  </tbody>\n",
       "</table>\n",
       "</div>"
      ],
      "text/plain": [
       "  post_and_comments_test_accuracy\n",
       "0                        0.986527\n",
       "1                        0.986527"
      ]
     },
     "execution_count": 8,
     "metadata": {},
     "output_type": "execute_result"
    }
   ],
   "source": [
    "pick_min_df(df.tokens, df.labels_num, prefix='post_and_comments')"
   ]
  },
  {
   "cell_type": "code",
   "execution_count": 9,
   "id": "1fbbcae7-a845-41b6-9309-64e606d0aa5f",
   "metadata": {},
   "outputs": [
    {
     "data": {
      "text/html": [
       "<div>\n",
       "<style scoped>\n",
       "    .dataframe tbody tr th:only-of-type {\n",
       "        vertical-align: middle;\n",
       "    }\n",
       "\n",
       "    .dataframe tbody tr th {\n",
       "        vertical-align: top;\n",
       "    }\n",
       "\n",
       "    .dataframe thead th {\n",
       "        text-align: right;\n",
       "    }\n",
       "</style>\n",
       "<table border=\"1\" class=\"dataframe\">\n",
       "  <thead>\n",
       "    <tr style=\"text-align: right;\">\n",
       "      <th></th>\n",
       "      <th>post_test_accuracy</th>\n",
       "    </tr>\n",
       "  </thead>\n",
       "  <tbody>\n",
       "    <tr>\n",
       "      <th>0</th>\n",
       "      <td>0.966994</td>\n",
       "    </tr>\n",
       "    <tr>\n",
       "      <th>1</th>\n",
       "      <td>0.966994</td>\n",
       "    </tr>\n",
       "  </tbody>\n",
       "</table>\n",
       "</div>"
      ],
      "text/plain": [
       "  post_test_accuracy\n",
       "0           0.966994\n",
       "1           0.966994"
      ]
     },
     "execution_count": 9,
     "metadata": {},
     "output_type": "execute_result"
    }
   ],
   "source": [
    "pick_min_df(df.p_tokens, df.labels_num)"
   ]
  },
  {
   "cell_type": "code",
   "execution_count": 10,
   "id": "cfc7c307",
   "metadata": {},
   "outputs": [
    {
     "data": {
      "text/html": [
       "<div>\n",
       "<style scoped>\n",
       "    .dataframe tbody tr th:only-of-type {\n",
       "        vertical-align: middle;\n",
       "    }\n",
       "\n",
       "    .dataframe tbody tr th {\n",
       "        vertical-align: top;\n",
       "    }\n",
       "\n",
       "    .dataframe thead th {\n",
       "        text-align: right;\n",
       "    }\n",
       "</style>\n",
       "<table border=\"1\" class=\"dataframe\">\n",
       "  <thead>\n",
       "    <tr style=\"text-align: right;\">\n",
       "      <th></th>\n",
       "      <th>comment_test_accuracy</th>\n",
       "    </tr>\n",
       "  </thead>\n",
       "  <tbody>\n",
       "    <tr>\n",
       "      <th>9</th>\n",
       "      <td>0.955692</td>\n",
       "    </tr>\n",
       "  </tbody>\n",
       "</table>\n",
       "</div>"
      ],
      "text/plain": [
       "  comment_test_accuracy\n",
       "9              0.955692"
      ]
     },
     "execution_count": 10,
     "metadata": {},
     "output_type": "execute_result"
    }
   ],
   "source": [
    "pick_min_df(df.c_tokens, df.labels_num, prefix='comment')"
   ]
  },
  {
   "cell_type": "code",
   "execution_count": 11,
   "id": "ff368d0f-ae26-4653-ad68-38f225d9a885",
   "metadata": {},
   "outputs": [],
   "source": [
    "models['Best min_df for CountVectorizer'][0]=1"
   ]
  },
  {
   "cell_type": "markdown",
   "id": "48bb9f9e-a3c1-4a2f-aa95-4185cbfa4c22",
   "metadata": {},
   "source": [
    "We pick a min_df of 1 for X containing both posts and comments."
   ]
  },
  {
   "cell_type": "code",
   "execution_count": 12,
   "id": "de780864-8390-43bd-8bec-aa72abaea1f9",
   "metadata": {},
   "outputs": [],
   "source": [
    "X_train, X_test, y_train, y_test=train_test_split(df.tokens, df.labels_num, test_size=0.2, random_state=123)\n",
    "vect=CountVectorizer(min_df=1)\n",
    "X_train_dtm=vect.fit_transform(X_train)\n",
    "X_test_dtm=vect.transform(X_test)\n",
    "nb=MultinomialNB()\n",
    "nb.fit(X_train_dtm, y_train)\n",
    "y_pred=nb.predict(X_test_dtm)\n",
    "y_pred_prob=nb.predict_proba(X_test_dtm)[:,1]"
   ]
  },
  {
   "cell_type": "code",
   "execution_count": 13,
   "id": "28d10bf1-284d-4739-99f1-756b7345ab36",
   "metadata": {},
   "outputs": [
    {
     "data": {
      "text/plain": [
       "0.9865274365274365"
      ]
     },
     "execution_count": 13,
     "metadata": {},
     "output_type": "execute_result"
    }
   ],
   "source": [
    "roc_auc_score(y_test, y_pred_prob) #same as nb.score(X_test_dtm,y_test)"
   ]
  },
  {
   "cell_type": "code",
   "execution_count": 14,
   "id": "33727ac0-c5f1-40ba-a5f5-f55a3e9fd7e8",
   "metadata": {},
   "outputs": [
    {
     "data": {
      "text/plain": [
       "{'alpha': 1.0, 'class_prior': None, 'fit_prior': True}"
      ]
     },
     "execution_count": 14,
     "metadata": {},
     "output_type": "execute_result"
    }
   ],
   "source": [
    "nb.get_params()"
   ]
  },
  {
   "cell_type": "code",
   "execution_count": 15,
   "id": "1777978c-d494-4c0e-a7bb-bd60a6f5a4a5",
   "metadata": {},
   "outputs": [
    {
     "name": "stdout",
     "output_type": "stream",
     "text": [
      "Tuned Naive Bayes Parameter: {'alpha': 1}\n",
      "Tuned Naive Bayes ROC_AUC Score: 0.9604218416287491\n"
     ]
    }
   ],
   "source": [
    "from sklearn.model_selection import GridSearchCV\n",
    "param_grid={'alpha':[.001, .01, .1, .5, 1, 5, 10, 50, 100, 1000]}\n",
    "nb_cv=GridSearchCV(nb, param_grid, scoring='roc_auc', cv=5)\n",
    "nb_cv.fit(X_train_dtm, y_train)\n",
    "print(\"Tuned Naive Bayes Parameter: {}\".format(nb_cv.best_params_))\n",
    "print(\"Tuned Naive Bayes ROC_AUC Score: {}\".format(nb_cv.best_score_))"
   ]
  },
  {
   "cell_type": "code",
   "execution_count": 16,
   "id": "986bdfb1-8d38-4c2b-885f-d5d1db6c4f30",
   "metadata": {},
   "outputs": [],
   "source": [
    "models['Best Parameters'][0]=nb_cv.best_params_"
   ]
  },
  {
   "cell_type": "markdown",
   "id": "bf8986f3-6cc9-4e3f-8be3-400d7f808603",
   "metadata": {},
   "source": [
    "We pick a Naive Bayes Parameter alpha=1 with a CountVectorizer parameter min_df of 1 for both posts and comments."
   ]
  },
  {
   "cell_type": "code",
   "execution_count": 17,
   "id": "d6270311-9d9f-47e5-bb97-998ad5b18fb6",
   "metadata": {},
   "outputs": [],
   "source": [
    "X_train, X_test, y_train, y_test=train_test_split(df.tokens, df.labels_num, test_size=0.2, random_state=123)\n",
    "vect=CountVectorizer(min_df=1)\n",
    "X_train_dtm=vect.fit_transform(X_train)\n",
    "X_test_dtm=vect.transform(X_test)\n",
    "nb=MultinomialNB(alpha=1)\n",
    "nb.fit(X_train_dtm, y_train)\n",
    "y_pred=nb.predict(X_test_dtm)\n",
    "y_pred_prob=nb.predict_proba(X_test_dtm)[:,1]\n",
    "nb_fpr, nb_tpr, nb_thresholds=roc_curve(y_test, y_pred_prob) "
   ]
  },
  {
   "cell_type": "code",
   "execution_count": 18,
   "id": "888340db-9457-4fb2-82e2-76678c3d06e9",
   "metadata": {},
   "outputs": [],
   "source": [
    "models['ROC AUC Score'][0]=roc_auc_score(y_test, y_pred_prob)"
   ]
  },
  {
   "cell_type": "markdown",
   "id": "18878026-255a-4298-affb-ffbb222c435d",
   "metadata": {},
   "source": [
    "## Random Forest Classifier"
   ]
  },
  {
   "cell_type": "code",
   "execution_count": 19,
   "id": "218aa822-c255-4d67-af9d-79b77f5b381f",
   "metadata": {},
   "outputs": [
    {
     "data": {
      "text/html": [
       "<div>\n",
       "<style scoped>\n",
       "    .dataframe tbody tr th:only-of-type {\n",
       "        vertical-align: middle;\n",
       "    }\n",
       "\n",
       "    .dataframe tbody tr th {\n",
       "        vertical-align: top;\n",
       "    }\n",
       "\n",
       "    .dataframe thead th {\n",
       "        text-align: right;\n",
       "    }\n",
       "</style>\n",
       "<table border=\"1\" class=\"dataframe\">\n",
       "  <thead>\n",
       "    <tr style=\"text-align: right;\">\n",
       "      <th></th>\n",
       "      <th>post_and_comments_test_accuracy</th>\n",
       "    </tr>\n",
       "  </thead>\n",
       "  <tbody>\n",
       "    <tr>\n",
       "      <th>14</th>\n",
       "      <td>0.967281</td>\n",
       "    </tr>\n",
       "  </tbody>\n",
       "</table>\n",
       "</div>"
      ],
      "text/plain": [
       "   post_and_comments_test_accuracy\n",
       "14                        0.967281"
      ]
     },
     "execution_count": 19,
     "metadata": {},
     "output_type": "execute_result"
    }
   ],
   "source": [
    "pick_min_df(df.tokens, df.labels_num, prefix='post_and_comments', clf='rfc')"
   ]
  },
  {
   "cell_type": "code",
   "execution_count": 20,
   "id": "eea897bb-9a6d-4deb-b719-900c34ec6370",
   "metadata": {},
   "outputs": [
    {
     "data": {
      "text/html": [
       "<div>\n",
       "<style scoped>\n",
       "    .dataframe tbody tr th:only-of-type {\n",
       "        vertical-align: middle;\n",
       "    }\n",
       "\n",
       "    .dataframe tbody tr th {\n",
       "        vertical-align: top;\n",
       "    }\n",
       "\n",
       "    .dataframe thead th {\n",
       "        text-align: right;\n",
       "    }\n",
       "</style>\n",
       "<table border=\"1\" class=\"dataframe\">\n",
       "  <thead>\n",
       "    <tr style=\"text-align: right;\">\n",
       "      <th></th>\n",
       "      <th>post_test_accuracy</th>\n",
       "    </tr>\n",
       "  </thead>\n",
       "  <tbody>\n",
       "    <tr>\n",
       "      <th>17</th>\n",
       "      <td>0.954177</td>\n",
       "    </tr>\n",
       "  </tbody>\n",
       "</table>\n",
       "</div>"
      ],
      "text/plain": [
       "   post_test_accuracy\n",
       "17           0.954177"
      ]
     },
     "execution_count": 20,
     "metadata": {},
     "output_type": "execute_result"
    }
   ],
   "source": [
    "pick_min_df(df.p_tokens, df.labels_num, clf='rfc')"
   ]
  },
  {
   "cell_type": "code",
   "execution_count": 21,
   "id": "017e30b3-11fe-4033-b8c1-74a36e4ffcde",
   "metadata": {},
   "outputs": [
    {
     "data": {
      "text/html": [
       "<div>\n",
       "<style scoped>\n",
       "    .dataframe tbody tr th:only-of-type {\n",
       "        vertical-align: middle;\n",
       "    }\n",
       "\n",
       "    .dataframe tbody tr th {\n",
       "        vertical-align: top;\n",
       "    }\n",
       "\n",
       "    .dataframe thead th {\n",
       "        text-align: right;\n",
       "    }\n",
       "</style>\n",
       "<table border=\"1\" class=\"dataframe\">\n",
       "  <thead>\n",
       "    <tr style=\"text-align: right;\">\n",
       "      <th></th>\n",
       "      <th>comment_test_accuracy</th>\n",
       "    </tr>\n",
       "  </thead>\n",
       "  <tbody>\n",
       "    <tr>\n",
       "      <th>5</th>\n",
       "      <td>0.959582</td>\n",
       "    </tr>\n",
       "  </tbody>\n",
       "</table>\n",
       "</div>"
      ],
      "text/plain": [
       "  comment_test_accuracy\n",
       "5              0.959582"
      ]
     },
     "execution_count": 21,
     "metadata": {},
     "output_type": "execute_result"
    }
   ],
   "source": [
    "pick_min_df(df.c_tokens, df.labels_num, prefix='comment', clf='rfc')"
   ]
  },
  {
   "cell_type": "code",
   "execution_count": 22,
   "id": "4ad499bd-4b80-42d5-8235-9976d1d73cb0",
   "metadata": {},
   "outputs": [],
   "source": [
    "models['Best min_df for CountVectorizer'][1]=14"
   ]
  },
  {
   "cell_type": "code",
   "execution_count": 23,
   "id": "45d0f8f0-e2d9-4dea-93df-b800ba46be7e",
   "metadata": {},
   "outputs": [],
   "source": [
    "X_train, X_test, y_train, y_test=train_test_split(df.tokens, df.labels_num, test_size=0.2, random_state=123)\n",
    "vect=CountVectorizer(min_df=14)\n",
    "X_train_dtm=vect.fit_transform(X_train)\n",
    "X_test_dtm=vect.transform(X_test)\n",
    "rfc=RandomForestClassifier(random_state=123)\n",
    "rfc.fit(X_train_dtm, y_train)\n",
    "y_pred=rfc.predict(X_test_dtm)\n",
    "y_pred_prob=rfc.predict_proba(X_test_dtm)[:,1]"
   ]
  },
  {
   "cell_type": "code",
   "execution_count": 24,
   "id": "30bce883-2dc7-48b4-a877-e5bd8d9b5228",
   "metadata": {},
   "outputs": [
    {
     "data": {
      "text/plain": [
       "0.9672809172809173"
      ]
     },
     "execution_count": 24,
     "metadata": {},
     "output_type": "execute_result"
    }
   ],
   "source": [
    "roc_auc_score(y_test, y_pred_prob) "
   ]
  },
  {
   "cell_type": "code",
   "execution_count": 25,
   "id": "72007ead-c738-4c35-8f7e-295e8e827f4d",
   "metadata": {},
   "outputs": [
    {
     "name": "stdout",
     "output_type": "stream",
     "text": [
      "Tuned Random Forest Classifier Parameter: {'criterion': 'entropy', 'max_depth': None, 'max_features': 'log2', 'n_estimators': 700}\n",
      "Tuned Random Forest Classifier ROC_AUC Score: 0.9692531804252947\n"
     ]
    }
   ],
   "source": [
    "param_grid={'criterion': ['gini', 'entropy'],\n",
    "                         'max_depth': [None, 1, 3, 5, 7, 15, 30],\n",
    "                         'max_features': ['sqrt', 'log2'],\n",
    "                         'n_estimators': [10, 50, 100, 300, 500, 700, 1000]}\n",
    "\n",
    "rfc_cv=GridSearchCV(rfc, param_grid, scoring='roc_auc', cv=5)\n",
    "rfc_cv.fit(X_train_dtm, y_train)\n",
    "print(\"Tuned Random Forest Classifier Parameter: {}\".format(rfc_cv.best_params_))\n",
    "print(\"Tuned Random Forest Classifier ROC_AUC Score: {}\".format(rfc_cv.best_score_))"
   ]
  },
  {
   "cell_type": "code",
   "execution_count": 26,
   "id": "e54cc2f0-0513-4656-aa91-98d5d1cef1ff",
   "metadata": {},
   "outputs": [],
   "source": [
    "models['Best Parameters'][1]=rfc_cv.best_params_"
   ]
  },
  {
   "cell_type": "code",
   "execution_count": 27,
   "id": "c33a92fd-f6e0-4a36-910c-be79f4622163",
   "metadata": {},
   "outputs": [],
   "source": [
    "X_train, X_test, y_train, y_test=train_test_split(df.tokens, df.labels_num, test_size=0.2, random_state=123)\n",
    "vect=CountVectorizer(min_df=14)\n",
    "X_train_dtm=vect.fit_transform(X_train)\n",
    "X_test_dtm=vect.transform(X_test)\n",
    "rfc=RandomForestClassifier(random_state=123, criterion='entropy', max_depth=None, max_features='log2', n_estimators=700)\n",
    "rfc.fit(X_train_dtm, y_train)\n",
    "y_pred=rfc.predict(X_test_dtm)\n",
    "y_pred_prob=rfc.predict_proba(X_test_dtm)[:,1]\n",
    "rfc_fpr, rfc_tpr, rfc_thresholds = roc_curve(y_test, y_pred_prob) "
   ]
  },
  {
   "cell_type": "code",
   "execution_count": 28,
   "id": "51dc4783-316b-4028-ab8d-3cccd78bf5d8",
   "metadata": {},
   "outputs": [],
   "source": [
    "models['ROC AUC Score'][1]=roc_auc_score(y_test, y_pred_prob)"
   ]
  },
  {
   "cell_type": "markdown",
   "id": "3fc5fd2c-f3e9-4eac-b38a-8bb819c2db4f",
   "metadata": {},
   "source": [
    "## Logistic Regression"
   ]
  },
  {
   "cell_type": "code",
   "execution_count": 29,
   "id": "7c49a6f8-158a-41eb-be4e-24c02a3f6254",
   "metadata": {},
   "outputs": [
    {
     "data": {
      "text/html": [
       "<div>\n",
       "<style scoped>\n",
       "    .dataframe tbody tr th:only-of-type {\n",
       "        vertical-align: middle;\n",
       "    }\n",
       "\n",
       "    .dataframe tbody tr th {\n",
       "        vertical-align: top;\n",
       "    }\n",
       "\n",
       "    .dataframe thead th {\n",
       "        text-align: right;\n",
       "    }\n",
       "</style>\n",
       "<table border=\"1\" class=\"dataframe\">\n",
       "  <thead>\n",
       "    <tr style=\"text-align: right;\">\n",
       "      <th></th>\n",
       "      <th>post_and_comments_test_accuracy</th>\n",
       "    </tr>\n",
       "  </thead>\n",
       "  <tbody>\n",
       "    <tr>\n",
       "      <th>0</th>\n",
       "      <td>0.969861</td>\n",
       "    </tr>\n",
       "    <tr>\n",
       "      <th>1</th>\n",
       "      <td>0.969861</td>\n",
       "    </tr>\n",
       "  </tbody>\n",
       "</table>\n",
       "</div>"
      ],
      "text/plain": [
       "  post_and_comments_test_accuracy\n",
       "0                        0.969861\n",
       "1                        0.969861"
      ]
     },
     "execution_count": 29,
     "metadata": {},
     "output_type": "execute_result"
    }
   ],
   "source": [
    "pick_min_df(df.tokens, df.labels_num, prefix='post_and_comments', clf='lr')"
   ]
  },
  {
   "cell_type": "code",
   "execution_count": 30,
   "id": "9eaf6eb7-94de-4742-acf6-fe6a392637ab",
   "metadata": {},
   "outputs": [
    {
     "data": {
      "text/html": [
       "<div>\n",
       "<style scoped>\n",
       "    .dataframe tbody tr th:only-of-type {\n",
       "        vertical-align: middle;\n",
       "    }\n",
       "\n",
       "    .dataframe tbody tr th {\n",
       "        vertical-align: top;\n",
       "    }\n",
       "\n",
       "    .dataframe thead th {\n",
       "        text-align: right;\n",
       "    }\n",
       "</style>\n",
       "<table border=\"1\" class=\"dataframe\">\n",
       "  <thead>\n",
       "    <tr style=\"text-align: right;\">\n",
       "      <th></th>\n",
       "      <th>post_test_accuracy</th>\n",
       "    </tr>\n",
       "  </thead>\n",
       "  <tbody>\n",
       "    <tr>\n",
       "      <th>0</th>\n",
       "      <td>0.934152</td>\n",
       "    </tr>\n",
       "    <tr>\n",
       "      <th>1</th>\n",
       "      <td>0.934152</td>\n",
       "    </tr>\n",
       "  </tbody>\n",
       "</table>\n",
       "</div>"
      ],
      "text/plain": [
       "  post_test_accuracy\n",
       "0           0.934152\n",
       "1           0.934152"
      ]
     },
     "execution_count": 30,
     "metadata": {},
     "output_type": "execute_result"
    }
   ],
   "source": [
    "pick_min_df(df.p_tokens, df.labels_num, clf='lr')"
   ]
  },
  {
   "cell_type": "code",
   "execution_count": 31,
   "id": "2ec109d2-865c-485a-a10f-fef80736a335",
   "metadata": {},
   "outputs": [
    {
     "data": {
      "text/html": [
       "<div>\n",
       "<style scoped>\n",
       "    .dataframe tbody tr th:only-of-type {\n",
       "        vertical-align: middle;\n",
       "    }\n",
       "\n",
       "    .dataframe tbody tr th {\n",
       "        vertical-align: top;\n",
       "    }\n",
       "\n",
       "    .dataframe thead th {\n",
       "        text-align: right;\n",
       "    }\n",
       "</style>\n",
       "<table border=\"1\" class=\"dataframe\">\n",
       "  <thead>\n",
       "    <tr style=\"text-align: right;\">\n",
       "      <th></th>\n",
       "      <th>comment_test_accuracy</th>\n",
       "    </tr>\n",
       "  </thead>\n",
       "  <tbody>\n",
       "    <tr>\n",
       "      <th>2</th>\n",
       "      <td>0.943735</td>\n",
       "    </tr>\n",
       "  </tbody>\n",
       "</table>\n",
       "</div>"
      ],
      "text/plain": [
       "  comment_test_accuracy\n",
       "2              0.943735"
      ]
     },
     "execution_count": 31,
     "metadata": {},
     "output_type": "execute_result"
    }
   ],
   "source": [
    "pick_min_df(df.c_tokens, df.labels_num, prefix='comment', clf='lr')"
   ]
  },
  {
   "cell_type": "code",
   "execution_count": 32,
   "id": "38a9dcd5-daa7-4398-ae80-a3ed40977825",
   "metadata": {},
   "outputs": [],
   "source": [
    "models['Best min_df for CountVectorizer'][2]=1"
   ]
  },
  {
   "cell_type": "code",
   "execution_count": 33,
   "id": "800a6c22-116e-4e8f-8c26-ebfc68e44388",
   "metadata": {},
   "outputs": [],
   "source": [
    "X_train, X_test, y_train, y_test=train_test_split(df.tokens, df.labels_num, test_size=0.2, random_state=123)\n",
    "vect=CountVectorizer(min_df=1)\n",
    "X_train_dtm=vect.fit_transform(X_train)\n",
    "X_test_dtm=vect.transform(X_test)\n",
    "lr=LogisticRegression(random_state=123)\n",
    "lr.fit(X_train_dtm, y_train)\n",
    "y_pred=lr.predict(X_test_dtm)\n",
    "y_pred_prob=lr.predict_proba(X_test_dtm)[:,1]"
   ]
  },
  {
   "cell_type": "code",
   "execution_count": 34,
   "id": "c12702a8-1540-4693-8497-237d247a24a7",
   "metadata": {},
   "outputs": [
    {
     "data": {
      "text/plain": [
       "0.9698607698607699"
      ]
     },
     "execution_count": 34,
     "metadata": {},
     "output_type": "execute_result"
    }
   ],
   "source": [
    "roc_auc_score(y_test, y_pred_prob) "
   ]
  },
  {
   "cell_type": "code",
   "execution_count": 35,
   "id": "b42dad86-e988-4952-958a-3518b90cb72c",
   "metadata": {},
   "outputs": [
    {
     "name": "stdout",
     "output_type": "stream",
     "text": [
      "Tuned Logistic Regression Parameter: {'C': 0.1}\n",
      "Tuned Logistic Regression ROC_AUC Score: 0.9774535123966943\n"
     ]
    }
   ],
   "source": [
    "param_grid={'C':[0.001, 0.01, 0.1, 1, 10, 100, 1000]}\n",
    "lr_cv=GridSearchCV(lr, param_grid, scoring='roc_auc', cv=5)\n",
    "lr_cv.fit(X_train_dtm, y_train)\n",
    "print(\"Tuned Logistic Regression Parameter: {}\".format(lr_cv.best_params_))\n",
    "print(\"Tuned Logistic Regression ROC_AUC Score: {}\".format(lr_cv.best_score_))"
   ]
  },
  {
   "cell_type": "code",
   "execution_count": 36,
   "id": "deba4c35-4af4-431c-b147-e5cb732eb06c",
   "metadata": {},
   "outputs": [],
   "source": [
    "models['Best Parameters'][2]=lr_cv.best_params_"
   ]
  },
  {
   "cell_type": "code",
   "execution_count": 37,
   "id": "3704bbf7-0934-4e4a-8c83-d1606fc9a96c",
   "metadata": {},
   "outputs": [],
   "source": [
    "X_train, X_test, y_train, y_test=train_test_split(df.tokens, df.labels_num, test_size=0.2, random_state=123)\n",
    "vect=CountVectorizer(min_df=1)\n",
    "X_train_dtm=vect.fit_transform(X_train)\n",
    "X_test_dtm=vect.transform(X_test)\n",
    "lr=LogisticRegression(random_state=123, C=0.1)\n",
    "lr.fit(X_train_dtm, y_train)\n",
    "y_pred=lr.predict(X_test_dtm)\n",
    "y_pred_prob=lr.predict_proba(X_test_dtm)[:,1]\n",
    "lr_fpr, lr_tpr, lr_thresholds = roc_curve(y_test, y_pred_prob) "
   ]
  },
  {
   "cell_type": "code",
   "execution_count": 38,
   "id": "65fcd5c8-d9e8-42d7-9120-1b7401785fc7",
   "metadata": {},
   "outputs": [],
   "source": [
    "models['ROC AUC Score'][2]=roc_auc_score(y_test, y_pred_prob)"
   ]
  },
  {
   "cell_type": "code",
   "execution_count": 39,
   "id": "95a2c952-3a74-404b-a94e-0baf738455e4",
   "metadata": {
    "scrolled": false
   },
   "outputs": [
    {
     "data": {
      "text/html": [
       "<div>\n",
       "<style scoped>\n",
       "    .dataframe tbody tr th:only-of-type {\n",
       "        vertical-align: middle;\n",
       "    }\n",
       "\n",
       "    .dataframe tbody tr th {\n",
       "        vertical-align: top;\n",
       "    }\n",
       "\n",
       "    .dataframe thead th {\n",
       "        text-align: right;\n",
       "    }\n",
       "</style>\n",
       "<table border=\"1\" class=\"dataframe\">\n",
       "  <thead>\n",
       "    <tr style=\"text-align: right;\">\n",
       "      <th></th>\n",
       "      <th>Best min_df for CountVectorizer</th>\n",
       "      <th>Best Parameters</th>\n",
       "      <th>ROC AUC Score</th>\n",
       "    </tr>\n",
       "  </thead>\n",
       "  <tbody>\n",
       "    <tr>\n",
       "      <th>Naive Bayes Classifier</th>\n",
       "      <td>1</td>\n",
       "      <td>{'alpha': 1}</td>\n",
       "      <td>0.986527</td>\n",
       "    </tr>\n",
       "    <tr>\n",
       "      <th>Random Forest Classifier</th>\n",
       "      <td>14</td>\n",
       "      <td>{'criterion': 'entropy', 'max_depth': None, 'max_features': 'log2', 'n_estimators': 700}</td>\n",
       "      <td>0.979075</td>\n",
       "    </tr>\n",
       "    <tr>\n",
       "      <th>Logistic Regression</th>\n",
       "      <td>1</td>\n",
       "      <td>{'C': 0.1}</td>\n",
       "      <td>0.972727</td>\n",
       "    </tr>\n",
       "  </tbody>\n",
       "</table>\n",
       "</div>"
      ],
      "text/plain": [
       "                         Best min_df for CountVectorizer  \\\n",
       "Naive Bayes Classifier                                 1   \n",
       "Random Forest Classifier                              14   \n",
       "Logistic Regression                                    1   \n",
       "\n",
       "                                                                                                   Best Parameters  \\\n",
       "Naive Bayes Classifier                                                                                {'alpha': 1}   \n",
       "Random Forest Classifier  {'criterion': 'entropy', 'max_depth': None, 'max_features': 'log2', 'n_estimators': 700}   \n",
       "Logistic Regression                                                                                     {'C': 0.1}   \n",
       "\n",
       "                         ROC AUC Score  \n",
       "Naive Bayes Classifier        0.986527  \n",
       "Random Forest Classifier      0.979075  \n",
       "Logistic Regression           0.972727  "
      ]
     },
     "execution_count": 39,
     "metadata": {},
     "output_type": "execute_result"
    }
   ],
   "source": [
    "pd.set_option('display.max_colwidth', None)\n",
    "models"
   ]
  },
  {
   "cell_type": "code",
   "execution_count": 40,
   "id": "07450ce2",
   "metadata": {},
   "outputs": [
    {
     "data": {
      "image/png": "[encoded data removed]",
      "text/plain": [
       "<Figure size 432x288 with 1 Axes>"
      ]
     },
     "metadata": {
      "needs_background": "light"
     },
     "output_type": "display_data"
    }
   ],
   "source": [
    "plt.plot([0,1],[0,1],'k--')\n",
    "plt.plot(nb_fpr, nb_tpr, label='Naive Bayes Classifier') \n",
    "plt.plot(rfc_fpr, rfc_tpr, label='Random Forest Classifier') \n",
    "plt.plot(lr_fpr, lr_tpr, label='Logistic Regression') \n",
    "plt.grid()\n",
    "plt.xlabel('False Positive Rate') \n",
    "plt.ylabel('True Positive Rate')\n",
    "plt.legend()\n",
    "plt.title('ROC Curve') \n",
    "plt.show()"
   ]
  },
  {
   "cell_type": "markdown",
   "id": "fce5eecf-f41c-4e3d-8637-03c952ee4434",
   "metadata": {},
   "source": [
    "## Feature Importances"
   ]
  },
  {
   "cell_type": "code",
   "execution_count": 41,
   "id": "c5e5ea8a-8d83-40ca-b39f-38e96fbf7d96",
   "metadata": {},
   "outputs": [],
   "source": [
    "from sklearn.metrics import precision_recall_curve, fbeta_score, ConfusionMatrixDisplay, classification_report, confusion_matrix"
   ]
  },
  {
   "cell_type": "code",
   "execution_count": 42,
   "id": "a5384c43",
   "metadata": {},
   "outputs": [],
   "source": [
    "X_train, X_test, y_train, y_test=train_test_split(df.tokens, df.labels_num, test_size=0.2, random_state=123)\n",
    "vect=CountVectorizer(min_df=1)\n",
    "X_train_dtm=vect.fit_transform(X_train)\n",
    "X_test_dtm=vect.transform(X_test)\n",
    "nb=MultinomialNB(alpha=1)\n",
    "nb.fit(X_train_dtm, y_train)\n",
    "y_pred=nb.predict(X_test_dtm)\n",
    "y_pred_prob=nb.predict_proba(X_test_dtm)[:,1]\n",
    "nb_fpr, nb_tpr, nb_thresholds=roc_curve(y_test, y_pred_prob) "
   ]
  },
  {
   "cell_type": "code",
   "execution_count": 43,
   "id": "c71ece01-e0b4-430e-a905-d808a6401f6a",
   "metadata": {},
   "outputs": [
    {
     "data": {
      "text/html": [
       "<div>\n",
       "<style scoped>\n",
       "    .dataframe tbody tr th:only-of-type {\n",
       "        vertical-align: middle;\n",
       "    }\n",
       "\n",
       "    .dataframe tbody tr th {\n",
       "        vertical-align: top;\n",
       "    }\n",
       "\n",
       "    .dataframe thead th {\n",
       "        text-align: right;\n",
       "    }\n",
       "</style>\n",
       "<table border=\"1\" class=\"dataframe\">\n",
       "  <thead>\n",
       "    <tr style=\"text-align: right;\">\n",
       "      <th></th>\n",
       "      <th>word</th>\n",
       "      <th>prob</th>\n",
       "      <th>post_or_comment</th>\n",
       "    </tr>\n",
       "  </thead>\n",
       "  <tbody>\n",
       "    <tr>\n",
       "      <th>0</th>\n",
       "      <td>c_abuser</td>\n",
       "      <td>0.993384</td>\n",
       "      <td>comment</td>\n",
       "    </tr>\n",
       "    <tr>\n",
       "      <th>1</th>\n",
       "      <td>c_domestic</td>\n",
       "      <td>0.988783</td>\n",
       "      <td>comment</td>\n",
       "    </tr>\n",
       "    <tr>\n",
       "      <th>2</th>\n",
       "      <td>p_abuse</td>\n",
       "      <td>0.988035</td>\n",
       "      <td>post</td>\n",
       "    </tr>\n",
       "    <tr>\n",
       "      <th>3</th>\n",
       "      <td>c_dv</td>\n",
       "      <td>0.982512</td>\n",
       "      <td>comment</td>\n",
       "    </tr>\n",
       "    <tr>\n",
       "      <th>4</th>\n",
       "      <td>p_domestic</td>\n",
       "      <td>0.981899</td>\n",
       "      <td>post</td>\n",
       "    </tr>\n",
       "    <tr>\n",
       "      <th>5</th>\n",
       "      <td>c_abuse</td>\n",
       "      <td>0.980670</td>\n",
       "      <td>comment</td>\n",
       "    </tr>\n",
       "    <tr>\n",
       "      <th>6</th>\n",
       "      <td>p_sexually</td>\n",
       "      <td>0.977075</td>\n",
       "      <td>post</td>\n",
       "    </tr>\n",
       "    <tr>\n",
       "      <th>7</th>\n",
       "      <td>p_abuser</td>\n",
       "      <td>0.975439</td>\n",
       "      <td>post</td>\n",
       "    </tr>\n",
       "    <tr>\n",
       "      <th>8</th>\n",
       "      <td>c_healing</td>\n",
       "      <td>0.974841</td>\n",
       "      <td>comment</td>\n",
       "    </tr>\n",
       "    <tr>\n",
       "      <th>9</th>\n",
       "      <td>p_survivor</td>\n",
       "      <td>0.969666</td>\n",
       "      <td>post</td>\n",
       "    </tr>\n",
       "  </tbody>\n",
       "</table>\n",
       "</div>"
      ],
      "text/plain": [
       "         word      prob post_or_comment\n",
       "0    c_abuser  0.993384         comment\n",
       "1  c_domestic  0.988783         comment\n",
       "2     p_abuse  0.988035            post\n",
       "3        c_dv  0.982512         comment\n",
       "4  p_domestic  0.981899            post\n",
       "5     c_abuse  0.980670         comment\n",
       "6  p_sexually  0.977075            post\n",
       "7    p_abuser  0.975439            post\n",
       "8   c_healing  0.974841         comment\n",
       "9  p_survivor  0.969666            post"
      ]
     },
     "execution_count": 43,
     "metadata": {},
     "output_type": "execute_result"
    }
   ],
   "source": [
    "features = np.array(vect.get_feature_names_out())\n",
    "\n",
    "x = np.eye(X_test_dtm.shape[1])\n",
    "probs = nb.predict_log_proba(x)[:, 0] #using log is more precise for lower probabilities\n",
    "ind = np.argsort(probs)\n",
    "\n",
    "words = pd.DataFrame({})\n",
    "\n",
    "words['word']=features[ind]\n",
    "words['prob']=1-np.exp(probs[ind]) #log\n",
    "words['post_or_comment']=['post' if 'p_' in word else 'comment' for word in words.word]\n",
    "\n",
    "words.head(10)"
   ]
  },
  {
   "cell_type": "code",
   "execution_count": 44,
   "id": "26ace031-3836-47f3-b2bf-2453ff0e5d15",
   "metadata": {},
   "outputs": [
    {
     "data": {
      "text/html": [
       "<div>\n",
       "<style scoped>\n",
       "    .dataframe tbody tr th:only-of-type {\n",
       "        vertical-align: middle;\n",
       "    }\n",
       "\n",
       "    .dataframe tbody tr th {\n",
       "        vertical-align: top;\n",
       "    }\n",
       "\n",
       "    .dataframe thead th {\n",
       "        text-align: right;\n",
       "    }\n",
       "</style>\n",
       "<table border=\"1\" class=\"dataframe\">\n",
       "  <thead>\n",
       "    <tr style=\"text-align: right;\">\n",
       "      <th></th>\n",
       "      <th>word</th>\n",
       "      <th>prob</th>\n",
       "      <th>post_or_comment</th>\n",
       "    </tr>\n",
       "  </thead>\n",
       "  <tbody>\n",
       "    <tr>\n",
       "      <th>19509</th>\n",
       "      <td>c_appointment</td>\n",
       "      <td>0.051066</td>\n",
       "      <td>comment</td>\n",
       "    </tr>\n",
       "    <tr>\n",
       "      <th>19510</th>\n",
       "      <td>c_american</td>\n",
       "      <td>0.051066</td>\n",
       "      <td>comment</td>\n",
       "    </tr>\n",
       "    <tr>\n",
       "      <th>19511</th>\n",
       "      <td>c_mg</td>\n",
       "      <td>0.051066</td>\n",
       "      <td>comment</td>\n",
       "    </tr>\n",
       "    <tr>\n",
       "      <th>19512</th>\n",
       "      <td>c_exam</td>\n",
       "      <td>0.048509</td>\n",
       "      <td>comment</td>\n",
       "    </tr>\n",
       "    <tr>\n",
       "      <th>19513</th>\n",
       "      <td>c_dress</td>\n",
       "      <td>0.048509</td>\n",
       "      <td>comment</td>\n",
       "    </tr>\n",
       "    <tr>\n",
       "      <th>19514</th>\n",
       "      <td>p_university</td>\n",
       "      <td>0.040414</td>\n",
       "      <td>post</td>\n",
       "    </tr>\n",
       "    <tr>\n",
       "      <th>19515</th>\n",
       "      <td>p_company</td>\n",
       "      <td>0.040414</td>\n",
       "      <td>post</td>\n",
       "    </tr>\n",
       "    <tr>\n",
       "      <th>19516</th>\n",
       "      <td>c_artist</td>\n",
       "      <td>0.038795</td>\n",
       "      <td>comment</td>\n",
       "    </tr>\n",
       "    <tr>\n",
       "      <th>19517</th>\n",
       "      <td>c_tea</td>\n",
       "      <td>0.021541</td>\n",
       "      <td>comment</td>\n",
       "    </tr>\n",
       "    <tr>\n",
       "      <th>19518</th>\n",
       "      <td>c_urlyoutube</td>\n",
       "      <td>0.019005</td>\n",
       "      <td>comment</td>\n",
       "    </tr>\n",
       "  </tbody>\n",
       "</table>\n",
       "</div>"
      ],
      "text/plain": [
       "                word      prob post_or_comment\n",
       "19509  c_appointment  0.051066         comment\n",
       "19510     c_american  0.051066         comment\n",
       "19511           c_mg  0.051066         comment\n",
       "19512         c_exam  0.048509         comment\n",
       "19513        c_dress  0.048509         comment\n",
       "19514   p_university  0.040414            post\n",
       "19515      p_company  0.040414            post\n",
       "19516       c_artist  0.038795         comment\n",
       "19517          c_tea  0.021541         comment\n",
       "19518   c_urlyoutube  0.019005         comment"
      ]
     },
     "execution_count": 44,
     "metadata": {},
     "output_type": "execute_result"
    }
   ],
   "source": [
    "words.tail(10)"
   ]
  },
  {
   "cell_type": "code",
   "execution_count": 45,
   "id": "cb17c790-f455-4445-b308-2f427cc65623",
   "metadata": {
    "scrolled": true
   },
   "outputs": [
    {
     "data": {
      "image/png": "[encoded data removed]",
      "text/plain": [
       "<Figure size 720x576 with 1 Axes>"
      ]
     },
     "metadata": {},
     "output_type": "display_data"
    }
   ],
   "source": [
    "sns.set(rc={'figure.figsize':(10,8)})\n",
    "ax=sns.barplot(x=words.prob[:10], y=words.word[:10])\n",
    "ax.set(xlabel='P(abuse | word)', ylabel='Word', title='Probability that the Post/Comment Addresses Abuse Given the Usage of the Word')\n",
    "plt.show();"
   ]
  },
  {
   "cell_type": "code",
   "execution_count": 73,
   "id": "3c0a78ed",
   "metadata": {},
   "outputs": [],
   "source": [
    "def excerpt(token, label):\n",
    "    for index in df[(df.tokens.str.contains(token+' '))&(df.labels==label)].index:  \n",
    "        if 'p_' in token:\n",
    "            sentences=df.posts[index].split('. ')\n",
    "            for i in range(len(sentences)):\n",
    "                if token[2:]+' ' in sentences[i].lower() or ' '+token[2:] in sentences[i].lower():\n",
    "                    if len(sentences[i])>200 and len(sentences[i])<400:\n",
    "                        return sentences[i]\n",
    "        elif 'c_' in token:\n",
    "            sentences=df.comments.apply(eval)[index]\n",
    "            for i in range(len(sentences)):\n",
    "                if token[2:]+' ' in sentences[i].lower() or ' '+token[2:] in sentences[i].lower():\n",
    "                    if len(sentences[i])>200 and len(sentences[i])<400:\n",
    "                        return sentences[i]"
   ]
  },
  {
   "cell_type": "code",
   "execution_count": 74,
   "id": "6bc51e73",
   "metadata": {},
   "outputs": [
    {
     "data": {
      "text/plain": [
       "'Resist any urge to confront the abuser. Not only can this be dangerous, but if you even show any sign of disapproval to their face they will use it as an excuse to try and cut you off from ever talking to this person.'"
      ]
     },
     "execution_count": 74,
     "metadata": {},
     "output_type": "execute_result"
    }
   ],
   "source": [
    "excerpt(token='c_abuser', label='abuse')"
   ]
  },
  {
   "cell_type": "code",
   "execution_count": 75,
   "id": "a79640a5",
   "metadata": {
    "scrolled": false
   },
   "outputs": [
    {
     "data": {
      "text/plain": [
       "\"Depending on where you live, there may be a law in place that releases you of a lease if you've experienced DV, reporting or not.  Talk to your local DV agency. They'll be able to give you local resources and help inform you of your rights and options.\""
      ]
     },
     "execution_count": 75,
     "metadata": {},
     "output_type": "execute_result"
    }
   ],
   "source": [
    "excerpt(token='c_dv', label='abuse')"
   ]
  },
  {
   "cell_type": "code",
   "execution_count": 76,
   "id": "6b081de4",
   "metadata": {
    "scrolled": true
   },
   "outputs": [
    {
     "data": {
      "text/plain": [
       "\"This turned out longer than I thought it would (sorry).\\n\\nWhen I was twelve, I'm almost 21 now, I was (not sure if I can say this but) sexually abused by a boy about a year older than me in the same grade\""
      ]
     },
     "execution_count": 76,
     "metadata": {},
     "output_type": "execute_result"
    }
   ],
   "source": [
    "excerpt(token='p_sexually', label='abuse')"
   ]
  },
  {
   "cell_type": "code",
   "execution_count": 77,
   "id": "e2a40388",
   "metadata": {},
   "outputs": [
    {
     "data": {
      "text/plain": [
       "\"Everyone's story is different, and everyone's experience in healing is unique. I do not doubt for a moment that I will always have the scars of my abuse, my daughter's abuse, my family's abuse, embedded on my soul. I do hope the pain of the wounds continues to subside, hopefully to a degree beyond tolerable and into the realm of memory. \""
      ]
     },
     "execution_count": 77,
     "metadata": {},
     "output_type": "execute_result"
    }
   ],
   "source": [
    "excerpt(token='c_healing', label='abuse')"
   ]
  },
  {
   "cell_type": "code",
   "execution_count": 78,
   "id": "cf404fee",
   "metadata": {
    "scrolled": false
   },
   "outputs": [
    {
     "data": {
      "text/plain": [
       "\"\\n\\nAs the survivors talked about their shame, and inability to form romantic relationships, and obsessive numbing behaviors, it was like something inside me was collapsing, and suddenly those few minutes at boy scout camp came flooding back as vivid as you can imagine, and I just started crying the hardest I'd cried since losing my mother\""
      ]
     },
     "execution_count": 78,
     "metadata": {},
     "output_type": "execute_result"
    }
   ],
   "source": [
    "excerpt(token='p_survivor', label='abuse')"
   ]
  },
  {
   "cell_type": "code",
   "execution_count": 79,
   "id": "6be70218-657c-4c70-9085-06c0e0e603ed",
   "metadata": {
    "scrolled": false
   },
   "outputs": [
    {
     "data": {
      "image/png": "[encoded data removed]",
      "text/plain": [
       "<Figure size 720x576 with 1 Axes>"
      ]
     },
     "metadata": {},
     "output_type": "display_data"
    }
   ],
   "source": [
    "sns.set(rc={'figure.figsize':(10,8)})\n",
    "ax=sns.barplot(x=1-words.sort_values(by='prob', ascending=True).prob[:10], y=words.sort_values(by='prob', ascending=True).word[:10])\n",
    "ax.set(xlabel='P(Non-abuse | word)', ylabel='Word', title='Probability that the Post/Comment Addresses Non-Abuse Given the Usage of the Word')\n",
    "plt.show();"
   ]
  },
  {
   "cell_type": "code",
   "execution_count": 129,
   "id": "f00ce7d3",
   "metadata": {
    "scrolled": false
   },
   "outputs": [
    {
     "data": {
      "text/plain": [
       "1076    Anyone want to talk about rap music? Who's your favorite rapper? Least favorite? Why?\n",
       "Name: posts, dtype: object"
      ]
     },
     "execution_count": 129,
     "metadata": {},
     "output_type": "execute_result"
    }
   ],
   "source": [
    "df[df.comments_count>200].posts"
   ]
  },
  {
   "cell_type": "code",
   "execution_count": 133,
   "id": "470be30b",
   "metadata": {},
   "outputs": [
    {
     "data": {
      "text/plain": [
       "207"
      ]
     },
     "execution_count": 133,
     "metadata": {},
     "output_type": "execute_result"
    }
   ],
   "source": [
    "df.comments_count[1076]"
   ]
  },
  {
   "cell_type": "code",
   "execution_count": 132,
   "id": "10cc9402",
   "metadata": {
    "scrolled": false
   },
   "outputs": [
    {
     "data": {
      "text/plain": [
       "'[lil herb - write your name](https://www.youtube.com/watch?v=2jltQphxExc)'"
      ]
     },
     "execution_count": 132,
     "metadata": {},
     "output_type": "execute_result"
    }
   ],
   "source": [
    "df.comments.apply(eval)[1076][20]"
   ]
  },
  {
   "cell_type": "code",
   "execution_count": 134,
   "id": "5e4e32fa",
   "metadata": {},
   "outputs": [
    {
     "data": {
      "text/plain": [
       "'In this thread: songs that invoke massive feels. Any genre, any type of feeling. Super simple but good lord, I am listening to a massive feels song.'"
      ]
     },
     "execution_count": 134,
     "metadata": {},
     "output_type": "execute_result"
    }
   ],
   "source": [
    "df.posts[180]"
   ]
  },
  {
   "cell_type": "code",
   "execution_count": 128,
   "id": "00f6d40f",
   "metadata": {},
   "outputs": [
    {
     "data": {
      "text/plain": [
       "['[Gowan: A Criminal Mind creeped me the fuck out when I was little now it makes me sad for some reason](https://www.youtube.com/watch?v=yIjddye2JSA)',\n",
       " \"[Phil Collins- You'll Be In My Heart because Tarzan](https://www.youtube.com/watch?v=V35oRyAMmtU)\",\n",
       " '[Fuck this song and Christmas time it made me cry in a dollar store](https://www.youtube.com/watch?v=1i9G60wvH7Y)',\n",
       " '[There Is A Light That Never Goes Out - Morrissey](http://youtu.be/4ytrv2c32kM)',\n",
       " 'If you are looking to kick those feels into high gear here is a list of songs that will put you in that place.']"
      ]
     },
     "execution_count": 128,
     "metadata": {},
     "output_type": "execute_result"
    }
   ],
   "source": [
    "df.comments.apply(eval)[180][:5]"
   ]
  },
  {
   "cell_type": "code",
   "execution_count": 80,
   "id": "1ff30e15",
   "metadata": {
    "scrolled": false
   },
   "outputs": [
    {
     "data": {
      "text/plain": [
       "\"I think it's going to slowly get harder to find a phone with a keyboard but I'm not saying they're going away.  That being said, I'm surprised that there are some people who still use blackberrys.  I understand that that's just what people like but they aren't my cup of tea.  Android for life with me :)\""
      ]
     },
     "execution_count": 80,
     "metadata": {},
     "output_type": "execute_result"
    }
   ],
   "source": [
    "excerpt(token='c_tea', label='non_abuse')"
   ]
  },
  {
   "cell_type": "code",
   "execution_count": 81,
   "id": "92dc3eed",
   "metadata": {
    "scrolled": false
   },
   "outputs": [
    {
     "data": {
      "text/plain": [
       "\"Hey, look at it this way: it's your first draft! :) It's bound to be riddled with mistakes and whatnot. Don't worry about how bad it is; once you receive constructive criticism on your work, you'll be able to improve on your weaknesses and focus on your strengths. Writers, just like any artist or singer or doctor out there, get better the more they practice.\""
      ]
     },
     "execution_count": 81,
     "metadata": {},
     "output_type": "execute_result"
    }
   ],
   "source": [
    "excerpt(token='c_artist', label='non_abuse')"
   ]
  },
  {
   "cell_type": "code",
   "execution_count": 82,
   "id": "9d881a31",
   "metadata": {},
   "outputs": [
    {
     "data": {
      "text/plain": [
       "\" Being in your mid 20s and having your career and family and everything figured out is extremely rare and is usually accompanied by rich parents.\\n\\nI think we're so used to obtaining everything instantly that we forget that moving up in a company, or finding the person we want to spend the rest of our lives with takes time\""
      ]
     },
     "execution_count": 82,
     "metadata": {},
     "output_type": "execute_result"
    }
   ],
   "source": [
    "excerpt(token='p_company', label='non_abuse')"
   ]
  },
  {
   "cell_type": "code",
   "execution_count": 83,
   "id": "b04b480f",
   "metadata": {
    "scrolled": true
   },
   "outputs": [
    {
     "data": {
      "text/plain": [
       "'When I was applying for colleges and would bring up a university that wasn\\'t here or my \"backup\" they would just steer the conversation towards here again, so I only ended up applying to two universities'"
      ]
     },
     "execution_count": 83,
     "metadata": {},
     "output_type": "execute_result"
    }
   ],
   "source": [
    "excerpt(token='p_university', label='non_abuse')"
   ]
  },
  {
   "cell_type": "code",
   "execution_count": 84,
   "id": "9df00299",
   "metadata": {},
   "outputs": [
    {
     "data": {
      "text/plain": [
       "\"i've done this countless times unfortunately... Trust me trying to talk to her about it goes nowhere. Wait... What?? Are you serious? I'm not gonna fucking dress like my mother, plus they dont live together so he wont be coming over every day.\""
      ]
     },
     "execution_count": 84,
     "metadata": {},
     "output_type": "execute_result"
    }
   ],
   "source": [
    "excerpt(token='c_dress', label='non_abuse')"
   ]
  },
  {
   "cell_type": "code",
   "execution_count": 85,
   "id": "79550ab6",
   "metadata": {
    "scrolled": true
   },
   "outputs": [
    {
     "data": {
      "text/plain": [
       "\"I'm actually American, I just lived in Germany for 2-1/2 years. My username was inspired by German though as you can probably tell. My taste in coffee is just that German coffee is amazing. I never did try Austrian coffee. I regret that now, although I'd probably be even more spoiled than I already am.\""
      ]
     },
     "execution_count": 85,
     "metadata": {},
     "output_type": "execute_result"
    }
   ],
   "source": [
    "excerpt(token='c_american', label='non_abuse')"
   ]
  },
  {
   "cell_type": "code",
   "execution_count": 86,
   "id": "5a7e6f8e",
   "metadata": {},
   "outputs": [
    {
     "data": {
      "text/plain": [
       "\"For my first visit to a psychiatrist, my mother actually had to make the appointment for me and drive me there because I just couldn't care enough to do it.  I was a 26 year old man.  But it helped, because I got on Wellbutrin, and it showed me that how I was feeling wasn't normal.  \""
      ]
     },
     "execution_count": 86,
     "metadata": {},
     "output_type": "execute_result"
    }
   ],
   "source": [
    "excerpt(token='c_appointment', label='non_abuse')"
   ]
  },
  {
   "cell_type": "code",
   "execution_count": 72,
   "id": "76bbba43",
   "metadata": {},
   "outputs": [
    {
     "data": {
      "text/plain": [
       "'I had a similar experience the other day. The way uni exams work in Italy is that there are several sessions and you get to pick when you want to take your exam. During the exam you can \"retire\" (translated literally), which makes you eligible to retake that exam at another time. '"
      ]
     },
     "execution_count": 72,
     "metadata": {},
     "output_type": "execute_result"
    }
   ],
   "source": [
    "excerpt(token='c_exam', label='non_abuse')"
   ]
  },
  {
   "cell_type": "code",
   "execution_count": 61,
   "id": "b9dac592-859d-4e2d-bcb8-2adcd13ca9f9",
   "metadata": {},
   "outputs": [
    {
     "data": {
      "text/html": [
       "<div>\n",
       "<style scoped>\n",
       "    .dataframe tbody tr th:only-of-type {\n",
       "        vertical-align: middle;\n",
       "    }\n",
       "\n",
       "    .dataframe tbody tr th {\n",
       "        vertical-align: top;\n",
       "    }\n",
       "\n",
       "    .dataframe thead th {\n",
       "        text-align: right;\n",
       "    }\n",
       "</style>\n",
       "<table border=\"1\" class=\"dataframe\">\n",
       "  <thead>\n",
       "    <tr style=\"text-align: right;\">\n",
       "      <th></th>\n",
       "      <th>word</th>\n",
       "      <th>prob</th>\n",
       "      <th>post_or_comment</th>\n",
       "    </tr>\n",
       "  </thead>\n",
       "  <tbody>\n",
       "    <tr>\n",
       "      <th>2</th>\n",
       "      <td>p_abuse</td>\n",
       "      <td>0.988035</td>\n",
       "      <td>post</td>\n",
       "    </tr>\n",
       "    <tr>\n",
       "      <th>4</th>\n",
       "      <td>p_domestic</td>\n",
       "      <td>0.981899</td>\n",
       "      <td>post</td>\n",
       "    </tr>\n",
       "    <tr>\n",
       "      <th>6</th>\n",
       "      <td>p_sexually</td>\n",
       "      <td>0.977075</td>\n",
       "      <td>post</td>\n",
       "    </tr>\n",
       "    <tr>\n",
       "      <th>7</th>\n",
       "      <td>p_abuser</td>\n",
       "      <td>0.975439</td>\n",
       "      <td>post</td>\n",
       "    </tr>\n",
       "    <tr>\n",
       "      <th>9</th>\n",
       "      <td>p_survivor</td>\n",
       "      <td>0.969666</td>\n",
       "      <td>post</td>\n",
       "    </tr>\n",
       "    <tr>\n",
       "      <th>10</th>\n",
       "      <td>p_abused</td>\n",
       "      <td>0.968747</td>\n",
       "      <td>post</td>\n",
       "    </tr>\n",
       "    <tr>\n",
       "      <th>11</th>\n",
       "      <td>p_dv</td>\n",
       "      <td>0.966733</td>\n",
       "      <td>post</td>\n",
       "    </tr>\n",
       "    <tr>\n",
       "      <th>12</th>\n",
       "      <td>p_verbal</td>\n",
       "      <td>0.963173</td>\n",
       "      <td>post</td>\n",
       "    </tr>\n",
       "    <tr>\n",
       "      <th>15</th>\n",
       "      <td>p_flashback</td>\n",
       "      <td>0.950916</td>\n",
       "      <td>post</td>\n",
       "    </tr>\n",
       "    <tr>\n",
       "      <th>20</th>\n",
       "      <td>p_abusive</td>\n",
       "      <td>0.945036</td>\n",
       "      <td>post</td>\n",
       "    </tr>\n",
       "  </tbody>\n",
       "</table>\n",
       "</div>"
      ],
      "text/plain": [
       "           word      prob post_or_comment\n",
       "2       p_abuse  0.988035            post\n",
       "4    p_domestic  0.981899            post\n",
       "6    p_sexually  0.977075            post\n",
       "7      p_abuser  0.975439            post\n",
       "9    p_survivor  0.969666            post\n",
       "10     p_abused  0.968747            post\n",
       "11         p_dv  0.966733            post\n",
       "12     p_verbal  0.963173            post\n",
       "15  p_flashback  0.950916            post\n",
       "20    p_abusive  0.945036            post"
      ]
     },
     "execution_count": 61,
     "metadata": {},
     "output_type": "execute_result"
    }
   ],
   "source": [
    "words[words.post_or_comment=='post'].head(10)"
   ]
  },
  {
   "cell_type": "code",
   "execution_count": 62,
   "id": "1638c5a3-ac96-4c29-99c3-5e253cd83d4c",
   "metadata": {
    "scrolled": true
   },
   "outputs": [
    {
     "data": {
      "text/html": [
       "<div>\n",
       "<style scoped>\n",
       "    .dataframe tbody tr th:only-of-type {\n",
       "        vertical-align: middle;\n",
       "    }\n",
       "\n",
       "    .dataframe tbody tr th {\n",
       "        vertical-align: top;\n",
       "    }\n",
       "\n",
       "    .dataframe thead th {\n",
       "        text-align: right;\n",
       "    }\n",
       "</style>\n",
       "<table border=\"1\" class=\"dataframe\">\n",
       "  <thead>\n",
       "    <tr style=\"text-align: right;\">\n",
       "      <th></th>\n",
       "      <th>word</th>\n",
       "      <th>prob</th>\n",
       "      <th>post_or_comment</th>\n",
       "    </tr>\n",
       "  </thead>\n",
       "  <tbody>\n",
       "    <tr>\n",
       "      <th>19472</th>\n",
       "      <td>p_wallet</td>\n",
       "      <td>0.080933</td>\n",
       "      <td>post</td>\n",
       "    </tr>\n",
       "    <tr>\n",
       "      <th>19473</th>\n",
       "      <td>p_k</td>\n",
       "      <td>0.080933</td>\n",
       "      <td>post</td>\n",
       "    </tr>\n",
       "    <tr>\n",
       "      <th>19481</th>\n",
       "      <td>p_assignment</td>\n",
       "      <td>0.074692</td>\n",
       "      <td>post</td>\n",
       "    </tr>\n",
       "    <tr>\n",
       "      <th>19484</th>\n",
       "      <td>p_asks</td>\n",
       "      <td>0.074692</td>\n",
       "      <td>post</td>\n",
       "    </tr>\n",
       "    <tr>\n",
       "      <th>19494</th>\n",
       "      <td>p_zoloft</td>\n",
       "      <td>0.069345</td>\n",
       "      <td>post</td>\n",
       "    </tr>\n",
       "    <tr>\n",
       "      <th>19498</th>\n",
       "      <td>p_bird</td>\n",
       "      <td>0.064713</td>\n",
       "      <td>post</td>\n",
       "    </tr>\n",
       "    <tr>\n",
       "      <th>19501</th>\n",
       "      <td>p_mg</td>\n",
       "      <td>0.060660</td>\n",
       "      <td>post</td>\n",
       "    </tr>\n",
       "    <tr>\n",
       "      <th>19504</th>\n",
       "      <td>p_sport</td>\n",
       "      <td>0.057085</td>\n",
       "      <td>post</td>\n",
       "    </tr>\n",
       "    <tr>\n",
       "      <th>19514</th>\n",
       "      <td>p_university</td>\n",
       "      <td>0.040414</td>\n",
       "      <td>post</td>\n",
       "    </tr>\n",
       "    <tr>\n",
       "      <th>19515</th>\n",
       "      <td>p_company</td>\n",
       "      <td>0.040414</td>\n",
       "      <td>post</td>\n",
       "    </tr>\n",
       "  </tbody>\n",
       "</table>\n",
       "</div>"
      ],
      "text/plain": [
       "               word      prob post_or_comment\n",
       "19472      p_wallet  0.080933            post\n",
       "19473           p_k  0.080933            post\n",
       "19481  p_assignment  0.074692            post\n",
       "19484        p_asks  0.074692            post\n",
       "19494      p_zoloft  0.069345            post\n",
       "19498        p_bird  0.064713            post\n",
       "19501          p_mg  0.060660            post\n",
       "19504       p_sport  0.057085            post\n",
       "19514  p_university  0.040414            post\n",
       "19515     p_company  0.040414            post"
      ]
     },
     "execution_count": 62,
     "metadata": {},
     "output_type": "execute_result"
    }
   ],
   "source": [
    "words[words.post_or_comment=='post'].tail(10)"
   ]
  },
  {
   "cell_type": "code",
   "execution_count": 63,
   "id": "66f9238d-5679-4b85-baba-8ee3dc525482",
   "metadata": {},
   "outputs": [
    {
     "data": {
      "text/html": [
       "<div>\n",
       "<style scoped>\n",
       "    .dataframe tbody tr th:only-of-type {\n",
       "        vertical-align: middle;\n",
       "    }\n",
       "\n",
       "    .dataframe tbody tr th {\n",
       "        vertical-align: top;\n",
       "    }\n",
       "\n",
       "    .dataframe thead th {\n",
       "        text-align: right;\n",
       "    }\n",
       "</style>\n",
       "<table border=\"1\" class=\"dataframe\">\n",
       "  <thead>\n",
       "    <tr style=\"text-align: right;\">\n",
       "      <th></th>\n",
       "      <th>word</th>\n",
       "      <th>prob</th>\n",
       "      <th>post_or_comment</th>\n",
       "    </tr>\n",
       "  </thead>\n",
       "  <tbody>\n",
       "    <tr>\n",
       "      <th>0</th>\n",
       "      <td>c_abuser</td>\n",
       "      <td>0.993384</td>\n",
       "      <td>comment</td>\n",
       "    </tr>\n",
       "    <tr>\n",
       "      <th>1</th>\n",
       "      <td>c_domestic</td>\n",
       "      <td>0.988783</td>\n",
       "      <td>comment</td>\n",
       "    </tr>\n",
       "    <tr>\n",
       "      <th>3</th>\n",
       "      <td>c_dv</td>\n",
       "      <td>0.982512</td>\n",
       "      <td>comment</td>\n",
       "    </tr>\n",
       "    <tr>\n",
       "      <th>5</th>\n",
       "      <td>c_abuse</td>\n",
       "      <td>0.980670</td>\n",
       "      <td>comment</td>\n",
       "    </tr>\n",
       "    <tr>\n",
       "      <th>8</th>\n",
       "      <td>c_healing</td>\n",
       "      <td>0.974841</td>\n",
       "      <td>comment</td>\n",
       "    </tr>\n",
       "    <tr>\n",
       "      <th>13</th>\n",
       "      <td>c_shelter</td>\n",
       "      <td>0.959959</td>\n",
       "      <td>comment</td>\n",
       "    </tr>\n",
       "    <tr>\n",
       "      <th>14</th>\n",
       "      <td>c_ptsd</td>\n",
       "      <td>0.952056</td>\n",
       "      <td>comment</td>\n",
       "    </tr>\n",
       "    <tr>\n",
       "      <th>16</th>\n",
       "      <td>c_assault</td>\n",
       "      <td>0.948466</td>\n",
       "      <td>comment</td>\n",
       "    </tr>\n",
       "    <tr>\n",
       "      <th>17</th>\n",
       "      <td>c_emdr</td>\n",
       "      <td>0.948466</td>\n",
       "      <td>comment</td>\n",
       "    </tr>\n",
       "    <tr>\n",
       "      <th>18</th>\n",
       "      <td>c_abused</td>\n",
       "      <td>0.947147</td>\n",
       "      <td>comment</td>\n",
       "    </tr>\n",
       "  </tbody>\n",
       "</table>\n",
       "</div>"
      ],
      "text/plain": [
       "          word      prob post_or_comment\n",
       "0     c_abuser  0.993384         comment\n",
       "1   c_domestic  0.988783         comment\n",
       "3         c_dv  0.982512         comment\n",
       "5      c_abuse  0.980670         comment\n",
       "8    c_healing  0.974841         comment\n",
       "13   c_shelter  0.959959         comment\n",
       "14      c_ptsd  0.952056         comment\n",
       "16   c_assault  0.948466         comment\n",
       "17      c_emdr  0.948466         comment\n",
       "18    c_abused  0.947147         comment"
      ]
     },
     "execution_count": 63,
     "metadata": {},
     "output_type": "execute_result"
    }
   ],
   "source": [
    "words[words.post_or_comment=='comment'].head(10)"
   ]
  },
  {
   "cell_type": "code",
   "execution_count": 64,
   "id": "526060f8-722b-4982-8595-47515ef51711",
   "metadata": {},
   "outputs": [
    {
     "data": {
      "text/html": [
       "<div>\n",
       "<style scoped>\n",
       "    .dataframe tbody tr th:only-of-type {\n",
       "        vertical-align: middle;\n",
       "    }\n",
       "\n",
       "    .dataframe tbody tr th {\n",
       "        vertical-align: top;\n",
       "    }\n",
       "\n",
       "    .dataframe thead th {\n",
       "        text-align: right;\n",
       "    }\n",
       "</style>\n",
       "<table border=\"1\" class=\"dataframe\">\n",
       "  <thead>\n",
       "    <tr style=\"text-align: right;\">\n",
       "      <th></th>\n",
       "      <th>word</th>\n",
       "      <th>prob</th>\n",
       "      <th>post_or_comment</th>\n",
       "    </tr>\n",
       "  </thead>\n",
       "  <tbody>\n",
       "    <tr>\n",
       "      <th>19507</th>\n",
       "      <td>c_driving</td>\n",
       "      <td>0.055451</td>\n",
       "      <td>comment</td>\n",
       "    </tr>\n",
       "    <tr>\n",
       "      <th>19508</th>\n",
       "      <td>c_cup</td>\n",
       "      <td>0.053908</td>\n",
       "      <td>comment</td>\n",
       "    </tr>\n",
       "    <tr>\n",
       "      <th>19509</th>\n",
       "      <td>c_appointment</td>\n",
       "      <td>0.051066</td>\n",
       "      <td>comment</td>\n",
       "    </tr>\n",
       "    <tr>\n",
       "      <th>19510</th>\n",
       "      <td>c_american</td>\n",
       "      <td>0.051066</td>\n",
       "      <td>comment</td>\n",
       "    </tr>\n",
       "    <tr>\n",
       "      <th>19511</th>\n",
       "      <td>c_mg</td>\n",
       "      <td>0.051066</td>\n",
       "      <td>comment</td>\n",
       "    </tr>\n",
       "    <tr>\n",
       "      <th>19512</th>\n",
       "      <td>c_exam</td>\n",
       "      <td>0.048509</td>\n",
       "      <td>comment</td>\n",
       "    </tr>\n",
       "    <tr>\n",
       "      <th>19513</th>\n",
       "      <td>c_dress</td>\n",
       "      <td>0.048509</td>\n",
       "      <td>comment</td>\n",
       "    </tr>\n",
       "    <tr>\n",
       "      <th>19516</th>\n",
       "      <td>c_artist</td>\n",
       "      <td>0.038795</td>\n",
       "      <td>comment</td>\n",
       "    </tr>\n",
       "    <tr>\n",
       "      <th>19517</th>\n",
       "      <td>c_tea</td>\n",
       "      <td>0.021541</td>\n",
       "      <td>comment</td>\n",
       "    </tr>\n",
       "    <tr>\n",
       "      <th>19518</th>\n",
       "      <td>c_urlyoutube</td>\n",
       "      <td>0.019005</td>\n",
       "      <td>comment</td>\n",
       "    </tr>\n",
       "  </tbody>\n",
       "</table>\n",
       "</div>"
      ],
      "text/plain": [
       "                word      prob post_or_comment\n",
       "19507      c_driving  0.055451         comment\n",
       "19508          c_cup  0.053908         comment\n",
       "19509  c_appointment  0.051066         comment\n",
       "19510     c_american  0.051066         comment\n",
       "19511           c_mg  0.051066         comment\n",
       "19512         c_exam  0.048509         comment\n",
       "19513        c_dress  0.048509         comment\n",
       "19516       c_artist  0.038795         comment\n",
       "19517          c_tea  0.021541         comment\n",
       "19518   c_urlyoutube  0.019005         comment"
      ]
     },
     "execution_count": 64,
     "metadata": {},
     "output_type": "execute_result"
    }
   ],
   "source": [
    "words[words.post_or_comment=='comment'].tail(10)"
   ]
  },
  {
   "cell_type": "markdown",
   "id": "86995a3b-8409-417e-95c7-d4e7a64bc919",
   "metadata": {},
   "source": [
    "## Thresholding"
   ]
  },
  {
   "cell_type": "markdown",
   "id": "b85fefd0",
   "metadata": {},
   "source": [
    "We are most concerned with the cases when the model falsely predicts non-abuse.\n",
    "\n",
    "0: Non-abuse\n",
    "\n",
    "1: Abuse"
   ]
  },
  {
   "cell_type": "code",
   "execution_count": 65,
   "id": "d0ea9ec7-0adf-400a-8548-c50024cb2593",
   "metadata": {},
   "outputs": [
    {
     "data": {
      "image/png": "[encoded data removed]",
      "text/plain": [
       "<Figure size 432x432 with 2 Axes>"
      ]
     },
     "metadata": {},
     "output_type": "display_data"
    },
    {
     "name": "stdout",
     "output_type": "stream",
     "text": [
      "              precision    recall  f1-score   support\n",
      "\n",
      "           0       0.98      0.81      0.89       110\n",
      "           1       0.84      0.98      0.90       111\n",
      "\n",
      "    accuracy                           0.90       221\n",
      "   macro avg       0.91      0.90      0.90       221\n",
      "weighted avg       0.91      0.90      0.90       221\n",
      "\n"
     ]
    }
   ],
   "source": [
    "fthreshold = 0.5\n",
    "\n",
    "y_pred = (y_pred_prob >= fthreshold).astype('int')\n",
    "fig, ax = plt.subplots(figsize=(6,6))\n",
    "cm=confusion_matrix(y_test, y_pred)\n",
    "disp=ConfusionMatrixDisplay(cm)\n",
    "disp.plot(ax=ax)\n",
    "plt.grid(False)\n",
    "plt.title('Confusion Matrix for threshold='+ str(np.round(fthreshold, 3)))\n",
    "plt.show()\n",
    "print(classification_report(y_test, y_pred))"
   ]
  },
  {
   "cell_type": "code",
   "execution_count": 66,
   "id": "c32946f5-b335-4a89-a238-a3dec52becf1",
   "metadata": {},
   "outputs": [
    {
     "data": {
      "image/png": "[encoded data removed]",
      "text/plain": [
       "<Figure size 432x432 with 1 Axes>"
      ]
     },
     "metadata": {},
     "output_type": "display_data"
    }
   ],
   "source": [
    "fig, ax=plt.subplots(figsize=(6,6))\n",
    "ax.plot([0,1],[0,1],'k--')\n",
    "ax.plot(nb_fpr, nb_tpr) \n",
    "plt.xlabel('False Positive Rate') \n",
    "plt.ylabel('True Positive Rate')\n",
    "plt.title('ROC Curve for Naive Bayes Classifier') \n",
    "plt.show()"
   ]
  },
  {
   "cell_type": "code",
   "execution_count": 67,
   "id": "f443fecf-68bb-4439-b91f-7c74534f7761",
   "metadata": {},
   "outputs": [
    {
     "data": {
      "image/png": "[encoded data removed]",
      "text/plain": [
       "<Figure size 432x432 with 1 Axes>"
      ]
     },
     "metadata": {},
     "output_type": "display_data"
    }
   ],
   "source": [
    "precision, recall, threshold = precision_recall_curve(y_test, y_pred_prob) # pos_labelstr - picks normal weight class\n",
    "fig, ax=plt.subplots(figsize=(6,6))\n",
    "ax.plot(recall, precision)\n",
    "ax.set_xlabel('Recall')\n",
    "ax.set_ylabel('Precision')\n",
    "ax.set_title('Precision-Recall Curve for Naive Bayes Classifier')\n",
    "ax.set_ylim(0.0, 1.1)\n",
    "plt.show()"
   ]
  },
  {
   "cell_type": "markdown",
   "id": "ab77b6aa-6769-4946-9c29-e4913e186ac3",
   "metadata": {},
   "source": [
    "It seems like we can achieve a fairly high precision of nearly 84% with a high recall of 98%. We aim to minimize false negatives - abuse posts falsely mistaken for non-abuse posts, by placing more importance on recall and less on precision. However, precision seems to fall drastically around a recall of 0.87. "
   ]
  },
  {
   "cell_type": "code",
   "execution_count": 68,
   "id": "cf2eff17",
   "metadata": {},
   "outputs": [
    {
     "name": "stdout",
     "output_type": "stream",
     "text": [
      "Beta: 2.0, Threshold: 0.97116, F-score: 0.959\n",
      "Beta: 2.05, Threshold: 0.97116, F-score: 0.96\n",
      "Beta: 2.1, Threshold: 0.97116, F-score: 0.96\n",
      "Beta: 2.15, Threshold: 0.97116, F-score: 0.961\n",
      "Beta: 2.2, Threshold: 0.97116, F-score: 0.961\n",
      "Beta: 2.25, Threshold: 0.97116, F-score: 0.962\n",
      "Beta: 2.3, Threshold: 0.97116, F-score: 0.962\n",
      "Beta: 2.35, Threshold: 0.97116, F-score: 0.962\n",
      "Beta: 2.4, Threshold: 0.97116, F-score: 0.963\n",
      "Beta: 2.45, Threshold: 0.97116, F-score: 0.963\n",
      "Beta: 2.5, Threshold: 0.97116, F-score: 0.963\n",
      "Beta: 2.55, Threshold: 0.97116, F-score: 0.964\n",
      "Beta: 2.6, Threshold: 0.97116, F-score: 0.964\n",
      "Beta: 2.65, Threshold: 0.97116, F-score: 0.964\n",
      "Beta: 2.7, Threshold: 0.97116, F-score: 0.965\n",
      "Beta: 2.75, Threshold: 0.97116, F-score: 0.965\n",
      "Beta: 2.8, Threshold: 0.04154, F-score: 0.965\n",
      "Beta: 2.85, Threshold: 0.04154, F-score: 0.966\n",
      "Beta: 2.9, Threshold: 0.04154, F-score: 0.967\n",
      "Beta: 2.95, Threshold: 0.04154, F-score: 0.968\n"
     ]
    }
   ],
   "source": [
    "def fbeta_score(precision, recall, beta=1.0):\n",
    "    return (1+beta**2)*(precision*recall)/((beta**2)*precision+recall)\n",
    "\n",
    "betarange=np.round(np.arange(2,3,0.05), 2)\n",
    "for i in betarange:\n",
    "    score=fbeta_score(precision, recall, beta=i)\n",
    "    idx=np.argmax(score)\n",
    "    print('Beta: '+str(i)+', Threshold: '+str(np.round(threshold[idx], 5))+', F-score: '+str(np.round(score[idx],3)))\n",
    "\n",
    "fscore=fbeta_score(precision, recall, beta=2.8)\n",
    "f_i=np.argmax(fscore)"
   ]
  },
  {
   "cell_type": "code",
   "execution_count": 69,
   "id": "d59dd47c-94bc-408d-ac3a-cd6d27bc8d8a",
   "metadata": {},
   "outputs": [
    {
     "data": {
      "image/png": "[encoded data removed]",
      "text/plain": [
       "<Figure size 432x432 with 1 Axes>"
      ]
     },
     "metadata": {},
     "output_type": "display_data"
    }
   ],
   "source": [
    "fig, ax=plt.subplots(figsize=(6,6))\n",
    "ax.plot(threshold, precision[1:], label='Precision')\n",
    "ax.plot(threshold, recall[1:], label='Recall')\n",
    "\n",
    "ax.set_xlabel('Threshold')\n",
    "ax.set_ylabel('Precision/Recall')\n",
    "ax.set_title('Precision/Recall vs. Threshold for Naive Bayes Classifier')\n",
    "\n",
    "ax.plot(threshold, fscore[1:], label='F-score')\n",
    "\n",
    "ax.axvline(threshold[f_i], linestyle='dashed', color='green')\n",
    "plt.text(threshold[f_i]*1.4, 0.675, 'Threshold: '+str(np.round(threshold[f_i], 3)), fontsize='small', backgroundcolor='honeydew')\n",
    "plt.text(threshold[f_i]*1.4, 0.605, 'Max F-score: '+str(np.round(fscore[f_i], 3)), fontsize='small', backgroundcolor='honeydew')\n",
    "\n",
    "ax.legend()\n",
    "plt.show()"
   ]
  },
  {
   "cell_type": "code",
   "execution_count": 70,
   "id": "cb9e009c-b9ba-43e6-9c5a-492344008ff6",
   "metadata": {
    "scrolled": false
   },
   "outputs": [
    {
     "data": {
      "image/png": "[encoded data removed]",
      "text/plain": [
       "<Figure size 432x432 with 2 Axes>"
      ]
     },
     "metadata": {},
     "output_type": "display_data"
    },
    {
     "name": "stdout",
     "output_type": "stream",
     "text": [
      "              precision    recall  f1-score   support\n",
      "\n",
      "           0       0.99      0.75      0.86       110\n",
      "           1       0.80      0.99      0.89       111\n",
      "\n",
      "    accuracy                           0.87       221\n",
      "   macro avg       0.90      0.87      0.87       221\n",
      "weighted avg       0.90      0.87      0.87       221\n",
      "\n"
     ]
    }
   ],
   "source": [
    "fthreshold = threshold[f_i]\n",
    "\n",
    "y_pred = (y_pred_prob >= fthreshold).astype('int')\n",
    "fig, ax = plt.subplots(figsize=(6,6))\n",
    "cm=confusion_matrix(y_test, y_pred)\n",
    "disp=ConfusionMatrixDisplay(cm)\n",
    "disp.plot(ax=ax)\n",
    "plt.grid(False)\n",
    "plt.title('Confusion Matrix for threshold='+ str(np.round(fthreshold, 3))+ ', F-score='+str(np.round(fscore[f_i], 3)))\n",
    "plt.show()\n",
    "print(classification_report(y_test, y_pred))"
   ]
  },
  {
   "cell_type": "markdown",
   "id": "b64fa839",
   "metadata": {},
   "source": [
    "A precision of 0.8 seems to be reasonable given a recall of 0.99."
   ]
  }
 ],
 "metadata": {
  "kernelspec": {
   "display_name": "Python 3 (ipykernel)",
   "language": "python",
   "name": "python3"
  },
  "language_info": {
   "codemirror_mode": {
    "name": "ipython",
    "version": 3
   },
   "file_extension": ".py",
   "mimetype": "text/x-python",
   "name": "python",
   "nbconvert_exporter": "python",
   "pygments_lexer": "ipython3",
   "version": "3.9.13"
  }
 },
 "nbformat": 4,
 "nbformat_minor": 5
}
